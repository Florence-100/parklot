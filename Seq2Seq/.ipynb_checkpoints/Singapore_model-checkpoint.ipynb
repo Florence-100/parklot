{
 "cells": [
  {
   "cell_type": "code",
   "execution_count": 1,
   "id": "6884d909",
   "metadata": {},
   "outputs": [],
   "source": [
    "## running once\n",
    "%load_ext autoreload\n",
    "%autoreload 2"
   ]
  },
  {
   "cell_type": "code",
   "execution_count": 2,
   "id": "21636d09",
   "metadata": {},
   "outputs": [],
   "source": [
    "import geopandas as gpd\n",
    "import pandas as pd\n",
    "import numpy as np\n",
    "import os\n",
    "from toolz.curried import *\n",
    "import matplotlib.pyplot as plt\n",
    "import seaborn as sns"
   ]
  },
  {
   "cell_type": "markdown",
   "id": "48ba1887",
   "metadata": {},
   "source": [
    "## Loading dataset"
   ]
  },
  {
   "cell_type": "code",
   "execution_count": 3,
   "id": "4df7953a",
   "metadata": {},
   "outputs": [],
   "source": [
    "from util import *"
   ]
  },
  {
   "cell_type": "code",
   "execution_count": 4,
   "id": "7ece5e3e",
   "metadata": {},
   "outputs": [
    {
     "data": {
      "text/html": [
       "<div>\n",
       "<style scoped>\n",
       "    .dataframe tbody tr th:only-of-type {\n",
       "        vertical-align: middle;\n",
       "    }\n",
       "\n",
       "    .dataframe tbody tr th {\n",
       "        vertical-align: top;\n",
       "    }\n",
       "\n",
       "    .dataframe thead th {\n",
       "        text-align: right;\n",
       "    }\n",
       "</style>\n",
       "<table border=\"1\" class=\"dataframe\">\n",
       "  <thead>\n",
       "    <tr style=\"text-align: right;\">\n",
       "      <th></th>\n",
       "      <th>sid</th>\n",
       "      <th>tid</th>\n",
       "      <th>AvailableLots</th>\n",
       "      <th>date</th>\n",
       "      <th>min</th>\n",
       "      <th>Weekday</th>\n",
       "      <th>Agency</th>\n",
       "    </tr>\n",
       "  </thead>\n",
       "  <tbody>\n",
       "    <tr>\n",
       "      <th>0</th>\n",
       "      <td>0</td>\n",
       "      <td>0</td>\n",
       "      <td>1691.0</td>\n",
       "      <td>2021-05-01 00:00:00</td>\n",
       "      <td>0</td>\n",
       "      <td>5</td>\n",
       "      <td>0</td>\n",
       "    </tr>\n",
       "    <tr>\n",
       "      <th>1</th>\n",
       "      <td>0</td>\n",
       "      <td>1</td>\n",
       "      <td>1691.0</td>\n",
       "      <td>2021-05-01 00:01:00</td>\n",
       "      <td>0</td>\n",
       "      <td>5</td>\n",
       "      <td>0</td>\n",
       "    </tr>\n",
       "    <tr>\n",
       "      <th>2</th>\n",
       "      <td>0</td>\n",
       "      <td>2</td>\n",
       "      <td>1691.0</td>\n",
       "      <td>2021-05-01 00:02:00</td>\n",
       "      <td>0</td>\n",
       "      <td>5</td>\n",
       "      <td>0</td>\n",
       "    </tr>\n",
       "    <tr>\n",
       "      <th>3</th>\n",
       "      <td>0</td>\n",
       "      <td>3</td>\n",
       "      <td>1691.0</td>\n",
       "      <td>2021-05-01 00:03:00</td>\n",
       "      <td>0</td>\n",
       "      <td>5</td>\n",
       "      <td>0</td>\n",
       "    </tr>\n",
       "    <tr>\n",
       "      <th>4</th>\n",
       "      <td>0</td>\n",
       "      <td>4</td>\n",
       "      <td>1691.0</td>\n",
       "      <td>2021-05-01 00:04:00</td>\n",
       "      <td>0</td>\n",
       "      <td>5</td>\n",
       "      <td>0</td>\n",
       "    </tr>\n",
       "  </tbody>\n",
       "</table>\n",
       "</div>"
      ],
      "text/plain": [
       "   sid  tid  AvailableLots                 date  min  Weekday  Agency\n",
       "0    0    0         1691.0  2021-05-01 00:00:00    0        5       0\n",
       "1    0    1         1691.0  2021-05-01 00:01:00    0        5       0\n",
       "2    0    2         1691.0  2021-05-01 00:02:00    0        5       0\n",
       "3    0    3         1691.0  2021-05-01 00:03:00    0        5       0\n",
       "4    0    4         1691.0  2021-05-01 00:04:00    0        5       0"
      ]
     },
     "execution_count": 4,
     "metadata": {},
     "output_type": "execute_result"
    }
   ],
   "source": [
    "df = pd.read_csv('Singapore_formatted_data_month.csv')\n",
    "df.head()"
   ]
  },
  {
   "cell_type": "code",
   "execution_count": 5,
   "id": "ee30bd82",
   "metadata": {},
   "outputs": [],
   "source": [
    "df['min']=df['min'].astype(str) \n",
    "df['Weekday']=df['Weekday'].astype(str) \n",
    "df['Agency']=df['Agency'].astype(str) "
   ]
  },
  {
   "cell_type": "code",
   "execution_count": 6,
   "id": "0d418c96",
   "metadata": {},
   "outputs": [
    {
     "name": "stderr",
     "output_type": "stream",
     "text": [
      "/tmp/ipykernel_27737/1757185315.py:2: SettingWithCopyWarning: \n",
      "A value is trying to be set on a copy of a slice from a DataFrame.\n",
      "Try using .loc[row_indexer,col_indexer] = value instead\n",
      "\n",
      "See the caveats in the documentation: https://pandas.pydata.org/pandas-docs/stable/user_guide/indexing.html#returning-a-view-versus-a-copy\n",
      "  dp.loc[:, 'tid'] = dp['tid']//5\n"
     ]
    },
    {
     "data": {
      "text/html": [
       "<div>\n",
       "<style scoped>\n",
       "    .dataframe tbody tr th:only-of-type {\n",
       "        vertical-align: middle;\n",
       "    }\n",
       "\n",
       "    .dataframe tbody tr th {\n",
       "        vertical-align: top;\n",
       "    }\n",
       "\n",
       "    .dataframe thead th {\n",
       "        text-align: right;\n",
       "    }\n",
       "</style>\n",
       "<table border=\"1\" class=\"dataframe\">\n",
       "  <thead>\n",
       "    <tr style=\"text-align: right;\">\n",
       "      <th></th>\n",
       "      <th>sid</th>\n",
       "      <th>tid</th>\n",
       "      <th>AvailableLots</th>\n",
       "      <th>date</th>\n",
       "      <th>min</th>\n",
       "      <th>Weekday</th>\n",
       "      <th>Agency</th>\n",
       "    </tr>\n",
       "  </thead>\n",
       "  <tbody>\n",
       "    <tr>\n",
       "      <th>0</th>\n",
       "      <td>0</td>\n",
       "      <td>0</td>\n",
       "      <td>1691.0</td>\n",
       "      <td>2021-05-01 00:00:00</td>\n",
       "      <td>0</td>\n",
       "      <td>5</td>\n",
       "      <td>0</td>\n",
       "    </tr>\n",
       "    <tr>\n",
       "      <th>5</th>\n",
       "      <td>0</td>\n",
       "      <td>1</td>\n",
       "      <td>1691.0</td>\n",
       "      <td>2021-05-01 00:05:00</td>\n",
       "      <td>1</td>\n",
       "      <td>5</td>\n",
       "      <td>0</td>\n",
       "    </tr>\n",
       "    <tr>\n",
       "      <th>10</th>\n",
       "      <td>0</td>\n",
       "      <td>2</td>\n",
       "      <td>1705.0</td>\n",
       "      <td>2021-05-01 00:10:00</td>\n",
       "      <td>2</td>\n",
       "      <td>5</td>\n",
       "      <td>0</td>\n",
       "    </tr>\n",
       "    <tr>\n",
       "      <th>15</th>\n",
       "      <td>0</td>\n",
       "      <td>3</td>\n",
       "      <td>1705.0</td>\n",
       "      <td>2021-05-01 00:15:00</td>\n",
       "      <td>3</td>\n",
       "      <td>5</td>\n",
       "      <td>0</td>\n",
       "    </tr>\n",
       "    <tr>\n",
       "      <th>20</th>\n",
       "      <td>0</td>\n",
       "      <td>4</td>\n",
       "      <td>1705.0</td>\n",
       "      <td>2021-05-01 00:20:00</td>\n",
       "      <td>4</td>\n",
       "      <td>5</td>\n",
       "      <td>0</td>\n",
       "    </tr>\n",
       "  </tbody>\n",
       "</table>\n",
       "</div>"
      ],
      "text/plain": [
       "    sid  tid  AvailableLots                 date min Weekday Agency\n",
       "0     0    0         1691.0  2021-05-01 00:00:00   0       5      0\n",
       "5     0    1         1691.0  2021-05-01 00:05:00   1       5      0\n",
       "10    0    2         1705.0  2021-05-01 00:10:00   2       5      0\n",
       "15    0    3         1705.0  2021-05-01 00:15:00   3       5      0\n",
       "20    0    4         1705.0  2021-05-01 00:20:00   4       5      0"
      ]
     },
     "execution_count": 6,
     "metadata": {},
     "output_type": "execute_result"
    }
   ],
   "source": [
    "dp = df[df.tid%5==0]\n",
    "dp.loc[:, 'tid'] = dp['tid']//5\n",
    "dp.head()"
   ]
  },
  {
   "cell_type": "code",
   "execution_count": 7,
   "id": "596496a5",
   "metadata": {},
   "outputs": [],
   "source": [
    "carpark_data_uni = dp\n",
    "carpark_data_HDB = dp[dp.Agency == '1']\n",
    "carpark_data_non_HDB = dp[dp.Agency != '1']"
   ]
  },
  {
   "cell_type": "code",
   "execution_count": 8,
   "id": "89973d3f",
   "metadata": {},
   "outputs": [
    {
     "data": {
      "text/html": [
       "<div>\n",
       "<style scoped>\n",
       "    .dataframe tbody tr th:only-of-type {\n",
       "        vertical-align: middle;\n",
       "    }\n",
       "\n",
       "    .dataframe tbody tr th {\n",
       "        vertical-align: top;\n",
       "    }\n",
       "\n",
       "    .dataframe thead th {\n",
       "        text-align: right;\n",
       "    }\n",
       "</style>\n",
       "<table border=\"1\" class=\"dataframe\">\n",
       "  <thead>\n",
       "    <tr style=\"text-align: right;\">\n",
       "      <th></th>\n",
       "      <th>sid</th>\n",
       "      <th>tid</th>\n",
       "      <th>AvailableLots</th>\n",
       "      <th>date</th>\n",
       "      <th>min</th>\n",
       "      <th>Weekday</th>\n",
       "      <th>Agency</th>\n",
       "    </tr>\n",
       "  </thead>\n",
       "  <tbody>\n",
       "    <tr>\n",
       "      <th>82001819</th>\n",
       "      <td>1916</td>\n",
       "      <td>8923</td>\n",
       "      <td>0.0</td>\n",
       "      <td>2021-05-31 23:35:00</td>\n",
       "      <td>283</td>\n",
       "      <td>0</td>\n",
       "      <td>0</td>\n",
       "    </tr>\n",
       "    <tr>\n",
       "      <th>82001824</th>\n",
       "      <td>1916</td>\n",
       "      <td>8924</td>\n",
       "      <td>0.0</td>\n",
       "      <td>2021-05-31 23:40:00</td>\n",
       "      <td>284</td>\n",
       "      <td>0</td>\n",
       "      <td>0</td>\n",
       "    </tr>\n",
       "    <tr>\n",
       "      <th>82001829</th>\n",
       "      <td>1916</td>\n",
       "      <td>8925</td>\n",
       "      <td>0.0</td>\n",
       "      <td>2021-05-31 23:45:00</td>\n",
       "      <td>285</td>\n",
       "      <td>0</td>\n",
       "      <td>0</td>\n",
       "    </tr>\n",
       "    <tr>\n",
       "      <th>82001834</th>\n",
       "      <td>1916</td>\n",
       "      <td>8926</td>\n",
       "      <td>0.0</td>\n",
       "      <td>2021-05-31 23:50:00</td>\n",
       "      <td>286</td>\n",
       "      <td>0</td>\n",
       "      <td>0</td>\n",
       "    </tr>\n",
       "    <tr>\n",
       "      <th>82001839</th>\n",
       "      <td>1916</td>\n",
       "      <td>8927</td>\n",
       "      <td>0.0</td>\n",
       "      <td>2021-05-31 23:55:00</td>\n",
       "      <td>287</td>\n",
       "      <td>0</td>\n",
       "      <td>0</td>\n",
       "    </tr>\n",
       "  </tbody>\n",
       "</table>\n",
       "</div>"
      ],
      "text/plain": [
       "           sid   tid  AvailableLots                 date  min Weekday Agency\n",
       "82001819  1916  8923            0.0  2021-05-31 23:35:00  283       0      0\n",
       "82001824  1916  8924            0.0  2021-05-31 23:40:00  284       0      0\n",
       "82001829  1916  8925            0.0  2021-05-31 23:45:00  285       0      0\n",
       "82001834  1916  8926            0.0  2021-05-31 23:50:00  286       0      0\n",
       "82001839  1916  8927            0.0  2021-05-31 23:55:00  287       0      0"
      ]
     },
     "execution_count": 8,
     "metadata": {},
     "output_type": "execute_result"
    }
   ],
   "source": [
    "carpark_data_uni.tail()"
   ]
  },
  {
   "cell_type": "markdown",
   "id": "bcd06f7e",
   "metadata": {},
   "source": [
    "## Forecasting"
   ]
  },
  {
   "cell_type": "code",
   "execution_count": 9,
   "id": "fbb91e0e",
   "metadata": {},
   "outputs": [],
   "source": [
    "import warnings\n",
    "warnings.filterwarnings(\"ignore\")"
   ]
  },
  {
   "cell_type": "code",
   "execution_count": 10,
   "id": "e5fac82e",
   "metadata": {},
   "outputs": [],
   "source": [
    "import pytorch_lightning as pl\n",
    "from pytorch_lightning.callbacks import EarlyStopping\n",
    "import torch\n",
    "from torch.utils.data import DataLoader\n",
    "\n",
    "from pytorch_forecasting import Baseline, NBeats, TimeSeriesDataSet\n",
    "from pytorch_forecasting.data import NaNLabelEncoder\n",
    "from pytorch_forecasting.metrics import SMAPE\n",
    "from dataloader import subset_sampler"
   ]
  },
  {
   "cell_type": "code",
   "execution_count": 11,
   "id": "a8094438",
   "metadata": {},
   "outputs": [],
   "source": [
    "# carpark_data_s=carpark_data[carpark_data.sid==1000]"
   ]
  },
  {
   "cell_type": "code",
   "execution_count": 12,
   "id": "cd8a2075",
   "metadata": {},
   "outputs": [],
   "source": [
    "context_length = 12*12\n",
    "prediction_length = 2*12\n",
    "\n",
    "training_cutoff = 24*24*12\n",
    "validation_cutoff = 27*24*12\n",
    "test_cutoff = 30*24*12\n",
    "\n",
    "training = TimeSeriesDataSet(\n",
    "    carpark_data_uni[lambda x: x.tid <= training_cutoff],\n",
    "    time_idx=\"tid\",\n",
    "    group_ids=[\"sid\"],\n",
    "    target=\"AvailableLots\",\n",
    "    time_varying_unknown_reals=[\"AvailableLots\"],\n",
    "    max_encoder_length=context_length,\n",
    "    max_prediction_length=prediction_length,\n",
    "    static_categoricals = [\"Agency\"],\n",
    "    time_varying_known_categoricals=[\"min\", \"Weekday\"],\n",
    ")\n",
    "\n",
    "validation = TimeSeriesDataSet.from_dataset(\n",
    "    training,                                         \n",
    "    carpark_data_uni[lambda x: x.tid <= validation_cutoff],\n",
    "    min_prediction_idx=training_cutoff + 1\n",
    ")\n",
    "\n",
    "test = TimeSeriesDataSet.from_dataset(\n",
    "    training, \n",
    "    carpark_data_uni,\n",
    "    min_prediction_idx=validation_cutoff + 1\n",
    ")"
   ]
  },
  {
   "cell_type": "code",
   "execution_count": 13,
   "id": "4d096e43",
   "metadata": {},
   "outputs": [],
   "source": [
    "#save training\n",
    "torch.save(training, 'Singapore_training_dataset.pt')"
   ]
  },
  {
   "cell_type": "code",
   "execution_count": 14,
   "id": "65cfa80d",
   "metadata": {},
   "outputs": [],
   "source": [
    "#save test \n",
    "torch.save(test, 'Singapore_test_dataset.pt')"
   ]
  },
  {
   "cell_type": "code",
   "execution_count": 15,
   "id": "bef8ae1b",
   "metadata": {},
   "outputs": [],
   "source": [
    "train_sampler = subset_sampler(training, 0.5, random=True)\n",
    "val_sampler = subset_sampler(validation, 0.05)\n",
    "test_sampler = subset_sampler(test, 0.05)\n",
    "# train_sampler = subset_sampler(training, 0.5, random=True)\n",
    "# val_sampler = subset_sampler(validation, 0.05)\n",
    "# test_sampler = subset_sampler(test, 0.05)"
   ]
  },
  {
   "cell_type": "code",
   "execution_count": 16,
   "id": "531b162d",
   "metadata": {},
   "outputs": [],
   "source": [
    "batch_size = 200\n",
    "train_dataloader = training.to_dataloader(train=True, batch_size=batch_size, \n",
    "                                          num_workers=8)                                          \n",
    "val_dataloader = validation.to_dataloader(batch_size=500, num_workers=8,\n",
    "                                          shuffle=False, sampler=val_sampler)                                          \n",
    "test_dataloader = test.to_dataloader(batch_size=500, num_workers=8,\n",
    "                                     shuffle=False, sampler=test_sampler)            \n",
    "# train_dataloader = training.to_dataloader(train=True, batch_size=batch_size, \n",
    "#                                           num_workers=8)                                          \n",
    "# val_dataloader = validation.to_dataloader(batch_size=50, num_workers=8,\n",
    "#                                           shuffle=False, sampler=val_sampler)                                          \n",
    "# test_dataloader = test.to_dataloader(batch_size=50, num_workers=8,\n",
    "#                                      shuffle=False, sampler=test_sampler)                                                                  "
   ]
  },
  {
   "cell_type": "code",
   "execution_count": 17,
   "id": "3480d1a3",
   "metadata": {},
   "outputs": [
    {
     "name": "stdout",
     "output_type": "stream",
     "text": [
      "61962\n",
      "154\n",
      "207\n"
     ]
    }
   ],
   "source": [
    "print(len(train_dataloader))\n",
    "print(len(val_dataloader))\n",
    "print(len(test_dataloader))"
   ]
  },
  {
   "cell_type": "code",
   "execution_count": 18,
   "id": "2071bf26",
   "metadata": {},
   "outputs": [],
   "source": [
    "# x_trn, y_trn = first(train_dataloader)\n",
    "# x_val, y_val = first(val_dataloader)\n",
    "# x_tst, y_tst = first(test_dataloader)\n",
    "\n",
    "# x_trn[\"encoder_cat\"].shape\n",
    "\n",
    "# x_trn[\"decoder_cont\"].shape\n",
    "\n",
    "# x_trn[\"decoder_target\"]\n",
    "\n",
    "# rnn.output_transformer(dict(prediction=x_trn[\"decoder_cont\"],\n",
    "#                             target_scale=x_trn[\"target_scale\"])).squeeze()\n",
    "# training.target_normalizer(dict(prediction=x_trn[\"decoder_cont\"],\n",
    "#                                 target_scale=x_trn[\"target_scale\"])).squeeze()"
   ]
  },
  {
   "cell_type": "code",
   "execution_count": 19,
   "id": "f204465a",
   "metadata": {},
   "outputs": [],
   "source": [
    "#training.index"
   ]
  },
  {
   "cell_type": "code",
   "execution_count": 20,
   "id": "6095fcf9",
   "metadata": {},
   "outputs": [],
   "source": [
    "# from pytorch_forecasting import Baseline\n",
    "\n",
    "# baseline_predictions = Baseline().predict(test_dataloader)\n",
    "\n",
    "# abs_error = torch.abs(baseline_predictions - actuals)\n",
    "\n",
    "# print(torch.mean(abs_error * mask))\n",
    "# errors = torch.mean(abs_error * mask, dim=0)\n",
    "\n",
    "# mape = abs_error / (actuals + 1e-5)\n",
    "\n",
    "# print(torch.mean(mape * mask))\n",
    "# mapes = torch.mean(mape * mask, dim=0)\n",
    "\n",
    "# plt.plot(torch.arange(1, len(errors)+1), errors, \".-\")\n",
    "# plt.xlabel(\"Time steps\")\n",
    "# plt.ylabel(\"MAE\")\n",
    "\n",
    "# plt.plot(torch.arange(1, len(mapes)+1), mapes, \".-\")\n",
    "# plt.xlabel(\"Time steps\")\n",
    "# plt.ylabel(\"MAPE\")"
   ]
  },
  {
   "cell_type": "code",
   "execution_count": 21,
   "id": "f8b2cb23",
   "metadata": {},
   "outputs": [],
   "source": [
    "actuals = torch.cat([y[0] for _, y in iter(test_dataloader)])\n",
    "mask = actuals > 1.0"
   ]
  },
  {
   "cell_type": "markdown",
   "id": "98ea540c",
   "metadata": {},
   "source": [
    "### LSTM"
   ]
  },
  {
   "cell_type": "code",
   "execution_count": 22,
   "id": "4014c5f0",
   "metadata": {},
   "outputs": [],
   "source": [
    "from models import RNN"
   ]
  },
  {
   "cell_type": "code",
   "execution_count": 23,
   "id": "1affc723",
   "metadata": {
    "scrolled": false
   },
   "outputs": [
    {
     "name": "stderr",
     "output_type": "stream",
     "text": [
      "GPU available: True, used: True\n",
      "TPU available: False, using: 0 TPU cores\n"
     ]
    }
   ],
   "source": [
    "early_stop_callback = EarlyStopping(monitor=\"val_loss\", min_delta=1e-4, \n",
    "                                    patience=10, verbose=False, mode=\"min\")\n",
    "\n",
    "trainer = pl.Trainer(\n",
    "    max_epochs=50,\n",
    "    gpus=[0],\n",
    "    weights_summary=\"top\",\n",
    "    gradient_clip_val=0.1,\n",
    "    callbacks=[early_stop_callback],\n",
    "    limit_train_batches=500\n",
    ")\n",
    "\n",
    "rnn = RNN.from_dataset(\n",
    "    training,\n",
    "    embedding_sizes={\"min\": (1440 // 5, 91), \"Weekday\": (7, 20), \"Agency\": (2,2)},\n",
    "    # embedding_sizes={\"min\": (1440 // 5, 91)},\n",
    "    cell_type=\"GRU\",\n",
    "    hidden_size=50,\n",
    "    learning_rate=1e-3,\n",
    "    log_interval=50,\n",
    "    log_val_interval=50,\n",
    "    weight_decay=1e-3,\n",
    ")\n",
    "\n",
    "#rnn"
   ]
  },
  {
   "cell_type": "code",
   "execution_count": 24,
   "id": "7d613acb",
   "metadata": {},
   "outputs": [
    {
     "name": "stdout",
     "output_type": "stream",
     "text": [
      "{}\n"
     ]
    }
   ],
   "source": [
    "print(rnn.lagged_target_positions)"
   ]
  },
  {
   "cell_type": "code",
   "execution_count": 25,
   "id": "03e8ddee",
   "metadata": {},
   "outputs": [
    {
     "name": "stderr",
     "output_type": "stream",
     "text": [
      "LOCAL_RANK: 0 - CUDA_VISIBLE_DEVICES: [0]\n",
      "\n",
      "  | Name             | Type           | Params\n",
      "----------------------------------------------------\n",
      "0 | loss             | MAE            | 0     \n",
      "1 | logging_metrics  | ModuleList     | 0     \n",
      "2 | embeddings       | MultiEmbedding | 26.4 K\n",
      "3 | rnn              | GRU            | 40.2 K\n",
      "4 | output_projector | Linear         | 51    \n",
      "----------------------------------------------------\n",
      "66.6 K    Trainable params\n",
      "0         Non-trainable params\n",
      "66.6 K    Total params\n",
      "0.266     Total estimated model params size (MB)\n"
     ]
    },
    {
     "data": {
      "application/vnd.jupyter.widget-view+json": {
       "model_id": "",
       "version_major": 2,
       "version_minor": 0
      },
      "text/plain": [
       "Validation sanity check: 0it [00:00, ?it/s]"
      ]
     },
     "metadata": {},
     "output_type": "display_data"
    },
    {
     "data": {
      "application/vnd.jupyter.widget-view+json": {
       "model_id": "71f52967a35e49c98f42971f8897384b",
       "version_major": 2,
       "version_minor": 0
      },
      "text/plain": [
       "Training: 0it [00:00, ?it/s]"
      ]
     },
     "metadata": {},
     "output_type": "display_data"
    },
    {
     "data": {
      "application/vnd.jupyter.widget-view+json": {
       "model_id": "",
       "version_major": 2,
       "version_minor": 0
      },
      "text/plain": [
       "Validating: 0it [00:00, ?it/s]"
      ]
     },
     "metadata": {},
     "output_type": "display_data"
    },
    {
     "data": {
      "application/vnd.jupyter.widget-view+json": {
       "model_id": "",
       "version_major": 2,
       "version_minor": 0
      },
      "text/plain": [
       "Validating: 0it [00:00, ?it/s]"
      ]
     },
     "metadata": {},
     "output_type": "display_data"
    },
    {
     "data": {
      "application/vnd.jupyter.widget-view+json": {
       "model_id": "",
       "version_major": 2,
       "version_minor": 0
      },
      "text/plain": [
       "Validating: 0it [00:00, ?it/s]"
      ]
     },
     "metadata": {},
     "output_type": "display_data"
    },
    {
     "data": {
      "application/vnd.jupyter.widget-view+json": {
       "model_id": "",
       "version_major": 2,
       "version_minor": 0
      },
      "text/plain": [
       "Validating: 0it [00:00, ?it/s]"
      ]
     },
     "metadata": {},
     "output_type": "display_data"
    },
    {
     "data": {
      "application/vnd.jupyter.widget-view+json": {
       "model_id": "",
       "version_major": 2,
       "version_minor": 0
      },
      "text/plain": [
       "Validating: 0it [00:00, ?it/s]"
      ]
     },
     "metadata": {},
     "output_type": "display_data"
    },
    {
     "data": {
      "application/vnd.jupyter.widget-view+json": {
       "model_id": "",
       "version_major": 2,
       "version_minor": 0
      },
      "text/plain": [
       "Validating: 0it [00:00, ?it/s]"
      ]
     },
     "metadata": {},
     "output_type": "display_data"
    },
    {
     "data": {
      "application/vnd.jupyter.widget-view+json": {
       "model_id": "",
       "version_major": 2,
       "version_minor": 0
      },
      "text/plain": [
       "Validating: 0it [00:00, ?it/s]"
      ]
     },
     "metadata": {},
     "output_type": "display_data"
    },
    {
     "data": {
      "application/vnd.jupyter.widget-view+json": {
       "model_id": "",
       "version_major": 2,
       "version_minor": 0
      },
      "text/plain": [
       "Validating: 0it [00:00, ?it/s]"
      ]
     },
     "metadata": {},
     "output_type": "display_data"
    },
    {
     "data": {
      "application/vnd.jupyter.widget-view+json": {
       "model_id": "",
       "version_major": 2,
       "version_minor": 0
      },
      "text/plain": [
       "Validating: 0it [00:00, ?it/s]"
      ]
     },
     "metadata": {},
     "output_type": "display_data"
    },
    {
     "data": {
      "application/vnd.jupyter.widget-view+json": {
       "model_id": "",
       "version_major": 2,
       "version_minor": 0
      },
      "text/plain": [
       "Validating: 0it [00:00, ?it/s]"
      ]
     },
     "metadata": {},
     "output_type": "display_data"
    },
    {
     "data": {
      "application/vnd.jupyter.widget-view+json": {
       "model_id": "",
       "version_major": 2,
       "version_minor": 0
      },
      "text/plain": [
       "Validating: 0it [00:00, ?it/s]"
      ]
     },
     "metadata": {},
     "output_type": "display_data"
    },
    {
     "data": {
      "application/vnd.jupyter.widget-view+json": {
       "model_id": "",
       "version_major": 2,
       "version_minor": 0
      },
      "text/plain": [
       "Validating: 0it [00:00, ?it/s]"
      ]
     },
     "metadata": {},
     "output_type": "display_data"
    },
    {
     "data": {
      "text/plain": [
       "1"
      ]
     },
     "execution_count": 25,
     "metadata": {},
     "output_type": "execute_result"
    }
   ],
   "source": [
    "trainer.fit(\n",
    "    rnn,\n",
    "    train_dataloader=train_dataloader,\n",
    "    val_dataloaders=val_dataloader,\n",
    ")"
   ]
  },
  {
   "cell_type": "code",
   "execution_count": 26,
   "id": "8512daed",
   "metadata": {},
   "outputs": [
    {
     "data": {
      "text/plain": [
       "\"categorical_groups\":                {}\n",
       "\"cell_type\":                         GRU\n",
       "\"dropout\":                           0.1\n",
       "\"embedding_labels\":                  {'Agency': {'0': 0, '1': 1}, 'min': {'0': 0, '1': 1, '10': 2, '100': 3, '101': 4, '102': 5, '103': 6, '104': 7, '105': 8, '106': 9, '107': 10, '108': 11, '109': 12, '11': 13, '110': 14, '111': 15, '112': 16, '113': 17, '114': 18, '115': 19, '116': 20, '117': 21, '118': 22, '119': 23, '12': 24, '120': 25, '121': 26, '122': 27, '123': 28, '124': 29, '125': 30, '126': 31, '127': 32, '128': 33, '129': 34, '13': 35, '130': 36, '131': 37, '132': 38, '133': 39, '134': 40, '135': 41, '136': 42, '137': 43, '138': 44, '139': 45, '14': 46, '140': 47, '141': 48, '142': 49, '143': 50, '144': 51, '145': 52, '146': 53, '147': 54, '148': 55, '149': 56, '15': 57, '150': 58, '151': 59, '152': 60, '153': 61, '154': 62, '155': 63, '156': 64, '157': 65, '158': 66, '159': 67, '16': 68, '160': 69, '161': 70, '162': 71, '163': 72, '164': 73, '165': 74, '166': 75, '167': 76, '168': 77, '169': 78, '17': 79, '170': 80, '171': 81, '172': 82, '173': 83, '174': 84, '175': 85, '176': 86, '177': 87, '178': 88, '179': 89, '18': 90, '180': 91, '181': 92, '182': 93, '183': 94, '184': 95, '185': 96, '186': 97, '187': 98, '188': 99, '189': 100, '19': 101, '190': 102, '191': 103, '192': 104, '193': 105, '194': 106, '195': 107, '196': 108, '197': 109, '198': 110, '199': 111, '2': 112, '20': 113, '200': 114, '201': 115, '202': 116, '203': 117, '204': 118, '205': 119, '206': 120, '207': 121, '208': 122, '209': 123, '21': 124, '210': 125, '211': 126, '212': 127, '213': 128, '214': 129, '215': 130, '216': 131, '217': 132, '218': 133, '219': 134, '22': 135, '220': 136, '221': 137, '222': 138, '223': 139, '224': 140, '225': 141, '226': 142, '227': 143, '228': 144, '229': 145, '23': 146, '230': 147, '231': 148, '232': 149, '233': 150, '234': 151, '235': 152, '236': 153, '237': 154, '238': 155, '239': 156, '24': 157, '240': 158, '241': 159, '242': 160, '243': 161, '244': 162, '245': 163, '246': 164, '247': 165, '248': 166, '249': 167, '25': 168, '250': 169, '251': 170, '252': 171, '253': 172, '254': 173, '255': 174, '256': 175, '257': 176, '258': 177, '259': 178, '26': 179, '260': 180, '261': 181, '262': 182, '263': 183, '264': 184, '265': 185, '266': 186, '267': 187, '268': 188, '269': 189, '27': 190, '270': 191, '271': 192, '272': 193, '273': 194, '274': 195, '275': 196, '276': 197, '277': 198, '278': 199, '279': 200, '28': 201, '280': 202, '281': 203, '282': 204, '283': 205, '284': 206, '285': 207, '286': 208, '287': 209, '29': 210, '3': 211, '30': 212, '31': 213, '32': 214, '33': 215, '34': 216, '35': 217, '36': 218, '37': 219, '38': 220, '39': 221, '4': 222, '40': 223, '41': 224, '42': 225, '43': 226, '44': 227, '45': 228, '46': 229, '47': 230, '48': 231, '49': 232, '5': 233, '50': 234, '51': 235, '52': 236, '53': 237, '54': 238, '55': 239, '56': 240, '57': 241, '58': 242, '59': 243, '6': 244, '60': 245, '61': 246, '62': 247, '63': 248, '64': 249, '65': 250, '66': 251, '67': 252, '68': 253, '69': 254, '7': 255, '70': 256, '71': 257, '72': 258, '73': 259, '74': 260, '75': 261, '76': 262, '77': 263, '78': 264, '79': 265, '8': 266, '80': 267, '81': 268, '82': 269, '83': 270, '84': 271, '85': 272, '86': 273, '87': 274, '88': 275, '89': 276, '9': 277, '90': 278, '91': 279, '92': 280, '93': 281, '94': 282, '95': 283, '96': 284, '97': 285, '98': 286, '99': 287}, 'Weekday': {'0': 0, '1': 1, '2': 2, '3': 3, '4': 4, '5': 5, '6': 6}}\n",
       "\"embedding_paddings\":                []\n",
       "\"embedding_sizes\":                   {'min': [288, 91], 'Weekday': [7, 20], 'Agency': [2, 2]}\n",
       "\"hidden_size\":                       50\n",
       "\"learning_rate\":                     0.001\n",
       "\"log_gradient_flow\":                 False\n",
       "\"log_interval\":                      50\n",
       "\"log_val_interval\":                  50\n",
       "\"logging_metrics\":                   ModuleList(\n",
       "  (0): SMAPE()\n",
       "  (1): MAE()\n",
       "  (2): RMSE()\n",
       "  (3): MAPE()\n",
       "  (4): MASE()\n",
       ")\n",
       "\"loss\":                              MAE()\n",
       "\"monotone_constaints\":               {}\n",
       "\"optimizer\":                         ranger\n",
       "\"optimizer_params\":                  None\n",
       "\"output_size\":                       1\n",
       "\"output_transformer\":                EncoderNormalizer()\n",
       "\"reduce_on_plateau_min_lr\":          1e-05\n",
       "\"reduce_on_plateau_patience\":        1000\n",
       "\"rnn_layers\":                        2\n",
       "\"static_categoricals\":               ['Agency']\n",
       "\"static_reals\":                      []\n",
       "\"target\":                            AvailableLots\n",
       "\"target_lags\":                       {}\n",
       "\"time_varying_categoricals_decoder\": ['min', 'Weekday']\n",
       "\"time_varying_categoricals_encoder\": ['min', 'Weekday']\n",
       "\"time_varying_reals_decoder\":        []\n",
       "\"time_varying_reals_encoder\":        ['AvailableLots']\n",
       "\"weight_decay\":                      0.001\n",
       "\"x_categoricals\":                    ['Agency', 'min', 'Weekday']\n",
       "\"x_reals\":                           ['AvailableLots']"
      ]
     },
     "execution_count": 26,
     "metadata": {},
     "output_type": "execute_result"
    }
   ],
   "source": [
    "rnn.hparams"
   ]
  },
  {
   "cell_type": "code",
   "execution_count": 27,
   "id": "3cb44345",
   "metadata": {},
   "outputs": [
    {
     "name": "stdout",
     "output_type": "stream",
     "text": [
      "/home/qishuai/Documents/Zhi-Qing/carpark_prediction-main_original/lightning_logs/version_15/checkpoints/epoch=1-step=999.ckpt\n",
      "cuda:0\n"
     ]
    }
   ],
   "source": [
    "device = torch.device(\"cuda:0\")\n",
    "best_model_path = trainer.checkpoint_callback.best_model_path\n",
    "best_model = RNN.load_from_checkpoint(best_model_path).to(device)\n",
    "print(best_model_path)\n",
    "print(best_model.device)"
   ]
  },
  {
   "cell_type": "code",
   "execution_count": 29,
   "id": "4ced86c2",
   "metadata": {},
   "outputs": [
    {
     "data": {
      "application/vnd.jupyter.widget-view+json": {
       "model_id": "49a5aef638114bcd80c02c955d2ff61a",
       "version_major": 2,
       "version_minor": 0
      },
      "text/plain": [
       "Predict:   0%|          | 0/207 [00:00<?, ? batches/s]"
      ]
     },
     "metadata": {},
     "output_type": "display_data"
    },
    {
     "name": "stdout",
     "output_type": "stream",
     "text": [
      "torch.Size([103500, 24])\n",
      "CPU times: user 6.25 s, sys: 3.4 s, total: 9.66 s\n",
      "Wall time: 12.7 s\n"
     ]
    }
   ],
   "source": [
    "%%time\n",
    "predictions = best_model.predict(test_dataloader, batch_size=500, show_progress_bar=True)\n",
    "print(predictions.shape)"
   ]
  },
  {
   "cell_type": "code",
   "execution_count": 30,
   "id": "5f5e8f66",
   "metadata": {},
   "outputs": [],
   "source": [
    "abs_error = torch.abs(predictions - actuals)"
   ]
  },
  {
   "cell_type": "code",
   "execution_count": 31,
   "id": "7043d302",
   "metadata": {},
   "outputs": [
    {
     "data": {
      "text/plain": [
       "torch.Size([103500, 24])"
      ]
     },
     "execution_count": 31,
     "metadata": {},
     "output_type": "execute_result"
    }
   ],
   "source": [
    "abs_error.shape"
   ]
  },
  {
   "cell_type": "code",
   "execution_count": 32,
   "id": "d6a7efd2",
   "metadata": {},
   "outputs": [
    {
     "name": "stdout",
     "output_type": "stream",
     "text": [
      "tensor(4.4474)\n"
     ]
    }
   ],
   "source": [
    "print(torch.mean(abs_error * mask))\n",
    "abs_error_steps = torch.mean(abs_error * mask, dim=0)"
   ]
  },
  {
   "cell_type": "code",
   "execution_count": 33,
   "id": "bacb0d58",
   "metadata": {},
   "outputs": [
    {
     "data": {
      "text/plain": [
       "torch.Size([24])"
      ]
     },
     "execution_count": 33,
     "metadata": {},
     "output_type": "execute_result"
    }
   ],
   "source": [
    "abs_error_steps.shape"
   ]
  },
  {
   "cell_type": "code",
   "execution_count": 34,
   "id": "9be76bd2",
   "metadata": {},
   "outputs": [],
   "source": [
    "mape = abs_error / (actuals + 1e-5)"
   ]
  },
  {
   "cell_type": "code",
   "execution_count": 35,
   "id": "245c32f6",
   "metadata": {},
   "outputs": [
    {
     "name": "stdout",
     "output_type": "stream",
     "text": [
      "tensor(0.0633)\n"
     ]
    }
   ],
   "source": [
    "print(torch.mean(mape * mask))\n",
    "mape_steps = torch.mean(mape * mask, dim=0)"
   ]
  },
  {
   "cell_type": "code",
   "execution_count": 36,
   "id": "7235f639",
   "metadata": {},
   "outputs": [
    {
     "data": {
      "text/plain": [
       "Text(0, 0.5, 'MAE')"
      ]
     },
     "execution_count": 36,
     "metadata": {},
     "output_type": "execute_result"
    },
    {
     "data": {
      "image/png": "[encoded data removed]",
      "text/plain": [
       "<Figure size 432x288 with 1 Axes>"
      ]
     },
     "metadata": {
      "needs_background": "light"
     },
     "output_type": "display_data"
    }
   ],
   "source": [
    "plt.plot(torch.arange(1, len(abs_error_steps)+1), abs_error_steps, \".-\")\n",
    "plt.xlabel(\"Time steps\")\n",
    "plt.ylabel(\"MAE\")\n",
    "#plt.xlim([1, 120])\n",
    "#plt.xticks([1, 20, 40, 60, 80, 100, 120]);"
   ]
  },
  {
   "cell_type": "code",
   "execution_count": 37,
   "id": "1de55dc6",
   "metadata": {},
   "outputs": [
    {
     "data": {
      "text/plain": [
       "tensor([1.4829, 1.7025, 1.9765, 2.2704, 2.5451, 2.8005, 3.0723, 3.3260, 3.5637,\n",
       "        3.8053, 4.0684, 4.3154, 4.5634, 4.8150, 5.0685, 5.3348, 5.6003, 5.8433,\n",
       "        6.1020, 6.3873, 6.6419, 6.8980, 7.1455, 7.4095])"
      ]
     },
     "execution_count": 37,
     "metadata": {},
     "output_type": "execute_result"
    }
   ],
   "source": [
    "abs_error_steps"
   ]
  },
  {
   "cell_type": "code",
   "execution_count": 38,
   "id": "1d096a4e",
   "metadata": {},
   "outputs": [
    {
     "data": {
      "text/plain": [
       "tensor(1.4829)"
      ]
     },
     "execution_count": 38,
     "metadata": {},
     "output_type": "execute_result"
    }
   ],
   "source": [
    "#5 min \n",
    "abs_error_steps[0]"
   ]
  },
  {
   "cell_type": "code",
   "execution_count": 39,
   "id": "2307d086",
   "metadata": {},
   "outputs": [
    {
     "data": {
      "text/plain": [
       "tensor(1.9765)"
      ]
     },
     "execution_count": 39,
     "metadata": {},
     "output_type": "execute_result"
    }
   ],
   "source": [
    "#15 min \n",
    "abs_error_steps[2]"
   ]
  },
  {
   "cell_type": "code",
   "execution_count": 40,
   "id": "49ceb94d",
   "metadata": {},
   "outputs": [
    {
     "data": {
      "text/plain": [
       "tensor(2.8005)"
      ]
     },
     "execution_count": 40,
     "metadata": {},
     "output_type": "execute_result"
    }
   ],
   "source": [
    "#30 min \n",
    "abs_error_steps[5]"
   ]
  },
  {
   "cell_type": "code",
   "execution_count": 41,
   "id": "b12d18e0",
   "metadata": {},
   "outputs": [
    {
     "data": {
      "text/plain": [
       "tensor(4.3154)"
      ]
     },
     "execution_count": 41,
     "metadata": {},
     "output_type": "execute_result"
    }
   ],
   "source": [
    "#60 min \n",
    "abs_error_steps[11]"
   ]
  },
  {
   "cell_type": "code",
   "execution_count": 42,
   "id": "4205dfa3",
   "metadata": {},
   "outputs": [
    {
     "data": {
      "text/plain": [
       "tensor(7.4095)"
      ]
     },
     "execution_count": 42,
     "metadata": {},
     "output_type": "execute_result"
    }
   ],
   "source": [
    "#120 min \n",
    "abs_error_steps[23]"
   ]
  },
  {
   "cell_type": "code",
   "execution_count": 43,
   "id": "55bb6f9b",
   "metadata": {},
   "outputs": [
    {
     "data": {
      "text/plain": [
       "Text(0, 0.5, 'MAPE')"
      ]
     },
     "execution_count": 43,
     "metadata": {},
     "output_type": "execute_result"
    },
    {
     "data": {
      "image/png": "[encoded data removed]",
      "text/plain": [
       "<Figure size 432x288 with 1 Axes>"
      ]
     },
     "metadata": {
      "needs_background": "light"
     },
     "output_type": "display_data"
    }
   ],
   "source": [
    "plt.plot(torch.arange(1, len(mape_steps)+1), mape_steps, \".-\")\n",
    "plt.xlabel(\"Time steps\")\n",
    "plt.ylabel(\"MAPE\")\n",
    "#plt.xlim([1, 120])\n",
    "#plt.xticks([1, 20, 40, 60, 80, 100, 120]);"
   ]
  },
  {
   "cell_type": "code",
   "execution_count": 44,
   "id": "f91dc820",
   "metadata": {},
   "outputs": [
    {
     "data": {
      "text/plain": [
       "tensor([0.0242, 0.0269, 0.0330, 0.0387, 0.0420, 0.0470, 0.0510, 0.0554, 0.0553,\n",
       "        0.0577, 0.0573, 0.0603, 0.0620, 0.0670, 0.0703, 0.0743, 0.0784, 0.0803,\n",
       "        0.0818, 0.0857, 0.0896, 0.0916, 0.0937, 0.0959])"
      ]
     },
     "execution_count": 44,
     "metadata": {},
     "output_type": "execute_result"
    }
   ],
   "source": [
    "mape_steps"
   ]
  },
  {
   "cell_type": "code",
   "execution_count": 45,
   "id": "4f11a093",
   "metadata": {},
   "outputs": [
    {
     "data": {
      "text/plain": [
       "tensor(0.0242)"
      ]
     },
     "execution_count": 45,
     "metadata": {},
     "output_type": "execute_result"
    }
   ],
   "source": [
    "#5 min\n",
    "mape_steps[0]"
   ]
  },
  {
   "cell_type": "code",
   "execution_count": 46,
   "id": "44f71b2a",
   "metadata": {},
   "outputs": [
    {
     "data": {
      "text/plain": [
       "tensor(0.0330)"
      ]
     },
     "execution_count": 46,
     "metadata": {},
     "output_type": "execute_result"
    }
   ],
   "source": [
    "#15 min \n",
    "mape_steps[2]"
   ]
  },
  {
   "cell_type": "code",
   "execution_count": 47,
   "id": "a7428d15",
   "metadata": {},
   "outputs": [
    {
     "data": {
      "text/plain": [
       "tensor(0.0470)"
      ]
     },
     "execution_count": 47,
     "metadata": {},
     "output_type": "execute_result"
    }
   ],
   "source": [
    "#30 min \n",
    "mape_steps[5]"
   ]
  },
  {
   "cell_type": "code",
   "execution_count": 48,
   "id": "1f41dc91",
   "metadata": {},
   "outputs": [
    {
     "data": {
      "text/plain": [
       "tensor(0.0603)"
      ]
     },
     "execution_count": 48,
     "metadata": {},
     "output_type": "execute_result"
    }
   ],
   "source": [
    "#60 min\n",
    "mape_steps[11]"
   ]
  },
  {
   "cell_type": "code",
   "execution_count": 49,
   "id": "423abc2c",
   "metadata": {},
   "outputs": [
    {
     "data": {
      "text/plain": [
       "tensor(0.0959)"
      ]
     },
     "execution_count": 49,
     "metadata": {},
     "output_type": "execute_result"
    }
   ],
   "source": [
    "#120 min\n",
    "mape_steps[23]"
   ]
  },
  {
   "cell_type": "code",
   "execution_count": 50,
   "id": "ca7d07c0",
   "metadata": {},
   "outputs": [],
   "source": [
    "#rmse\n",
    "squared_error = torch.square(predictions - actuals)\n",
    "mse_steps = torch.mean(squared_error * mask, dim=0)\n",
    "rmse_steps = torch.sqrt(mse_steps)"
   ]
  },
  {
   "cell_type": "code",
   "execution_count": 51,
   "id": "7b06e2fb",
   "metadata": {},
   "outputs": [
    {
     "data": {
      "text/plain": [
       "Text(0, 0.5, 'RMSE')"
      ]
     },
     "execution_count": 51,
     "metadata": {},
     "output_type": "execute_result"
    },
    {
     "data": {
      "image/png": "[encoded data removed]",
      "text/plain": [
       "<Figure size 432x288 with 1 Axes>"
      ]
     },
     "metadata": {
      "needs_background": "light"
     },
     "output_type": "display_data"
    }
   ],
   "source": [
    "plt.plot(torch.arange(1, len(rmse_steps)+1), rmse_steps, \".-\")\n",
    "plt.xlabel(\"Time steps\")\n",
    "plt.ylabel(\"RMSE\")"
   ]
  },
  {
   "cell_type": "code",
   "execution_count": 52,
   "id": "85408059",
   "metadata": {},
   "outputs": [
    {
     "data": {
      "text/plain": [
       "tensor([ 5.5845,  6.1254,  6.7917,  7.4011,  7.8181,  8.2384,  8.8739,  9.3601,\n",
       "         9.6791, 10.1257, 11.4128, 11.8872, 12.4060, 12.9698, 13.5324, 14.1193,\n",
       "        14.9532, 15.4110, 15.9625, 17.0869, 17.6202, 18.1787, 18.6365, 19.1457])"
      ]
     },
     "execution_count": 52,
     "metadata": {},
     "output_type": "execute_result"
    }
   ],
   "source": [
    "rmse_steps"
   ]
  },
  {
   "cell_type": "code",
   "execution_count": 53,
   "id": "d32ecff9",
   "metadata": {},
   "outputs": [
    {
     "data": {
      "text/plain": [
       "tensor(5.5845)"
      ]
     },
     "execution_count": 53,
     "metadata": {},
     "output_type": "execute_result"
    }
   ],
   "source": [
    "#5 min \n",
    "rmse_steps[0]"
   ]
  },
  {
   "cell_type": "code",
   "execution_count": 54,
   "id": "a56c708c",
   "metadata": {},
   "outputs": [
    {
     "data": {
      "text/plain": [
       "tensor(6.7917)"
      ]
     },
     "execution_count": 54,
     "metadata": {},
     "output_type": "execute_result"
    }
   ],
   "source": [
    "#15 min \n",
    "rmse_steps[2]"
   ]
  },
  {
   "cell_type": "code",
   "execution_count": 55,
   "id": "dff505bb",
   "metadata": {},
   "outputs": [
    {
     "data": {
      "text/plain": [
       "tensor(8.2384)"
      ]
     },
     "execution_count": 55,
     "metadata": {},
     "output_type": "execute_result"
    }
   ],
   "source": [
    "#30 min \n",
    "rmse_steps[5]"
   ]
  },
  {
   "cell_type": "code",
   "execution_count": 56,
   "id": "77cdce7e",
   "metadata": {},
   "outputs": [
    {
     "data": {
      "text/plain": [
       "tensor(11.8872)"
      ]
     },
     "execution_count": 56,
     "metadata": {},
     "output_type": "execute_result"
    }
   ],
   "source": [
    "#60 min \n",
    "rmse_steps[11]"
   ]
  },
  {
   "cell_type": "code",
   "execution_count": 57,
   "id": "54e60f1b",
   "metadata": {},
   "outputs": [],
   "source": [
    "n = abs_error.shape[0]"
   ]
  },
  {
   "cell_type": "code",
   "execution_count": 58,
   "id": "ab690526",
   "metadata": {
    "scrolled": false
   },
   "outputs": [
    {
     "name": "stdout",
     "output_type": "stream",
     "text": [
      "μ = 2.8005, σ = 7.7478, max = 1044.4839\n"
     ]
    }
   ],
   "source": [
    "step = 6 # 30 mins later\n",
    "\n",
    "abs_error_step = abs_error[:, step-1] * mask[:, step-1]\n",
    "\n",
    "σ, μ = torch.std_mean(abs_error_step)\n",
    "print(f\"μ = {μ:.4f}, σ = {σ:.4f}, max = {abs_error_step.max():.4f}\")\n",
    "xs = abs_error_step[torch.randperm(n)[:1000]].cpu().numpy()"
   ]
  },
  {
   "cell_type": "code",
   "execution_count": 59,
   "id": "dd2349be",
   "metadata": {},
   "outputs": [
    {
     "data": {
      "text/plain": [
       "torch.Size([103500])"
      ]
     },
     "execution_count": 59,
     "metadata": {},
     "output_type": "execute_result"
    }
   ],
   "source": [
    "abs_error_step.shape"
   ]
  },
  {
   "cell_type": "code",
   "execution_count": 60,
   "id": "6404d5f5",
   "metadata": {},
   "outputs": [
    {
     "data": {
      "image/png": "[encoded data removed]",
      "text/plain": [
       "<Figure size 432x288 with 1 Axes>"
      ]
     },
     "metadata": {
      "needs_background": "light"
     },
     "output_type": "display_data"
    }
   ],
   "source": [
    "n = len(abs_error_step)\n",
    "plt.hist(xs, 100, density=True)\n",
    "plt.xlim(0, 100)\n",
    "plt.xlabel(\"Absolute error\")\n",
    "plt.ylabel(\"Density\")\n",
    "plt.text(20, 0.08, f\"μ={μ:.2f}, σ={σ:.2f}, max={abs_error_step.max():.2f}\",\n",
    "         fontsize=13)\n",
    "plt.title(f\"Absolute error distribution at step={step}\");"
   ]
  },
  {
   "cell_type": "code",
   "execution_count": 61,
   "id": "720043f9",
   "metadata": {},
   "outputs": [],
   "source": [
    "# raw_predictions, x = best_model.predict(test_dataloader, mode=\"raw\", return_x=True, \n",
    "#                                         fast_dev_run=True)\n",
    "\n",
    "# for idx in range(5, 10):\n",
    "#     best_model.plot_prediction(x, raw_predictions, idx=idx, add_loss_to_title=True);"
   ]
  },
  {
   "cell_type": "markdown",
   "id": "0c864ad1",
   "metadata": {},
   "source": [
    "Evaluating the Unified model on HDB dataset and Non-HDB dataset"
   ]
  },
  {
   "cell_type": "code",
   "execution_count": 62,
   "id": "6222fa11",
   "metadata": {},
   "outputs": [
    {
     "data": {
      "application/vnd.jupyter.widget-view+json": {
       "model_id": "8de9c607f7734bbe902001cfcd2619c4",
       "version_major": 2,
       "version_minor": 0
      },
      "text/plain": [
       "Predict:   0%|          | 0/193 [00:00<?, ? batches/s]"
      ]
     },
     "metadata": {},
     "output_type": "display_data"
    },
    {
     "name": "stdout",
     "output_type": "stream",
     "text": [
      "torch.Size([96500, 24])\n",
      "tensor(4.2672)\n",
      "tensor(0.0575)\n",
      "tensor([ 4.0648,  4.4884,  4.9411,  5.4989,  6.0695,  6.8192,  7.3287,  7.8158,\n",
      "         8.2971,  8.7994,  9.3997,  9.7686, 10.4106, 10.9214, 11.4789, 12.0231,\n",
      "        12.4723, 13.0363, 13.5999, 14.1328, 14.8149, 15.3950, 15.9342, 16.4967])\n",
      "μ = 2.6508, σ = 6.2829, max = 480.4100, error rate = 0.0099\n"
     ]
    },
    {
     "data": {
      "image/png": "[encoded data removed]",
      "text/plain": [
       "<Figure size 432x288 with 1 Axes>"
      ]
     },
     "metadata": {
      "needs_background": "light"
     },
     "output_type": "display_data"
    }
   ],
   "source": [
    "context_length = 12*12\n",
    "prediction_length = 2*12\n",
    "\n",
    "training_cutoff = 24*24*12\n",
    "validation_cutoff = 27*24*12\n",
    "test_cutoff = 30*24*12\n",
    "\n",
    "test_HDB = TimeSeriesDataSet(\n",
    "    carpark_data_HDB,\n",
    "    time_idx=\"tid\",\n",
    "    group_ids=[\"sid\"],\n",
    "    target=\"AvailableLots\",\n",
    "    time_varying_unknown_reals=[\"AvailableLots\"],\n",
    "    max_encoder_length=context_length,\n",
    "    max_prediction_length=prediction_length,\n",
    "    static_categoricals = [\"Agency\"],\n",
    "    time_varying_known_categoricals=[\"min\", \"Weekday\"],\n",
    "        min_prediction_idx=validation_cutoff + 1\n",
    ")\n",
    "\n",
    "test_HDB_sampler = subset_sampler(test_HDB, 0.05)\n",
    "test_HDB_dataloader = test_HDB.to_dataloader(batch_size=500, num_workers=8,\n",
    "                                     shuffle=False, sampler=test_HDB_sampler) \n",
    "predictions = best_model.predict(test_HDB_dataloader, batch_size=500, show_progress_bar=True)\n",
    "print(predictions.shape)\n",
    "actuals = torch.cat([y[0] for _, y in iter(test_HDB_dataloader)])\n",
    "mask = actuals > 1.0\n",
    "abs_error = torch.abs(predictions - actuals)\n",
    "abs_error.shape\n",
    "print(torch.mean(abs_error * mask))\n",
    "abs_error_steps = torch.mean(abs_error * mask, dim=0)\n",
    "abs_error_steps.shape\n",
    "mape = abs_error / (actuals + 1e-5)\n",
    "print(torch.mean(mape * mask))\n",
    "mape_steps = torch.mean(mape * mask, dim=0)\n",
    "squared_error = torch.square(predictions - actuals)\n",
    "mse_steps = torch.mean(squared_error * mask, dim=0)\n",
    "rmse_steps = torch.sqrt(mse_steps)\n",
    "print(rmse_steps)\n",
    "\n",
    "n = abs_error.shape[0]\n",
    "step = 6 # 30 mins later\n",
    "\n",
    "abs_error_step = abs_error[:, step-1] * mask[:, step-1]\n",
    "\n",
    "σ, μ = torch.std_mean(abs_error_step)\n",
    "print(f\"μ = {μ:.4f}, σ = {σ:.4f}, max = {abs_error_step.max():.4f}, error rate = {μ/carpark_data_HDB.groupby(['sid'])['AvailableLots'].max().mean():.4f}\")\n",
    "xs = abs_error_step[torch.randperm(n)[:1000]].cpu().numpy()\n",
    "n = len(abs_error_step)\n",
    "plt.hist(xs, 100, density=True)\n",
    "plt.xlim(0, 100)\n",
    "plt.xlabel(\"Absolute error\")\n",
    "plt.ylabel(\"Density\")\n",
    "plt.text(20, 0.08, f\"μ={μ:.2f}, σ={σ:.2f}, max={abs_error_step.max():.2f}\",\n",
    "         fontsize=13)\n",
    "plt.title(f\"Absolute error distribution at step={step}\");"
   ]
  },
  {
   "cell_type": "markdown",
   "id": "574a8d9d",
   "metadata": {},
   "source": [
    "Unified model to predict non-HDB dataset"
   ]
  },
  {
   "cell_type": "code",
   "execution_count": 63,
   "id": "34d36a7b",
   "metadata": {},
   "outputs": [
    {
     "data": {
      "application/vnd.jupyter.widget-view+json": {
       "model_id": "df58139d49604c19b3cd5d5f6ff6794b",
       "version_major": 2,
       "version_minor": 0
      },
      "text/plain": [
       "Predict:   0%|          | 0/13 [00:00<?, ? batches/s]"
      ]
     },
     "metadata": {},
     "output_type": "display_data"
    },
    {
     "name": "stdout",
     "output_type": "stream",
     "text": [
      "torch.Size([6500, 24])\n",
      "tensor(5.9276)\n",
      "tensor(0.0926)\n",
      "tensor([13.8593, 20.5163, 25.9968, 26.0876, 26.8848, 26.8884, 27.1789, 27.6199,\n",
      "        27.8316, 28.3336, 28.7648, 29.0957, 29.5797, 30.2596, 34.6968, 35.2806,\n",
      "        35.9261, 36.5675, 37.3079, 39.5945, 40.1200, 40.6829, 41.3762, 41.9572])\n",
      "μ = 4.0354, σ = 26.5859, max = 1288.5220, error rate = 0.0131\n"
     ]
    },
    {
     "data": {
      "image/png": "[encoded data removed]",
      "text/plain": [
       "<Figure size 432x288 with 1 Axes>"
      ]
     },
     "metadata": {
      "needs_background": "light"
     },
     "output_type": "display_data"
    }
   ],
   "source": [
    "context_length = 12*12\n",
    "prediction_length = 2*12\n",
    "\n",
    "training_cutoff = 24*24*12\n",
    "validation_cutoff = 27*24*12\n",
    "test_cutoff = 30*24*12\n",
    "\n",
    "test_non_HDB = TimeSeriesDataSet(\n",
    "    carpark_data_non_HDB,\n",
    "    time_idx=\"tid\",\n",
    "    group_ids=[\"sid\"],\n",
    "    target=\"AvailableLots\",\n",
    "    time_varying_unknown_reals=[\"AvailableLots\"],\n",
    "    max_encoder_length=context_length,\n",
    "    max_prediction_length=prediction_length,\n",
    "    static_categoricals = [\"Agency\"],\n",
    "    time_varying_known_categoricals=[\"min\", \"Weekday\"],\n",
    "        min_prediction_idx=validation_cutoff + 1\n",
    ")\n",
    "\n",
    "test_non_HDB_sampler = subset_sampler(test_non_HDB, 0.05)\n",
    "test_non_HDB_dataloader = test_non_HDB.to_dataloader(batch_size=500, num_workers=8,\n",
    "                                     shuffle=False, sampler=test_non_HDB_sampler) \n",
    "predictions = best_model.predict(test_non_HDB_dataloader, batch_size=500, show_progress_bar=True)\n",
    "print(predictions.shape)\n",
    "actuals = torch.cat([y[0] for _, y in iter(test_non_HDB_dataloader)])\n",
    "mask = actuals > 1.0\n",
    "abs_error = torch.abs(predictions - actuals)\n",
    "abs_error.shape\n",
    "print(torch.mean(abs_error * mask))\n",
    "abs_error_steps = torch.mean(abs_error * mask, dim=0)\n",
    "abs_error_steps.shape\n",
    "mape = abs_error / (actuals + 1e-5)\n",
    "print(torch.mean(mape * mask))\n",
    "mape_steps = torch.mean(mape * mask, dim=0)\n",
    "squared_error = torch.square(predictions - actuals)\n",
    "mse_steps = torch.mean(squared_error * mask, dim=0)\n",
    "rmse_steps = torch.sqrt(mse_steps)\n",
    "print(rmse_steps)\n",
    "\n",
    "n = abs_error.shape[0]\n",
    "step = 6 # 30 mins later\n",
    "\n",
    "abs_error_step = abs_error[:, step-1] * mask[:, step-1]\n",
    "\n",
    "σ, μ = torch.std_mean(abs_error_step)\n",
    "print(f\"μ = {μ:.4f}, σ = {σ:.4f}, max = {abs_error_step.max():.4f}, error rate = {μ/carpark_data_non_HDB.groupby(['sid'])['AvailableLots'].max().mean():.4f}\")\n",
    "xs = abs_error_step[torch.randperm(n)[:1000]].cpu().numpy()\n",
    "n = len(abs_error_step)\n",
    "plt.hist(xs, 100, density=True)\n",
    "plt.xlim(0, 100)\n",
    "plt.xlabel(\"Absolute error\")\n",
    "plt.ylabel(\"Density\")\n",
    "plt.text(20, 0.08, f\"μ={μ:.2f}, σ={σ:.2f}, max={abs_error_step.max():.2f}\",\n",
    "         fontsize=13)\n",
    "plt.title(f\"Absolute error distribution at step={step}\");"
   ]
  },
  {
   "cell_type": "markdown",
   "id": "053a7fe6",
   "metadata": {},
   "source": [
    "HDB Model "
   ]
  },
  {
   "cell_type": "code",
   "execution_count": 64,
   "id": "5b90f301",
   "metadata": {},
   "outputs": [],
   "source": [
    "context_length = 12*12\n",
    "prediction_length = 2*12\n",
    "\n",
    "training_cutoff = 24*24*12\n",
    "validation_cutoff = 27*24*12\n",
    "test_cutoff = 30*24*12\n",
    "\n",
    "training = TimeSeriesDataSet(\n",
    "    carpark_data_HDB[lambda x: x.tid <= training_cutoff],\n",
    "    time_idx=\"tid\",\n",
    "    group_ids=[\"sid\"],\n",
    "    target=\"AvailableLots\",\n",
    "    time_varying_unknown_reals=[\"AvailableLots\"],\n",
    "    max_encoder_length=context_length,\n",
    "    max_prediction_length=prediction_length,\n",
    "    time_varying_known_categoricals=[\"min\", \"Weekday\"],\n",
    ")\n",
    "\n",
    "validation = TimeSeriesDataSet.from_dataset(\n",
    "    training,                                         \n",
    "    carpark_data_HDB[lambda x: x.tid <= validation_cutoff],\n",
    "    min_prediction_idx=training_cutoff + 1\n",
    ")\n",
    "\n",
    "test = TimeSeriesDataSet.from_dataset(\n",
    "    training, \n",
    "    carpark_data_HDB,\n",
    "    min_prediction_idx=validation_cutoff + 1\n",
    ")"
   ]
  },
  {
   "cell_type": "code",
   "execution_count": 65,
   "id": "6def423a",
   "metadata": {},
   "outputs": [
    {
     "name": "stderr",
     "output_type": "stream",
     "text": [
      "GPU available: True, used: True\n",
      "TPU available: False, using: 0 TPU cores\n",
      "LOCAL_RANK: 0 - CUDA_VISIBLE_DEVICES: [0]\n",
      "\n",
      "  | Name             | Type           | Params\n",
      "----------------------------------------------------\n",
      "0 | loss             | MAE            | 0     \n",
      "1 | logging_metrics  | ModuleList     | 0     \n",
      "2 | embeddings       | MultiEmbedding | 26.3 K\n",
      "3 | rnn              | GRU            | 39.9 K\n",
      "4 | output_projector | Linear         | 51    \n",
      "----------------------------------------------------\n",
      "66.3 K    Trainable params\n",
      "0         Non-trainable params\n",
      "66.3 K    Total params\n",
      "0.265     Total estimated model params size (MB)\n"
     ]
    },
    {
     "data": {
      "application/vnd.jupyter.widget-view+json": {
       "model_id": "",
       "version_major": 2,
       "version_minor": 0
      },
      "text/plain": [
       "Validation sanity check: 0it [00:00, ?it/s]"
      ]
     },
     "metadata": {},
     "output_type": "display_data"
    },
    {
     "data": {
      "application/vnd.jupyter.widget-view+json": {
       "model_id": "35de7b6ba50747dcbe056fa0e137ce90",
       "version_major": 2,
       "version_minor": 0
      },
      "text/plain": [
       "Training: 0it [00:00, ?it/s]"
      ]
     },
     "metadata": {},
     "output_type": "display_data"
    },
    {
     "data": {
      "application/vnd.jupyter.widget-view+json": {
       "model_id": "",
       "version_major": 2,
       "version_minor": 0
      },
      "text/plain": [
       "Validating: 0it [00:00, ?it/s]"
      ]
     },
     "metadata": {},
     "output_type": "display_data"
    },
    {
     "data": {
      "application/vnd.jupyter.widget-view+json": {
       "model_id": "",
       "version_major": 2,
       "version_minor": 0
      },
      "text/plain": [
       "Validating: 0it [00:00, ?it/s]"
      ]
     },
     "metadata": {},
     "output_type": "display_data"
    },
    {
     "data": {
      "application/vnd.jupyter.widget-view+json": {
       "model_id": "",
       "version_major": 2,
       "version_minor": 0
      },
      "text/plain": [
       "Validating: 0it [00:00, ?it/s]"
      ]
     },
     "metadata": {},
     "output_type": "display_data"
    },
    {
     "data": {
      "application/vnd.jupyter.widget-view+json": {
       "model_id": "",
       "version_major": 2,
       "version_minor": 0
      },
      "text/plain": [
       "Validating: 0it [00:00, ?it/s]"
      ]
     },
     "metadata": {},
     "output_type": "display_data"
    },
    {
     "data": {
      "application/vnd.jupyter.widget-view+json": {
       "model_id": "",
       "version_major": 2,
       "version_minor": 0
      },
      "text/plain": [
       "Validating: 0it [00:00, ?it/s]"
      ]
     },
     "metadata": {},
     "output_type": "display_data"
    },
    {
     "data": {
      "application/vnd.jupyter.widget-view+json": {
       "model_id": "",
       "version_major": 2,
       "version_minor": 0
      },
      "text/plain": [
       "Validating: 0it [00:00, ?it/s]"
      ]
     },
     "metadata": {},
     "output_type": "display_data"
    },
    {
     "data": {
      "application/vnd.jupyter.widget-view+json": {
       "model_id": "",
       "version_major": 2,
       "version_minor": 0
      },
      "text/plain": [
       "Validating: 0it [00:00, ?it/s]"
      ]
     },
     "metadata": {},
     "output_type": "display_data"
    },
    {
     "data": {
      "application/vnd.jupyter.widget-view+json": {
       "model_id": "",
       "version_major": 2,
       "version_minor": 0
      },
      "text/plain": [
       "Validating: 0it [00:00, ?it/s]"
      ]
     },
     "metadata": {},
     "output_type": "display_data"
    },
    {
     "data": {
      "application/vnd.jupyter.widget-view+json": {
       "model_id": "",
       "version_major": 2,
       "version_minor": 0
      },
      "text/plain": [
       "Validating: 0it [00:00, ?it/s]"
      ]
     },
     "metadata": {},
     "output_type": "display_data"
    },
    {
     "data": {
      "application/vnd.jupyter.widget-view+json": {
       "model_id": "",
       "version_major": 2,
       "version_minor": 0
      },
      "text/plain": [
       "Validating: 0it [00:00, ?it/s]"
      ]
     },
     "metadata": {},
     "output_type": "display_data"
    },
    {
     "data": {
      "application/vnd.jupyter.widget-view+json": {
       "model_id": "",
       "version_major": 2,
       "version_minor": 0
      },
      "text/plain": [
       "Validating: 0it [00:00, ?it/s]"
      ]
     },
     "metadata": {},
     "output_type": "display_data"
    },
    {
     "data": {
      "application/vnd.jupyter.widget-view+json": {
       "model_id": "",
       "version_major": 2,
       "version_minor": 0
      },
      "text/plain": [
       "Validating: 0it [00:00, ?it/s]"
      ]
     },
     "metadata": {},
     "output_type": "display_data"
    },
    {
     "data": {
      "text/plain": [
       "1"
      ]
     },
     "execution_count": 65,
     "metadata": {},
     "output_type": "execute_result"
    }
   ],
   "source": [
    "train_sampler = subset_sampler(training, 0.5, random=True)\n",
    "val_sampler = subset_sampler(validation, 0.05)\n",
    "test_sampler = subset_sampler(test, 0.05)\n",
    "batch_size = 200\n",
    "train_dataloader = training.to_dataloader(train=True, batch_size=batch_size, \n",
    "                                          num_workers=8)                                          \n",
    "val_dataloader = validation.to_dataloader(batch_size=500, num_workers=8,\n",
    "                                          shuffle=False, sampler=val_sampler)                                          \n",
    "test_dataloader = test.to_dataloader(batch_size=500, num_workers=8,\n",
    "                                     shuffle=False, sampler=test_sampler)   \n",
    "actuals = torch.cat([y[0] for _, y in iter(test_dataloader)])\n",
    "mask = actuals > 1.0\n",
    "early_stop_callback = EarlyStopping(monitor=\"val_loss\", min_delta=1e-4, \n",
    "                                    patience=10, verbose=False, mode=\"min\")\n",
    "\n",
    "trainer = pl.Trainer(\n",
    "    max_epochs=50,\n",
    "    gpus=[0],\n",
    "    weights_summary=\"top\",\n",
    "    gradient_clip_val=0.1,\n",
    "    callbacks=[early_stop_callback],\n",
    "    limit_train_batches=500\n",
    ")\n",
    "\n",
    "rnn = RNN.from_dataset(\n",
    "    training,\n",
    "    embedding_sizes={\"min\": (1440 // 5, 91), \"Weekday\": (7, 20)},\n",
    "    # embedding_sizes={\"min\": (1440 // 5, 91)},\n",
    "    cell_type=\"GRU\",\n",
    "    hidden_size=50,\n",
    "    learning_rate=1e-3,\n",
    "    log_interval=50,\n",
    "    log_val_interval=50,\n",
    "    weight_decay=1e-3,\n",
    ")\n",
    "\n",
    "#rnn\n",
    "\n",
    "trainer.fit(\n",
    "    rnn,\n",
    "    train_dataloader=train_dataloader,\n",
    "    val_dataloaders=val_dataloader,\n",
    ")"
   ]
  },
  {
   "cell_type": "code",
   "execution_count": 66,
   "id": "8764dd11",
   "metadata": {},
   "outputs": [
    {
     "name": "stdout",
     "output_type": "stream",
     "text": [
      "/home/qishuai/Documents/Zhi-Qing/carpark_prediction-main_original/lightning_logs/version_16/checkpoints/epoch=1-step=999.ckpt\n",
      "cuda:0\n"
     ]
    },
    {
     "data": {
      "application/vnd.jupyter.widget-view+json": {
       "model_id": "f7df6bcaa03b40e0b140fad82fb36c7f",
       "version_major": 2,
       "version_minor": 0
      },
      "text/plain": [
       "Predict:   0%|          | 0/193 [00:00<?, ? batches/s]"
      ]
     },
     "metadata": {},
     "output_type": "display_data"
    },
    {
     "name": "stdout",
     "output_type": "stream",
     "text": [
      "torch.Size([96500, 24])\n",
      "tensor(4.0598)\n",
      "tensor(0.0605)\n",
      "tensor([ 3.7432,  4.9064,  5.5913,  6.0349,  6.4178,  6.8698,  7.3601,  7.5220,\n",
      "         7.8941,  8.3489,  8.9223,  9.4001,  9.9122, 10.3641, 10.8986, 11.3116,\n",
      "        11.6560, 12.1498, 12.6979, 13.2642, 13.7318, 14.1829, 14.6403, 15.1260])\n",
      "μ = 2.5838, σ = 6.3654, max = 483.0045, error rate = 0.0097\n"
     ]
    },
    {
     "data": {
      "image/png": "[encoded data removed]",
      "text/plain": [
       "<Figure size 432x288 with 1 Axes>"
      ]
     },
     "metadata": {
      "needs_background": "light"
     },
     "output_type": "display_data"
    }
   ],
   "source": [
    "device = torch.device(\"cuda:0\")\n",
    "best_model_path = trainer.checkpoint_callback.best_model_path\n",
    "best_model = RNN.load_from_checkpoint(best_model_path).to(device)\n",
    "print(best_model_path)\n",
    "print(best_model.device)\n",
    "predictions = best_model.predict(test_dataloader, batch_size=500, show_progress_bar=True)\n",
    "print(predictions.shape)\n",
    "actuals = torch.cat([y[0] for _, y in iter(test_dataloader)])\n",
    "mask = actuals > 1.0\n",
    "abs_error = torch.abs(predictions - actuals)\n",
    "abs_error.shape\n",
    "print(torch.mean(abs_error * mask))\n",
    "abs_error_steps = torch.mean(abs_error * mask, dim=0)\n",
    "abs_error_steps.shape\n",
    "mape = abs_error / (actuals + 1e-5)\n",
    "print(torch.mean(mape * mask))\n",
    "mape_steps = torch.mean(mape * mask, dim=0)\n",
    "squared_error = torch.square(predictions - actuals)\n",
    "mse_steps = torch.mean(squared_error * mask, dim=0)\n",
    "rmse_steps = torch.sqrt(mse_steps)\n",
    "print(rmse_steps)\n",
    "\n",
    "n = abs_error.shape[0]\n",
    "step = 6 # 30 mins later\n",
    "\n",
    "abs_error_step = abs_error[:, step-1] * mask[:, step-1]\n",
    "\n",
    "σ, μ = torch.std_mean(abs_error_step)\n",
    "print(f\"μ = {μ:.4f}, σ = {σ:.4f}, max = {abs_error_step.max():.4f}, error rate = {μ/carpark_data_HDB.groupby(['sid'])['AvailableLots'].max().mean():.4f}\")\n",
    "xs = abs_error_step[torch.randperm(n)[:1000]].cpu().numpy()\n",
    "n = len(abs_error_step)\n",
    "plt.hist(xs, 100, density=True)\n",
    "plt.xlim(0, 100)\n",
    "plt.xlabel(\"Absolute error\")\n",
    "plt.ylabel(\"Density\")\n",
    "plt.text(20, 0.08, f\"μ={μ:.2f}, σ={σ:.2f}, max={abs_error_step.max():.2f}\",\n",
    "         fontsize=13)\n",
    "plt.title(f\"Absolute error distribution at step={step}\");"
   ]
  },
  {
   "cell_type": "code",
   "execution_count": null,
   "id": "94fc1dab",
   "metadata": {},
   "outputs": [],
   "source": []
  }
 ],
 "metadata": {
  "interpreter": {
   "hash": "f72e70f988f1c56caae784560892b1a82ca92323e7ace1ee4491533d71f07d2a"
  },
  "kernelspec": {
   "display_name": "Python 3 (ipykernel)",
   "language": "python",
   "name": "python3"
  },
  "language_info": {
   "codemirror_mode": {
    "name": "ipython",
    "version": 3
   },
   "file_extension": ".py",
   "mimetype": "text/x-python",
   "name": "python",
   "nbconvert_exporter": "python",
   "pygments_lexer": "ipython3",
   "version": "3.8.13"
  }
 },
 "nbformat": 4,
 "nbformat_minor": 5
}
