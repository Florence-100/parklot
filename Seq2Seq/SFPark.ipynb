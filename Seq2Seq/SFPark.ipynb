{
 "cells": [
  {
   "cell_type": "code",
   "execution_count": 1,
   "id": "446abcae",
   "metadata": {},
   "outputs": [],
   "source": [
    "import geopandas as gpd\n",
    "import pandas as pd\n",
    "import numpy as np\n",
    "import os\n",
    "from toolz.curried import *\n",
    "import matplotlib.pyplot as plt\n",
    "import seaborn as sns\n",
    "from datetime import datetime\n",
    "from pandas import DataFrame\n",
    "from tqdm import tqdm"
   ]
  },
  {
   "cell_type": "markdown",
   "id": "1ffcfa36",
   "metadata": {},
   "source": [
    "### Data Formatting"
   ]
  },
  {
   "cell_type": "code",
   "execution_count": 2,
   "id": "6df58253",
   "metadata": {},
   "outputs": [],
   "source": [
    "#constants \n",
    "carparkIdHeaderName = 'carparkId'\n",
    "timestampHeaderName = 'timestamp'\n",
    "dataTimestampHeaderName = 'dataTime'\n",
    "capacityHeaderName = 'capacity'\n",
    "occupancyHeaderName = 'occupancy'\n",
    "availabilityHeaderName = 'availability'"
   ]
  },
  {
   "cell_type": "code",
   "execution_count": 3,
   "id": "12c4e2b3",
   "metadata": {},
   "outputs": [],
   "source": [
    "#load data\n",
    "data_fileName = 'data/San_Francisco_dataset2.csv'\n",
    "inputData = pd.read_csv(data_fileName)\n",
    "condenseData = inputData.drop(columns=[dataTimestampHeaderName, capacityHeaderName, occupancyHeaderName])"
   ]
  },
  {
   "cell_type": "code",
   "execution_count": 4,
   "id": "806280ed",
   "metadata": {},
   "outputs": [
    {
     "data": {
      "text/plain": [
       "array([201021, 201022, 201031, 201032, 202022, 202031, 202032, 202041,\n",
       "       202054, 202061, 202062, 202072, 203031, 203032, 203041, 203042,\n",
       "       203043, 203044, 203051, 203052, 203053, 203061, 203062, 203071,\n",
       "       204051, 204052, 204061, 204062, 205061, 216291, 216292, 216301,\n",
       "       216302, 216311, 216312, 218341, 218342, 220352, 221321, 221322,\n",
       "       222321, 222323, 222324, 223331, 223332, 305002, 323002, 324041,\n",
       "       324042, 324052, 325052, 326022, 326032, 326042, 326052, 326061,\n",
       "       326062, 326071, 326072, 326081, 326082, 328001, 328002, 330021,\n",
       "       330022, 330031, 330034, 330042, 330051, 330052, 331041, 331043,\n",
       "       331051, 334181, 334182, 336011, 336012, 336031, 339011, 339012,\n",
       "       339021, 339022, 339031, 339041, 339042, 350231, 350232, 350241,\n",
       "       350242, 354201, 354202, 354204, 354211, 354212, 354221, 354222,\n",
       "       354224, 354231, 354232, 354241, 354242, 359011, 359012, 359042,\n",
       "       359051, 359052, 359241, 359242, 359251, 363122, 370011, 370012,\n",
       "       380011, 380012, 380021, 380022, 380031, 386001, 386011, 411001,\n",
       "       411002, 411011, 411012, 411022, 411031, 411032, 413221, 413222,\n",
       "       415101, 415111, 415112, 415121, 415122, 415131, 415132, 415141,\n",
       "       415142, 415151, 415152, 415161, 415162, 415171, 415172, 415181,\n",
       "       415182, 415191, 415192, 415201, 415202, 415211, 415212, 415221,\n",
       "       415222, 415231, 415232, 415241, 415242, 415311, 415312, 415313,\n",
       "       415314, 415321, 415322, 415331, 415332, 418002, 418051, 418062,\n",
       "       418063, 419022, 419031, 419041, 419042, 419051, 419052, 420001,\n",
       "       420002, 422022, 422032, 440152, 440162, 440171, 440172, 440181,\n",
       "       440182, 442061, 442062, 442071, 442072, 443021, 443022, 443032,\n",
       "       443042, 443052, 446001, 446003, 446004, 446011, 446021, 446022,\n",
       "       446031, 446032, 447211, 447212, 447221, 463002, 463011, 463012,\n",
       "       464001, 464011, 464031, 464032, 464041, 464042, 464051, 464052,\n",
       "       467001, 467011, 470001, 470002, 470012, 471051, 471052, 471061,\n",
       "       471062, 471064, 472281, 500001, 500011, 500012, 500021, 500022,\n",
       "       500032, 500041, 500042, 500231, 500232, 501011, 501012, 502262,\n",
       "       502271, 502282, 520021, 524012, 524022, 540151, 540152, 540161,\n",
       "       542002, 542301, 542302, 546273, 546281, 549222, 560001, 561002,\n",
       "       561031, 562231, 562241, 562252, 562261, 563031, 563032, 563042,\n",
       "       563051, 563052, 568001, 568002, 568003, 568004, 568011, 568061,\n",
       "       568062, 568063, 568064, 568202, 568252, 568271, 568272, 569002,\n",
       "       571001, 571031, 571051, 571061, 571071, 571072, 582012, 585012,\n",
       "       585022, 585052, 585061, 585092, 590001, 590002, 590012, 606042,\n",
       "       606231, 606232, 607322, 607331, 607332, 608012, 608022, 612001,\n",
       "       612002, 612011, 612012, 612032, 612311, 612312, 614162, 614172,\n",
       "       614181, 614182, 614191, 614192, 616242, 640011, 644032, 650011,\n",
       "       650021, 650031, 650041, 650051, 650241, 650242, 650251, 650252,\n",
       "       651001, 651041, 651051, 651052, 651061, 652322, 652331, 652332,\n",
       "       658011, 658021, 658022, 658041, 663151, 663152, 663331, 664232,\n",
       "       665002, 665011, 665012, 666001, 666002, 666011, 666012, 666181,\n",
       "       666201, 671001, 671002, 671011, 671012, 681251, 681252, 681261,\n",
       "       681262, 681271, 681272, 684002, 684011, 684012, 684021, 684022,\n",
       "       684032, 700041, 700042, 700051, 700052, 700061, 700062, 700082,\n",
       "       700091, 700092, 700101, 700121, 701001, 701002, 701011, 701021,\n",
       "       701022, 701031, 701032, 701041, 701042, 701051, 701052, 720011,\n",
       "       720012, 720021, 720022, 720032, 720041, 720051, 720052, 720241,\n",
       "       720242, 722162, 722211, 722212, 826061, 826062, 830001, 830012,\n",
       "       830021, 830022, 831001, 831021, 831022, 831032, 831042, 831061,\n",
       "       847001, 847011, 864041, 864042])"
      ]
     },
     "execution_count": 4,
     "metadata": {},
     "output_type": "execute_result"
    }
   ],
   "source": [
    "inputData[carparkIdHeaderName].unique()"
   ]
  },
  {
   "cell_type": "code",
   "execution_count": 5,
   "id": "5e46665e",
   "metadata": {},
   "outputs": [],
   "source": [
    "#2. Format timestamp data\n",
    "condenseData.timestamp = pd.to_datetime(condenseData.timestamp, dayfirst=True)\n",
    "condenseData.timestamp = condenseData.timestamp.dt.floor(\"T\")"
   ]
  },
  {
   "cell_type": "code",
   "execution_count": 6,
   "id": "17c0c59c",
   "metadata": {},
   "outputs": [],
   "source": [
    "#3. Format carpark id \n",
    "mapping = {carparkid: i for (i, carparkid) in enumerate(condenseData[carparkIdHeaderName].unique())}\n",
    "condenseData[\"sid\"] = condenseData[carparkIdHeaderName]\n",
    "condenseData = condenseData.replace({\"sid\": mapping})"
   ]
  },
  {
   "cell_type": "code",
   "execution_count": 7,
   "id": "77206368",
   "metadata": {},
   "outputs": [],
   "source": [
    "#4. Change column names, follow formatting in load_carpark_data_list \n",
    "condenseData.rename(columns={\"timestamp\": \"tid\"}, inplace=True)\n",
    "condenseData = condenseData.groupby([\"sid\", \"tid\"]).agg(availability=(\"availability\", \"mean\"))\n",
    "sids = condenseData.reset_index().sid.unique()\n",
    "tids = condenseData.reset_index().tid.unique()\n",
    "tids = pd.date_range(start=tids.min(), end=tids.max(), freq=\"5min\")\n",
    "index = pd.MultiIndex.from_product([sids, tids], names=[\"sid\", \"tid\"])\n",
    "formattedData = condenseData.reindex(index)"
   ]
  },
  {
   "cell_type": "code",
   "execution_count": 8,
   "id": "0239988e",
   "metadata": {},
   "outputs": [],
   "source": [
    "#5. Follow formatting in carpark.ipynb \n",
    "carpark_data_o = formattedData.copy()\n",
    "carpark_data_o.reset_index(inplace=True)\n",
    "carpark_data_o.rename(columns={\"tid\": \"date\"}, inplace=True)"
   ]
  },
  {
   "cell_type": "code",
   "execution_count": 9,
   "id": "c0588a20",
   "metadata": {},
   "outputs": [],
   "source": [
    "#function from util.py\n",
    "def carpark_remove_outlier(carpark_data: DataFrame) -> DataFrame:\n",
    "    \n",
    "    def move_average(x, n):\n",
    "        w = np.ones(n) / n\n",
    "        x_f = np.convolve(x, w, mode=\"valid\")\n",
    "        x_b = np.convolve(x[-2*n+2:][::-1], w, mode=\"valid\")[::-1]\n",
    "        return np.concatenate([x_f, x_b])\n",
    "\n",
    "    sids = carpark_data.reset_index().sid.unique()\n",
    "    for sid in tqdm(sids):\n",
    "        x = carpark_data.loc[sid].fillna(method=\"ffill\").values.ravel()\n",
    "        m = move_average(x, 5)\n",
    "        idx, = np.where(np.abs(x - m) > 50)\n",
    "        carpark_data.loc[sid].iloc[idx] = np.nan\n",
    "\n",
    "    return carpark_data"
   ]
  },
  {
   "cell_type": "code",
   "execution_count": 10,
   "id": "192e248e",
   "metadata": {},
   "outputs": [
    {
     "name": "stderr",
     "output_type": "stream",
     "text": [
      "100%|█████████████████████████████████████████| 420/420 [00:09<00:00, 42.35it/s]\n"
     ]
    }
   ],
   "source": [
    "carpark_data = carpark_remove_outlier(formattedData)\n",
    "carpark_data = carpark_data.fillna(method=\"ffill\")"
   ]
  },
  {
   "cell_type": "code",
   "execution_count": 11,
   "id": "5c34dccf",
   "metadata": {},
   "outputs": [],
   "source": [
    "#function from util.py\n",
    "def carpark_add_date(carpark_data: DataFrame) -> DataFrame:\n",
    "    carpark_data = carpark_data.reset_index()\n",
    "    carpark_data[\"date\"] = carpark_data[\"tid\"]\n",
    "    carpark_data[\"tid\"] = ((carpark_data[\"tid\"] - carpark_data[\"tid\"].min()) \n",
    "                            / np.timedelta64(5, \"m\")).astype(np.int32) #number of mins from start of data collection, in fractions of 10 min\n",
    "    return carpark_data"
   ]
  },
  {
   "cell_type": "code",
   "execution_count": 12,
   "id": "fdf23f68",
   "metadata": {},
   "outputs": [],
   "source": [
    "#function from util.py\n",
    "def carpark_remove_constant(carpark_data: DataFrame) -> DataFrame:\n",
    "    nonconstant = carpark_data.groupby([\"sid\"]).apply(lambda x: x[availabilityHeaderName].std()) > 1.0\n",
    "    nonconstant_sids = nonconstant[nonconstant].index\n",
    "    return carpark_data[carpark_data.sid.isin(nonconstant_sids)]"
   ]
  },
  {
   "cell_type": "code",
   "execution_count": 13,
   "id": "55f743a3",
   "metadata": {},
   "outputs": [],
   "source": [
    "carpark_data2 = carpark_add_date(carpark_data)\n",
    "carpark_data2 = carpark_remove_constant(carpark_data2)\n",
    "carpark_data2[\"min\"] = (carpark_data2.tid % 288).astype(str) #remainder of spare minutes from start time in the day divide by 5"
   ]
  },
  {
   "cell_type": "code",
   "execution_count": 14,
   "id": "5043b1b8",
   "metadata": {},
   "outputs": [],
   "source": [
    "carpark_data2['Weekday']=carpark_data2['date'].dt.dayofweek.astype(str)"
   ]
  },
  {
   "cell_type": "code",
   "execution_count": 15,
   "id": "67800e13",
   "metadata": {},
   "outputs": [
    {
     "data": {
      "text/html": [
       "<div>\n",
       "<style scoped>\n",
       "    .dataframe tbody tr th:only-of-type {\n",
       "        vertical-align: middle;\n",
       "    }\n",
       "\n",
       "    .dataframe tbody tr th {\n",
       "        vertical-align: top;\n",
       "    }\n",
       "\n",
       "    .dataframe thead th {\n",
       "        text-align: right;\n",
       "    }\n",
       "</style>\n",
       "<table border=\"1\" class=\"dataframe\">\n",
       "  <thead>\n",
       "    <tr style=\"text-align: right;\">\n",
       "      <th></th>\n",
       "      <th>sid</th>\n",
       "      <th>tid</th>\n",
       "      <th>availability</th>\n",
       "    </tr>\n",
       "  </thead>\n",
       "  <tbody>\n",
       "    <tr>\n",
       "      <th>count</th>\n",
       "      <td>4.354200e+06</td>\n",
       "      <td>4.354200e+06</td>\n",
       "      <td>4.354200e+06</td>\n",
       "    </tr>\n",
       "    <tr>\n",
       "      <th>mean</th>\n",
       "      <td>2.097056e+02</td>\n",
       "      <td>6.047000e+03</td>\n",
       "      <td>4.419377e+00</td>\n",
       "    </tr>\n",
       "    <tr>\n",
       "      <th>std</th>\n",
       "      <td>1.224607e+02</td>\n",
       "      <td>3.491526e+03</td>\n",
       "      <td>3.889108e+00</td>\n",
       "    </tr>\n",
       "    <tr>\n",
       "      <th>min</th>\n",
       "      <td>0.000000e+00</td>\n",
       "      <td>0.000000e+00</td>\n",
       "      <td>0.000000e+00</td>\n",
       "    </tr>\n",
       "    <tr>\n",
       "      <th>25%</th>\n",
       "      <td>1.055000e+02</td>\n",
       "      <td>3.023000e+03</td>\n",
       "      <td>2.000000e+00</td>\n",
       "    </tr>\n",
       "    <tr>\n",
       "      <th>50%</th>\n",
       "      <td>2.050000e+02</td>\n",
       "      <td>6.047000e+03</td>\n",
       "      <td>4.000000e+00</td>\n",
       "    </tr>\n",
       "    <tr>\n",
       "      <th>75%</th>\n",
       "      <td>3.182500e+02</td>\n",
       "      <td>9.071000e+03</td>\n",
       "      <td>6.000000e+00</td>\n",
       "    </tr>\n",
       "    <tr>\n",
       "      <th>max</th>\n",
       "      <td>4.190000e+02</td>\n",
       "      <td>1.209400e+04</td>\n",
       "      <td>3.200000e+01</td>\n",
       "    </tr>\n",
       "  </tbody>\n",
       "</table>\n",
       "</div>"
      ],
      "text/plain": [
       "                sid           tid  availability\n",
       "count  4.354200e+06  4.354200e+06  4.354200e+06\n",
       "mean   2.097056e+02  6.047000e+03  4.419377e+00\n",
       "std    1.224607e+02  3.491526e+03  3.889108e+00\n",
       "min    0.000000e+00  0.000000e+00  0.000000e+00\n",
       "25%    1.055000e+02  3.023000e+03  2.000000e+00\n",
       "50%    2.050000e+02  6.047000e+03  4.000000e+00\n",
       "75%    3.182500e+02  9.071000e+03  6.000000e+00\n",
       "max    4.190000e+02  1.209400e+04  3.200000e+01"
      ]
     },
     "execution_count": 15,
     "metadata": {},
     "output_type": "execute_result"
    }
   ],
   "source": [
    "#check for any negative values \n",
    "carpark_data2.describe()"
   ]
  },
  {
   "cell_type": "code",
   "execution_count": 16,
   "id": "dd12aec8",
   "metadata": {},
   "outputs": [
    {
     "data": {
      "text/plain": [
       "False"
      ]
     },
     "execution_count": 16,
     "metadata": {},
     "output_type": "execute_result"
    }
   ],
   "source": [
    "#check for any nan or null values \n",
    "carpark_data2.isnull().values.any()"
   ]
  },
  {
   "cell_type": "code",
   "execution_count": 17,
   "id": "4d9cef1b",
   "metadata": {},
   "outputs": [
    {
     "data": {
      "text/html": [
       "<div>\n",
       "<style scoped>\n",
       "    .dataframe tbody tr th:only-of-type {\n",
       "        vertical-align: middle;\n",
       "    }\n",
       "\n",
       "    .dataframe tbody tr th {\n",
       "        vertical-align: top;\n",
       "    }\n",
       "\n",
       "    .dataframe thead th {\n",
       "        text-align: right;\n",
       "    }\n",
       "</style>\n",
       "<table border=\"1\" class=\"dataframe\">\n",
       "  <thead>\n",
       "    <tr style=\"text-align: right;\">\n",
       "      <th></th>\n",
       "      <th>sid</th>\n",
       "      <th>tid</th>\n",
       "      <th>availability</th>\n",
       "    </tr>\n",
       "  </thead>\n",
       "  <tbody>\n",
       "    <tr>\n",
       "      <th>count</th>\n",
       "      <td>12095.0</td>\n",
       "      <td>12095.000000</td>\n",
       "      <td>12095.000000</td>\n",
       "    </tr>\n",
       "    <tr>\n",
       "      <th>mean</th>\n",
       "      <td>0.0</td>\n",
       "      <td>6047.000000</td>\n",
       "      <td>8.114427</td>\n",
       "    </tr>\n",
       "    <tr>\n",
       "      <th>std</th>\n",
       "      <td>0.0</td>\n",
       "      <td>3491.670088</td>\n",
       "      <td>4.743126</td>\n",
       "    </tr>\n",
       "    <tr>\n",
       "      <th>min</th>\n",
       "      <td>0.0</td>\n",
       "      <td>0.000000</td>\n",
       "      <td>0.000000</td>\n",
       "    </tr>\n",
       "    <tr>\n",
       "      <th>25%</th>\n",
       "      <td>0.0</td>\n",
       "      <td>3023.500000</td>\n",
       "      <td>4.000000</td>\n",
       "    </tr>\n",
       "    <tr>\n",
       "      <th>50%</th>\n",
       "      <td>0.0</td>\n",
       "      <td>6047.000000</td>\n",
       "      <td>8.000000</td>\n",
       "    </tr>\n",
       "    <tr>\n",
       "      <th>75%</th>\n",
       "      <td>0.0</td>\n",
       "      <td>9070.500000</td>\n",
       "      <td>12.000000</td>\n",
       "    </tr>\n",
       "    <tr>\n",
       "      <th>max</th>\n",
       "      <td>0.0</td>\n",
       "      <td>12094.000000</td>\n",
       "      <td>15.000000</td>\n",
       "    </tr>\n",
       "  </tbody>\n",
       "</table>\n",
       "</div>"
      ],
      "text/plain": [
       "           sid           tid  availability\n",
       "count  12095.0  12095.000000  12095.000000\n",
       "mean       0.0   6047.000000      8.114427\n",
       "std        0.0   3491.670088      4.743126\n",
       "min        0.0      0.000000      0.000000\n",
       "25%        0.0   3023.500000      4.000000\n",
       "50%        0.0   6047.000000      8.000000\n",
       "75%        0.0   9070.500000     12.000000\n",
       "max        0.0  12094.000000     15.000000"
      ]
     },
     "execution_count": 17,
     "metadata": {},
     "output_type": "execute_result"
    }
   ],
   "source": [
    "carpark_data2[carpark_data2.sid==0].describe()"
   ]
  },
  {
   "cell_type": "code",
   "execution_count": 18,
   "id": "839f3b09",
   "metadata": {},
   "outputs": [
    {
     "data": {
      "text/html": [
       "<div>\n",
       "<style scoped>\n",
       "    .dataframe tbody tr th:only-of-type {\n",
       "        vertical-align: middle;\n",
       "    }\n",
       "\n",
       "    .dataframe tbody tr th {\n",
       "        vertical-align: top;\n",
       "    }\n",
       "\n",
       "    .dataframe thead th {\n",
       "        text-align: right;\n",
       "    }\n",
       "</style>\n",
       "<table border=\"1\" class=\"dataframe\">\n",
       "  <thead>\n",
       "    <tr style=\"text-align: right;\">\n",
       "      <th></th>\n",
       "      <th>sid</th>\n",
       "      <th>tid</th>\n",
       "      <th>availability</th>\n",
       "      <th>date</th>\n",
       "      <th>min</th>\n",
       "      <th>Weekday</th>\n",
       "    </tr>\n",
       "  </thead>\n",
       "  <tbody>\n",
       "    <tr>\n",
       "      <th>5079895</th>\n",
       "      <td>419</td>\n",
       "      <td>12090</td>\n",
       "      <td>15.0</td>\n",
       "      <td>2013-07-24 23:34:00</td>\n",
       "      <td>282</td>\n",
       "      <td>2</td>\n",
       "    </tr>\n",
       "    <tr>\n",
       "      <th>5079896</th>\n",
       "      <td>419</td>\n",
       "      <td>12091</td>\n",
       "      <td>15.0</td>\n",
       "      <td>2013-07-24 23:39:00</td>\n",
       "      <td>283</td>\n",
       "      <td>2</td>\n",
       "    </tr>\n",
       "    <tr>\n",
       "      <th>5079897</th>\n",
       "      <td>419</td>\n",
       "      <td>12092</td>\n",
       "      <td>15.0</td>\n",
       "      <td>2013-07-24 23:44:00</td>\n",
       "      <td>284</td>\n",
       "      <td>2</td>\n",
       "    </tr>\n",
       "    <tr>\n",
       "      <th>5079898</th>\n",
       "      <td>419</td>\n",
       "      <td>12093</td>\n",
       "      <td>15.0</td>\n",
       "      <td>2013-07-24 23:49:00</td>\n",
       "      <td>285</td>\n",
       "      <td>2</td>\n",
       "    </tr>\n",
       "    <tr>\n",
       "      <th>5079899</th>\n",
       "      <td>419</td>\n",
       "      <td>12094</td>\n",
       "      <td>15.0</td>\n",
       "      <td>2013-07-24 23:54:00</td>\n",
       "      <td>286</td>\n",
       "      <td>2</td>\n",
       "    </tr>\n",
       "  </tbody>\n",
       "</table>\n",
       "</div>"
      ],
      "text/plain": [
       "         sid    tid  availability                date  min Weekday\n",
       "5079895  419  12090          15.0 2013-07-24 23:34:00  282       2\n",
       "5079896  419  12091          15.0 2013-07-24 23:39:00  283       2\n",
       "5079897  419  12092          15.0 2013-07-24 23:44:00  284       2\n",
       "5079898  419  12093          15.0 2013-07-24 23:49:00  285       2\n",
       "5079899  419  12094          15.0 2013-07-24 23:54:00  286       2"
      ]
     },
     "execution_count": 18,
     "metadata": {},
     "output_type": "execute_result"
    }
   ],
   "source": [
    "carpark_data2.tail()"
   ]
  },
  {
   "cell_type": "code",
   "execution_count": 19,
   "id": "99c2772d",
   "metadata": {},
   "outputs": [
    {
     "data": {
      "text/html": [
       "<div>\n",
       "<style scoped>\n",
       "    .dataframe tbody tr th:only-of-type {\n",
       "        vertical-align: middle;\n",
       "    }\n",
       "\n",
       "    .dataframe tbody tr th {\n",
       "        vertical-align: top;\n",
       "    }\n",
       "\n",
       "    .dataframe thead th {\n",
       "        text-align: right;\n",
       "    }\n",
       "</style>\n",
       "<table border=\"1\" class=\"dataframe\">\n",
       "  <thead>\n",
       "    <tr style=\"text-align: right;\">\n",
       "      <th></th>\n",
       "      <th>sid</th>\n",
       "      <th>tid</th>\n",
       "      <th>availability</th>\n",
       "      <th>date</th>\n",
       "      <th>min</th>\n",
       "      <th>Weekday</th>\n",
       "    </tr>\n",
       "  </thead>\n",
       "  <tbody>\n",
       "    <tr>\n",
       "      <th>0</th>\n",
       "      <td>0</td>\n",
       "      <td>0</td>\n",
       "      <td>0.0</td>\n",
       "      <td>2013-06-13 00:04:00</td>\n",
       "      <td>0</td>\n",
       "      <td>3</td>\n",
       "    </tr>\n",
       "    <tr>\n",
       "      <th>1</th>\n",
       "      <td>0</td>\n",
       "      <td>1</td>\n",
       "      <td>0.0</td>\n",
       "      <td>2013-06-13 00:09:00</td>\n",
       "      <td>1</td>\n",
       "      <td>3</td>\n",
       "    </tr>\n",
       "    <tr>\n",
       "      <th>2</th>\n",
       "      <td>0</td>\n",
       "      <td>2</td>\n",
       "      <td>0.0</td>\n",
       "      <td>2013-06-13 00:14:00</td>\n",
       "      <td>2</td>\n",
       "      <td>3</td>\n",
       "    </tr>\n",
       "    <tr>\n",
       "      <th>3</th>\n",
       "      <td>0</td>\n",
       "      <td>3</td>\n",
       "      <td>0.0</td>\n",
       "      <td>2013-06-13 00:19:00</td>\n",
       "      <td>3</td>\n",
       "      <td>3</td>\n",
       "    </tr>\n",
       "    <tr>\n",
       "      <th>4</th>\n",
       "      <td>0</td>\n",
       "      <td>4</td>\n",
       "      <td>0.0</td>\n",
       "      <td>2013-06-13 00:24:00</td>\n",
       "      <td>4</td>\n",
       "      <td>3</td>\n",
       "    </tr>\n",
       "  </tbody>\n",
       "</table>\n",
       "</div>"
      ],
      "text/plain": [
       "   sid  tid  availability                date min Weekday\n",
       "0    0    0           0.0 2013-06-13 00:04:00   0       3\n",
       "1    0    1           0.0 2013-06-13 00:09:00   1       3\n",
       "2    0    2           0.0 2013-06-13 00:14:00   2       3\n",
       "3    0    3           0.0 2013-06-13 00:19:00   3       3\n",
       "4    0    4           0.0 2013-06-13 00:24:00   4       3"
      ]
     },
     "execution_count": 19,
     "metadata": {},
     "output_type": "execute_result"
    }
   ],
   "source": [
    "carpark_data2.head()"
   ]
  },
  {
   "cell_type": "markdown",
   "id": "b94834f2",
   "metadata": {},
   "source": [
    "### Model Training "
   ]
  },
  {
   "cell_type": "code",
   "execution_count": 20,
   "id": "4a4ac5a4",
   "metadata": {},
   "outputs": [],
   "source": [
    "import pytorch_lightning as pl\n",
    "from pytorch_lightning.callbacks import EarlyStopping\n",
    "import torch\n",
    "from torch.utils.data import DataLoader\n",
    "\n",
    "from pytorch_forecasting import Baseline, NBeats, TimeSeriesDataSet\n",
    "from pytorch_forecasting.data import NaNLabelEncoder\n",
    "from pytorch_forecasting.metrics import SMAPE\n",
    "from dataloader import subset_sampler"
   ]
  },
  {
   "cell_type": "code",
   "execution_count": 21,
   "id": "b0f7d37f",
   "metadata": {},
   "outputs": [],
   "source": [
    "context_length = 12*12#maximum history length \n",
    "prediction_length = 2*12 #prediction length\n",
    "\n",
    "training_cutoff = 32*24*12\n",
    "validation_cutoff = 36*24*12\n",
    "test_cutoff = 41*24*12"
   ]
  },
  {
   "cell_type": "code",
   "execution_count": 22,
   "id": "11b099c1",
   "metadata": {},
   "outputs": [],
   "source": [
    "training = TimeSeriesDataSet(\n",
    "    carpark_data2[lambda x: x.tid <= training_cutoff], #data data frame\n",
    "    time_idx=\"tid\", #integer column denoting time index\n",
    "    group_ids=[\"sid\"], #list of column names identifying a time series\n",
    "    target=availabilityHeaderName,\n",
    "    time_varying_unknown_reals=[availabilityHeaderName], #change with time and not known in the future \n",
    "    max_encoder_length=context_length, #maximum history length\n",
    "    max_prediction_length=prediction_length,\n",
    "    time_varying_known_categoricals=[\"min\", \"Weekday\"], #categorical variables that change with time and known in the future \n",
    ")\n",
    "\n",
    "validation = TimeSeriesDataSet.from_dataset(\n",
    "    training,    #dataset to copy parameters                                      \n",
    "    carpark_data2[lambda x: x.tid <= validation_cutoff], #data \n",
    "    min_prediction_idx=training_cutoff + 1 #minimum time_idx from where to start predictions\n",
    ")\n",
    "\n",
    "test = TimeSeriesDataSet.from_dataset(\n",
    "    training, \n",
    "    carpark_data2,\n",
    "    min_prediction_idx=validation_cutoff + 1\n",
    ")"
   ]
  },
  {
   "cell_type": "code",
   "execution_count": 23,
   "id": "8a268b00",
   "metadata": {},
   "outputs": [],
   "source": [
    "#save training dataset\n",
    "torch.save(training, 'SFpark_training_dataset.pt')"
   ]
  },
  {
   "cell_type": "code",
   "execution_count": 24,
   "id": "ed68b0eb",
   "metadata": {},
   "outputs": [],
   "source": [
    "#save test dataset\n",
    "torch.save(test, 'SFpark_test_dataset.pt')"
   ]
  },
  {
   "cell_type": "code",
   "execution_count": 23,
   "id": "4bae676c",
   "metadata": {},
   "outputs": [],
   "source": [
    "train_sampler = subset_sampler(training, 0.5, random=True)\n",
    "val_sampler = subset_sampler(validation, 0.05)\n",
    "test_sampler = subset_sampler(test, 0.05)"
   ]
  },
  {
   "cell_type": "code",
   "execution_count": 24,
   "id": "97317635",
   "metadata": {},
   "outputs": [],
   "source": [
    "batch_size = 200\n",
    "train_dataloader = training.to_dataloader(train=True, batch_size=batch_size, \n",
    "                                          num_workers=8)                                          \n",
    "val_dataloader = validation.to_dataloader(batch_size=500, num_workers=8,\n",
    "                                          shuffle=False, sampler=val_sampler)                                          \n",
    "test_dataloader = test.to_dataloader(batch_size=500, num_workers=8,\n",
    "                                     shuffle=False, sampler=test_sampler)"
   ]
  },
  {
   "cell_type": "code",
   "execution_count": 25,
   "id": "73093ea5",
   "metadata": {},
   "outputs": [
    {
     "name": "stdout",
     "output_type": "stream",
     "text": [
      "16290\n",
      "40\n",
      "61\n"
     ]
    }
   ],
   "source": [
    "print(len(train_dataloader))\n",
    "print(len(val_dataloader))\n",
    "print(len(test_dataloader))"
   ]
  },
  {
   "cell_type": "code",
   "execution_count": 26,
   "id": "0f372d35",
   "metadata": {},
   "outputs": [
    {
     "name": "stderr",
     "output_type": "stream",
     "text": [
      "/home/qishuai/anaconda3/envs/glasgow/lib/python3.8/site-packages/pytorch_forecasting/data/encoders.py:373: UserWarning: scale is below 1e-7 - consider not centering the data or using data with higher variance for numerical stability\n",
      "  warnings.warn(\n",
      "/home/qishuai/anaconda3/envs/glasgow/lib/python3.8/site-packages/pytorch_forecasting/data/encoders.py:373: UserWarning: scale is below 1e-7 - consider not centering the data or using data with higher variance for numerical stability\n",
      "  warnings.warn(\n",
      "/home/qishuai/anaconda3/envs/glasgow/lib/python3.8/site-packages/pytorch_forecasting/data/encoders.py:373: UserWarning: scale is below 1e-7 - consider not centering the data or using data with higher variance for numerical stability\n",
      "  warnings.warn(\n",
      "/home/qishuai/anaconda3/envs/glasgow/lib/python3.8/site-packages/pytorch_forecasting/data/encoders.py:373: UserWarning: scale is below 1e-7 - consider not centering the data or using data with higher variance for numerical stability\n",
      "  warnings.warn(\n",
      "/home/qishuai/anaconda3/envs/glasgow/lib/python3.8/site-packages/pytorch_forecasting/data/encoders.py:373: UserWarning: scale is below 1e-7 - consider not centering the data or using data with higher variance for numerical stability\n",
      "  warnings.warn(\n",
      "/home/qishuai/anaconda3/envs/glasgow/lib/python3.8/site-packages/pytorch_forecasting/data/encoders.py:373: UserWarning: scale is below 1e-7 - consider not centering the data or using data with higher variance for numerical stability\n",
      "  warnings.warn(\n",
      "/home/qishuai/anaconda3/envs/glasgow/lib/python3.8/site-packages/pytorch_forecasting/data/timeseries.py:1649: UserWarning: Creating a tensor from a list of numpy.ndarrays is extremely slow. Please consider converting the list to a single numpy.ndarray with numpy.array() before converting to a tensor. (Triggered internally at  /opt/conda/conda-bld/pytorch_1646755903507/work/torch/csrc/utils/tensor_new.cpp:210.)\n",
      "  target_scale = torch.tensor([batch[0][\"target_scale\"] for batch in batches], dtype=torch.float)\n",
      "/home/qishuai/anaconda3/envs/glasgow/lib/python3.8/site-packages/pytorch_forecasting/data/timeseries.py:1649: UserWarning: Creating a tensor from a list of numpy.ndarrays is extremely slow. Please consider converting the list to a single numpy.ndarray with numpy.array() before converting to a tensor. (Triggered internally at  /opt/conda/conda-bld/pytorch_1646755903507/work/torch/csrc/utils/tensor_new.cpp:210.)\n",
      "  target_scale = torch.tensor([batch[0][\"target_scale\"] for batch in batches], dtype=torch.float)\n",
      "/home/qishuai/anaconda3/envs/glasgow/lib/python3.8/site-packages/pytorch_forecasting/data/timeseries.py:1649: UserWarning: Creating a tensor from a list of numpy.ndarrays is extremely slow. Please consider converting the list to a single numpy.ndarray with numpy.array() before converting to a tensor. (Triggered internally at  /opt/conda/conda-bld/pytorch_1646755903507/work/torch/csrc/utils/tensor_new.cpp:210.)\n",
      "  target_scale = torch.tensor([batch[0][\"target_scale\"] for batch in batches], dtype=torch.float)\n",
      "/home/qishuai/anaconda3/envs/glasgow/lib/python3.8/site-packages/pytorch_forecasting/data/timeseries.py:1649: UserWarning: Creating a tensor from a list of numpy.ndarrays is extremely slow. Please consider converting the list to a single numpy.ndarray with numpy.array() before converting to a tensor. (Triggered internally at  /opt/conda/conda-bld/pytorch_1646755903507/work/torch/csrc/utils/tensor_new.cpp:210.)\n",
      "  target_scale = torch.tensor([batch[0][\"target_scale\"] for batch in batches], dtype=torch.float)\n",
      "/home/qishuai/anaconda3/envs/glasgow/lib/python3.8/site-packages/pytorch_forecasting/data/timeseries.py:1649: UserWarning: Creating a tensor from a list of numpy.ndarrays is extremely slow. Please consider converting the list to a single numpy.ndarray with numpy.array() before converting to a tensor. (Triggered internally at  /opt/conda/conda-bld/pytorch_1646755903507/work/torch/csrc/utils/tensor_new.cpp:210.)\n",
      "  target_scale = torch.tensor([batch[0][\"target_scale\"] for batch in batches], dtype=torch.float)\n",
      "/home/qishuai/anaconda3/envs/glasgow/lib/python3.8/site-packages/pytorch_forecasting/data/timeseries.py:1649: UserWarning: Creating a tensor from a list of numpy.ndarrays is extremely slow. Please consider converting the list to a single numpy.ndarray with numpy.array() before converting to a tensor. (Triggered internally at  /opt/conda/conda-bld/pytorch_1646755903507/work/torch/csrc/utils/tensor_new.cpp:210.)\n",
      "  target_scale = torch.tensor([batch[0][\"target_scale\"] for batch in batches], dtype=torch.float)\n",
      "/home/qishuai/anaconda3/envs/glasgow/lib/python3.8/site-packages/pytorch_forecasting/data/timeseries.py:1649: UserWarning: Creating a tensor from a list of numpy.ndarrays is extremely slow. Please consider converting the list to a single numpy.ndarray with numpy.array() before converting to a tensor. (Triggered internally at  /opt/conda/conda-bld/pytorch_1646755903507/work/torch/csrc/utils/tensor_new.cpp:210.)\n",
      "  target_scale = torch.tensor([batch[0][\"target_scale\"] for batch in batches], dtype=torch.float)\n",
      "/home/qishuai/anaconda3/envs/glasgow/lib/python3.8/site-packages/pytorch_forecasting/data/timeseries.py:1649: UserWarning: Creating a tensor from a list of numpy.ndarrays is extremely slow. Please consider converting the list to a single numpy.ndarray with numpy.array() before converting to a tensor. (Triggered internally at  /opt/conda/conda-bld/pytorch_1646755903507/work/torch/csrc/utils/tensor_new.cpp:210.)\n",
      "  target_scale = torch.tensor([batch[0][\"target_scale\"] for batch in batches], dtype=torch.float)\n",
      "/home/qishuai/anaconda3/envs/glasgow/lib/python3.8/site-packages/pytorch_forecasting/data/encoders.py:373: UserWarning: scale is below 1e-7 - consider not centering the data or using data with higher variance for numerical stability\n",
      "  warnings.warn(\n",
      "/home/qishuai/anaconda3/envs/glasgow/lib/python3.8/site-packages/pytorch_forecasting/data/encoders.py:373: UserWarning: scale is below 1e-7 - consider not centering the data or using data with higher variance for numerical stability\n",
      "  warnings.warn(\n"
     ]
    }
   ],
   "source": [
    "actuals = torch.cat([y[0] for _, y in iter(test_dataloader)])\n",
    "mask = actuals > 1.0"
   ]
  },
  {
   "cell_type": "code",
   "execution_count": 27,
   "id": "203118bd",
   "metadata": {},
   "outputs": [
    {
     "name": "stderr",
     "output_type": "stream",
     "text": [
      "GPU available: True, used: True\n",
      "TPU available: False, using: 0 TPU cores\n"
     ]
    }
   ],
   "source": [
    "#Implementation of LSTM model \n",
    "\n",
    "from models import RNN\n",
    "\n",
    "early_stop_callback = EarlyStopping(monitor=\"val_loss\", min_delta=1e-4, \n",
    "                                    patience=10, verbose=False, mode=\"min\")\n",
    "\n",
    "trainer = pl.Trainer(\n",
    "    max_epochs=50,\n",
    "    gpus=[0],\n",
    "    weights_summary=\"top\",\n",
    "    gradient_clip_val=0.1,\n",
    "    callbacks=[early_stop_callback],\n",
    "    limit_train_batches=500\n",
    ")"
   ]
  },
  {
   "cell_type": "code",
   "execution_count": 28,
   "id": "35717ae0",
   "metadata": {},
   "outputs": [],
   "source": [
    "rnn = RNN.from_dataset(\n",
    "    training,\n",
    "    embedding_sizes={\"min\": (288, 91), \"Weekday\": (7, 20)}, #dictionary mapping (string) indices to tuple of number of categorical classes and embedding size\n",
    "    # embedding_sizes={\"min\": (1440 // 5, 91)},\n",
    "    cell_type=\"GRU\",\n",
    "    hidden_size=50,\n",
    "    learning_rate=1e-3,\n",
    "    log_interval=50,\n",
    "    log_val_interval=50,\n",
    "    weight_decay=1e-3,\n",
    ")"
   ]
  },
  {
   "cell_type": "code",
   "execution_count": 31,
   "id": "04cc20ac",
   "metadata": {},
   "outputs": [
    {
     "name": "stdout",
     "output_type": "stream",
     "text": [
      "rnn.lagged_target_positions\n",
      "{}\n"
     ]
    }
   ],
   "source": [
    "print(\"rnn.lagged_target_positions\")\n",
    "print(rnn.lagged_target_positions)"
   ]
  },
  {
   "cell_type": "code",
   "execution_count": 32,
   "id": "130f451f",
   "metadata": {},
   "outputs": [
    {
     "name": "stderr",
     "output_type": "stream",
     "text": [
      "LOCAL_RANK: 0 - CUDA_VISIBLE_DEVICES: [0]\n",
      "\n",
      "  | Name             | Type           | Params\n",
      "----------------------------------------------------\n",
      "0 | loss             | MAE            | 0     \n",
      "1 | logging_metrics  | ModuleList     | 0     \n",
      "2 | embeddings       | MultiEmbedding | 26.3 K\n",
      "3 | rnn              | GRU            | 39.9 K\n",
      "4 | output_projector | Linear         | 51    \n",
      "----------------------------------------------------\n",
      "66.3 K    Trainable params\n",
      "0         Non-trainable params\n",
      "66.3 K    Total params\n",
      "0.265     Total estimated model params size (MB)\n"
     ]
    },
    {
     "data": {
      "application/vnd.jupyter.widget-view+json": {
       "model_id": "",
       "version_major": 2,
       "version_minor": 0
      },
      "text/plain": [
       "Validation sanity check: 0it [00:00, ?it/s]"
      ]
     },
     "metadata": {},
     "output_type": "display_data"
    },
    {
     "name": "stderr",
     "output_type": "stream",
     "text": [
      "/home/qishuai/anaconda3/envs/glasgow/lib/python3.8/site-packages/pytorch_forecasting/data/encoders.py:373: UserWarning: scale is below 1e-7 - consider not centering the data or using data with higher variance for numerical stability\n",
      "  warnings.warn(\n",
      "/home/qishuai/anaconda3/envs/glasgow/lib/python3.8/site-packages/pytorch_forecasting/data/timeseries.py:1649: UserWarning: Creating a tensor from a list of numpy.ndarrays is extremely slow. Please consider converting the list to a single numpy.ndarray with numpy.array() before converting to a tensor. (Triggered internally at  /opt/conda/conda-bld/pytorch_1646755903507/work/torch/csrc/utils/tensor_new.cpp:210.)\n",
      "  target_scale = torch.tensor([batch[0][\"target_scale\"] for batch in batches], dtype=torch.float)\n",
      "/home/qishuai/anaconda3/envs/glasgow/lib/python3.8/site-packages/pytorch_forecasting/data/timeseries.py:1649: UserWarning: Creating a tensor from a list of numpy.ndarrays is extremely slow. Please consider converting the list to a single numpy.ndarray with numpy.array() before converting to a tensor. (Triggered internally at  /opt/conda/conda-bld/pytorch_1646755903507/work/torch/csrc/utils/tensor_new.cpp:210.)\n",
      "  target_scale = torch.tensor([batch[0][\"target_scale\"] for batch in batches], dtype=torch.float)\n",
      "/home/qishuai/anaconda3/envs/glasgow/lib/python3.8/site-packages/pytorch_forecasting/data/timeseries.py:1649: UserWarning: Creating a tensor from a list of numpy.ndarrays is extremely slow. Please consider converting the list to a single numpy.ndarray with numpy.array() before converting to a tensor. (Triggered internally at  /opt/conda/conda-bld/pytorch_1646755903507/work/torch/csrc/utils/tensor_new.cpp:210.)\n",
      "  target_scale = torch.tensor([batch[0][\"target_scale\"] for batch in batches], dtype=torch.float)\n",
      "/home/qishuai/anaconda3/envs/glasgow/lib/python3.8/site-packages/pytorch_forecasting/data/timeseries.py:1649: UserWarning: Creating a tensor from a list of numpy.ndarrays is extremely slow. Please consider converting the list to a single numpy.ndarray with numpy.array() before converting to a tensor. (Triggered internally at  /opt/conda/conda-bld/pytorch_1646755903507/work/torch/csrc/utils/tensor_new.cpp:210.)\n",
      "  target_scale = torch.tensor([batch[0][\"target_scale\"] for batch in batches], dtype=torch.float)\n",
      "/home/qishuai/anaconda3/envs/glasgow/lib/python3.8/site-packages/pytorch_forecasting/data/timeseries.py:1649: UserWarning: Creating a tensor from a list of numpy.ndarrays is extremely slow. Please consider converting the list to a single numpy.ndarray with numpy.array() before converting to a tensor. (Triggered internally at  /opt/conda/conda-bld/pytorch_1646755903507/work/torch/csrc/utils/tensor_new.cpp:210.)\n",
      "  target_scale = torch.tensor([batch[0][\"target_scale\"] for batch in batches], dtype=torch.float)\n",
      "/home/qishuai/anaconda3/envs/glasgow/lib/python3.8/site-packages/pytorch_forecasting/data/timeseries.py:1649: UserWarning: Creating a tensor from a list of numpy.ndarrays is extremely slow. Please consider converting the list to a single numpy.ndarray with numpy.array() before converting to a tensor. (Triggered internally at  /opt/conda/conda-bld/pytorch_1646755903507/work/torch/csrc/utils/tensor_new.cpp:210.)\n",
      "  target_scale = torch.tensor([batch[0][\"target_scale\"] for batch in batches], dtype=torch.float)\n",
      "/home/qishuai/anaconda3/envs/glasgow/lib/python3.8/site-packages/pytorch_forecasting/data/timeseries.py:1649: UserWarning: Creating a tensor from a list of numpy.ndarrays is extremely slow. Please consider converting the list to a single numpy.ndarray with numpy.array() before converting to a tensor. (Triggered internally at  /opt/conda/conda-bld/pytorch_1646755903507/work/torch/csrc/utils/tensor_new.cpp:210.)\n",
      "  target_scale = torch.tensor([batch[0][\"target_scale\"] for batch in batches], dtype=torch.float)\n",
      "/home/qishuai/anaconda3/envs/glasgow/lib/python3.8/site-packages/pytorch_forecasting/data/timeseries.py:1649: UserWarning: Creating a tensor from a list of numpy.ndarrays is extremely slow. Please consider converting the list to a single numpy.ndarray with numpy.array() before converting to a tensor. (Triggered internally at  /opt/conda/conda-bld/pytorch_1646755903507/work/torch/csrc/utils/tensor_new.cpp:210.)\n",
      "  target_scale = torch.tensor([batch[0][\"target_scale\"] for batch in batches], dtype=torch.float)\n",
      "/home/qishuai/anaconda3/envs/glasgow/lib/python3.8/site-packages/pytorch_forecasting/data/encoders.py:373: UserWarning: scale is below 1e-7 - consider not centering the data or using data with higher variance for numerical stability\n",
      "  warnings.warn(\n",
      "/home/qishuai/anaconda3/envs/glasgow/lib/python3.8/site-packages/pytorch_forecasting/data/encoders.py:373: UserWarning: scale is below 1e-7 - consider not centering the data or using data with higher variance for numerical stability\n",
      "  warnings.warn(\n",
      "/home/qishuai/anaconda3/envs/glasgow/lib/python3.8/site-packages/pytorch_forecasting/data/encoders.py:373: UserWarning: scale is below 1e-7 - consider not centering the data or using data with higher variance for numerical stability\n",
      "  warnings.warn(\n",
      "/home/qishuai/anaconda3/envs/glasgow/lib/python3.8/site-packages/pytorch_forecasting/data/encoders.py:373: UserWarning: scale is below 1e-7 - consider not centering the data or using data with higher variance for numerical stability\n",
      "  warnings.warn(\n",
      "/home/qishuai/anaconda3/envs/glasgow/lib/python3.8/site-packages/pytorch_forecasting/data/encoders.py:373: UserWarning: scale is below 1e-7 - consider not centering the data or using data with higher variance for numerical stability\n",
      "  warnings.warn(\n"
     ]
    },
    {
     "data": {
      "application/vnd.jupyter.widget-view+json": {
       "model_id": "c313ffd2be9f4ac59d29b5fe936ec853",
       "version_major": 2,
       "version_minor": 0
      },
      "text/plain": [
       "Training: 0it [00:00, ?it/s]"
      ]
     },
     "metadata": {},
     "output_type": "display_data"
    },
    {
     "name": "stderr",
     "output_type": "stream",
     "text": [
      "/home/qishuai/anaconda3/envs/glasgow/lib/python3.8/site-packages/pytorch_forecasting/data/encoders.py:373: UserWarning: scale is below 1e-7 - consider not centering the data or using data with higher variance for numerical stability\n",
      "  warnings.warn(\n",
      "/home/qishuai/anaconda3/envs/glasgow/lib/python3.8/site-packages/pytorch_forecasting/data/encoders.py:373: UserWarning: scale is below 1e-7 - consider not centering the data or using data with higher variance for numerical stability\n",
      "  warnings.warn(\n",
      "/home/qishuai/anaconda3/envs/glasgow/lib/python3.8/site-packages/pytorch_forecasting/data/timeseries.py:1649: UserWarning: Creating a tensor from a list of numpy.ndarrays is extremely slow. Please consider converting the list to a single numpy.ndarray with numpy.array() before converting to a tensor. (Triggered internally at  /opt/conda/conda-bld/pytorch_1646755903507/work/torch/csrc/utils/tensor_new.cpp:210.)\n",
      "  target_scale = torch.tensor([batch[0][\"target_scale\"] for batch in batches], dtype=torch.float)\n",
      "/home/qishuai/anaconda3/envs/glasgow/lib/python3.8/site-packages/pytorch_forecasting/data/timeseries.py:1649: UserWarning: Creating a tensor from a list of numpy.ndarrays is extremely slow. Please consider converting the list to a single numpy.ndarray with numpy.array() before converting to a tensor. (Triggered internally at  /opt/conda/conda-bld/pytorch_1646755903507/work/torch/csrc/utils/tensor_new.cpp:210.)\n",
      "  target_scale = torch.tensor([batch[0][\"target_scale\"] for batch in batches], dtype=torch.float)\n",
      "/home/qishuai/anaconda3/envs/glasgow/lib/python3.8/site-packages/pytorch_forecasting/data/timeseries.py:1649: UserWarning: Creating a tensor from a list of numpy.ndarrays is extremely slow. Please consider converting the list to a single numpy.ndarray with numpy.array() before converting to a tensor. (Triggered internally at  /opt/conda/conda-bld/pytorch_1646755903507/work/torch/csrc/utils/tensor_new.cpp:210.)\n",
      "  target_scale = torch.tensor([batch[0][\"target_scale\"] for batch in batches], dtype=torch.float)\n",
      "/home/qishuai/anaconda3/envs/glasgow/lib/python3.8/site-packages/pytorch_forecasting/data/timeseries.py:1649: UserWarning: Creating a tensor from a list of numpy.ndarrays is extremely slow. Please consider converting the list to a single numpy.ndarray with numpy.array() before converting to a tensor. (Triggered internally at  /opt/conda/conda-bld/pytorch_1646755903507/work/torch/csrc/utils/tensor_new.cpp:210.)\n",
      "  target_scale = torch.tensor([batch[0][\"target_scale\"] for batch in batches], dtype=torch.float)\n",
      "/home/qishuai/anaconda3/envs/glasgow/lib/python3.8/site-packages/pytorch_forecasting/data/timeseries.py:1649: UserWarning: Creating a tensor from a list of numpy.ndarrays is extremely slow. Please consider converting the list to a single numpy.ndarray with numpy.array() before converting to a tensor. (Triggered internally at  /opt/conda/conda-bld/pytorch_1646755903507/work/torch/csrc/utils/tensor_new.cpp:210.)\n",
      "  target_scale = torch.tensor([batch[0][\"target_scale\"] for batch in batches], dtype=torch.float)\n",
      "/home/qishuai/anaconda3/envs/glasgow/lib/python3.8/site-packages/pytorch_forecasting/data/timeseries.py:1649: UserWarning: Creating a tensor from a list of numpy.ndarrays is extremely slow. Please consider converting the list to a single numpy.ndarray with numpy.array() before converting to a tensor. (Triggered internally at  /opt/conda/conda-bld/pytorch_1646755903507/work/torch/csrc/utils/tensor_new.cpp:210.)\n",
      "  target_scale = torch.tensor([batch[0][\"target_scale\"] for batch in batches], dtype=torch.float)\n",
      "/home/qishuai/anaconda3/envs/glasgow/lib/python3.8/site-packages/pytorch_forecasting/data/timeseries.py:1649: UserWarning: Creating a tensor from a list of numpy.ndarrays is extremely slow. Please consider converting the list to a single numpy.ndarray with numpy.array() before converting to a tensor. (Triggered internally at  /opt/conda/conda-bld/pytorch_1646755903507/work/torch/csrc/utils/tensor_new.cpp:210.)\n",
      "  target_scale = torch.tensor([batch[0][\"target_scale\"] for batch in batches], dtype=torch.float)\n",
      "/home/qishuai/anaconda3/envs/glasgow/lib/python3.8/site-packages/pytorch_forecasting/data/timeseries.py:1649: UserWarning: Creating a tensor from a list of numpy.ndarrays is extremely slow. Please consider converting the list to a single numpy.ndarray with numpy.array() before converting to a tensor. (Triggered internally at  /opt/conda/conda-bld/pytorch_1646755903507/work/torch/csrc/utils/tensor_new.cpp:210.)\n",
      "  target_scale = torch.tensor([batch[0][\"target_scale\"] for batch in batches], dtype=torch.float)\n",
      "/home/qishuai/anaconda3/envs/glasgow/lib/python3.8/site-packages/pytorch_forecasting/data/encoders.py:373: UserWarning: scale is below 1e-7 - consider not centering the data or using data with higher variance for numerical stability\n",
      "  warnings.warn(\n",
      "/home/qishuai/anaconda3/envs/glasgow/lib/python3.8/site-packages/pytorch_forecasting/data/encoders.py:373: UserWarning: scale is below 1e-7 - consider not centering the data or using data with higher variance for numerical stability\n",
      "  warnings.warn(\n",
      "/home/qishuai/anaconda3/envs/glasgow/lib/python3.8/site-packages/pytorch_forecasting/data/encoders.py:373: UserWarning: scale is below 1e-7 - consider not centering the data or using data with higher variance for numerical stability\n",
      "  warnings.warn(\n",
      "/home/qishuai/anaconda3/envs/glasgow/lib/python3.8/site-packages/pytorch_forecasting/data/encoders.py:373: UserWarning: scale is below 1e-7 - consider not centering the data or using data with higher variance for numerical stability\n",
      "  warnings.warn(\n",
      "/home/qishuai/anaconda3/envs/glasgow/lib/python3.8/site-packages/pytorch_forecasting/data/encoders.py:373: UserWarning: scale is below 1e-7 - consider not centering the data or using data with higher variance for numerical stability\n",
      "  warnings.warn(\n",
      "/home/qishuai/anaconda3/envs/glasgow/lib/python3.8/site-packages/pytorch_forecasting/data/encoders.py:373: UserWarning: scale is below 1e-7 - consider not centering the data or using data with higher variance for numerical stability\n",
      "  warnings.warn(\n"
     ]
    },
    {
     "data": {
      "application/vnd.jupyter.widget-view+json": {
       "model_id": "",
       "version_major": 2,
       "version_minor": 0
      },
      "text/plain": [
       "Validating: 0it [00:00, ?it/s]"
      ]
     },
     "metadata": {},
     "output_type": "display_data"
    },
    {
     "name": "stderr",
     "output_type": "stream",
     "text": [
      "/home/qishuai/anaconda3/envs/glasgow/lib/python3.8/site-packages/pytorch_forecasting/data/encoders.py:373: UserWarning: scale is below 1e-7 - consider not centering the data or using data with higher variance for numerical stability\n",
      "  warnings.warn(\n",
      "/home/qishuai/anaconda3/envs/glasgow/lib/python3.8/site-packages/pytorch_forecasting/data/timeseries.py:1649: UserWarning: Creating a tensor from a list of numpy.ndarrays is extremely slow. Please consider converting the list to a single numpy.ndarray with numpy.array() before converting to a tensor. (Triggered internally at  /opt/conda/conda-bld/pytorch_1646755903507/work/torch/csrc/utils/tensor_new.cpp:210.)\n",
      "  target_scale = torch.tensor([batch[0][\"target_scale\"] for batch in batches], dtype=torch.float)\n",
      "/home/qishuai/anaconda3/envs/glasgow/lib/python3.8/site-packages/pytorch_forecasting/data/timeseries.py:1649: UserWarning: Creating a tensor from a list of numpy.ndarrays is extremely slow. Please consider converting the list to a single numpy.ndarray with numpy.array() before converting to a tensor. (Triggered internally at  /opt/conda/conda-bld/pytorch_1646755903507/work/torch/csrc/utils/tensor_new.cpp:210.)\n",
      "  target_scale = torch.tensor([batch[0][\"target_scale\"] for batch in batches], dtype=torch.float)\n",
      "/home/qishuai/anaconda3/envs/glasgow/lib/python3.8/site-packages/pytorch_forecasting/data/timeseries.py:1649: UserWarning: Creating a tensor from a list of numpy.ndarrays is extremely slow. Please consider converting the list to a single numpy.ndarray with numpy.array() before converting to a tensor. (Triggered internally at  /opt/conda/conda-bld/pytorch_1646755903507/work/torch/csrc/utils/tensor_new.cpp:210.)\n",
      "  target_scale = torch.tensor([batch[0][\"target_scale\"] for batch in batches], dtype=torch.float)\n",
      "/home/qishuai/anaconda3/envs/glasgow/lib/python3.8/site-packages/pytorch_forecasting/data/timeseries.py:1649: UserWarning: Creating a tensor from a list of numpy.ndarrays is extremely slow. Please consider converting the list to a single numpy.ndarray with numpy.array() before converting to a tensor. (Triggered internally at  /opt/conda/conda-bld/pytorch_1646755903507/work/torch/csrc/utils/tensor_new.cpp:210.)\n",
      "  target_scale = torch.tensor([batch[0][\"target_scale\"] for batch in batches], dtype=torch.float)\n",
      "/home/qishuai/anaconda3/envs/glasgow/lib/python3.8/site-packages/pytorch_forecasting/data/timeseries.py:1649: UserWarning: Creating a tensor from a list of numpy.ndarrays is extremely slow. Please consider converting the list to a single numpy.ndarray with numpy.array() before converting to a tensor. (Triggered internally at  /opt/conda/conda-bld/pytorch_1646755903507/work/torch/csrc/utils/tensor_new.cpp:210.)\n",
      "  target_scale = torch.tensor([batch[0][\"target_scale\"] for batch in batches], dtype=torch.float)\n",
      "/home/qishuai/anaconda3/envs/glasgow/lib/python3.8/site-packages/pytorch_forecasting/data/timeseries.py:1649: UserWarning: Creating a tensor from a list of numpy.ndarrays is extremely slow. Please consider converting the list to a single numpy.ndarray with numpy.array() before converting to a tensor. (Triggered internally at  /opt/conda/conda-bld/pytorch_1646755903507/work/torch/csrc/utils/tensor_new.cpp:210.)\n",
      "  target_scale = torch.tensor([batch[0][\"target_scale\"] for batch in batches], dtype=torch.float)\n",
      "/home/qishuai/anaconda3/envs/glasgow/lib/python3.8/site-packages/pytorch_forecasting/data/timeseries.py:1649: UserWarning: Creating a tensor from a list of numpy.ndarrays is extremely slow. Please consider converting the list to a single numpy.ndarray with numpy.array() before converting to a tensor. (Triggered internally at  /opt/conda/conda-bld/pytorch_1646755903507/work/torch/csrc/utils/tensor_new.cpp:210.)\n",
      "  target_scale = torch.tensor([batch[0][\"target_scale\"] for batch in batches], dtype=torch.float)\n",
      "/home/qishuai/anaconda3/envs/glasgow/lib/python3.8/site-packages/pytorch_forecasting/data/timeseries.py:1649: UserWarning: Creating a tensor from a list of numpy.ndarrays is extremely slow. Please consider converting the list to a single numpy.ndarray with numpy.array() before converting to a tensor. (Triggered internally at  /opt/conda/conda-bld/pytorch_1646755903507/work/torch/csrc/utils/tensor_new.cpp:210.)\n",
      "  target_scale = torch.tensor([batch[0][\"target_scale\"] for batch in batches], dtype=torch.float)\n",
      "/home/qishuai/anaconda3/envs/glasgow/lib/python3.8/site-packages/pytorch_forecasting/data/encoders.py:373: UserWarning: scale is below 1e-7 - consider not centering the data or using data with higher variance for numerical stability\n",
      "  warnings.warn(\n",
      "/home/qishuai/anaconda3/envs/glasgow/lib/python3.8/site-packages/pytorch_forecasting/data/encoders.py:373: UserWarning: scale is below 1e-7 - consider not centering the data or using data with higher variance for numerical stability\n",
      "  warnings.warn(\n",
      "/home/qishuai/anaconda3/envs/glasgow/lib/python3.8/site-packages/pytorch_forecasting/data/encoders.py:373: UserWarning: scale is below 1e-7 - consider not centering the data or using data with higher variance for numerical stability\n",
      "  warnings.warn(\n",
      "/home/qishuai/anaconda3/envs/glasgow/lib/python3.8/site-packages/pytorch_forecasting/data/encoders.py:373: UserWarning: scale is below 1e-7 - consider not centering the data or using data with higher variance for numerical stability\n",
      "  warnings.warn(\n",
      "/home/qishuai/anaconda3/envs/glasgow/lib/python3.8/site-packages/pytorch_forecasting/data/encoders.py:373: UserWarning: scale is below 1e-7 - consider not centering the data or using data with higher variance for numerical stability\n",
      "  warnings.warn(\n",
      "/home/qishuai/anaconda3/envs/glasgow/lib/python3.8/site-packages/pytorch_forecasting/data/encoders.py:373: UserWarning: scale is below 1e-7 - consider not centering the data or using data with higher variance for numerical stability\n",
      "  warnings.warn(\n",
      "/home/qishuai/anaconda3/envs/glasgow/lib/python3.8/site-packages/pytorch_forecasting/data/encoders.py:373: UserWarning: scale is below 1e-7 - consider not centering the data or using data with higher variance for numerical stability\n",
      "  warnings.warn(\n",
      "/home/qishuai/anaconda3/envs/glasgow/lib/python3.8/site-packages/pytorch_forecasting/data/encoders.py:373: UserWarning: scale is below 1e-7 - consider not centering the data or using data with higher variance for numerical stability\n",
      "  warnings.warn(\n",
      "/home/qishuai/anaconda3/envs/glasgow/lib/python3.8/site-packages/pytorch_forecasting/data/encoders.py:373: UserWarning: scale is below 1e-7 - consider not centering the data or using data with higher variance for numerical stability\n",
      "  warnings.warn(\n",
      "/home/qishuai/anaconda3/envs/glasgow/lib/python3.8/site-packages/pytorch_forecasting/data/timeseries.py:1649: UserWarning: Creating a tensor from a list of numpy.ndarrays is extremely slow. Please consider converting the list to a single numpy.ndarray with numpy.array() before converting to a tensor. (Triggered internally at  /opt/conda/conda-bld/pytorch_1646755903507/work/torch/csrc/utils/tensor_new.cpp:210.)\n",
      "  target_scale = torch.tensor([batch[0][\"target_scale\"] for batch in batches], dtype=torch.float)\n",
      "/home/qishuai/anaconda3/envs/glasgow/lib/python3.8/site-packages/pytorch_forecasting/data/timeseries.py:1649: UserWarning: Creating a tensor from a list of numpy.ndarrays is extremely slow. Please consider converting the list to a single numpy.ndarray with numpy.array() before converting to a tensor. (Triggered internally at  /opt/conda/conda-bld/pytorch_1646755903507/work/torch/csrc/utils/tensor_new.cpp:210.)\n",
      "  target_scale = torch.tensor([batch[0][\"target_scale\"] for batch in batches], dtype=torch.float)\n",
      "/home/qishuai/anaconda3/envs/glasgow/lib/python3.8/site-packages/pytorch_forecasting/data/timeseries.py:1649: UserWarning: Creating a tensor from a list of numpy.ndarrays is extremely slow. Please consider converting the list to a single numpy.ndarray with numpy.array() before converting to a tensor. (Triggered internally at  /opt/conda/conda-bld/pytorch_1646755903507/work/torch/csrc/utils/tensor_new.cpp:210.)\n",
      "  target_scale = torch.tensor([batch[0][\"target_scale\"] for batch in batches], dtype=torch.float)\n",
      "/home/qishuai/anaconda3/envs/glasgow/lib/python3.8/site-packages/pytorch_forecasting/data/timeseries.py:1649: UserWarning: Creating a tensor from a list of numpy.ndarrays is extremely slow. Please consider converting the list to a single numpy.ndarray with numpy.array() before converting to a tensor. (Triggered internally at  /opt/conda/conda-bld/pytorch_1646755903507/work/torch/csrc/utils/tensor_new.cpp:210.)\n",
      "  target_scale = torch.tensor([batch[0][\"target_scale\"] for batch in batches], dtype=torch.float)\n"
     ]
    },
    {
     "name": "stderr",
     "output_type": "stream",
     "text": [
      "/home/qishuai/anaconda3/envs/glasgow/lib/python3.8/site-packages/pytorch_forecasting/data/encoders.py:373: UserWarning: scale is below 1e-7 - consider not centering the data or using data with higher variance for numerical stability\n",
      "  warnings.warn(\n",
      "/home/qishuai/anaconda3/envs/glasgow/lib/python3.8/site-packages/pytorch_forecasting/data/timeseries.py:1649: UserWarning: Creating a tensor from a list of numpy.ndarrays is extremely slow. Please consider converting the list to a single numpy.ndarray with numpy.array() before converting to a tensor. (Triggered internally at  /opt/conda/conda-bld/pytorch_1646755903507/work/torch/csrc/utils/tensor_new.cpp:210.)\n",
      "  target_scale = torch.tensor([batch[0][\"target_scale\"] for batch in batches], dtype=torch.float)\n",
      "/home/qishuai/anaconda3/envs/glasgow/lib/python3.8/site-packages/pytorch_forecasting/data/timeseries.py:1649: UserWarning: Creating a tensor from a list of numpy.ndarrays is extremely slow. Please consider converting the list to a single numpy.ndarray with numpy.array() before converting to a tensor. (Triggered internally at  /opt/conda/conda-bld/pytorch_1646755903507/work/torch/csrc/utils/tensor_new.cpp:210.)\n",
      "  target_scale = torch.tensor([batch[0][\"target_scale\"] for batch in batches], dtype=torch.float)\n",
      "/home/qishuai/anaconda3/envs/glasgow/lib/python3.8/site-packages/pytorch_forecasting/data/encoders.py:373: UserWarning: scale is below 1e-7 - consider not centering the data or using data with higher variance for numerical stability\n",
      "  warnings.warn(\n",
      "/home/qishuai/anaconda3/envs/glasgow/lib/python3.8/site-packages/pytorch_forecasting/data/timeseries.py:1649: UserWarning: Creating a tensor from a list of numpy.ndarrays is extremely slow. Please consider converting the list to a single numpy.ndarray with numpy.array() before converting to a tensor. (Triggered internally at  /opt/conda/conda-bld/pytorch_1646755903507/work/torch/csrc/utils/tensor_new.cpp:210.)\n",
      "  target_scale = torch.tensor([batch[0][\"target_scale\"] for batch in batches], dtype=torch.float)\n",
      "/home/qishuai/anaconda3/envs/glasgow/lib/python3.8/site-packages/pytorch_forecasting/data/timeseries.py:1649: UserWarning: Creating a tensor from a list of numpy.ndarrays is extremely slow. Please consider converting the list to a single numpy.ndarray with numpy.array() before converting to a tensor. (Triggered internally at  /opt/conda/conda-bld/pytorch_1646755903507/work/torch/csrc/utils/tensor_new.cpp:210.)\n",
      "  target_scale = torch.tensor([batch[0][\"target_scale\"] for batch in batches], dtype=torch.float)\n",
      "/home/qishuai/anaconda3/envs/glasgow/lib/python3.8/site-packages/pytorch_forecasting/data/encoders.py:373: UserWarning: scale is below 1e-7 - consider not centering the data or using data with higher variance for numerical stability\n",
      "  warnings.warn(\n",
      "/home/qishuai/anaconda3/envs/glasgow/lib/python3.8/site-packages/pytorch_forecasting/data/encoders.py:373: UserWarning: scale is below 1e-7 - consider not centering the data or using data with higher variance for numerical stability\n",
      "  warnings.warn(\n",
      "/home/qishuai/anaconda3/envs/glasgow/lib/python3.8/site-packages/pytorch_forecasting/data/encoders.py:373: UserWarning: scale is below 1e-7 - consider not centering the data or using data with higher variance for numerical stability\n",
      "  warnings.warn(\n",
      "/home/qishuai/anaconda3/envs/glasgow/lib/python3.8/site-packages/pytorch_forecasting/data/encoders.py:373: UserWarning: scale is below 1e-7 - consider not centering the data or using data with higher variance for numerical stability\n",
      "  warnings.warn(\n"
     ]
    },
    {
     "data": {
      "application/vnd.jupyter.widget-view+json": {
       "model_id": "",
       "version_major": 2,
       "version_minor": 0
      },
      "text/plain": [
       "Validating: 0it [00:00, ?it/s]"
      ]
     },
     "metadata": {},
     "output_type": "display_data"
    },
    {
     "name": "stderr",
     "output_type": "stream",
     "text": [
      "/home/qishuai/anaconda3/envs/glasgow/lib/python3.8/site-packages/pytorch_forecasting/data/encoders.py:373: UserWarning: scale is below 1e-7 - consider not centering the data or using data with higher variance for numerical stability\n",
      "  warnings.warn(\n",
      "/home/qishuai/anaconda3/envs/glasgow/lib/python3.8/site-packages/pytorch_forecasting/data/timeseries.py:1649: UserWarning: Creating a tensor from a list of numpy.ndarrays is extremely slow. Please consider converting the list to a single numpy.ndarray with numpy.array() before converting to a tensor. (Triggered internally at  /opt/conda/conda-bld/pytorch_1646755903507/work/torch/csrc/utils/tensor_new.cpp:210.)\n",
      "  target_scale = torch.tensor([batch[0][\"target_scale\"] for batch in batches], dtype=torch.float)\n",
      "/home/qishuai/anaconda3/envs/glasgow/lib/python3.8/site-packages/pytorch_forecasting/data/timeseries.py:1649: UserWarning: Creating a tensor from a list of numpy.ndarrays is extremely slow. Please consider converting the list to a single numpy.ndarray with numpy.array() before converting to a tensor. (Triggered internally at  /opt/conda/conda-bld/pytorch_1646755903507/work/torch/csrc/utils/tensor_new.cpp:210.)\n",
      "  target_scale = torch.tensor([batch[0][\"target_scale\"] for batch in batches], dtype=torch.float)\n",
      "/home/qishuai/anaconda3/envs/glasgow/lib/python3.8/site-packages/pytorch_forecasting/data/timeseries.py:1649: UserWarning: Creating a tensor from a list of numpy.ndarrays is extremely slow. Please consider converting the list to a single numpy.ndarray with numpy.array() before converting to a tensor. (Triggered internally at  /opt/conda/conda-bld/pytorch_1646755903507/work/torch/csrc/utils/tensor_new.cpp:210.)\n",
      "  target_scale = torch.tensor([batch[0][\"target_scale\"] for batch in batches], dtype=torch.float)\n",
      "/home/qishuai/anaconda3/envs/glasgow/lib/python3.8/site-packages/pytorch_forecasting/data/timeseries.py:1649: UserWarning: Creating a tensor from a list of numpy.ndarrays is extremely slow. Please consider converting the list to a single numpy.ndarray with numpy.array() before converting to a tensor. (Triggered internally at  /opt/conda/conda-bld/pytorch_1646755903507/work/torch/csrc/utils/tensor_new.cpp:210.)\n",
      "  target_scale = torch.tensor([batch[0][\"target_scale\"] for batch in batches], dtype=torch.float)\n",
      "/home/qishuai/anaconda3/envs/glasgow/lib/python3.8/site-packages/pytorch_forecasting/data/timeseries.py:1649: UserWarning: Creating a tensor from a list of numpy.ndarrays is extremely slow. Please consider converting the list to a single numpy.ndarray with numpy.array() before converting to a tensor. (Triggered internally at  /opt/conda/conda-bld/pytorch_1646755903507/work/torch/csrc/utils/tensor_new.cpp:210.)\n",
      "  target_scale = torch.tensor([batch[0][\"target_scale\"] for batch in batches], dtype=torch.float)\n",
      "/home/qishuai/anaconda3/envs/glasgow/lib/python3.8/site-packages/pytorch_forecasting/data/timeseries.py:1649: UserWarning: Creating a tensor from a list of numpy.ndarrays is extremely slow. Please consider converting the list to a single numpy.ndarray with numpy.array() before converting to a tensor. (Triggered internally at  /opt/conda/conda-bld/pytorch_1646755903507/work/torch/csrc/utils/tensor_new.cpp:210.)\n",
      "  target_scale = torch.tensor([batch[0][\"target_scale\"] for batch in batches], dtype=torch.float)\n",
      "/home/qishuai/anaconda3/envs/glasgow/lib/python3.8/site-packages/pytorch_forecasting/data/timeseries.py:1649: UserWarning: Creating a tensor from a list of numpy.ndarrays is extremely slow. Please consider converting the list to a single numpy.ndarray with numpy.array() before converting to a tensor. (Triggered internally at  /opt/conda/conda-bld/pytorch_1646755903507/work/torch/csrc/utils/tensor_new.cpp:210.)\n",
      "  target_scale = torch.tensor([batch[0][\"target_scale\"] for batch in batches], dtype=torch.float)\n",
      "/home/qishuai/anaconda3/envs/glasgow/lib/python3.8/site-packages/pytorch_forecasting/data/timeseries.py:1649: UserWarning: Creating a tensor from a list of numpy.ndarrays is extremely slow. Please consider converting the list to a single numpy.ndarray with numpy.array() before converting to a tensor. (Triggered internally at  /opt/conda/conda-bld/pytorch_1646755903507/work/torch/csrc/utils/tensor_new.cpp:210.)\n",
      "  target_scale = torch.tensor([batch[0][\"target_scale\"] for batch in batches], dtype=torch.float)\n",
      "/home/qishuai/anaconda3/envs/glasgow/lib/python3.8/site-packages/pytorch_forecasting/data/encoders.py:373: UserWarning: scale is below 1e-7 - consider not centering the data or using data with higher variance for numerical stability\n",
      "  warnings.warn(\n",
      "/home/qishuai/anaconda3/envs/glasgow/lib/python3.8/site-packages/pytorch_forecasting/data/encoders.py:373: UserWarning: scale is below 1e-7 - consider not centering the data or using data with higher variance for numerical stability\n",
      "  warnings.warn(\n",
      "/home/qishuai/anaconda3/envs/glasgow/lib/python3.8/site-packages/pytorch_forecasting/data/encoders.py:373: UserWarning: scale is below 1e-7 - consider not centering the data or using data with higher variance for numerical stability\n",
      "  warnings.warn(\n",
      "/home/qishuai/anaconda3/envs/glasgow/lib/python3.8/site-packages/pytorch_forecasting/data/encoders.py:373: UserWarning: scale is below 1e-7 - consider not centering the data or using data with higher variance for numerical stability\n",
      "  warnings.warn(\n",
      "/home/qishuai/anaconda3/envs/glasgow/lib/python3.8/site-packages/pytorch_forecasting/data/encoders.py:373: UserWarning: scale is below 1e-7 - consider not centering the data or using data with higher variance for numerical stability\n",
      "  warnings.warn(\n",
      "/home/qishuai/anaconda3/envs/glasgow/lib/python3.8/site-packages/pytorch_forecasting/data/encoders.py:373: UserWarning: scale is below 1e-7 - consider not centering the data or using data with higher variance for numerical stability\n",
      "  warnings.warn(\n",
      "/home/qishuai/anaconda3/envs/glasgow/lib/python3.8/site-packages/pytorch_forecasting/data/encoders.py:373: UserWarning: scale is below 1e-7 - consider not centering the data or using data with higher variance for numerical stability\n",
      "  warnings.warn(\n",
      "/home/qishuai/anaconda3/envs/glasgow/lib/python3.8/site-packages/pytorch_forecasting/data/encoders.py:373: UserWarning: scale is below 1e-7 - consider not centering the data or using data with higher variance for numerical stability\n",
      "  warnings.warn(\n",
      "/home/qishuai/anaconda3/envs/glasgow/lib/python3.8/site-packages/pytorch_forecasting/data/encoders.py:373: UserWarning: scale is below 1e-7 - consider not centering the data or using data with higher variance for numerical stability\n",
      "  warnings.warn(\n",
      "/home/qishuai/anaconda3/envs/glasgow/lib/python3.8/site-packages/pytorch_forecasting/data/encoders.py:373: UserWarning: scale is below 1e-7 - consider not centering the data or using data with higher variance for numerical stability\n",
      "  warnings.warn(\n",
      "/home/qishuai/anaconda3/envs/glasgow/lib/python3.8/site-packages/pytorch_forecasting/data/timeseries.py:1649: UserWarning: Creating a tensor from a list of numpy.ndarrays is extremely slow. Please consider converting the list to a single numpy.ndarray with numpy.array() before converting to a tensor. (Triggered internally at  /opt/conda/conda-bld/pytorch_1646755903507/work/torch/csrc/utils/tensor_new.cpp:210.)\n",
      "  target_scale = torch.tensor([batch[0][\"target_scale\"] for batch in batches], dtype=torch.float)\n",
      "/home/qishuai/anaconda3/envs/glasgow/lib/python3.8/site-packages/pytorch_forecasting/data/timeseries.py:1649: UserWarning: Creating a tensor from a list of numpy.ndarrays is extremely slow. Please consider converting the list to a single numpy.ndarray with numpy.array() before converting to a tensor. (Triggered internally at  /opt/conda/conda-bld/pytorch_1646755903507/work/torch/csrc/utils/tensor_new.cpp:210.)\n",
      "  target_scale = torch.tensor([batch[0][\"target_scale\"] for batch in batches], dtype=torch.float)\n",
      "/home/qishuai/anaconda3/envs/glasgow/lib/python3.8/site-packages/pytorch_forecasting/data/timeseries.py:1649: UserWarning: Creating a tensor from a list of numpy.ndarrays is extremely slow. Please consider converting the list to a single numpy.ndarray with numpy.array() before converting to a tensor. (Triggered internally at  /opt/conda/conda-bld/pytorch_1646755903507/work/torch/csrc/utils/tensor_new.cpp:210.)\n",
      "  target_scale = torch.tensor([batch[0][\"target_scale\"] for batch in batches], dtype=torch.float)\n"
     ]
    },
    {
     "name": "stderr",
     "output_type": "stream",
     "text": [
      "/home/qishuai/anaconda3/envs/glasgow/lib/python3.8/site-packages/pytorch_forecasting/data/timeseries.py:1649: UserWarning: Creating a tensor from a list of numpy.ndarrays is extremely slow. Please consider converting the list to a single numpy.ndarray with numpy.array() before converting to a tensor. (Triggered internally at  /opt/conda/conda-bld/pytorch_1646755903507/work/torch/csrc/utils/tensor_new.cpp:210.)\n",
      "  target_scale = torch.tensor([batch[0][\"target_scale\"] for batch in batches], dtype=torch.float)\n",
      "/home/qishuai/anaconda3/envs/glasgow/lib/python3.8/site-packages/pytorch_forecasting/data/timeseries.py:1649: UserWarning: Creating a tensor from a list of numpy.ndarrays is extremely slow. Please consider converting the list to a single numpy.ndarray with numpy.array() before converting to a tensor. (Triggered internally at  /opt/conda/conda-bld/pytorch_1646755903507/work/torch/csrc/utils/tensor_new.cpp:210.)\n",
      "  target_scale = torch.tensor([batch[0][\"target_scale\"] for batch in batches], dtype=torch.float)\n",
      "/home/qishuai/anaconda3/envs/glasgow/lib/python3.8/site-packages/pytorch_forecasting/data/timeseries.py:1649: UserWarning: Creating a tensor from a list of numpy.ndarrays is extremely slow. Please consider converting the list to a single numpy.ndarray with numpy.array() before converting to a tensor. (Triggered internally at  /opt/conda/conda-bld/pytorch_1646755903507/work/torch/csrc/utils/tensor_new.cpp:210.)\n",
      "  target_scale = torch.tensor([batch[0][\"target_scale\"] for batch in batches], dtype=torch.float)\n",
      "/home/qishuai/anaconda3/envs/glasgow/lib/python3.8/site-packages/pytorch_forecasting/data/encoders.py:373: UserWarning: scale is below 1e-7 - consider not centering the data or using data with higher variance for numerical stability\n",
      "  warnings.warn(\n",
      "/home/qishuai/anaconda3/envs/glasgow/lib/python3.8/site-packages/pytorch_forecasting/data/timeseries.py:1649: UserWarning: Creating a tensor from a list of numpy.ndarrays is extremely slow. Please consider converting the list to a single numpy.ndarray with numpy.array() before converting to a tensor. (Triggered internally at  /opt/conda/conda-bld/pytorch_1646755903507/work/torch/csrc/utils/tensor_new.cpp:210.)\n",
      "  target_scale = torch.tensor([batch[0][\"target_scale\"] for batch in batches], dtype=torch.float)\n",
      "/home/qishuai/anaconda3/envs/glasgow/lib/python3.8/site-packages/pytorch_forecasting/data/encoders.py:373: UserWarning: scale is below 1e-7 - consider not centering the data or using data with higher variance for numerical stability\n",
      "  warnings.warn(\n",
      "/home/qishuai/anaconda3/envs/glasgow/lib/python3.8/site-packages/pytorch_forecasting/data/encoders.py:373: UserWarning: scale is below 1e-7 - consider not centering the data or using data with higher variance for numerical stability\n",
      "  warnings.warn(\n",
      "/home/qishuai/anaconda3/envs/glasgow/lib/python3.8/site-packages/pytorch_forecasting/data/timeseries.py:1649: UserWarning: Creating a tensor from a list of numpy.ndarrays is extremely slow. Please consider converting the list to a single numpy.ndarray with numpy.array() before converting to a tensor. (Triggered internally at  /opt/conda/conda-bld/pytorch_1646755903507/work/torch/csrc/utils/tensor_new.cpp:210.)\n",
      "  target_scale = torch.tensor([batch[0][\"target_scale\"] for batch in batches], dtype=torch.float)\n",
      "/home/qishuai/anaconda3/envs/glasgow/lib/python3.8/site-packages/pytorch_forecasting/data/encoders.py:373: UserWarning: scale is below 1e-7 - consider not centering the data or using data with higher variance for numerical stability\n",
      "  warnings.warn(\n",
      "/home/qishuai/anaconda3/envs/glasgow/lib/python3.8/site-packages/pytorch_forecasting/data/encoders.py:373: UserWarning: scale is below 1e-7 - consider not centering the data or using data with higher variance for numerical stability\n",
      "  warnings.warn(\n"
     ]
    },
    {
     "data": {
      "application/vnd.jupyter.widget-view+json": {
       "model_id": "",
       "version_major": 2,
       "version_minor": 0
      },
      "text/plain": [
       "Validating: 0it [00:00, ?it/s]"
      ]
     },
     "metadata": {},
     "output_type": "display_data"
    },
    {
     "name": "stderr",
     "output_type": "stream",
     "text": [
      "/home/qishuai/anaconda3/envs/glasgow/lib/python3.8/site-packages/pytorch_forecasting/data/encoders.py:373: UserWarning: scale is below 1e-7 - consider not centering the data or using data with higher variance for numerical stability\n",
      "  warnings.warn(\n",
      "/home/qishuai/anaconda3/envs/glasgow/lib/python3.8/site-packages/pytorch_forecasting/data/timeseries.py:1649: UserWarning: Creating a tensor from a list of numpy.ndarrays is extremely slow. Please consider converting the list to a single numpy.ndarray with numpy.array() before converting to a tensor. (Triggered internally at  /opt/conda/conda-bld/pytorch_1646755903507/work/torch/csrc/utils/tensor_new.cpp:210.)\n",
      "  target_scale = torch.tensor([batch[0][\"target_scale\"] for batch in batches], dtype=torch.float)\n",
      "/home/qishuai/anaconda3/envs/glasgow/lib/python3.8/site-packages/pytorch_forecasting/data/timeseries.py:1649: UserWarning: Creating a tensor from a list of numpy.ndarrays is extremely slow. Please consider converting the list to a single numpy.ndarray with numpy.array() before converting to a tensor. (Triggered internally at  /opt/conda/conda-bld/pytorch_1646755903507/work/torch/csrc/utils/tensor_new.cpp:210.)\n",
      "  target_scale = torch.tensor([batch[0][\"target_scale\"] for batch in batches], dtype=torch.float)\n",
      "/home/qishuai/anaconda3/envs/glasgow/lib/python3.8/site-packages/pytorch_forecasting/data/timeseries.py:1649: UserWarning: Creating a tensor from a list of numpy.ndarrays is extremely slow. Please consider converting the list to a single numpy.ndarray with numpy.array() before converting to a tensor. (Triggered internally at  /opt/conda/conda-bld/pytorch_1646755903507/work/torch/csrc/utils/tensor_new.cpp:210.)\n",
      "  target_scale = torch.tensor([batch[0][\"target_scale\"] for batch in batches], dtype=torch.float)\n",
      "/home/qishuai/anaconda3/envs/glasgow/lib/python3.8/site-packages/pytorch_forecasting/data/timeseries.py:1649: UserWarning: Creating a tensor from a list of numpy.ndarrays is extremely slow. Please consider converting the list to a single numpy.ndarray with numpy.array() before converting to a tensor. (Triggered internally at  /opt/conda/conda-bld/pytorch_1646755903507/work/torch/csrc/utils/tensor_new.cpp:210.)\n",
      "  target_scale = torch.tensor([batch[0][\"target_scale\"] for batch in batches], dtype=torch.float)\n",
      "/home/qishuai/anaconda3/envs/glasgow/lib/python3.8/site-packages/pytorch_forecasting/data/timeseries.py:1649: UserWarning: Creating a tensor from a list of numpy.ndarrays is extremely slow. Please consider converting the list to a single numpy.ndarray with numpy.array() before converting to a tensor. (Triggered internally at  /opt/conda/conda-bld/pytorch_1646755903507/work/torch/csrc/utils/tensor_new.cpp:210.)\n",
      "  target_scale = torch.tensor([batch[0][\"target_scale\"] for batch in batches], dtype=torch.float)\n",
      "/home/qishuai/anaconda3/envs/glasgow/lib/python3.8/site-packages/pytorch_forecasting/data/timeseries.py:1649: UserWarning: Creating a tensor from a list of numpy.ndarrays is extremely slow. Please consider converting the list to a single numpy.ndarray with numpy.array() before converting to a tensor. (Triggered internally at  /opt/conda/conda-bld/pytorch_1646755903507/work/torch/csrc/utils/tensor_new.cpp:210.)\n",
      "  target_scale = torch.tensor([batch[0][\"target_scale\"] for batch in batches], dtype=torch.float)\n",
      "/home/qishuai/anaconda3/envs/glasgow/lib/python3.8/site-packages/pytorch_forecasting/data/timeseries.py:1649: UserWarning: Creating a tensor from a list of numpy.ndarrays is extremely slow. Please consider converting the list to a single numpy.ndarray with numpy.array() before converting to a tensor. (Triggered internally at  /opt/conda/conda-bld/pytorch_1646755903507/work/torch/csrc/utils/tensor_new.cpp:210.)\n",
      "  target_scale = torch.tensor([batch[0][\"target_scale\"] for batch in batches], dtype=torch.float)\n",
      "/home/qishuai/anaconda3/envs/glasgow/lib/python3.8/site-packages/pytorch_forecasting/data/timeseries.py:1649: UserWarning: Creating a tensor from a list of numpy.ndarrays is extremely slow. Please consider converting the list to a single numpy.ndarray with numpy.array() before converting to a tensor. (Triggered internally at  /opt/conda/conda-bld/pytorch_1646755903507/work/torch/csrc/utils/tensor_new.cpp:210.)\n",
      "  target_scale = torch.tensor([batch[0][\"target_scale\"] for batch in batches], dtype=torch.float)\n",
      "/home/qishuai/anaconda3/envs/glasgow/lib/python3.8/site-packages/pytorch_forecasting/data/encoders.py:373: UserWarning: scale is below 1e-7 - consider not centering the data or using data with higher variance for numerical stability\n",
      "  warnings.warn(\n",
      "/home/qishuai/anaconda3/envs/glasgow/lib/python3.8/site-packages/pytorch_forecasting/data/encoders.py:373: UserWarning: scale is below 1e-7 - consider not centering the data or using data with higher variance for numerical stability\n",
      "  warnings.warn(\n",
      "/home/qishuai/anaconda3/envs/glasgow/lib/python3.8/site-packages/pytorch_forecasting/data/encoders.py:373: UserWarning: scale is below 1e-7 - consider not centering the data or using data with higher variance for numerical stability\n",
      "  warnings.warn(\n",
      "/home/qishuai/anaconda3/envs/glasgow/lib/python3.8/site-packages/pytorch_forecasting/data/encoders.py:373: UserWarning: scale is below 1e-7 - consider not centering the data or using data with higher variance for numerical stability\n",
      "  warnings.warn(\n",
      "/home/qishuai/anaconda3/envs/glasgow/lib/python3.8/site-packages/pytorch_forecasting/data/encoders.py:373: UserWarning: scale is below 1e-7 - consider not centering the data or using data with higher variance for numerical stability\n",
      "  warnings.warn(\n",
      "/home/qishuai/anaconda3/envs/glasgow/lib/python3.8/site-packages/pytorch_forecasting/data/encoders.py:373: UserWarning: scale is below 1e-7 - consider not centering the data or using data with higher variance for numerical stability\n",
      "  warnings.warn(\n",
      "/home/qishuai/anaconda3/envs/glasgow/lib/python3.8/site-packages/pytorch_forecasting/data/encoders.py:373: UserWarning: scale is below 1e-7 - consider not centering the data or using data with higher variance for numerical stability\n",
      "  warnings.warn(\n",
      "/home/qishuai/anaconda3/envs/glasgow/lib/python3.8/site-packages/pytorch_forecasting/data/encoders.py:373: UserWarning: scale is below 1e-7 - consider not centering the data or using data with higher variance for numerical stability\n",
      "  warnings.warn(\n",
      "/home/qishuai/anaconda3/envs/glasgow/lib/python3.8/site-packages/pytorch_forecasting/data/encoders.py:373: UserWarning: scale is below 1e-7 - consider not centering the data or using data with higher variance for numerical stability\n",
      "  warnings.warn(\n",
      "/home/qishuai/anaconda3/envs/glasgow/lib/python3.8/site-packages/pytorch_forecasting/data/encoders.py:373: UserWarning: scale is below 1e-7 - consider not centering the data or using data with higher variance for numerical stability\n",
      "  warnings.warn(\n",
      "/home/qishuai/anaconda3/envs/glasgow/lib/python3.8/site-packages/pytorch_forecasting/data/timeseries.py:1649: UserWarning: Creating a tensor from a list of numpy.ndarrays is extremely slow. Please consider converting the list to a single numpy.ndarray with numpy.array() before converting to a tensor. (Triggered internally at  /opt/conda/conda-bld/pytorch_1646755903507/work/torch/csrc/utils/tensor_new.cpp:210.)\n",
      "  target_scale = torch.tensor([batch[0][\"target_scale\"] for batch in batches], dtype=torch.float)\n",
      "/home/qishuai/anaconda3/envs/glasgow/lib/python3.8/site-packages/pytorch_forecasting/data/timeseries.py:1649: UserWarning: Creating a tensor from a list of numpy.ndarrays is extremely slow. Please consider converting the list to a single numpy.ndarray with numpy.array() before converting to a tensor. (Triggered internally at  /opt/conda/conda-bld/pytorch_1646755903507/work/torch/csrc/utils/tensor_new.cpp:210.)\n",
      "  target_scale = torch.tensor([batch[0][\"target_scale\"] for batch in batches], dtype=torch.float)\n",
      "/home/qishuai/anaconda3/envs/glasgow/lib/python3.8/site-packages/pytorch_forecasting/data/timeseries.py:1649: UserWarning: Creating a tensor from a list of numpy.ndarrays is extremely slow. Please consider converting the list to a single numpy.ndarray with numpy.array() before converting to a tensor. (Triggered internally at  /opt/conda/conda-bld/pytorch_1646755903507/work/torch/csrc/utils/tensor_new.cpp:210.)\n",
      "  target_scale = torch.tensor([batch[0][\"target_scale\"] for batch in batches], dtype=torch.float)\n"
     ]
    },
    {
     "name": "stderr",
     "output_type": "stream",
     "text": [
      "/home/qishuai/anaconda3/envs/glasgow/lib/python3.8/site-packages/pytorch_forecasting/data/timeseries.py:1649: UserWarning: Creating a tensor from a list of numpy.ndarrays is extremely slow. Please consider converting the list to a single numpy.ndarray with numpy.array() before converting to a tensor. (Triggered internally at  /opt/conda/conda-bld/pytorch_1646755903507/work/torch/csrc/utils/tensor_new.cpp:210.)\n",
      "  target_scale = torch.tensor([batch[0][\"target_scale\"] for batch in batches], dtype=torch.float)\n",
      "/home/qishuai/anaconda3/envs/glasgow/lib/python3.8/site-packages/pytorch_forecasting/data/timeseries.py:1649: UserWarning: Creating a tensor from a list of numpy.ndarrays is extremely slow. Please consider converting the list to a single numpy.ndarray with numpy.array() before converting to a tensor. (Triggered internally at  /opt/conda/conda-bld/pytorch_1646755903507/work/torch/csrc/utils/tensor_new.cpp:210.)\n",
      "  target_scale = torch.tensor([batch[0][\"target_scale\"] for batch in batches], dtype=torch.float)\n",
      "/home/qishuai/anaconda3/envs/glasgow/lib/python3.8/site-packages/pytorch_forecasting/data/timeseries.py:1649: UserWarning: Creating a tensor from a list of numpy.ndarrays is extremely slow. Please consider converting the list to a single numpy.ndarray with numpy.array() before converting to a tensor. (Triggered internally at  /opt/conda/conda-bld/pytorch_1646755903507/work/torch/csrc/utils/tensor_new.cpp:210.)\n",
      "  target_scale = torch.tensor([batch[0][\"target_scale\"] for batch in batches], dtype=torch.float)\n",
      "/home/qishuai/anaconda3/envs/glasgow/lib/python3.8/site-packages/pytorch_forecasting/data/timeseries.py:1649: UserWarning: Creating a tensor from a list of numpy.ndarrays is extremely slow. Please consider converting the list to a single numpy.ndarray with numpy.array() before converting to a tensor. (Triggered internally at  /opt/conda/conda-bld/pytorch_1646755903507/work/torch/csrc/utils/tensor_new.cpp:210.)\n",
      "  target_scale = torch.tensor([batch[0][\"target_scale\"] for batch in batches], dtype=torch.float)\n",
      "/home/qishuai/anaconda3/envs/glasgow/lib/python3.8/site-packages/pytorch_forecasting/data/timeseries.py:1649: UserWarning: Creating a tensor from a list of numpy.ndarrays is extremely slow. Please consider converting the list to a single numpy.ndarray with numpy.array() before converting to a tensor. (Triggered internally at  /opt/conda/conda-bld/pytorch_1646755903507/work/torch/csrc/utils/tensor_new.cpp:210.)\n",
      "  target_scale = torch.tensor([batch[0][\"target_scale\"] for batch in batches], dtype=torch.float)\n",
      "/home/qishuai/anaconda3/envs/glasgow/lib/python3.8/site-packages/pytorch_forecasting/data/encoders.py:373: UserWarning: scale is below 1e-7 - consider not centering the data or using data with higher variance for numerical stability\n",
      "  warnings.warn(\n",
      "/home/qishuai/anaconda3/envs/glasgow/lib/python3.8/site-packages/pytorch_forecasting/data/encoders.py:373: UserWarning: scale is below 1e-7 - consider not centering the data or using data with higher variance for numerical stability\n",
      "  warnings.warn(\n",
      "/home/qishuai/anaconda3/envs/glasgow/lib/python3.8/site-packages/pytorch_forecasting/data/encoders.py:373: UserWarning: scale is below 1e-7 - consider not centering the data or using data with higher variance for numerical stability\n",
      "  warnings.warn(\n",
      "/home/qishuai/anaconda3/envs/glasgow/lib/python3.8/site-packages/pytorch_forecasting/data/encoders.py:373: UserWarning: scale is below 1e-7 - consider not centering the data or using data with higher variance for numerical stability\n",
      "  warnings.warn(\n",
      "/home/qishuai/anaconda3/envs/glasgow/lib/python3.8/site-packages/pytorch_forecasting/data/encoders.py:373: UserWarning: scale is below 1e-7 - consider not centering the data or using data with higher variance for numerical stability\n",
      "  warnings.warn(\n"
     ]
    },
    {
     "data": {
      "application/vnd.jupyter.widget-view+json": {
       "model_id": "",
       "version_major": 2,
       "version_minor": 0
      },
      "text/plain": [
       "Validating: 0it [00:00, ?it/s]"
      ]
     },
     "metadata": {},
     "output_type": "display_data"
    },
    {
     "name": "stderr",
     "output_type": "stream",
     "text": [
      "/home/qishuai/anaconda3/envs/glasgow/lib/python3.8/site-packages/pytorch_forecasting/data/encoders.py:373: UserWarning: scale is below 1e-7 - consider not centering the data or using data with higher variance for numerical stability\n",
      "  warnings.warn(\n",
      "/home/qishuai/anaconda3/envs/glasgow/lib/python3.8/site-packages/pytorch_forecasting/data/timeseries.py:1649: UserWarning: Creating a tensor from a list of numpy.ndarrays is extremely slow. Please consider converting the list to a single numpy.ndarray with numpy.array() before converting to a tensor. (Triggered internally at  /opt/conda/conda-bld/pytorch_1646755903507/work/torch/csrc/utils/tensor_new.cpp:210.)\n",
      "  target_scale = torch.tensor([batch[0][\"target_scale\"] for batch in batches], dtype=torch.float)\n",
      "/home/qishuai/anaconda3/envs/glasgow/lib/python3.8/site-packages/pytorch_forecasting/data/timeseries.py:1649: UserWarning: Creating a tensor from a list of numpy.ndarrays is extremely slow. Please consider converting the list to a single numpy.ndarray with numpy.array() before converting to a tensor. (Triggered internally at  /opt/conda/conda-bld/pytorch_1646755903507/work/torch/csrc/utils/tensor_new.cpp:210.)\n",
      "  target_scale = torch.tensor([batch[0][\"target_scale\"] for batch in batches], dtype=torch.float)\n",
      "/home/qishuai/anaconda3/envs/glasgow/lib/python3.8/site-packages/pytorch_forecasting/data/timeseries.py:1649: UserWarning: Creating a tensor from a list of numpy.ndarrays is extremely slow. Please consider converting the list to a single numpy.ndarray with numpy.array() before converting to a tensor. (Triggered internally at  /opt/conda/conda-bld/pytorch_1646755903507/work/torch/csrc/utils/tensor_new.cpp:210.)\n",
      "  target_scale = torch.tensor([batch[0][\"target_scale\"] for batch in batches], dtype=torch.float)\n",
      "/home/qishuai/anaconda3/envs/glasgow/lib/python3.8/site-packages/pytorch_forecasting/data/timeseries.py:1649: UserWarning: Creating a tensor from a list of numpy.ndarrays is extremely slow. Please consider converting the list to a single numpy.ndarray with numpy.array() before converting to a tensor. (Triggered internally at  /opt/conda/conda-bld/pytorch_1646755903507/work/torch/csrc/utils/tensor_new.cpp:210.)\n",
      "  target_scale = torch.tensor([batch[0][\"target_scale\"] for batch in batches], dtype=torch.float)\n",
      "/home/qishuai/anaconda3/envs/glasgow/lib/python3.8/site-packages/pytorch_forecasting/data/timeseries.py:1649: UserWarning: Creating a tensor from a list of numpy.ndarrays is extremely slow. Please consider converting the list to a single numpy.ndarray with numpy.array() before converting to a tensor. (Triggered internally at  /opt/conda/conda-bld/pytorch_1646755903507/work/torch/csrc/utils/tensor_new.cpp:210.)\n",
      "  target_scale = torch.tensor([batch[0][\"target_scale\"] for batch in batches], dtype=torch.float)\n",
      "/home/qishuai/anaconda3/envs/glasgow/lib/python3.8/site-packages/pytorch_forecasting/data/timeseries.py:1649: UserWarning: Creating a tensor from a list of numpy.ndarrays is extremely slow. Please consider converting the list to a single numpy.ndarray with numpy.array() before converting to a tensor. (Triggered internally at  /opt/conda/conda-bld/pytorch_1646755903507/work/torch/csrc/utils/tensor_new.cpp:210.)\n",
      "  target_scale = torch.tensor([batch[0][\"target_scale\"] for batch in batches], dtype=torch.float)\n",
      "/home/qishuai/anaconda3/envs/glasgow/lib/python3.8/site-packages/pytorch_forecasting/data/timeseries.py:1649: UserWarning: Creating a tensor from a list of numpy.ndarrays is extremely slow. Please consider converting the list to a single numpy.ndarray with numpy.array() before converting to a tensor. (Triggered internally at  /opt/conda/conda-bld/pytorch_1646755903507/work/torch/csrc/utils/tensor_new.cpp:210.)\n",
      "  target_scale = torch.tensor([batch[0][\"target_scale\"] for batch in batches], dtype=torch.float)\n",
      "/home/qishuai/anaconda3/envs/glasgow/lib/python3.8/site-packages/pytorch_forecasting/data/encoders.py:373: UserWarning: scale is below 1e-7 - consider not centering the data or using data with higher variance for numerical stability\n",
      "  warnings.warn(\n",
      "/home/qishuai/anaconda3/envs/glasgow/lib/python3.8/site-packages/pytorch_forecasting/data/timeseries.py:1649: UserWarning: Creating a tensor from a list of numpy.ndarrays is extremely slow. Please consider converting the list to a single numpy.ndarray with numpy.array() before converting to a tensor. (Triggered internally at  /opt/conda/conda-bld/pytorch_1646755903507/work/torch/csrc/utils/tensor_new.cpp:210.)\n",
      "  target_scale = torch.tensor([batch[0][\"target_scale\"] for batch in batches], dtype=torch.float)\n",
      "/home/qishuai/anaconda3/envs/glasgow/lib/python3.8/site-packages/pytorch_forecasting/data/encoders.py:373: UserWarning: scale is below 1e-7 - consider not centering the data or using data with higher variance for numerical stability\n",
      "  warnings.warn(\n",
      "/home/qishuai/anaconda3/envs/glasgow/lib/python3.8/site-packages/pytorch_forecasting/data/encoders.py:373: UserWarning: scale is below 1e-7 - consider not centering the data or using data with higher variance for numerical stability\n",
      "  warnings.warn(\n",
      "/home/qishuai/anaconda3/envs/glasgow/lib/python3.8/site-packages/pytorch_forecasting/data/encoders.py:373: UserWarning: scale is below 1e-7 - consider not centering the data or using data with higher variance for numerical stability\n",
      "  warnings.warn(\n",
      "/home/qishuai/anaconda3/envs/glasgow/lib/python3.8/site-packages/pytorch_forecasting/data/encoders.py:373: UserWarning: scale is below 1e-7 - consider not centering the data or using data with higher variance for numerical stability\n",
      "  warnings.warn(\n",
      "/home/qishuai/anaconda3/envs/glasgow/lib/python3.8/site-packages/pytorch_forecasting/data/encoders.py:373: UserWarning: scale is below 1e-7 - consider not centering the data or using data with higher variance for numerical stability\n",
      "  warnings.warn(\n",
      "/home/qishuai/anaconda3/envs/glasgow/lib/python3.8/site-packages/pytorch_forecasting/data/encoders.py:373: UserWarning: scale is below 1e-7 - consider not centering the data or using data with higher variance for numerical stability\n",
      "  warnings.warn(\n",
      "/home/qishuai/anaconda3/envs/glasgow/lib/python3.8/site-packages/pytorch_forecasting/data/encoders.py:373: UserWarning: scale is below 1e-7 - consider not centering the data or using data with higher variance for numerical stability\n",
      "  warnings.warn(\n",
      "/home/qishuai/anaconda3/envs/glasgow/lib/python3.8/site-packages/pytorch_forecasting/data/encoders.py:373: UserWarning: scale is below 1e-7 - consider not centering the data or using data with higher variance for numerical stability\n",
      "  warnings.warn(\n",
      "/home/qishuai/anaconda3/envs/glasgow/lib/python3.8/site-packages/pytorch_forecasting/data/timeseries.py:1649: UserWarning: Creating a tensor from a list of numpy.ndarrays is extremely slow. Please consider converting the list to a single numpy.ndarray with numpy.array() before converting to a tensor. (Triggered internally at  /opt/conda/conda-bld/pytorch_1646755903507/work/torch/csrc/utils/tensor_new.cpp:210.)\n",
      "  target_scale = torch.tensor([batch[0][\"target_scale\"] for batch in batches], dtype=torch.float)\n",
      "/home/qishuai/anaconda3/envs/glasgow/lib/python3.8/site-packages/pytorch_forecasting/data/timeseries.py:1649: UserWarning: Creating a tensor from a list of numpy.ndarrays is extremely slow. Please consider converting the list to a single numpy.ndarray with numpy.array() before converting to a tensor. (Triggered internally at  /opt/conda/conda-bld/pytorch_1646755903507/work/torch/csrc/utils/tensor_new.cpp:210.)\n",
      "  target_scale = torch.tensor([batch[0][\"target_scale\"] for batch in batches], dtype=torch.float)\n",
      "/home/qishuai/anaconda3/envs/glasgow/lib/python3.8/site-packages/pytorch_forecasting/data/timeseries.py:1649: UserWarning: Creating a tensor from a list of numpy.ndarrays is extremely slow. Please consider converting the list to a single numpy.ndarray with numpy.array() before converting to a tensor. (Triggered internally at  /opt/conda/conda-bld/pytorch_1646755903507/work/torch/csrc/utils/tensor_new.cpp:210.)\n",
      "  target_scale = torch.tensor([batch[0][\"target_scale\"] for batch in batches], dtype=torch.float)\n",
      "/home/qishuai/anaconda3/envs/glasgow/lib/python3.8/site-packages/pytorch_forecasting/data/timeseries.py:1649: UserWarning: Creating a tensor from a list of numpy.ndarrays is extremely slow. Please consider converting the list to a single numpy.ndarray with numpy.array() before converting to a tensor. (Triggered internally at  /opt/conda/conda-bld/pytorch_1646755903507/work/torch/csrc/utils/tensor_new.cpp:210.)\n",
      "  target_scale = torch.tensor([batch[0][\"target_scale\"] for batch in batches], dtype=torch.float)\n"
     ]
    },
    {
     "name": "stderr",
     "output_type": "stream",
     "text": [
      "/home/qishuai/anaconda3/envs/glasgow/lib/python3.8/site-packages/pytorch_forecasting/data/timeseries.py:1649: UserWarning: Creating a tensor from a list of numpy.ndarrays is extremely slow. Please consider converting the list to a single numpy.ndarray with numpy.array() before converting to a tensor. (Triggered internally at  /opt/conda/conda-bld/pytorch_1646755903507/work/torch/csrc/utils/tensor_new.cpp:210.)\n",
      "  target_scale = torch.tensor([batch[0][\"target_scale\"] for batch in batches], dtype=torch.float)\n",
      "/home/qishuai/anaconda3/envs/glasgow/lib/python3.8/site-packages/pytorch_forecasting/data/timeseries.py:1649: UserWarning: Creating a tensor from a list of numpy.ndarrays is extremely slow. Please consider converting the list to a single numpy.ndarray with numpy.array() before converting to a tensor. (Triggered internally at  /opt/conda/conda-bld/pytorch_1646755903507/work/torch/csrc/utils/tensor_new.cpp:210.)\n",
      "  target_scale = torch.tensor([batch[0][\"target_scale\"] for batch in batches], dtype=torch.float)\n",
      "/home/qishuai/anaconda3/envs/glasgow/lib/python3.8/site-packages/pytorch_forecasting/data/encoders.py:373: UserWarning: scale is below 1e-7 - consider not centering the data or using data with higher variance for numerical stability\n",
      "  warnings.warn(\n",
      "/home/qishuai/anaconda3/envs/glasgow/lib/python3.8/site-packages/pytorch_forecasting/data/timeseries.py:1649: UserWarning: Creating a tensor from a list of numpy.ndarrays is extremely slow. Please consider converting the list to a single numpy.ndarray with numpy.array() before converting to a tensor. (Triggered internally at  /opt/conda/conda-bld/pytorch_1646755903507/work/torch/csrc/utils/tensor_new.cpp:210.)\n",
      "  target_scale = torch.tensor([batch[0][\"target_scale\"] for batch in batches], dtype=torch.float)\n",
      "/home/qishuai/anaconda3/envs/glasgow/lib/python3.8/site-packages/pytorch_forecasting/data/timeseries.py:1649: UserWarning: Creating a tensor from a list of numpy.ndarrays is extremely slow. Please consider converting the list to a single numpy.ndarray with numpy.array() before converting to a tensor. (Triggered internally at  /opt/conda/conda-bld/pytorch_1646755903507/work/torch/csrc/utils/tensor_new.cpp:210.)\n",
      "  target_scale = torch.tensor([batch[0][\"target_scale\"] for batch in batches], dtype=torch.float)\n",
      "/home/qishuai/anaconda3/envs/glasgow/lib/python3.8/site-packages/pytorch_forecasting/data/encoders.py:373: UserWarning: scale is below 1e-7 - consider not centering the data or using data with higher variance for numerical stability\n",
      "  warnings.warn(\n",
      "/home/qishuai/anaconda3/envs/glasgow/lib/python3.8/site-packages/pytorch_forecasting/data/encoders.py:373: UserWarning: scale is below 1e-7 - consider not centering the data or using data with higher variance for numerical stability\n",
      "  warnings.warn(\n",
      "/home/qishuai/anaconda3/envs/glasgow/lib/python3.8/site-packages/pytorch_forecasting/data/encoders.py:373: UserWarning: scale is below 1e-7 - consider not centering the data or using data with higher variance for numerical stability\n",
      "  warnings.warn(\n",
      "/home/qishuai/anaconda3/envs/glasgow/lib/python3.8/site-packages/pytorch_forecasting/data/encoders.py:373: UserWarning: scale is below 1e-7 - consider not centering the data or using data with higher variance for numerical stability\n",
      "  warnings.warn(\n",
      "/home/qishuai/anaconda3/envs/glasgow/lib/python3.8/site-packages/pytorch_forecasting/data/encoders.py:373: UserWarning: scale is below 1e-7 - consider not centering the data or using data with higher variance for numerical stability\n",
      "  warnings.warn(\n"
     ]
    },
    {
     "data": {
      "application/vnd.jupyter.widget-view+json": {
       "model_id": "",
       "version_major": 2,
       "version_minor": 0
      },
      "text/plain": [
       "Validating: 0it [00:00, ?it/s]"
      ]
     },
     "metadata": {},
     "output_type": "display_data"
    },
    {
     "name": "stderr",
     "output_type": "stream",
     "text": [
      "/home/qishuai/anaconda3/envs/glasgow/lib/python3.8/site-packages/pytorch_forecasting/data/encoders.py:373: UserWarning: scale is below 1e-7 - consider not centering the data or using data with higher variance for numerical stability\n",
      "  warnings.warn(\n",
      "/home/qishuai/anaconda3/envs/glasgow/lib/python3.8/site-packages/pytorch_forecasting/data/timeseries.py:1649: UserWarning: Creating a tensor from a list of numpy.ndarrays is extremely slow. Please consider converting the list to a single numpy.ndarray with numpy.array() before converting to a tensor. (Triggered internally at  /opt/conda/conda-bld/pytorch_1646755903507/work/torch/csrc/utils/tensor_new.cpp:210.)\n",
      "  target_scale = torch.tensor([batch[0][\"target_scale\"] for batch in batches], dtype=torch.float)\n",
      "/home/qishuai/anaconda3/envs/glasgow/lib/python3.8/site-packages/pytorch_forecasting/data/timeseries.py:1649: UserWarning: Creating a tensor from a list of numpy.ndarrays is extremely slow. Please consider converting the list to a single numpy.ndarray with numpy.array() before converting to a tensor. (Triggered internally at  /opt/conda/conda-bld/pytorch_1646755903507/work/torch/csrc/utils/tensor_new.cpp:210.)\n",
      "  target_scale = torch.tensor([batch[0][\"target_scale\"] for batch in batches], dtype=torch.float)\n",
      "/home/qishuai/anaconda3/envs/glasgow/lib/python3.8/site-packages/pytorch_forecasting/data/timeseries.py:1649: UserWarning: Creating a tensor from a list of numpy.ndarrays is extremely slow. Please consider converting the list to a single numpy.ndarray with numpy.array() before converting to a tensor. (Triggered internally at  /opt/conda/conda-bld/pytorch_1646755903507/work/torch/csrc/utils/tensor_new.cpp:210.)\n",
      "  target_scale = torch.tensor([batch[0][\"target_scale\"] for batch in batches], dtype=torch.float)\n",
      "/home/qishuai/anaconda3/envs/glasgow/lib/python3.8/site-packages/pytorch_forecasting/data/timeseries.py:1649: UserWarning: Creating a tensor from a list of numpy.ndarrays is extremely slow. Please consider converting the list to a single numpy.ndarray with numpy.array() before converting to a tensor. (Triggered internally at  /opt/conda/conda-bld/pytorch_1646755903507/work/torch/csrc/utils/tensor_new.cpp:210.)\n",
      "  target_scale = torch.tensor([batch[0][\"target_scale\"] for batch in batches], dtype=torch.float)\n",
      "/home/qishuai/anaconda3/envs/glasgow/lib/python3.8/site-packages/pytorch_forecasting/data/timeseries.py:1649: UserWarning: Creating a tensor from a list of numpy.ndarrays is extremely slow. Please consider converting the list to a single numpy.ndarray with numpy.array() before converting to a tensor. (Triggered internally at  /opt/conda/conda-bld/pytorch_1646755903507/work/torch/csrc/utils/tensor_new.cpp:210.)\n",
      "  target_scale = torch.tensor([batch[0][\"target_scale\"] for batch in batches], dtype=torch.float)\n",
      "/home/qishuai/anaconda3/envs/glasgow/lib/python3.8/site-packages/pytorch_forecasting/data/timeseries.py:1649: UserWarning: Creating a tensor from a list of numpy.ndarrays is extremely slow. Please consider converting the list to a single numpy.ndarray with numpy.array() before converting to a tensor. (Triggered internally at  /opt/conda/conda-bld/pytorch_1646755903507/work/torch/csrc/utils/tensor_new.cpp:210.)\n",
      "  target_scale = torch.tensor([batch[0][\"target_scale\"] for batch in batches], dtype=torch.float)\n",
      "/home/qishuai/anaconda3/envs/glasgow/lib/python3.8/site-packages/pytorch_forecasting/data/encoders.py:373: UserWarning: scale is below 1e-7 - consider not centering the data or using data with higher variance for numerical stability\n",
      "  warnings.warn(\n",
      "/home/qishuai/anaconda3/envs/glasgow/lib/python3.8/site-packages/pytorch_forecasting/data/timeseries.py:1649: UserWarning: Creating a tensor from a list of numpy.ndarrays is extremely slow. Please consider converting the list to a single numpy.ndarray with numpy.array() before converting to a tensor. (Triggered internally at  /opt/conda/conda-bld/pytorch_1646755903507/work/torch/csrc/utils/tensor_new.cpp:210.)\n",
      "  target_scale = torch.tensor([batch[0][\"target_scale\"] for batch in batches], dtype=torch.float)\n",
      "/home/qishuai/anaconda3/envs/glasgow/lib/python3.8/site-packages/pytorch_forecasting/data/timeseries.py:1649: UserWarning: Creating a tensor from a list of numpy.ndarrays is extremely slow. Please consider converting the list to a single numpy.ndarray with numpy.array() before converting to a tensor. (Triggered internally at  /opt/conda/conda-bld/pytorch_1646755903507/work/torch/csrc/utils/tensor_new.cpp:210.)\n",
      "  target_scale = torch.tensor([batch[0][\"target_scale\"] for batch in batches], dtype=torch.float)\n",
      "/home/qishuai/anaconda3/envs/glasgow/lib/python3.8/site-packages/pytorch_forecasting/data/encoders.py:373: UserWarning: scale is below 1e-7 - consider not centering the data or using data with higher variance for numerical stability\n",
      "  warnings.warn(\n",
      "/home/qishuai/anaconda3/envs/glasgow/lib/python3.8/site-packages/pytorch_forecasting/data/encoders.py:373: UserWarning: scale is below 1e-7 - consider not centering the data or using data with higher variance for numerical stability\n",
      "  warnings.warn(\n",
      "/home/qishuai/anaconda3/envs/glasgow/lib/python3.8/site-packages/pytorch_forecasting/data/encoders.py:373: UserWarning: scale is below 1e-7 - consider not centering the data or using data with higher variance for numerical stability\n",
      "  warnings.warn(\n",
      "/home/qishuai/anaconda3/envs/glasgow/lib/python3.8/site-packages/pytorch_forecasting/data/encoders.py:373: UserWarning: scale is below 1e-7 - consider not centering the data or using data with higher variance for numerical stability\n",
      "  warnings.warn(\n",
      "/home/qishuai/anaconda3/envs/glasgow/lib/python3.8/site-packages/pytorch_forecasting/data/encoders.py:373: UserWarning: scale is below 1e-7 - consider not centering the data or using data with higher variance for numerical stability\n",
      "  warnings.warn(\n",
      "/home/qishuai/anaconda3/envs/glasgow/lib/python3.8/site-packages/pytorch_forecasting/data/encoders.py:373: UserWarning: scale is below 1e-7 - consider not centering the data or using data with higher variance for numerical stability\n",
      "  warnings.warn(\n",
      "/home/qishuai/anaconda3/envs/glasgow/lib/python3.8/site-packages/pytorch_forecasting/data/encoders.py:373: UserWarning: scale is below 1e-7 - consider not centering the data or using data with higher variance for numerical stability\n",
      "  warnings.warn(\n",
      "/home/qishuai/anaconda3/envs/glasgow/lib/python3.8/site-packages/pytorch_forecasting/data/encoders.py:373: UserWarning: scale is below 1e-7 - consider not centering the data or using data with higher variance for numerical stability\n",
      "  warnings.warn(\n",
      "/home/qishuai/anaconda3/envs/glasgow/lib/python3.8/site-packages/pytorch_forecasting/data/encoders.py:373: UserWarning: scale is below 1e-7 - consider not centering the data or using data with higher variance for numerical stability\n",
      "  warnings.warn(\n",
      "/home/qishuai/anaconda3/envs/glasgow/lib/python3.8/site-packages/pytorch_forecasting/data/encoders.py:373: UserWarning: scale is below 1e-7 - consider not centering the data or using data with higher variance for numerical stability\n",
      "  warnings.warn(\n",
      "/home/qishuai/anaconda3/envs/glasgow/lib/python3.8/site-packages/pytorch_forecasting/data/timeseries.py:1649: UserWarning: Creating a tensor from a list of numpy.ndarrays is extremely slow. Please consider converting the list to a single numpy.ndarray with numpy.array() before converting to a tensor. (Triggered internally at  /opt/conda/conda-bld/pytorch_1646755903507/work/torch/csrc/utils/tensor_new.cpp:210.)\n",
      "  target_scale = torch.tensor([batch[0][\"target_scale\"] for batch in batches], dtype=torch.float)\n",
      "/home/qishuai/anaconda3/envs/glasgow/lib/python3.8/site-packages/pytorch_forecasting/data/timeseries.py:1649: UserWarning: Creating a tensor from a list of numpy.ndarrays is extremely slow. Please consider converting the list to a single numpy.ndarray with numpy.array() before converting to a tensor. (Triggered internally at  /opt/conda/conda-bld/pytorch_1646755903507/work/torch/csrc/utils/tensor_new.cpp:210.)\n",
      "  target_scale = torch.tensor([batch[0][\"target_scale\"] for batch in batches], dtype=torch.float)\n",
      "/home/qishuai/anaconda3/envs/glasgow/lib/python3.8/site-packages/pytorch_forecasting/data/encoders.py:373: UserWarning: scale is below 1e-7 - consider not centering the data or using data with higher variance for numerical stability\n",
      "  warnings.warn(\n"
     ]
    },
    {
     "name": "stderr",
     "output_type": "stream",
     "text": [
      "/home/qishuai/anaconda3/envs/glasgow/lib/python3.8/site-packages/pytorch_forecasting/data/timeseries.py:1649: UserWarning: Creating a tensor from a list of numpy.ndarrays is extremely slow. Please consider converting the list to a single numpy.ndarray with numpy.array() before converting to a tensor. (Triggered internally at  /opt/conda/conda-bld/pytorch_1646755903507/work/torch/csrc/utils/tensor_new.cpp:210.)\n",
      "  target_scale = torch.tensor([batch[0][\"target_scale\"] for batch in batches], dtype=torch.float)\n",
      "/home/qishuai/anaconda3/envs/glasgow/lib/python3.8/site-packages/pytorch_forecasting/data/encoders.py:373: UserWarning: scale is below 1e-7 - consider not centering the data or using data with higher variance for numerical stability\n",
      "  warnings.warn(\n",
      "/home/qishuai/anaconda3/envs/glasgow/lib/python3.8/site-packages/pytorch_forecasting/data/timeseries.py:1649: UserWarning: Creating a tensor from a list of numpy.ndarrays is extremely slow. Please consider converting the list to a single numpy.ndarray with numpy.array() before converting to a tensor. (Triggered internally at  /opt/conda/conda-bld/pytorch_1646755903507/work/torch/csrc/utils/tensor_new.cpp:210.)\n",
      "  target_scale = torch.tensor([batch[0][\"target_scale\"] for batch in batches], dtype=torch.float)\n",
      "/home/qishuai/anaconda3/envs/glasgow/lib/python3.8/site-packages/pytorch_forecasting/data/timeseries.py:1649: UserWarning: Creating a tensor from a list of numpy.ndarrays is extremely slow. Please consider converting the list to a single numpy.ndarray with numpy.array() before converting to a tensor. (Triggered internally at  /opt/conda/conda-bld/pytorch_1646755903507/work/torch/csrc/utils/tensor_new.cpp:210.)\n",
      "  target_scale = torch.tensor([batch[0][\"target_scale\"] for batch in batches], dtype=torch.float)\n",
      "/home/qishuai/anaconda3/envs/glasgow/lib/python3.8/site-packages/pytorch_forecasting/data/timeseries.py:1649: UserWarning: Creating a tensor from a list of numpy.ndarrays is extremely slow. Please consider converting the list to a single numpy.ndarray with numpy.array() before converting to a tensor. (Triggered internally at  /opt/conda/conda-bld/pytorch_1646755903507/work/torch/csrc/utils/tensor_new.cpp:210.)\n",
      "  target_scale = torch.tensor([batch[0][\"target_scale\"] for batch in batches], dtype=torch.float)\n",
      "/home/qishuai/anaconda3/envs/glasgow/lib/python3.8/site-packages/pytorch_forecasting/data/timeseries.py:1649: UserWarning: Creating a tensor from a list of numpy.ndarrays is extremely slow. Please consider converting the list to a single numpy.ndarray with numpy.array() before converting to a tensor. (Triggered internally at  /opt/conda/conda-bld/pytorch_1646755903507/work/torch/csrc/utils/tensor_new.cpp:210.)\n",
      "  target_scale = torch.tensor([batch[0][\"target_scale\"] for batch in batches], dtype=torch.float)\n",
      "/home/qishuai/anaconda3/envs/glasgow/lib/python3.8/site-packages/pytorch_forecasting/data/timeseries.py:1649: UserWarning: Creating a tensor from a list of numpy.ndarrays is extremely slow. Please consider converting the list to a single numpy.ndarray with numpy.array() before converting to a tensor. (Triggered internally at  /opt/conda/conda-bld/pytorch_1646755903507/work/torch/csrc/utils/tensor_new.cpp:210.)\n",
      "  target_scale = torch.tensor([batch[0][\"target_scale\"] for batch in batches], dtype=torch.float)\n",
      "/home/qishuai/anaconda3/envs/glasgow/lib/python3.8/site-packages/pytorch_forecasting/data/encoders.py:373: UserWarning: scale is below 1e-7 - consider not centering the data or using data with higher variance for numerical stability\n",
      "  warnings.warn(\n",
      "/home/qishuai/anaconda3/envs/glasgow/lib/python3.8/site-packages/pytorch_forecasting/data/encoders.py:373: UserWarning: scale is below 1e-7 - consider not centering the data or using data with higher variance for numerical stability\n",
      "  warnings.warn(\n"
     ]
    },
    {
     "data": {
      "application/vnd.jupyter.widget-view+json": {
       "model_id": "",
       "version_major": 2,
       "version_minor": 0
      },
      "text/plain": [
       "Validating: 0it [00:00, ?it/s]"
      ]
     },
     "metadata": {},
     "output_type": "display_data"
    },
    {
     "name": "stderr",
     "output_type": "stream",
     "text": [
      "/home/qishuai/anaconda3/envs/glasgow/lib/python3.8/site-packages/pytorch_forecasting/data/encoders.py:373: UserWarning: scale is below 1e-7 - consider not centering the data or using data with higher variance for numerical stability\n",
      "  warnings.warn(\n",
      "/home/qishuai/anaconda3/envs/glasgow/lib/python3.8/site-packages/pytorch_forecasting/data/timeseries.py:1649: UserWarning: Creating a tensor from a list of numpy.ndarrays is extremely slow. Please consider converting the list to a single numpy.ndarray with numpy.array() before converting to a tensor. (Triggered internally at  /opt/conda/conda-bld/pytorch_1646755903507/work/torch/csrc/utils/tensor_new.cpp:210.)\n",
      "  target_scale = torch.tensor([batch[0][\"target_scale\"] for batch in batches], dtype=torch.float)\n",
      "/home/qishuai/anaconda3/envs/glasgow/lib/python3.8/site-packages/pytorch_forecasting/data/timeseries.py:1649: UserWarning: Creating a tensor from a list of numpy.ndarrays is extremely slow. Please consider converting the list to a single numpy.ndarray with numpy.array() before converting to a tensor. (Triggered internally at  /opt/conda/conda-bld/pytorch_1646755903507/work/torch/csrc/utils/tensor_new.cpp:210.)\n",
      "  target_scale = torch.tensor([batch[0][\"target_scale\"] for batch in batches], dtype=torch.float)\n",
      "/home/qishuai/anaconda3/envs/glasgow/lib/python3.8/site-packages/pytorch_forecasting/data/timeseries.py:1649: UserWarning: Creating a tensor from a list of numpy.ndarrays is extremely slow. Please consider converting the list to a single numpy.ndarray with numpy.array() before converting to a tensor. (Triggered internally at  /opt/conda/conda-bld/pytorch_1646755903507/work/torch/csrc/utils/tensor_new.cpp:210.)\n",
      "  target_scale = torch.tensor([batch[0][\"target_scale\"] for batch in batches], dtype=torch.float)\n",
      "/home/qishuai/anaconda3/envs/glasgow/lib/python3.8/site-packages/pytorch_forecasting/data/timeseries.py:1649: UserWarning: Creating a tensor from a list of numpy.ndarrays is extremely slow. Please consider converting the list to a single numpy.ndarray with numpy.array() before converting to a tensor. (Triggered internally at  /opt/conda/conda-bld/pytorch_1646755903507/work/torch/csrc/utils/tensor_new.cpp:210.)\n",
      "  target_scale = torch.tensor([batch[0][\"target_scale\"] for batch in batches], dtype=torch.float)\n",
      "/home/qishuai/anaconda3/envs/glasgow/lib/python3.8/site-packages/pytorch_forecasting/data/timeseries.py:1649: UserWarning: Creating a tensor from a list of numpy.ndarrays is extremely slow. Please consider converting the list to a single numpy.ndarray with numpy.array() before converting to a tensor. (Triggered internally at  /opt/conda/conda-bld/pytorch_1646755903507/work/torch/csrc/utils/tensor_new.cpp:210.)\n",
      "  target_scale = torch.tensor([batch[0][\"target_scale\"] for batch in batches], dtype=torch.float)\n",
      "/home/qishuai/anaconda3/envs/glasgow/lib/python3.8/site-packages/pytorch_forecasting/data/timeseries.py:1649: UserWarning: Creating a tensor from a list of numpy.ndarrays is extremely slow. Please consider converting the list to a single numpy.ndarray with numpy.array() before converting to a tensor. (Triggered internally at  /opt/conda/conda-bld/pytorch_1646755903507/work/torch/csrc/utils/tensor_new.cpp:210.)\n",
      "  target_scale = torch.tensor([batch[0][\"target_scale\"] for batch in batches], dtype=torch.float)\n",
      "/home/qishuai/anaconda3/envs/glasgow/lib/python3.8/site-packages/pytorch_forecasting/data/timeseries.py:1649: UserWarning: Creating a tensor from a list of numpy.ndarrays is extremely slow. Please consider converting the list to a single numpy.ndarray with numpy.array() before converting to a tensor. (Triggered internally at  /opt/conda/conda-bld/pytorch_1646755903507/work/torch/csrc/utils/tensor_new.cpp:210.)\n",
      "  target_scale = torch.tensor([batch[0][\"target_scale\"] for batch in batches], dtype=torch.float)\n",
      "/home/qishuai/anaconda3/envs/glasgow/lib/python3.8/site-packages/pytorch_forecasting/data/timeseries.py:1649: UserWarning: Creating a tensor from a list of numpy.ndarrays is extremely slow. Please consider converting the list to a single numpy.ndarray with numpy.array() before converting to a tensor. (Triggered internally at  /opt/conda/conda-bld/pytorch_1646755903507/work/torch/csrc/utils/tensor_new.cpp:210.)\n",
      "  target_scale = torch.tensor([batch[0][\"target_scale\"] for batch in batches], dtype=torch.float)\n",
      "/home/qishuai/anaconda3/envs/glasgow/lib/python3.8/site-packages/pytorch_forecasting/data/encoders.py:373: UserWarning: scale is below 1e-7 - consider not centering the data or using data with higher variance for numerical stability\n",
      "  warnings.warn(\n",
      "/home/qishuai/anaconda3/envs/glasgow/lib/python3.8/site-packages/pytorch_forecasting/data/encoders.py:373: UserWarning: scale is below 1e-7 - consider not centering the data or using data with higher variance for numerical stability\n",
      "  warnings.warn(\n",
      "/home/qishuai/anaconda3/envs/glasgow/lib/python3.8/site-packages/pytorch_forecasting/data/encoders.py:373: UserWarning: scale is below 1e-7 - consider not centering the data or using data with higher variance for numerical stability\n",
      "  warnings.warn(\n",
      "/home/qishuai/anaconda3/envs/glasgow/lib/python3.8/site-packages/pytorch_forecasting/data/encoders.py:373: UserWarning: scale is below 1e-7 - consider not centering the data or using data with higher variance for numerical stability\n",
      "  warnings.warn(\n",
      "/home/qishuai/anaconda3/envs/glasgow/lib/python3.8/site-packages/pytorch_forecasting/data/encoders.py:373: UserWarning: scale is below 1e-7 - consider not centering the data or using data with higher variance for numerical stability\n",
      "  warnings.warn(\n",
      "/home/qishuai/anaconda3/envs/glasgow/lib/python3.8/site-packages/pytorch_forecasting/data/encoders.py:373: UserWarning: scale is below 1e-7 - consider not centering the data or using data with higher variance for numerical stability\n",
      "  warnings.warn(\n",
      "/home/qishuai/anaconda3/envs/glasgow/lib/python3.8/site-packages/pytorch_forecasting/data/encoders.py:373: UserWarning: scale is below 1e-7 - consider not centering the data or using data with higher variance for numerical stability\n",
      "  warnings.warn(\n",
      "/home/qishuai/anaconda3/envs/glasgow/lib/python3.8/site-packages/pytorch_forecasting/data/encoders.py:373: UserWarning: scale is below 1e-7 - consider not centering the data or using data with higher variance for numerical stability\n",
      "  warnings.warn(\n",
      "/home/qishuai/anaconda3/envs/glasgow/lib/python3.8/site-packages/pytorch_forecasting/data/encoders.py:373: UserWarning: scale is below 1e-7 - consider not centering the data or using data with higher variance for numerical stability\n",
      "  warnings.warn(\n",
      "/home/qishuai/anaconda3/envs/glasgow/lib/python3.8/site-packages/pytorch_forecasting/data/timeseries.py:1649: UserWarning: Creating a tensor from a list of numpy.ndarrays is extremely slow. Please consider converting the list to a single numpy.ndarray with numpy.array() before converting to a tensor. (Triggered internally at  /opt/conda/conda-bld/pytorch_1646755903507/work/torch/csrc/utils/tensor_new.cpp:210.)\n",
      "  target_scale = torch.tensor([batch[0][\"target_scale\"] for batch in batches], dtype=torch.float)\n",
      "/home/qishuai/anaconda3/envs/glasgow/lib/python3.8/site-packages/pytorch_forecasting/data/timeseries.py:1649: UserWarning: Creating a tensor from a list of numpy.ndarrays is extremely slow. Please consider converting the list to a single numpy.ndarray with numpy.array() before converting to a tensor. (Triggered internally at  /opt/conda/conda-bld/pytorch_1646755903507/work/torch/csrc/utils/tensor_new.cpp:210.)\n",
      "  target_scale = torch.tensor([batch[0][\"target_scale\"] for batch in batches], dtype=torch.float)\n",
      "/home/qishuai/anaconda3/envs/glasgow/lib/python3.8/site-packages/pytorch_forecasting/data/timeseries.py:1649: UserWarning: Creating a tensor from a list of numpy.ndarrays is extremely slow. Please consider converting the list to a single numpy.ndarray with numpy.array() before converting to a tensor. (Triggered internally at  /opt/conda/conda-bld/pytorch_1646755903507/work/torch/csrc/utils/tensor_new.cpp:210.)\n",
      "  target_scale = torch.tensor([batch[0][\"target_scale\"] for batch in batches], dtype=torch.float)\n",
      "/home/qishuai/anaconda3/envs/glasgow/lib/python3.8/site-packages/pytorch_forecasting/data/timeseries.py:1649: UserWarning: Creating a tensor from a list of numpy.ndarrays is extremely slow. Please consider converting the list to a single numpy.ndarray with numpy.array() before converting to a tensor. (Triggered internally at  /opt/conda/conda-bld/pytorch_1646755903507/work/torch/csrc/utils/tensor_new.cpp:210.)\n",
      "  target_scale = torch.tensor([batch[0][\"target_scale\"] for batch in batches], dtype=torch.float)\n"
     ]
    },
    {
     "name": "stderr",
     "output_type": "stream",
     "text": [
      "/home/qishuai/anaconda3/envs/glasgow/lib/python3.8/site-packages/pytorch_forecasting/data/timeseries.py:1649: UserWarning: Creating a tensor from a list of numpy.ndarrays is extremely slow. Please consider converting the list to a single numpy.ndarray with numpy.array() before converting to a tensor. (Triggered internally at  /opt/conda/conda-bld/pytorch_1646755903507/work/torch/csrc/utils/tensor_new.cpp:210.)\n",
      "  target_scale = torch.tensor([batch[0][\"target_scale\"] for batch in batches], dtype=torch.float)\n",
      "/home/qishuai/anaconda3/envs/glasgow/lib/python3.8/site-packages/pytorch_forecasting/data/timeseries.py:1649: UserWarning: Creating a tensor from a list of numpy.ndarrays is extremely slow. Please consider converting the list to a single numpy.ndarray with numpy.array() before converting to a tensor. (Triggered internally at  /opt/conda/conda-bld/pytorch_1646755903507/work/torch/csrc/utils/tensor_new.cpp:210.)\n",
      "  target_scale = torch.tensor([batch[0][\"target_scale\"] for batch in batches], dtype=torch.float)\n",
      "/home/qishuai/anaconda3/envs/glasgow/lib/python3.8/site-packages/pytorch_forecasting/data/encoders.py:373: UserWarning: scale is below 1e-7 - consider not centering the data or using data with higher variance for numerical stability\n",
      "  warnings.warn(\n",
      "/home/qishuai/anaconda3/envs/glasgow/lib/python3.8/site-packages/pytorch_forecasting/data/encoders.py:373: UserWarning: scale is below 1e-7 - consider not centering the data or using data with higher variance for numerical stability\n",
      "  warnings.warn(\n",
      "/home/qishuai/anaconda3/envs/glasgow/lib/python3.8/site-packages/pytorch_forecasting/data/timeseries.py:1649: UserWarning: Creating a tensor from a list of numpy.ndarrays is extremely slow. Please consider converting the list to a single numpy.ndarray with numpy.array() before converting to a tensor. (Triggered internally at  /opt/conda/conda-bld/pytorch_1646755903507/work/torch/csrc/utils/tensor_new.cpp:210.)\n",
      "  target_scale = torch.tensor([batch[0][\"target_scale\"] for batch in batches], dtype=torch.float)\n",
      "/home/qishuai/anaconda3/envs/glasgow/lib/python3.8/site-packages/pytorch_forecasting/data/timeseries.py:1649: UserWarning: Creating a tensor from a list of numpy.ndarrays is extremely slow. Please consider converting the list to a single numpy.ndarray with numpy.array() before converting to a tensor. (Triggered internally at  /opt/conda/conda-bld/pytorch_1646755903507/work/torch/csrc/utils/tensor_new.cpp:210.)\n",
      "  target_scale = torch.tensor([batch[0][\"target_scale\"] for batch in batches], dtype=torch.float)\n",
      "/home/qishuai/anaconda3/envs/glasgow/lib/python3.8/site-packages/pytorch_forecasting/data/encoders.py:373: UserWarning: scale is below 1e-7 - consider not centering the data or using data with higher variance for numerical stability\n",
      "  warnings.warn(\n",
      "/home/qishuai/anaconda3/envs/glasgow/lib/python3.8/site-packages/pytorch_forecasting/data/encoders.py:373: UserWarning: scale is below 1e-7 - consider not centering the data or using data with higher variance for numerical stability\n",
      "  warnings.warn(\n",
      "/home/qishuai/anaconda3/envs/glasgow/lib/python3.8/site-packages/pytorch_forecasting/data/encoders.py:373: UserWarning: scale is below 1e-7 - consider not centering the data or using data with higher variance for numerical stability\n",
      "  warnings.warn(\n",
      "/home/qishuai/anaconda3/envs/glasgow/lib/python3.8/site-packages/pytorch_forecasting/data/encoders.py:373: UserWarning: scale is below 1e-7 - consider not centering the data or using data with higher variance for numerical stability\n",
      "  warnings.warn(\n"
     ]
    },
    {
     "data": {
      "application/vnd.jupyter.widget-view+json": {
       "model_id": "",
       "version_major": 2,
       "version_minor": 0
      },
      "text/plain": [
       "Validating: 0it [00:00, ?it/s]"
      ]
     },
     "metadata": {},
     "output_type": "display_data"
    },
    {
     "name": "stderr",
     "output_type": "stream",
     "text": [
      "/home/qishuai/anaconda3/envs/glasgow/lib/python3.8/site-packages/pytorch_forecasting/data/encoders.py:373: UserWarning: scale is below 1e-7 - consider not centering the data or using data with higher variance for numerical stability\n",
      "  warnings.warn(\n",
      "/home/qishuai/anaconda3/envs/glasgow/lib/python3.8/site-packages/pytorch_forecasting/data/timeseries.py:1649: UserWarning: Creating a tensor from a list of numpy.ndarrays is extremely slow. Please consider converting the list to a single numpy.ndarray with numpy.array() before converting to a tensor. (Triggered internally at  /opt/conda/conda-bld/pytorch_1646755903507/work/torch/csrc/utils/tensor_new.cpp:210.)\n",
      "  target_scale = torch.tensor([batch[0][\"target_scale\"] for batch in batches], dtype=torch.float)\n",
      "/home/qishuai/anaconda3/envs/glasgow/lib/python3.8/site-packages/pytorch_forecasting/data/timeseries.py:1649: UserWarning: Creating a tensor from a list of numpy.ndarrays is extremely slow. Please consider converting the list to a single numpy.ndarray with numpy.array() before converting to a tensor. (Triggered internally at  /opt/conda/conda-bld/pytorch_1646755903507/work/torch/csrc/utils/tensor_new.cpp:210.)\n",
      "  target_scale = torch.tensor([batch[0][\"target_scale\"] for batch in batches], dtype=torch.float)\n",
      "/home/qishuai/anaconda3/envs/glasgow/lib/python3.8/site-packages/pytorch_forecasting/data/timeseries.py:1649: UserWarning: Creating a tensor from a list of numpy.ndarrays is extremely slow. Please consider converting the list to a single numpy.ndarray with numpy.array() before converting to a tensor. (Triggered internally at  /opt/conda/conda-bld/pytorch_1646755903507/work/torch/csrc/utils/tensor_new.cpp:210.)\n",
      "  target_scale = torch.tensor([batch[0][\"target_scale\"] for batch in batches], dtype=torch.float)\n",
      "/home/qishuai/anaconda3/envs/glasgow/lib/python3.8/site-packages/pytorch_forecasting/data/timeseries.py:1649: UserWarning: Creating a tensor from a list of numpy.ndarrays is extremely slow. Please consider converting the list to a single numpy.ndarray with numpy.array() before converting to a tensor. (Triggered internally at  /opt/conda/conda-bld/pytorch_1646755903507/work/torch/csrc/utils/tensor_new.cpp:210.)\n",
      "  target_scale = torch.tensor([batch[0][\"target_scale\"] for batch in batches], dtype=torch.float)\n",
      "/home/qishuai/anaconda3/envs/glasgow/lib/python3.8/site-packages/pytorch_forecasting/data/timeseries.py:1649: UserWarning: Creating a tensor from a list of numpy.ndarrays is extremely slow. Please consider converting the list to a single numpy.ndarray with numpy.array() before converting to a tensor. (Triggered internally at  /opt/conda/conda-bld/pytorch_1646755903507/work/torch/csrc/utils/tensor_new.cpp:210.)\n",
      "  target_scale = torch.tensor([batch[0][\"target_scale\"] for batch in batches], dtype=torch.float)\n",
      "/home/qishuai/anaconda3/envs/glasgow/lib/python3.8/site-packages/pytorch_forecasting/data/timeseries.py:1649: UserWarning: Creating a tensor from a list of numpy.ndarrays is extremely slow. Please consider converting the list to a single numpy.ndarray with numpy.array() before converting to a tensor. (Triggered internally at  /opt/conda/conda-bld/pytorch_1646755903507/work/torch/csrc/utils/tensor_new.cpp:210.)\n",
      "  target_scale = torch.tensor([batch[0][\"target_scale\"] for batch in batches], dtype=torch.float)\n",
      "/home/qishuai/anaconda3/envs/glasgow/lib/python3.8/site-packages/pytorch_forecasting/data/encoders.py:373: UserWarning: scale is below 1e-7 - consider not centering the data or using data with higher variance for numerical stability\n",
      "  warnings.warn(\n",
      "/home/qishuai/anaconda3/envs/glasgow/lib/python3.8/site-packages/pytorch_forecasting/data/timeseries.py:1649: UserWarning: Creating a tensor from a list of numpy.ndarrays is extremely slow. Please consider converting the list to a single numpy.ndarray with numpy.array() before converting to a tensor. (Triggered internally at  /opt/conda/conda-bld/pytorch_1646755903507/work/torch/csrc/utils/tensor_new.cpp:210.)\n",
      "  target_scale = torch.tensor([batch[0][\"target_scale\"] for batch in batches], dtype=torch.float)\n",
      "/home/qishuai/anaconda3/envs/glasgow/lib/python3.8/site-packages/pytorch_forecasting/data/timeseries.py:1649: UserWarning: Creating a tensor from a list of numpy.ndarrays is extremely slow. Please consider converting the list to a single numpy.ndarray with numpy.array() before converting to a tensor. (Triggered internally at  /opt/conda/conda-bld/pytorch_1646755903507/work/torch/csrc/utils/tensor_new.cpp:210.)\n",
      "  target_scale = torch.tensor([batch[0][\"target_scale\"] for batch in batches], dtype=torch.float)\n",
      "/home/qishuai/anaconda3/envs/glasgow/lib/python3.8/site-packages/pytorch_forecasting/data/encoders.py:373: UserWarning: scale is below 1e-7 - consider not centering the data or using data with higher variance for numerical stability\n",
      "  warnings.warn(\n",
      "/home/qishuai/anaconda3/envs/glasgow/lib/python3.8/site-packages/pytorch_forecasting/data/encoders.py:373: UserWarning: scale is below 1e-7 - consider not centering the data or using data with higher variance for numerical stability\n",
      "  warnings.warn(\n",
      "/home/qishuai/anaconda3/envs/glasgow/lib/python3.8/site-packages/pytorch_forecasting/data/encoders.py:373: UserWarning: scale is below 1e-7 - consider not centering the data or using data with higher variance for numerical stability\n",
      "  warnings.warn(\n",
      "/home/qishuai/anaconda3/envs/glasgow/lib/python3.8/site-packages/pytorch_forecasting/data/encoders.py:373: UserWarning: scale is below 1e-7 - consider not centering the data or using data with higher variance for numerical stability\n",
      "  warnings.warn(\n",
      "/home/qishuai/anaconda3/envs/glasgow/lib/python3.8/site-packages/pytorch_forecasting/data/encoders.py:373: UserWarning: scale is below 1e-7 - consider not centering the data or using data with higher variance for numerical stability\n",
      "  warnings.warn(\n",
      "/home/qishuai/anaconda3/envs/glasgow/lib/python3.8/site-packages/pytorch_forecasting/data/encoders.py:373: UserWarning: scale is below 1e-7 - consider not centering the data or using data with higher variance for numerical stability\n",
      "  warnings.warn(\n",
      "/home/qishuai/anaconda3/envs/glasgow/lib/python3.8/site-packages/pytorch_forecasting/data/encoders.py:373: UserWarning: scale is below 1e-7 - consider not centering the data or using data with higher variance for numerical stability\n",
      "  warnings.warn(\n",
      "/home/qishuai/anaconda3/envs/glasgow/lib/python3.8/site-packages/pytorch_forecasting/data/encoders.py:373: UserWarning: scale is below 1e-7 - consider not centering the data or using data with higher variance for numerical stability\n",
      "  warnings.warn(\n",
      "/home/qishuai/anaconda3/envs/glasgow/lib/python3.8/site-packages/pytorch_forecasting/data/encoders.py:373: UserWarning: scale is below 1e-7 - consider not centering the data or using data with higher variance for numerical stability\n",
      "  warnings.warn(\n",
      "/home/qishuai/anaconda3/envs/glasgow/lib/python3.8/site-packages/pytorch_forecasting/data/timeseries.py:1649: UserWarning: Creating a tensor from a list of numpy.ndarrays is extremely slow. Please consider converting the list to a single numpy.ndarray with numpy.array() before converting to a tensor. (Triggered internally at  /opt/conda/conda-bld/pytorch_1646755903507/work/torch/csrc/utils/tensor_new.cpp:210.)\n",
      "  target_scale = torch.tensor([batch[0][\"target_scale\"] for batch in batches], dtype=torch.float)\n",
      "/home/qishuai/anaconda3/envs/glasgow/lib/python3.8/site-packages/pytorch_forecasting/data/timeseries.py:1649: UserWarning: Creating a tensor from a list of numpy.ndarrays is extremely slow. Please consider converting the list to a single numpy.ndarray with numpy.array() before converting to a tensor. (Triggered internally at  /opt/conda/conda-bld/pytorch_1646755903507/work/torch/csrc/utils/tensor_new.cpp:210.)\n",
      "  target_scale = torch.tensor([batch[0][\"target_scale\"] for batch in batches], dtype=torch.float)\n",
      "/home/qishuai/anaconda3/envs/glasgow/lib/python3.8/site-packages/pytorch_forecasting/data/timeseries.py:1649: UserWarning: Creating a tensor from a list of numpy.ndarrays is extremely slow. Please consider converting the list to a single numpy.ndarray with numpy.array() before converting to a tensor. (Triggered internally at  /opt/conda/conda-bld/pytorch_1646755903507/work/torch/csrc/utils/tensor_new.cpp:210.)\n",
      "  target_scale = torch.tensor([batch[0][\"target_scale\"] for batch in batches], dtype=torch.float)\n"
     ]
    },
    {
     "name": "stderr",
     "output_type": "stream",
     "text": [
      "/home/qishuai/anaconda3/envs/glasgow/lib/python3.8/site-packages/pytorch_forecasting/data/timeseries.py:1649: UserWarning: Creating a tensor from a list of numpy.ndarrays is extremely slow. Please consider converting the list to a single numpy.ndarray with numpy.array() before converting to a tensor. (Triggered internally at  /opt/conda/conda-bld/pytorch_1646755903507/work/torch/csrc/utils/tensor_new.cpp:210.)\n",
      "  target_scale = torch.tensor([batch[0][\"target_scale\"] for batch in batches], dtype=torch.float)\n",
      "/home/qishuai/anaconda3/envs/glasgow/lib/python3.8/site-packages/pytorch_forecasting/data/timeseries.py:1649: UserWarning: Creating a tensor from a list of numpy.ndarrays is extremely slow. Please consider converting the list to a single numpy.ndarray with numpy.array() before converting to a tensor. (Triggered internally at  /opt/conda/conda-bld/pytorch_1646755903507/work/torch/csrc/utils/tensor_new.cpp:210.)\n",
      "  target_scale = torch.tensor([batch[0][\"target_scale\"] for batch in batches], dtype=torch.float)\n",
      "/home/qishuai/anaconda3/envs/glasgow/lib/python3.8/site-packages/pytorch_forecasting/data/timeseries.py:1649: UserWarning: Creating a tensor from a list of numpy.ndarrays is extremely slow. Please consider converting the list to a single numpy.ndarray with numpy.array() before converting to a tensor. (Triggered internally at  /opt/conda/conda-bld/pytorch_1646755903507/work/torch/csrc/utils/tensor_new.cpp:210.)\n",
      "  target_scale = torch.tensor([batch[0][\"target_scale\"] for batch in batches], dtype=torch.float)\n",
      "/home/qishuai/anaconda3/envs/glasgow/lib/python3.8/site-packages/pytorch_forecasting/data/encoders.py:373: UserWarning: scale is below 1e-7 - consider not centering the data or using data with higher variance for numerical stability\n",
      "  warnings.warn(\n",
      "/home/qishuai/anaconda3/envs/glasgow/lib/python3.8/site-packages/pytorch_forecasting/data/timeseries.py:1649: UserWarning: Creating a tensor from a list of numpy.ndarrays is extremely slow. Please consider converting the list to a single numpy.ndarray with numpy.array() before converting to a tensor. (Triggered internally at  /opt/conda/conda-bld/pytorch_1646755903507/work/torch/csrc/utils/tensor_new.cpp:210.)\n",
      "  target_scale = torch.tensor([batch[0][\"target_scale\"] for batch in batches], dtype=torch.float)\n",
      "/home/qishuai/anaconda3/envs/glasgow/lib/python3.8/site-packages/pytorch_forecasting/data/timeseries.py:1649: UserWarning: Creating a tensor from a list of numpy.ndarrays is extremely slow. Please consider converting the list to a single numpy.ndarray with numpy.array() before converting to a tensor. (Triggered internally at  /opt/conda/conda-bld/pytorch_1646755903507/work/torch/csrc/utils/tensor_new.cpp:210.)\n",
      "  target_scale = torch.tensor([batch[0][\"target_scale\"] for batch in batches], dtype=torch.float)\n",
      "/home/qishuai/anaconda3/envs/glasgow/lib/python3.8/site-packages/pytorch_forecasting/data/encoders.py:373: UserWarning: scale is below 1e-7 - consider not centering the data or using data with higher variance for numerical stability\n",
      "  warnings.warn(\n",
      "/home/qishuai/anaconda3/envs/glasgow/lib/python3.8/site-packages/pytorch_forecasting/data/encoders.py:373: UserWarning: scale is below 1e-7 - consider not centering the data or using data with higher variance for numerical stability\n",
      "  warnings.warn(\n",
      "/home/qishuai/anaconda3/envs/glasgow/lib/python3.8/site-packages/pytorch_forecasting/data/encoders.py:373: UserWarning: scale is below 1e-7 - consider not centering the data or using data with higher variance for numerical stability\n",
      "  warnings.warn(\n",
      "/home/qishuai/anaconda3/envs/glasgow/lib/python3.8/site-packages/pytorch_forecasting/data/encoders.py:373: UserWarning: scale is below 1e-7 - consider not centering the data or using data with higher variance for numerical stability\n",
      "  warnings.warn(\n"
     ]
    },
    {
     "data": {
      "application/vnd.jupyter.widget-view+json": {
       "model_id": "",
       "version_major": 2,
       "version_minor": 0
      },
      "text/plain": [
       "Validating: 0it [00:00, ?it/s]"
      ]
     },
     "metadata": {},
     "output_type": "display_data"
    },
    {
     "name": "stderr",
     "output_type": "stream",
     "text": [
      "/home/qishuai/anaconda3/envs/glasgow/lib/python3.8/site-packages/pytorch_forecasting/data/encoders.py:373: UserWarning: scale is below 1e-7 - consider not centering the data or using data with higher variance for numerical stability\n",
      "  warnings.warn(\n",
      "/home/qishuai/anaconda3/envs/glasgow/lib/python3.8/site-packages/pytorch_forecasting/data/timeseries.py:1649: UserWarning: Creating a tensor from a list of numpy.ndarrays is extremely slow. Please consider converting the list to a single numpy.ndarray with numpy.array() before converting to a tensor. (Triggered internally at  /opt/conda/conda-bld/pytorch_1646755903507/work/torch/csrc/utils/tensor_new.cpp:210.)\n",
      "  target_scale = torch.tensor([batch[0][\"target_scale\"] for batch in batches], dtype=torch.float)\n",
      "/home/qishuai/anaconda3/envs/glasgow/lib/python3.8/site-packages/pytorch_forecasting/data/timeseries.py:1649: UserWarning: Creating a tensor from a list of numpy.ndarrays is extremely slow. Please consider converting the list to a single numpy.ndarray with numpy.array() before converting to a tensor. (Triggered internally at  /opt/conda/conda-bld/pytorch_1646755903507/work/torch/csrc/utils/tensor_new.cpp:210.)\n",
      "  target_scale = torch.tensor([batch[0][\"target_scale\"] for batch in batches], dtype=torch.float)\n",
      "/home/qishuai/anaconda3/envs/glasgow/lib/python3.8/site-packages/pytorch_forecasting/data/timeseries.py:1649: UserWarning: Creating a tensor from a list of numpy.ndarrays is extremely slow. Please consider converting the list to a single numpy.ndarray with numpy.array() before converting to a tensor. (Triggered internally at  /opt/conda/conda-bld/pytorch_1646755903507/work/torch/csrc/utils/tensor_new.cpp:210.)\n",
      "  target_scale = torch.tensor([batch[0][\"target_scale\"] for batch in batches], dtype=torch.float)\n",
      "/home/qishuai/anaconda3/envs/glasgow/lib/python3.8/site-packages/pytorch_forecasting/data/timeseries.py:1649: UserWarning: Creating a tensor from a list of numpy.ndarrays is extremely slow. Please consider converting the list to a single numpy.ndarray with numpy.array() before converting to a tensor. (Triggered internally at  /opt/conda/conda-bld/pytorch_1646755903507/work/torch/csrc/utils/tensor_new.cpp:210.)\n",
      "  target_scale = torch.tensor([batch[0][\"target_scale\"] for batch in batches], dtype=torch.float)\n",
      "/home/qishuai/anaconda3/envs/glasgow/lib/python3.8/site-packages/pytorch_forecasting/data/timeseries.py:1649: UserWarning: Creating a tensor from a list of numpy.ndarrays is extremely slow. Please consider converting the list to a single numpy.ndarray with numpy.array() before converting to a tensor. (Triggered internally at  /opt/conda/conda-bld/pytorch_1646755903507/work/torch/csrc/utils/tensor_new.cpp:210.)\n",
      "  target_scale = torch.tensor([batch[0][\"target_scale\"] for batch in batches], dtype=torch.float)\n",
      "/home/qishuai/anaconda3/envs/glasgow/lib/python3.8/site-packages/pytorch_forecasting/data/timeseries.py:1649: UserWarning: Creating a tensor from a list of numpy.ndarrays is extremely slow. Please consider converting the list to a single numpy.ndarray with numpy.array() before converting to a tensor. (Triggered internally at  /opt/conda/conda-bld/pytorch_1646755903507/work/torch/csrc/utils/tensor_new.cpp:210.)\n",
      "  target_scale = torch.tensor([batch[0][\"target_scale\"] for batch in batches], dtype=torch.float)\n",
      "/home/qishuai/anaconda3/envs/glasgow/lib/python3.8/site-packages/pytorch_forecasting/data/timeseries.py:1649: UserWarning: Creating a tensor from a list of numpy.ndarrays is extremely slow. Please consider converting the list to a single numpy.ndarray with numpy.array() before converting to a tensor. (Triggered internally at  /opt/conda/conda-bld/pytorch_1646755903507/work/torch/csrc/utils/tensor_new.cpp:210.)\n",
      "  target_scale = torch.tensor([batch[0][\"target_scale\"] for batch in batches], dtype=torch.float)\n",
      "/home/qishuai/anaconda3/envs/glasgow/lib/python3.8/site-packages/pytorch_forecasting/data/timeseries.py:1649: UserWarning: Creating a tensor from a list of numpy.ndarrays is extremely slow. Please consider converting the list to a single numpy.ndarray with numpy.array() before converting to a tensor. (Triggered internally at  /opt/conda/conda-bld/pytorch_1646755903507/work/torch/csrc/utils/tensor_new.cpp:210.)\n",
      "  target_scale = torch.tensor([batch[0][\"target_scale\"] for batch in batches], dtype=torch.float)\n",
      "/home/qishuai/anaconda3/envs/glasgow/lib/python3.8/site-packages/pytorch_forecasting/data/encoders.py:373: UserWarning: scale is below 1e-7 - consider not centering the data or using data with higher variance for numerical stability\n",
      "  warnings.warn(\n",
      "/home/qishuai/anaconda3/envs/glasgow/lib/python3.8/site-packages/pytorch_forecasting/data/encoders.py:373: UserWarning: scale is below 1e-7 - consider not centering the data or using data with higher variance for numerical stability\n",
      "  warnings.warn(\n",
      "/home/qishuai/anaconda3/envs/glasgow/lib/python3.8/site-packages/pytorch_forecasting/data/encoders.py:373: UserWarning: scale is below 1e-7 - consider not centering the data or using data with higher variance for numerical stability\n",
      "  warnings.warn(\n",
      "/home/qishuai/anaconda3/envs/glasgow/lib/python3.8/site-packages/pytorch_forecasting/data/encoders.py:373: UserWarning: scale is below 1e-7 - consider not centering the data or using data with higher variance for numerical stability\n",
      "  warnings.warn(\n",
      "/home/qishuai/anaconda3/envs/glasgow/lib/python3.8/site-packages/pytorch_forecasting/data/encoders.py:373: UserWarning: scale is below 1e-7 - consider not centering the data or using data with higher variance for numerical stability\n",
      "  warnings.warn(\n",
      "/home/qishuai/anaconda3/envs/glasgow/lib/python3.8/site-packages/pytorch_forecasting/data/encoders.py:373: UserWarning: scale is below 1e-7 - consider not centering the data or using data with higher variance for numerical stability\n",
      "  warnings.warn(\n",
      "/home/qishuai/anaconda3/envs/glasgow/lib/python3.8/site-packages/pytorch_forecasting/data/encoders.py:373: UserWarning: scale is below 1e-7 - consider not centering the data or using data with higher variance for numerical stability\n",
      "  warnings.warn(\n",
      "/home/qishuai/anaconda3/envs/glasgow/lib/python3.8/site-packages/pytorch_forecasting/data/encoders.py:373: UserWarning: scale is below 1e-7 - consider not centering the data or using data with higher variance for numerical stability\n",
      "  warnings.warn(\n",
      "/home/qishuai/anaconda3/envs/glasgow/lib/python3.8/site-packages/pytorch_forecasting/data/encoders.py:373: UserWarning: scale is below 1e-7 - consider not centering the data or using data with higher variance for numerical stability\n",
      "  warnings.warn(\n",
      "/home/qishuai/anaconda3/envs/glasgow/lib/python3.8/site-packages/pytorch_forecasting/data/encoders.py:373: UserWarning: scale is below 1e-7 - consider not centering the data or using data with higher variance for numerical stability\n",
      "  warnings.warn(\n",
      "/home/qishuai/anaconda3/envs/glasgow/lib/python3.8/site-packages/pytorch_forecasting/data/timeseries.py:1649: UserWarning: Creating a tensor from a list of numpy.ndarrays is extremely slow. Please consider converting the list to a single numpy.ndarray with numpy.array() before converting to a tensor. (Triggered internally at  /opt/conda/conda-bld/pytorch_1646755903507/work/torch/csrc/utils/tensor_new.cpp:210.)\n",
      "  target_scale = torch.tensor([batch[0][\"target_scale\"] for batch in batches], dtype=torch.float)\n",
      "/home/qishuai/anaconda3/envs/glasgow/lib/python3.8/site-packages/pytorch_forecasting/data/timeseries.py:1649: UserWarning: Creating a tensor from a list of numpy.ndarrays is extremely slow. Please consider converting the list to a single numpy.ndarray with numpy.array() before converting to a tensor. (Triggered internally at  /opt/conda/conda-bld/pytorch_1646755903507/work/torch/csrc/utils/tensor_new.cpp:210.)\n",
      "  target_scale = torch.tensor([batch[0][\"target_scale\"] for batch in batches], dtype=torch.float)\n",
      "/home/qishuai/anaconda3/envs/glasgow/lib/python3.8/site-packages/pytorch_forecasting/data/timeseries.py:1649: UserWarning: Creating a tensor from a list of numpy.ndarrays is extremely slow. Please consider converting the list to a single numpy.ndarray with numpy.array() before converting to a tensor. (Triggered internally at  /opt/conda/conda-bld/pytorch_1646755903507/work/torch/csrc/utils/tensor_new.cpp:210.)\n",
      "  target_scale = torch.tensor([batch[0][\"target_scale\"] for batch in batches], dtype=torch.float)\n"
     ]
    },
    {
     "name": "stderr",
     "output_type": "stream",
     "text": [
      "/home/qishuai/anaconda3/envs/glasgow/lib/python3.8/site-packages/pytorch_forecasting/data/timeseries.py:1649: UserWarning: Creating a tensor from a list of numpy.ndarrays is extremely slow. Please consider converting the list to a single numpy.ndarray with numpy.array() before converting to a tensor. (Triggered internally at  /opt/conda/conda-bld/pytorch_1646755903507/work/torch/csrc/utils/tensor_new.cpp:210.)\n",
      "  target_scale = torch.tensor([batch[0][\"target_scale\"] for batch in batches], dtype=torch.float)\n",
      "/home/qishuai/anaconda3/envs/glasgow/lib/python3.8/site-packages/pytorch_forecasting/data/timeseries.py:1649: UserWarning: Creating a tensor from a list of numpy.ndarrays is extremely slow. Please consider converting the list to a single numpy.ndarray with numpy.array() before converting to a tensor. (Triggered internally at  /opt/conda/conda-bld/pytorch_1646755903507/work/torch/csrc/utils/tensor_new.cpp:210.)\n",
      "  target_scale = torch.tensor([batch[0][\"target_scale\"] for batch in batches], dtype=torch.float)\n",
      "/home/qishuai/anaconda3/envs/glasgow/lib/python3.8/site-packages/pytorch_forecasting/data/timeseries.py:1649: UserWarning: Creating a tensor from a list of numpy.ndarrays is extremely slow. Please consider converting the list to a single numpy.ndarray with numpy.array() before converting to a tensor. (Triggered internally at  /opt/conda/conda-bld/pytorch_1646755903507/work/torch/csrc/utils/tensor_new.cpp:210.)\n",
      "  target_scale = torch.tensor([batch[0][\"target_scale\"] for batch in batches], dtype=torch.float)\n",
      "/home/qishuai/anaconda3/envs/glasgow/lib/python3.8/site-packages/pytorch_forecasting/data/timeseries.py:1649: UserWarning: Creating a tensor from a list of numpy.ndarrays is extremely slow. Please consider converting the list to a single numpy.ndarray with numpy.array() before converting to a tensor. (Triggered internally at  /opt/conda/conda-bld/pytorch_1646755903507/work/torch/csrc/utils/tensor_new.cpp:210.)\n",
      "  target_scale = torch.tensor([batch[0][\"target_scale\"] for batch in batches], dtype=torch.float)\n",
      "/home/qishuai/anaconda3/envs/glasgow/lib/python3.8/site-packages/pytorch_forecasting/data/timeseries.py:1649: UserWarning: Creating a tensor from a list of numpy.ndarrays is extremely slow. Please consider converting the list to a single numpy.ndarray with numpy.array() before converting to a tensor. (Triggered internally at  /opt/conda/conda-bld/pytorch_1646755903507/work/torch/csrc/utils/tensor_new.cpp:210.)\n",
      "  target_scale = torch.tensor([batch[0][\"target_scale\"] for batch in batches], dtype=torch.float)\n",
      "/home/qishuai/anaconda3/envs/glasgow/lib/python3.8/site-packages/pytorch_forecasting/data/encoders.py:373: UserWarning: scale is below 1e-7 - consider not centering the data or using data with higher variance for numerical stability\n",
      "  warnings.warn(\n",
      "/home/qishuai/anaconda3/envs/glasgow/lib/python3.8/site-packages/pytorch_forecasting/data/encoders.py:373: UserWarning: scale is below 1e-7 - consider not centering the data or using data with higher variance for numerical stability\n",
      "  warnings.warn(\n",
      "/home/qishuai/anaconda3/envs/glasgow/lib/python3.8/site-packages/pytorch_forecasting/data/encoders.py:373: UserWarning: scale is below 1e-7 - consider not centering the data or using data with higher variance for numerical stability\n",
      "  warnings.warn(\n",
      "/home/qishuai/anaconda3/envs/glasgow/lib/python3.8/site-packages/pytorch_forecasting/data/encoders.py:373: UserWarning: scale is below 1e-7 - consider not centering the data or using data with higher variance for numerical stability\n",
      "  warnings.warn(\n",
      "/home/qishuai/anaconda3/envs/glasgow/lib/python3.8/site-packages/pytorch_forecasting/data/encoders.py:373: UserWarning: scale is below 1e-7 - consider not centering the data or using data with higher variance for numerical stability\n",
      "  warnings.warn(\n"
     ]
    },
    {
     "data": {
      "application/vnd.jupyter.widget-view+json": {
       "model_id": "",
       "version_major": 2,
       "version_minor": 0
      },
      "text/plain": [
       "Validating: 0it [00:00, ?it/s]"
      ]
     },
     "metadata": {},
     "output_type": "display_data"
    },
    {
     "name": "stderr",
     "output_type": "stream",
     "text": [
      "/home/qishuai/anaconda3/envs/glasgow/lib/python3.8/site-packages/pytorch_forecasting/data/encoders.py:373: UserWarning: scale is below 1e-7 - consider not centering the data or using data with higher variance for numerical stability\n",
      "  warnings.warn(\n",
      "/home/qishuai/anaconda3/envs/glasgow/lib/python3.8/site-packages/pytorch_forecasting/data/timeseries.py:1649: UserWarning: Creating a tensor from a list of numpy.ndarrays is extremely slow. Please consider converting the list to a single numpy.ndarray with numpy.array() before converting to a tensor. (Triggered internally at  /opt/conda/conda-bld/pytorch_1646755903507/work/torch/csrc/utils/tensor_new.cpp:210.)\n",
      "  target_scale = torch.tensor([batch[0][\"target_scale\"] for batch in batches], dtype=torch.float)\n",
      "/home/qishuai/anaconda3/envs/glasgow/lib/python3.8/site-packages/pytorch_forecasting/data/timeseries.py:1649: UserWarning: Creating a tensor from a list of numpy.ndarrays is extremely slow. Please consider converting the list to a single numpy.ndarray with numpy.array() before converting to a tensor. (Triggered internally at  /opt/conda/conda-bld/pytorch_1646755903507/work/torch/csrc/utils/tensor_new.cpp:210.)\n",
      "  target_scale = torch.tensor([batch[0][\"target_scale\"] for batch in batches], dtype=torch.float)\n",
      "/home/qishuai/anaconda3/envs/glasgow/lib/python3.8/site-packages/pytorch_forecasting/data/timeseries.py:1649: UserWarning: Creating a tensor from a list of numpy.ndarrays is extremely slow. Please consider converting the list to a single numpy.ndarray with numpy.array() before converting to a tensor. (Triggered internally at  /opt/conda/conda-bld/pytorch_1646755903507/work/torch/csrc/utils/tensor_new.cpp:210.)\n",
      "  target_scale = torch.tensor([batch[0][\"target_scale\"] for batch in batches], dtype=torch.float)\n",
      "/home/qishuai/anaconda3/envs/glasgow/lib/python3.8/site-packages/pytorch_forecasting/data/timeseries.py:1649: UserWarning: Creating a tensor from a list of numpy.ndarrays is extremely slow. Please consider converting the list to a single numpy.ndarray with numpy.array() before converting to a tensor. (Triggered internally at  /opt/conda/conda-bld/pytorch_1646755903507/work/torch/csrc/utils/tensor_new.cpp:210.)\n",
      "  target_scale = torch.tensor([batch[0][\"target_scale\"] for batch in batches], dtype=torch.float)\n",
      "/home/qishuai/anaconda3/envs/glasgow/lib/python3.8/site-packages/pytorch_forecasting/data/timeseries.py:1649: UserWarning: Creating a tensor from a list of numpy.ndarrays is extremely slow. Please consider converting the list to a single numpy.ndarray with numpy.array() before converting to a tensor. (Triggered internally at  /opt/conda/conda-bld/pytorch_1646755903507/work/torch/csrc/utils/tensor_new.cpp:210.)\n",
      "  target_scale = torch.tensor([batch[0][\"target_scale\"] for batch in batches], dtype=torch.float)\n",
      "/home/qishuai/anaconda3/envs/glasgow/lib/python3.8/site-packages/pytorch_forecasting/data/timeseries.py:1649: UserWarning: Creating a tensor from a list of numpy.ndarrays is extremely slow. Please consider converting the list to a single numpy.ndarray with numpy.array() before converting to a tensor. (Triggered internally at  /opt/conda/conda-bld/pytorch_1646755903507/work/torch/csrc/utils/tensor_new.cpp:210.)\n",
      "  target_scale = torch.tensor([batch[0][\"target_scale\"] for batch in batches], dtype=torch.float)\n",
      "/home/qishuai/anaconda3/envs/glasgow/lib/python3.8/site-packages/pytorch_forecasting/data/timeseries.py:1649: UserWarning: Creating a tensor from a list of numpy.ndarrays is extremely slow. Please consider converting the list to a single numpy.ndarray with numpy.array() before converting to a tensor. (Triggered internally at  /opt/conda/conda-bld/pytorch_1646755903507/work/torch/csrc/utils/tensor_new.cpp:210.)\n",
      "  target_scale = torch.tensor([batch[0][\"target_scale\"] for batch in batches], dtype=torch.float)\n",
      "/home/qishuai/anaconda3/envs/glasgow/lib/python3.8/site-packages/pytorch_forecasting/data/timeseries.py:1649: UserWarning: Creating a tensor from a list of numpy.ndarrays is extremely slow. Please consider converting the list to a single numpy.ndarray with numpy.array() before converting to a tensor. (Triggered internally at  /opt/conda/conda-bld/pytorch_1646755903507/work/torch/csrc/utils/tensor_new.cpp:210.)\n",
      "  target_scale = torch.tensor([batch[0][\"target_scale\"] for batch in batches], dtype=torch.float)\n",
      "/home/qishuai/anaconda3/envs/glasgow/lib/python3.8/site-packages/pytorch_forecasting/data/encoders.py:373: UserWarning: scale is below 1e-7 - consider not centering the data or using data with higher variance for numerical stability\n",
      "  warnings.warn(\n",
      "/home/qishuai/anaconda3/envs/glasgow/lib/python3.8/site-packages/pytorch_forecasting/data/encoders.py:373: UserWarning: scale is below 1e-7 - consider not centering the data or using data with higher variance for numerical stability\n",
      "  warnings.warn(\n",
      "/home/qishuai/anaconda3/envs/glasgow/lib/python3.8/site-packages/pytorch_forecasting/data/encoders.py:373: UserWarning: scale is below 1e-7 - consider not centering the data or using data with higher variance for numerical stability\n",
      "  warnings.warn(\n",
      "/home/qishuai/anaconda3/envs/glasgow/lib/python3.8/site-packages/pytorch_forecasting/data/encoders.py:373: UserWarning: scale is below 1e-7 - consider not centering the data or using data with higher variance for numerical stability\n",
      "  warnings.warn(\n",
      "/home/qishuai/anaconda3/envs/glasgow/lib/python3.8/site-packages/pytorch_forecasting/data/encoders.py:373: UserWarning: scale is below 1e-7 - consider not centering the data or using data with higher variance for numerical stability\n",
      "  warnings.warn(\n",
      "/home/qishuai/anaconda3/envs/glasgow/lib/python3.8/site-packages/pytorch_forecasting/data/encoders.py:373: UserWarning: scale is below 1e-7 - consider not centering the data or using data with higher variance for numerical stability\n",
      "  warnings.warn(\n",
      "/home/qishuai/anaconda3/envs/glasgow/lib/python3.8/site-packages/pytorch_forecasting/data/encoders.py:373: UserWarning: scale is below 1e-7 - consider not centering the data or using data with higher variance for numerical stability\n",
      "  warnings.warn(\n",
      "/home/qishuai/anaconda3/envs/glasgow/lib/python3.8/site-packages/pytorch_forecasting/data/encoders.py:373: UserWarning: scale is below 1e-7 - consider not centering the data or using data with higher variance for numerical stability\n",
      "  warnings.warn(\n",
      "/home/qishuai/anaconda3/envs/glasgow/lib/python3.8/site-packages/pytorch_forecasting/data/timeseries.py:1649: UserWarning: Creating a tensor from a list of numpy.ndarrays is extremely slow. Please consider converting the list to a single numpy.ndarray with numpy.array() before converting to a tensor. (Triggered internally at  /opt/conda/conda-bld/pytorch_1646755903507/work/torch/csrc/utils/tensor_new.cpp:210.)\n",
      "  target_scale = torch.tensor([batch[0][\"target_scale\"] for batch in batches], dtype=torch.float)\n",
      "/home/qishuai/anaconda3/envs/glasgow/lib/python3.8/site-packages/pytorch_forecasting/data/timeseries.py:1649: UserWarning: Creating a tensor from a list of numpy.ndarrays is extremely slow. Please consider converting the list to a single numpy.ndarray with numpy.array() before converting to a tensor. (Triggered internally at  /opt/conda/conda-bld/pytorch_1646755903507/work/torch/csrc/utils/tensor_new.cpp:210.)\n",
      "  target_scale = torch.tensor([batch[0][\"target_scale\"] for batch in batches], dtype=torch.float)\n",
      "/home/qishuai/anaconda3/envs/glasgow/lib/python3.8/site-packages/pytorch_forecasting/data/timeseries.py:1649: UserWarning: Creating a tensor from a list of numpy.ndarrays is extremely slow. Please consider converting the list to a single numpy.ndarray with numpy.array() before converting to a tensor. (Triggered internally at  /opt/conda/conda-bld/pytorch_1646755903507/work/torch/csrc/utils/tensor_new.cpp:210.)\n",
      "  target_scale = torch.tensor([batch[0][\"target_scale\"] for batch in batches], dtype=torch.float)\n",
      "/home/qishuai/anaconda3/envs/glasgow/lib/python3.8/site-packages/pytorch_forecasting/data/timeseries.py:1649: UserWarning: Creating a tensor from a list of numpy.ndarrays is extremely slow. Please consider converting the list to a single numpy.ndarray with numpy.array() before converting to a tensor. (Triggered internally at  /opt/conda/conda-bld/pytorch_1646755903507/work/torch/csrc/utils/tensor_new.cpp:210.)\n",
      "  target_scale = torch.tensor([batch[0][\"target_scale\"] for batch in batches], dtype=torch.float)\n"
     ]
    },
    {
     "name": "stderr",
     "output_type": "stream",
     "text": [
      "/home/qishuai/anaconda3/envs/glasgow/lib/python3.8/site-packages/pytorch_forecasting/data/timeseries.py:1649: UserWarning: Creating a tensor from a list of numpy.ndarrays is extremely slow. Please consider converting the list to a single numpy.ndarray with numpy.array() before converting to a tensor. (Triggered internally at  /opt/conda/conda-bld/pytorch_1646755903507/work/torch/csrc/utils/tensor_new.cpp:210.)\n",
      "  target_scale = torch.tensor([batch[0][\"target_scale\"] for batch in batches], dtype=torch.float)\n",
      "/home/qishuai/anaconda3/envs/glasgow/lib/python3.8/site-packages/pytorch_forecasting/data/timeseries.py:1649: UserWarning: Creating a tensor from a list of numpy.ndarrays is extremely slow. Please consider converting the list to a single numpy.ndarray with numpy.array() before converting to a tensor. (Triggered internally at  /opt/conda/conda-bld/pytorch_1646755903507/work/torch/csrc/utils/tensor_new.cpp:210.)\n",
      "  target_scale = torch.tensor([batch[0][\"target_scale\"] for batch in batches], dtype=torch.float)\n",
      "/home/qishuai/anaconda3/envs/glasgow/lib/python3.8/site-packages/pytorch_forecasting/data/encoders.py:373: UserWarning: scale is below 1e-7 - consider not centering the data or using data with higher variance for numerical stability\n",
      "  warnings.warn(\n",
      "/home/qishuai/anaconda3/envs/glasgow/lib/python3.8/site-packages/pytorch_forecasting/data/timeseries.py:1649: UserWarning: Creating a tensor from a list of numpy.ndarrays is extremely slow. Please consider converting the list to a single numpy.ndarray with numpy.array() before converting to a tensor. (Triggered internally at  /opt/conda/conda-bld/pytorch_1646755903507/work/torch/csrc/utils/tensor_new.cpp:210.)\n",
      "  target_scale = torch.tensor([batch[0][\"target_scale\"] for batch in batches], dtype=torch.float)\n",
      "/home/qishuai/anaconda3/envs/glasgow/lib/python3.8/site-packages/pytorch_forecasting/data/timeseries.py:1649: UserWarning: Creating a tensor from a list of numpy.ndarrays is extremely slow. Please consider converting the list to a single numpy.ndarray with numpy.array() before converting to a tensor. (Triggered internally at  /opt/conda/conda-bld/pytorch_1646755903507/work/torch/csrc/utils/tensor_new.cpp:210.)\n",
      "  target_scale = torch.tensor([batch[0][\"target_scale\"] for batch in batches], dtype=torch.float)\n",
      "/home/qishuai/anaconda3/envs/glasgow/lib/python3.8/site-packages/pytorch_forecasting/data/encoders.py:373: UserWarning: scale is below 1e-7 - consider not centering the data or using data with higher variance for numerical stability\n",
      "  warnings.warn(\n",
      "/home/qishuai/anaconda3/envs/glasgow/lib/python3.8/site-packages/pytorch_forecasting/data/encoders.py:373: UserWarning: scale is below 1e-7 - consider not centering the data or using data with higher variance for numerical stability\n",
      "  warnings.warn(\n",
      "/home/qishuai/anaconda3/envs/glasgow/lib/python3.8/site-packages/pytorch_forecasting/data/encoders.py:373: UserWarning: scale is below 1e-7 - consider not centering the data or using data with higher variance for numerical stability\n",
      "  warnings.warn(\n",
      "/home/qishuai/anaconda3/envs/glasgow/lib/python3.8/site-packages/pytorch_forecasting/data/encoders.py:373: UserWarning: scale is below 1e-7 - consider not centering the data or using data with higher variance for numerical stability\n",
      "  warnings.warn(\n",
      "/home/qishuai/anaconda3/envs/glasgow/lib/python3.8/site-packages/pytorch_forecasting/data/encoders.py:373: UserWarning: scale is below 1e-7 - consider not centering the data or using data with higher variance for numerical stability\n",
      "  warnings.warn(\n",
      "/home/qishuai/anaconda3/envs/glasgow/lib/python3.8/site-packages/pytorch_forecasting/data/encoders.py:373: UserWarning: scale is below 1e-7 - consider not centering the data or using data with higher variance for numerical stability\n",
      "  warnings.warn(\n"
     ]
    },
    {
     "data": {
      "application/vnd.jupyter.widget-view+json": {
       "model_id": "",
       "version_major": 2,
       "version_minor": 0
      },
      "text/plain": [
       "Validating: 0it [00:00, ?it/s]"
      ]
     },
     "metadata": {},
     "output_type": "display_data"
    },
    {
     "name": "stderr",
     "output_type": "stream",
     "text": [
      "/home/qishuai/anaconda3/envs/glasgow/lib/python3.8/site-packages/pytorch_forecasting/data/encoders.py:373: UserWarning: scale is below 1e-7 - consider not centering the data or using data with higher variance for numerical stability\n",
      "  warnings.warn(\n",
      "/home/qishuai/anaconda3/envs/glasgow/lib/python3.8/site-packages/pytorch_forecasting/data/timeseries.py:1649: UserWarning: Creating a tensor from a list of numpy.ndarrays is extremely slow. Please consider converting the list to a single numpy.ndarray with numpy.array() before converting to a tensor. (Triggered internally at  /opt/conda/conda-bld/pytorch_1646755903507/work/torch/csrc/utils/tensor_new.cpp:210.)\n",
      "  target_scale = torch.tensor([batch[0][\"target_scale\"] for batch in batches], dtype=torch.float)\n",
      "/home/qishuai/anaconda3/envs/glasgow/lib/python3.8/site-packages/pytorch_forecasting/data/timeseries.py:1649: UserWarning: Creating a tensor from a list of numpy.ndarrays is extremely slow. Please consider converting the list to a single numpy.ndarray with numpy.array() before converting to a tensor. (Triggered internally at  /opt/conda/conda-bld/pytorch_1646755903507/work/torch/csrc/utils/tensor_new.cpp:210.)\n",
      "  target_scale = torch.tensor([batch[0][\"target_scale\"] for batch in batches], dtype=torch.float)\n",
      "/home/qishuai/anaconda3/envs/glasgow/lib/python3.8/site-packages/pytorch_forecasting/data/timeseries.py:1649: UserWarning: Creating a tensor from a list of numpy.ndarrays is extremely slow. Please consider converting the list to a single numpy.ndarray with numpy.array() before converting to a tensor. (Triggered internally at  /opt/conda/conda-bld/pytorch_1646755903507/work/torch/csrc/utils/tensor_new.cpp:210.)\n",
      "  target_scale = torch.tensor([batch[0][\"target_scale\"] for batch in batches], dtype=torch.float)\n",
      "/home/qishuai/anaconda3/envs/glasgow/lib/python3.8/site-packages/pytorch_forecasting/data/timeseries.py:1649: UserWarning: Creating a tensor from a list of numpy.ndarrays is extremely slow. Please consider converting the list to a single numpy.ndarray with numpy.array() before converting to a tensor. (Triggered internally at  /opt/conda/conda-bld/pytorch_1646755903507/work/torch/csrc/utils/tensor_new.cpp:210.)\n",
      "  target_scale = torch.tensor([batch[0][\"target_scale\"] for batch in batches], dtype=torch.float)\n",
      "/home/qishuai/anaconda3/envs/glasgow/lib/python3.8/site-packages/pytorch_forecasting/data/timeseries.py:1649: UserWarning: Creating a tensor from a list of numpy.ndarrays is extremely slow. Please consider converting the list to a single numpy.ndarray with numpy.array() before converting to a tensor. (Triggered internally at  /opt/conda/conda-bld/pytorch_1646755903507/work/torch/csrc/utils/tensor_new.cpp:210.)\n",
      "  target_scale = torch.tensor([batch[0][\"target_scale\"] for batch in batches], dtype=torch.float)\n",
      "/home/qishuai/anaconda3/envs/glasgow/lib/python3.8/site-packages/pytorch_forecasting/data/timeseries.py:1649: UserWarning: Creating a tensor from a list of numpy.ndarrays is extremely slow. Please consider converting the list to a single numpy.ndarray with numpy.array() before converting to a tensor. (Triggered internally at  /opt/conda/conda-bld/pytorch_1646755903507/work/torch/csrc/utils/tensor_new.cpp:210.)\n",
      "  target_scale = torch.tensor([batch[0][\"target_scale\"] for batch in batches], dtype=torch.float)\n",
      "/home/qishuai/anaconda3/envs/glasgow/lib/python3.8/site-packages/pytorch_forecasting/data/timeseries.py:1649: UserWarning: Creating a tensor from a list of numpy.ndarrays is extremely slow. Please consider converting the list to a single numpy.ndarray with numpy.array() before converting to a tensor. (Triggered internally at  /opt/conda/conda-bld/pytorch_1646755903507/work/torch/csrc/utils/tensor_new.cpp:210.)\n",
      "  target_scale = torch.tensor([batch[0][\"target_scale\"] for batch in batches], dtype=torch.float)\n",
      "/home/qishuai/anaconda3/envs/glasgow/lib/python3.8/site-packages/pytorch_forecasting/data/encoders.py:373: UserWarning: scale is below 1e-7 - consider not centering the data or using data with higher variance for numerical stability\n",
      "  warnings.warn(\n",
      "/home/qishuai/anaconda3/envs/glasgow/lib/python3.8/site-packages/pytorch_forecasting/data/timeseries.py:1649: UserWarning: Creating a tensor from a list of numpy.ndarrays is extremely slow. Please consider converting the list to a single numpy.ndarray with numpy.array() before converting to a tensor. (Triggered internally at  /opt/conda/conda-bld/pytorch_1646755903507/work/torch/csrc/utils/tensor_new.cpp:210.)\n",
      "  target_scale = torch.tensor([batch[0][\"target_scale\"] for batch in batches], dtype=torch.float)\n",
      "/home/qishuai/anaconda3/envs/glasgow/lib/python3.8/site-packages/pytorch_forecasting/data/encoders.py:373: UserWarning: scale is below 1e-7 - consider not centering the data or using data with higher variance for numerical stability\n",
      "  warnings.warn(\n",
      "/home/qishuai/anaconda3/envs/glasgow/lib/python3.8/site-packages/pytorch_forecasting/data/encoders.py:373: UserWarning: scale is below 1e-7 - consider not centering the data or using data with higher variance for numerical stability\n",
      "  warnings.warn(\n",
      "/home/qishuai/anaconda3/envs/glasgow/lib/python3.8/site-packages/pytorch_forecasting/data/encoders.py:373: UserWarning: scale is below 1e-7 - consider not centering the data or using data with higher variance for numerical stability\n",
      "  warnings.warn(\n",
      "/home/qishuai/anaconda3/envs/glasgow/lib/python3.8/site-packages/pytorch_forecasting/data/encoders.py:373: UserWarning: scale is below 1e-7 - consider not centering the data or using data with higher variance for numerical stability\n",
      "  warnings.warn(\n",
      "/home/qishuai/anaconda3/envs/glasgow/lib/python3.8/site-packages/pytorch_forecasting/data/encoders.py:373: UserWarning: scale is below 1e-7 - consider not centering the data or using data with higher variance for numerical stability\n",
      "  warnings.warn(\n",
      "/home/qishuai/anaconda3/envs/glasgow/lib/python3.8/site-packages/pytorch_forecasting/data/encoders.py:373: UserWarning: scale is below 1e-7 - consider not centering the data or using data with higher variance for numerical stability\n",
      "  warnings.warn(\n",
      "/home/qishuai/anaconda3/envs/glasgow/lib/python3.8/site-packages/pytorch_forecasting/data/encoders.py:373: UserWarning: scale is below 1e-7 - consider not centering the data or using data with higher variance for numerical stability\n",
      "  warnings.warn(\n",
      "/home/qishuai/anaconda3/envs/glasgow/lib/python3.8/site-packages/pytorch_forecasting/data/encoders.py:373: UserWarning: scale is below 1e-7 - consider not centering the data or using data with higher variance for numerical stability\n",
      "  warnings.warn(\n",
      "/home/qishuai/anaconda3/envs/glasgow/lib/python3.8/site-packages/pytorch_forecasting/data/timeseries.py:1649: UserWarning: Creating a tensor from a list of numpy.ndarrays is extremely slow. Please consider converting the list to a single numpy.ndarray with numpy.array() before converting to a tensor. (Triggered internally at  /opt/conda/conda-bld/pytorch_1646755903507/work/torch/csrc/utils/tensor_new.cpp:210.)\n",
      "  target_scale = torch.tensor([batch[0][\"target_scale\"] for batch in batches], dtype=torch.float)\n",
      "/home/qishuai/anaconda3/envs/glasgow/lib/python3.8/site-packages/pytorch_forecasting/data/timeseries.py:1649: UserWarning: Creating a tensor from a list of numpy.ndarrays is extremely slow. Please consider converting the list to a single numpy.ndarray with numpy.array() before converting to a tensor. (Triggered internally at  /opt/conda/conda-bld/pytorch_1646755903507/work/torch/csrc/utils/tensor_new.cpp:210.)\n",
      "  target_scale = torch.tensor([batch[0][\"target_scale\"] for batch in batches], dtype=torch.float)\n",
      "/home/qishuai/anaconda3/envs/glasgow/lib/python3.8/site-packages/pytorch_forecasting/data/timeseries.py:1649: UserWarning: Creating a tensor from a list of numpy.ndarrays is extremely slow. Please consider converting the list to a single numpy.ndarray with numpy.array() before converting to a tensor. (Triggered internally at  /opt/conda/conda-bld/pytorch_1646755903507/work/torch/csrc/utils/tensor_new.cpp:210.)\n",
      "  target_scale = torch.tensor([batch[0][\"target_scale\"] for batch in batches], dtype=torch.float)\n",
      "/home/qishuai/anaconda3/envs/glasgow/lib/python3.8/site-packages/pytorch_forecasting/data/timeseries.py:1649: UserWarning: Creating a tensor from a list of numpy.ndarrays is extremely slow. Please consider converting the list to a single numpy.ndarray with numpy.array() before converting to a tensor. (Triggered internally at  /opt/conda/conda-bld/pytorch_1646755903507/work/torch/csrc/utils/tensor_new.cpp:210.)\n",
      "  target_scale = torch.tensor([batch[0][\"target_scale\"] for batch in batches], dtype=torch.float)\n"
     ]
    },
    {
     "name": "stderr",
     "output_type": "stream",
     "text": [
      "/home/qishuai/anaconda3/envs/glasgow/lib/python3.8/site-packages/pytorch_forecasting/data/timeseries.py:1649: UserWarning: Creating a tensor from a list of numpy.ndarrays is extremely slow. Please consider converting the list to a single numpy.ndarray with numpy.array() before converting to a tensor. (Triggered internally at  /opt/conda/conda-bld/pytorch_1646755903507/work/torch/csrc/utils/tensor_new.cpp:210.)\n",
      "  target_scale = torch.tensor([batch[0][\"target_scale\"] for batch in batches], dtype=torch.float)\n",
      "/home/qishuai/anaconda3/envs/glasgow/lib/python3.8/site-packages/pytorch_forecasting/data/timeseries.py:1649: UserWarning: Creating a tensor from a list of numpy.ndarrays is extremely slow. Please consider converting the list to a single numpy.ndarray with numpy.array() before converting to a tensor. (Triggered internally at  /opt/conda/conda-bld/pytorch_1646755903507/work/torch/csrc/utils/tensor_new.cpp:210.)\n",
      "  target_scale = torch.tensor([batch[0][\"target_scale\"] for batch in batches], dtype=torch.float)\n",
      "/home/qishuai/anaconda3/envs/glasgow/lib/python3.8/site-packages/pytorch_forecasting/data/timeseries.py:1649: UserWarning: Creating a tensor from a list of numpy.ndarrays is extremely slow. Please consider converting the list to a single numpy.ndarray with numpy.array() before converting to a tensor. (Triggered internally at  /opt/conda/conda-bld/pytorch_1646755903507/work/torch/csrc/utils/tensor_new.cpp:210.)\n",
      "  target_scale = torch.tensor([batch[0][\"target_scale\"] for batch in batches], dtype=torch.float)\n",
      "/home/qishuai/anaconda3/envs/glasgow/lib/python3.8/site-packages/pytorch_forecasting/data/timeseries.py:1649: UserWarning: Creating a tensor from a list of numpy.ndarrays is extremely slow. Please consider converting the list to a single numpy.ndarray with numpy.array() before converting to a tensor. (Triggered internally at  /opt/conda/conda-bld/pytorch_1646755903507/work/torch/csrc/utils/tensor_new.cpp:210.)\n",
      "  target_scale = torch.tensor([batch[0][\"target_scale\"] for batch in batches], dtype=torch.float)\n",
      "/home/qishuai/anaconda3/envs/glasgow/lib/python3.8/site-packages/pytorch_forecasting/data/encoders.py:373: UserWarning: scale is below 1e-7 - consider not centering the data or using data with higher variance for numerical stability\n",
      "  warnings.warn(\n",
      "/home/qishuai/anaconda3/envs/glasgow/lib/python3.8/site-packages/pytorch_forecasting/data/encoders.py:373: UserWarning: scale is below 1e-7 - consider not centering the data or using data with higher variance for numerical stability\n",
      "  warnings.warn(\n",
      "/home/qishuai/anaconda3/envs/glasgow/lib/python3.8/site-packages/pytorch_forecasting/data/encoders.py:373: UserWarning: scale is below 1e-7 - consider not centering the data or using data with higher variance for numerical stability\n",
      "  warnings.warn(\n",
      "/home/qishuai/anaconda3/envs/glasgow/lib/python3.8/site-packages/pytorch_forecasting/data/encoders.py:373: UserWarning: scale is below 1e-7 - consider not centering the data or using data with higher variance for numerical stability\n",
      "  warnings.warn(\n",
      "/home/qishuai/anaconda3/envs/glasgow/lib/python3.8/site-packages/pytorch_forecasting/data/encoders.py:373: UserWarning: scale is below 1e-7 - consider not centering the data or using data with higher variance for numerical stability\n",
      "  warnings.warn(\n",
      "/home/qishuai/anaconda3/envs/glasgow/lib/python3.8/site-packages/pytorch_forecasting/data/encoders.py:373: UserWarning: scale is below 1e-7 - consider not centering the data or using data with higher variance for numerical stability\n",
      "  warnings.warn(\n"
     ]
    },
    {
     "data": {
      "application/vnd.jupyter.widget-view+json": {
       "model_id": "",
       "version_major": 2,
       "version_minor": 0
      },
      "text/plain": [
       "Validating: 0it [00:00, ?it/s]"
      ]
     },
     "metadata": {},
     "output_type": "display_data"
    },
    {
     "name": "stderr",
     "output_type": "stream",
     "text": [
      "/home/qishuai/anaconda3/envs/glasgow/lib/python3.8/site-packages/pytorch_forecasting/data/encoders.py:373: UserWarning: scale is below 1e-7 - consider not centering the data or using data with higher variance for numerical stability\n",
      "  warnings.warn(\n",
      "/home/qishuai/anaconda3/envs/glasgow/lib/python3.8/site-packages/pytorch_forecasting/data/timeseries.py:1649: UserWarning: Creating a tensor from a list of numpy.ndarrays is extremely slow. Please consider converting the list to a single numpy.ndarray with numpy.array() before converting to a tensor. (Triggered internally at  /opt/conda/conda-bld/pytorch_1646755903507/work/torch/csrc/utils/tensor_new.cpp:210.)\n",
      "  target_scale = torch.tensor([batch[0][\"target_scale\"] for batch in batches], dtype=torch.float)\n",
      "/home/qishuai/anaconda3/envs/glasgow/lib/python3.8/site-packages/pytorch_forecasting/data/timeseries.py:1649: UserWarning: Creating a tensor from a list of numpy.ndarrays is extremely slow. Please consider converting the list to a single numpy.ndarray with numpy.array() before converting to a tensor. (Triggered internally at  /opt/conda/conda-bld/pytorch_1646755903507/work/torch/csrc/utils/tensor_new.cpp:210.)\n",
      "  target_scale = torch.tensor([batch[0][\"target_scale\"] for batch in batches], dtype=torch.float)\n",
      "/home/qishuai/anaconda3/envs/glasgow/lib/python3.8/site-packages/pytorch_forecasting/data/timeseries.py:1649: UserWarning: Creating a tensor from a list of numpy.ndarrays is extremely slow. Please consider converting the list to a single numpy.ndarray with numpy.array() before converting to a tensor. (Triggered internally at  /opt/conda/conda-bld/pytorch_1646755903507/work/torch/csrc/utils/tensor_new.cpp:210.)\n",
      "  target_scale = torch.tensor([batch[0][\"target_scale\"] for batch in batches], dtype=torch.float)\n",
      "/home/qishuai/anaconda3/envs/glasgow/lib/python3.8/site-packages/pytorch_forecasting/data/timeseries.py:1649: UserWarning: Creating a tensor from a list of numpy.ndarrays is extremely slow. Please consider converting the list to a single numpy.ndarray with numpy.array() before converting to a tensor. (Triggered internally at  /opt/conda/conda-bld/pytorch_1646755903507/work/torch/csrc/utils/tensor_new.cpp:210.)\n",
      "  target_scale = torch.tensor([batch[0][\"target_scale\"] for batch in batches], dtype=torch.float)\n",
      "/home/qishuai/anaconda3/envs/glasgow/lib/python3.8/site-packages/pytorch_forecasting/data/timeseries.py:1649: UserWarning: Creating a tensor from a list of numpy.ndarrays is extremely slow. Please consider converting the list to a single numpy.ndarray with numpy.array() before converting to a tensor. (Triggered internally at  /opt/conda/conda-bld/pytorch_1646755903507/work/torch/csrc/utils/tensor_new.cpp:210.)\n",
      "  target_scale = torch.tensor([batch[0][\"target_scale\"] for batch in batches], dtype=torch.float)\n",
      "/home/qishuai/anaconda3/envs/glasgow/lib/python3.8/site-packages/pytorch_forecasting/data/encoders.py:373: UserWarning: scale is below 1e-7 - consider not centering the data or using data with higher variance for numerical stability\n",
      "  warnings.warn(\n",
      "/home/qishuai/anaconda3/envs/glasgow/lib/python3.8/site-packages/pytorch_forecasting/data/timeseries.py:1649: UserWarning: Creating a tensor from a list of numpy.ndarrays is extremely slow. Please consider converting the list to a single numpy.ndarray with numpy.array() before converting to a tensor. (Triggered internally at  /opt/conda/conda-bld/pytorch_1646755903507/work/torch/csrc/utils/tensor_new.cpp:210.)\n",
      "  target_scale = torch.tensor([batch[0][\"target_scale\"] for batch in batches], dtype=torch.float)\n",
      "/home/qishuai/anaconda3/envs/glasgow/lib/python3.8/site-packages/pytorch_forecasting/data/timeseries.py:1649: UserWarning: Creating a tensor from a list of numpy.ndarrays is extremely slow. Please consider converting the list to a single numpy.ndarray with numpy.array() before converting to a tensor. (Triggered internally at  /opt/conda/conda-bld/pytorch_1646755903507/work/torch/csrc/utils/tensor_new.cpp:210.)\n",
      "  target_scale = torch.tensor([batch[0][\"target_scale\"] for batch in batches], dtype=torch.float)\n",
      "/home/qishuai/anaconda3/envs/glasgow/lib/python3.8/site-packages/pytorch_forecasting/data/timeseries.py:1649: UserWarning: Creating a tensor from a list of numpy.ndarrays is extremely slow. Please consider converting the list to a single numpy.ndarray with numpy.array() before converting to a tensor. (Triggered internally at  /opt/conda/conda-bld/pytorch_1646755903507/work/torch/csrc/utils/tensor_new.cpp:210.)\n",
      "  target_scale = torch.tensor([batch[0][\"target_scale\"] for batch in batches], dtype=torch.float)\n",
      "/home/qishuai/anaconda3/envs/glasgow/lib/python3.8/site-packages/pytorch_forecasting/data/encoders.py:373: UserWarning: scale is below 1e-7 - consider not centering the data or using data with higher variance for numerical stability\n",
      "  warnings.warn(\n",
      "/home/qishuai/anaconda3/envs/glasgow/lib/python3.8/site-packages/pytorch_forecasting/data/encoders.py:373: UserWarning: scale is below 1e-7 - consider not centering the data or using data with higher variance for numerical stability\n",
      "  warnings.warn(\n",
      "/home/qishuai/anaconda3/envs/glasgow/lib/python3.8/site-packages/pytorch_forecasting/data/encoders.py:373: UserWarning: scale is below 1e-7 - consider not centering the data or using data with higher variance for numerical stability\n",
      "  warnings.warn(\n",
      "/home/qishuai/anaconda3/envs/glasgow/lib/python3.8/site-packages/pytorch_forecasting/data/encoders.py:373: UserWarning: scale is below 1e-7 - consider not centering the data or using data with higher variance for numerical stability\n",
      "  warnings.warn(\n",
      "/home/qishuai/anaconda3/envs/glasgow/lib/python3.8/site-packages/pytorch_forecasting/data/encoders.py:373: UserWarning: scale is below 1e-7 - consider not centering the data or using data with higher variance for numerical stability\n",
      "  warnings.warn(\n",
      "/home/qishuai/anaconda3/envs/glasgow/lib/python3.8/site-packages/pytorch_forecasting/data/encoders.py:373: UserWarning: scale is below 1e-7 - consider not centering the data or using data with higher variance for numerical stability\n",
      "  warnings.warn(\n",
      "/home/qishuai/anaconda3/envs/glasgow/lib/python3.8/site-packages/pytorch_forecasting/data/encoders.py:373: UserWarning: scale is below 1e-7 - consider not centering the data or using data with higher variance for numerical stability\n",
      "  warnings.warn(\n",
      "/home/qishuai/anaconda3/envs/glasgow/lib/python3.8/site-packages/pytorch_forecasting/data/encoders.py:373: UserWarning: scale is below 1e-7 - consider not centering the data or using data with higher variance for numerical stability\n",
      "  warnings.warn(\n",
      "/home/qishuai/anaconda3/envs/glasgow/lib/python3.8/site-packages/pytorch_forecasting/data/encoders.py:373: UserWarning: scale is below 1e-7 - consider not centering the data or using data with higher variance for numerical stability\n",
      "  warnings.warn(\n",
      "/home/qishuai/anaconda3/envs/glasgow/lib/python3.8/site-packages/pytorch_forecasting/data/timeseries.py:1649: UserWarning: Creating a tensor from a list of numpy.ndarrays is extremely slow. Please consider converting the list to a single numpy.ndarray with numpy.array() before converting to a tensor. (Triggered internally at  /opt/conda/conda-bld/pytorch_1646755903507/work/torch/csrc/utils/tensor_new.cpp:210.)\n",
      "  target_scale = torch.tensor([batch[0][\"target_scale\"] for batch in batches], dtype=torch.float)\n",
      "/home/qishuai/anaconda3/envs/glasgow/lib/python3.8/site-packages/pytorch_forecasting/data/timeseries.py:1649: UserWarning: Creating a tensor from a list of numpy.ndarrays is extremely slow. Please consider converting the list to a single numpy.ndarray with numpy.array() before converting to a tensor. (Triggered internally at  /opt/conda/conda-bld/pytorch_1646755903507/work/torch/csrc/utils/tensor_new.cpp:210.)\n",
      "  target_scale = torch.tensor([batch[0][\"target_scale\"] for batch in batches], dtype=torch.float)\n",
      "/home/qishuai/anaconda3/envs/glasgow/lib/python3.8/site-packages/pytorch_forecasting/data/timeseries.py:1649: UserWarning: Creating a tensor from a list of numpy.ndarrays is extremely slow. Please consider converting the list to a single numpy.ndarray with numpy.array() before converting to a tensor. (Triggered internally at  /opt/conda/conda-bld/pytorch_1646755903507/work/torch/csrc/utils/tensor_new.cpp:210.)\n",
      "  target_scale = torch.tensor([batch[0][\"target_scale\"] for batch in batches], dtype=torch.float)\n"
     ]
    },
    {
     "name": "stderr",
     "output_type": "stream",
     "text": [
      "/home/qishuai/anaconda3/envs/glasgow/lib/python3.8/site-packages/pytorch_forecasting/data/timeseries.py:1649: UserWarning: Creating a tensor from a list of numpy.ndarrays is extremely slow. Please consider converting the list to a single numpy.ndarray with numpy.array() before converting to a tensor. (Triggered internally at  /opt/conda/conda-bld/pytorch_1646755903507/work/torch/csrc/utils/tensor_new.cpp:210.)\n",
      "  target_scale = torch.tensor([batch[0][\"target_scale\"] for batch in batches], dtype=torch.float)\n",
      "/home/qishuai/anaconda3/envs/glasgow/lib/python3.8/site-packages/pytorch_forecasting/data/timeseries.py:1649: UserWarning: Creating a tensor from a list of numpy.ndarrays is extremely slow. Please consider converting the list to a single numpy.ndarray with numpy.array() before converting to a tensor. (Triggered internally at  /opt/conda/conda-bld/pytorch_1646755903507/work/torch/csrc/utils/tensor_new.cpp:210.)\n",
      "  target_scale = torch.tensor([batch[0][\"target_scale\"] for batch in batches], dtype=torch.float)\n",
      "/home/qishuai/anaconda3/envs/glasgow/lib/python3.8/site-packages/pytorch_forecasting/data/timeseries.py:1649: UserWarning: Creating a tensor from a list of numpy.ndarrays is extremely slow. Please consider converting the list to a single numpy.ndarray with numpy.array() before converting to a tensor. (Triggered internally at  /opt/conda/conda-bld/pytorch_1646755903507/work/torch/csrc/utils/tensor_new.cpp:210.)\n",
      "  target_scale = torch.tensor([batch[0][\"target_scale\"] for batch in batches], dtype=torch.float)\n",
      "/home/qishuai/anaconda3/envs/glasgow/lib/python3.8/site-packages/pytorch_forecasting/data/timeseries.py:1649: UserWarning: Creating a tensor from a list of numpy.ndarrays is extremely slow. Please consider converting the list to a single numpy.ndarray with numpy.array() before converting to a tensor. (Triggered internally at  /opt/conda/conda-bld/pytorch_1646755903507/work/torch/csrc/utils/tensor_new.cpp:210.)\n",
      "  target_scale = torch.tensor([batch[0][\"target_scale\"] for batch in batches], dtype=torch.float)\n",
      "/home/qishuai/anaconda3/envs/glasgow/lib/python3.8/site-packages/pytorch_forecasting/data/timeseries.py:1649: UserWarning: Creating a tensor from a list of numpy.ndarrays is extremely slow. Please consider converting the list to a single numpy.ndarray with numpy.array() before converting to a tensor. (Triggered internally at  /opt/conda/conda-bld/pytorch_1646755903507/work/torch/csrc/utils/tensor_new.cpp:210.)\n",
      "  target_scale = torch.tensor([batch[0][\"target_scale\"] for batch in batches], dtype=torch.float)\n",
      "/home/qishuai/anaconda3/envs/glasgow/lib/python3.8/site-packages/pytorch_forecasting/data/encoders.py:373: UserWarning: scale is below 1e-7 - consider not centering the data or using data with higher variance for numerical stability\n",
      "  warnings.warn(\n",
      "/home/qishuai/anaconda3/envs/glasgow/lib/python3.8/site-packages/pytorch_forecasting/data/encoders.py:373: UserWarning: scale is below 1e-7 - consider not centering the data or using data with higher variance for numerical stability\n",
      "  warnings.warn(\n",
      "/home/qishuai/anaconda3/envs/glasgow/lib/python3.8/site-packages/pytorch_forecasting/data/encoders.py:373: UserWarning: scale is below 1e-7 - consider not centering the data or using data with higher variance for numerical stability\n",
      "  warnings.warn(\n",
      "/home/qishuai/anaconda3/envs/glasgow/lib/python3.8/site-packages/pytorch_forecasting/data/encoders.py:373: UserWarning: scale is below 1e-7 - consider not centering the data or using data with higher variance for numerical stability\n",
      "  warnings.warn(\n",
      "/home/qishuai/anaconda3/envs/glasgow/lib/python3.8/site-packages/pytorch_forecasting/data/encoders.py:373: UserWarning: scale is below 1e-7 - consider not centering the data or using data with higher variance for numerical stability\n",
      "  warnings.warn(\n"
     ]
    },
    {
     "data": {
      "application/vnd.jupyter.widget-view+json": {
       "model_id": "",
       "version_major": 2,
       "version_minor": 0
      },
      "text/plain": [
       "Validating: 0it [00:00, ?it/s]"
      ]
     },
     "metadata": {},
     "output_type": "display_data"
    },
    {
     "name": "stderr",
     "output_type": "stream",
     "text": [
      "/home/qishuai/anaconda3/envs/glasgow/lib/python3.8/site-packages/pytorch_forecasting/data/encoders.py:373: UserWarning: scale is below 1e-7 - consider not centering the data or using data with higher variance for numerical stability\n",
      "  warnings.warn(\n",
      "/home/qishuai/anaconda3/envs/glasgow/lib/python3.8/site-packages/pytorch_forecasting/data/timeseries.py:1649: UserWarning: Creating a tensor from a list of numpy.ndarrays is extremely slow. Please consider converting the list to a single numpy.ndarray with numpy.array() before converting to a tensor. (Triggered internally at  /opt/conda/conda-bld/pytorch_1646755903507/work/torch/csrc/utils/tensor_new.cpp:210.)\n",
      "  target_scale = torch.tensor([batch[0][\"target_scale\"] for batch in batches], dtype=torch.float)\n",
      "/home/qishuai/anaconda3/envs/glasgow/lib/python3.8/site-packages/pytorch_forecasting/data/timeseries.py:1649: UserWarning: Creating a tensor from a list of numpy.ndarrays is extremely slow. Please consider converting the list to a single numpy.ndarray with numpy.array() before converting to a tensor. (Triggered internally at  /opt/conda/conda-bld/pytorch_1646755903507/work/torch/csrc/utils/tensor_new.cpp:210.)\n",
      "  target_scale = torch.tensor([batch[0][\"target_scale\"] for batch in batches], dtype=torch.float)\n",
      "/home/qishuai/anaconda3/envs/glasgow/lib/python3.8/site-packages/pytorch_forecasting/data/timeseries.py:1649: UserWarning: Creating a tensor from a list of numpy.ndarrays is extremely slow. Please consider converting the list to a single numpy.ndarray with numpy.array() before converting to a tensor. (Triggered internally at  /opt/conda/conda-bld/pytorch_1646755903507/work/torch/csrc/utils/tensor_new.cpp:210.)\n",
      "  target_scale = torch.tensor([batch[0][\"target_scale\"] for batch in batches], dtype=torch.float)\n",
      "/home/qishuai/anaconda3/envs/glasgow/lib/python3.8/site-packages/pytorch_forecasting/data/timeseries.py:1649: UserWarning: Creating a tensor from a list of numpy.ndarrays is extremely slow. Please consider converting the list to a single numpy.ndarray with numpy.array() before converting to a tensor. (Triggered internally at  /opt/conda/conda-bld/pytorch_1646755903507/work/torch/csrc/utils/tensor_new.cpp:210.)\n",
      "  target_scale = torch.tensor([batch[0][\"target_scale\"] for batch in batches], dtype=torch.float)\n",
      "/home/qishuai/anaconda3/envs/glasgow/lib/python3.8/site-packages/pytorch_forecasting/data/timeseries.py:1649: UserWarning: Creating a tensor from a list of numpy.ndarrays is extremely slow. Please consider converting the list to a single numpy.ndarray with numpy.array() before converting to a tensor. (Triggered internally at  /opt/conda/conda-bld/pytorch_1646755903507/work/torch/csrc/utils/tensor_new.cpp:210.)\n",
      "  target_scale = torch.tensor([batch[0][\"target_scale\"] for batch in batches], dtype=torch.float)\n",
      "/home/qishuai/anaconda3/envs/glasgow/lib/python3.8/site-packages/pytorch_forecasting/data/timeseries.py:1649: UserWarning: Creating a tensor from a list of numpy.ndarrays is extremely slow. Please consider converting the list to a single numpy.ndarray with numpy.array() before converting to a tensor. (Triggered internally at  /opt/conda/conda-bld/pytorch_1646755903507/work/torch/csrc/utils/tensor_new.cpp:210.)\n",
      "  target_scale = torch.tensor([batch[0][\"target_scale\"] for batch in batches], dtype=torch.float)\n",
      "/home/qishuai/anaconda3/envs/glasgow/lib/python3.8/site-packages/pytorch_forecasting/data/timeseries.py:1649: UserWarning: Creating a tensor from a list of numpy.ndarrays is extremely slow. Please consider converting the list to a single numpy.ndarray with numpy.array() before converting to a tensor. (Triggered internally at  /opt/conda/conda-bld/pytorch_1646755903507/work/torch/csrc/utils/tensor_new.cpp:210.)\n",
      "  target_scale = torch.tensor([batch[0][\"target_scale\"] for batch in batches], dtype=torch.float)\n",
      "/home/qishuai/anaconda3/envs/glasgow/lib/python3.8/site-packages/pytorch_forecasting/data/timeseries.py:1649: UserWarning: Creating a tensor from a list of numpy.ndarrays is extremely slow. Please consider converting the list to a single numpy.ndarray with numpy.array() before converting to a tensor. (Triggered internally at  /opt/conda/conda-bld/pytorch_1646755903507/work/torch/csrc/utils/tensor_new.cpp:210.)\n",
      "  target_scale = torch.tensor([batch[0][\"target_scale\"] for batch in batches], dtype=torch.float)\n",
      "/home/qishuai/anaconda3/envs/glasgow/lib/python3.8/site-packages/pytorch_forecasting/data/encoders.py:373: UserWarning: scale is below 1e-7 - consider not centering the data or using data with higher variance for numerical stability\n",
      "  warnings.warn(\n",
      "/home/qishuai/anaconda3/envs/glasgow/lib/python3.8/site-packages/pytorch_forecasting/data/encoders.py:373: UserWarning: scale is below 1e-7 - consider not centering the data or using data with higher variance for numerical stability\n",
      "  warnings.warn(\n",
      "/home/qishuai/anaconda3/envs/glasgow/lib/python3.8/site-packages/pytorch_forecasting/data/encoders.py:373: UserWarning: scale is below 1e-7 - consider not centering the data or using data with higher variance for numerical stability\n",
      "  warnings.warn(\n",
      "/home/qishuai/anaconda3/envs/glasgow/lib/python3.8/site-packages/pytorch_forecasting/data/encoders.py:373: UserWarning: scale is below 1e-7 - consider not centering the data or using data with higher variance for numerical stability\n",
      "  warnings.warn(\n",
      "/home/qishuai/anaconda3/envs/glasgow/lib/python3.8/site-packages/pytorch_forecasting/data/encoders.py:373: UserWarning: scale is below 1e-7 - consider not centering the data or using data with higher variance for numerical stability\n",
      "  warnings.warn(\n",
      "/home/qishuai/anaconda3/envs/glasgow/lib/python3.8/site-packages/pytorch_forecasting/data/encoders.py:373: UserWarning: scale is below 1e-7 - consider not centering the data or using data with higher variance for numerical stability\n",
      "  warnings.warn(\n",
      "/home/qishuai/anaconda3/envs/glasgow/lib/python3.8/site-packages/pytorch_forecasting/data/encoders.py:373: UserWarning: scale is below 1e-7 - consider not centering the data or using data with higher variance for numerical stability\n",
      "  warnings.warn(\n",
      "/home/qishuai/anaconda3/envs/glasgow/lib/python3.8/site-packages/pytorch_forecasting/data/encoders.py:373: UserWarning: scale is below 1e-7 - consider not centering the data or using data with higher variance for numerical stability\n",
      "  warnings.warn(\n",
      "/home/qishuai/anaconda3/envs/glasgow/lib/python3.8/site-packages/pytorch_forecasting/data/encoders.py:373: UserWarning: scale is below 1e-7 - consider not centering the data or using data with higher variance for numerical stability\n",
      "  warnings.warn(\n",
      "/home/qishuai/anaconda3/envs/glasgow/lib/python3.8/site-packages/pytorch_forecasting/data/encoders.py:373: UserWarning: scale is below 1e-7 - consider not centering the data or using data with higher variance for numerical stability\n",
      "  warnings.warn(\n",
      "/home/qishuai/anaconda3/envs/glasgow/lib/python3.8/site-packages/pytorch_forecasting/data/encoders.py:373: UserWarning: scale is below 1e-7 - consider not centering the data or using data with higher variance for numerical stability\n",
      "  warnings.warn(\n",
      "/home/qishuai/anaconda3/envs/glasgow/lib/python3.8/site-packages/pytorch_forecasting/data/timeseries.py:1649: UserWarning: Creating a tensor from a list of numpy.ndarrays is extremely slow. Please consider converting the list to a single numpy.ndarray with numpy.array() before converting to a tensor. (Triggered internally at  /opt/conda/conda-bld/pytorch_1646755903507/work/torch/csrc/utils/tensor_new.cpp:210.)\n",
      "  target_scale = torch.tensor([batch[0][\"target_scale\"] for batch in batches], dtype=torch.float)\n",
      "/home/qishuai/anaconda3/envs/glasgow/lib/python3.8/site-packages/pytorch_forecasting/data/timeseries.py:1649: UserWarning: Creating a tensor from a list of numpy.ndarrays is extremely slow. Please consider converting the list to a single numpy.ndarray with numpy.array() before converting to a tensor. (Triggered internally at  /opt/conda/conda-bld/pytorch_1646755903507/work/torch/csrc/utils/tensor_new.cpp:210.)\n",
      "  target_scale = torch.tensor([batch[0][\"target_scale\"] for batch in batches], dtype=torch.float)\n",
      "/home/qishuai/anaconda3/envs/glasgow/lib/python3.8/site-packages/pytorch_forecasting/data/timeseries.py:1649: UserWarning: Creating a tensor from a list of numpy.ndarrays is extremely slow. Please consider converting the list to a single numpy.ndarray with numpy.array() before converting to a tensor. (Triggered internally at  /opt/conda/conda-bld/pytorch_1646755903507/work/torch/csrc/utils/tensor_new.cpp:210.)\n",
      "  target_scale = torch.tensor([batch[0][\"target_scale\"] for batch in batches], dtype=torch.float)\n"
     ]
    },
    {
     "name": "stderr",
     "output_type": "stream",
     "text": [
      "/home/qishuai/anaconda3/envs/glasgow/lib/python3.8/site-packages/pytorch_forecasting/data/timeseries.py:1649: UserWarning: Creating a tensor from a list of numpy.ndarrays is extremely slow. Please consider converting the list to a single numpy.ndarray with numpy.array() before converting to a tensor. (Triggered internally at  /opt/conda/conda-bld/pytorch_1646755903507/work/torch/csrc/utils/tensor_new.cpp:210.)\n",
      "  target_scale = torch.tensor([batch[0][\"target_scale\"] for batch in batches], dtype=torch.float)\n",
      "/home/qishuai/anaconda3/envs/glasgow/lib/python3.8/site-packages/pytorch_forecasting/data/timeseries.py:1649: UserWarning: Creating a tensor from a list of numpy.ndarrays is extremely slow. Please consider converting the list to a single numpy.ndarray with numpy.array() before converting to a tensor. (Triggered internally at  /opt/conda/conda-bld/pytorch_1646755903507/work/torch/csrc/utils/tensor_new.cpp:210.)\n",
      "  target_scale = torch.tensor([batch[0][\"target_scale\"] for batch in batches], dtype=torch.float)\n",
      "/home/qishuai/anaconda3/envs/glasgow/lib/python3.8/site-packages/pytorch_forecasting/data/timeseries.py:1649: UserWarning: Creating a tensor from a list of numpy.ndarrays is extremely slow. Please consider converting the list to a single numpy.ndarray with numpy.array() before converting to a tensor. (Triggered internally at  /opt/conda/conda-bld/pytorch_1646755903507/work/torch/csrc/utils/tensor_new.cpp:210.)\n",
      "  target_scale = torch.tensor([batch[0][\"target_scale\"] for batch in batches], dtype=torch.float)\n",
      "/home/qishuai/anaconda3/envs/glasgow/lib/python3.8/site-packages/pytorch_forecasting/data/timeseries.py:1649: UserWarning: Creating a tensor from a list of numpy.ndarrays is extremely slow. Please consider converting the list to a single numpy.ndarray with numpy.array() before converting to a tensor. (Triggered internally at  /opt/conda/conda-bld/pytorch_1646755903507/work/torch/csrc/utils/tensor_new.cpp:210.)\n",
      "  target_scale = torch.tensor([batch[0][\"target_scale\"] for batch in batches], dtype=torch.float)\n",
      "/home/qishuai/anaconda3/envs/glasgow/lib/python3.8/site-packages/pytorch_forecasting/data/timeseries.py:1649: UserWarning: Creating a tensor from a list of numpy.ndarrays is extremely slow. Please consider converting the list to a single numpy.ndarray with numpy.array() before converting to a tensor. (Triggered internally at  /opt/conda/conda-bld/pytorch_1646755903507/work/torch/csrc/utils/tensor_new.cpp:210.)\n",
      "  target_scale = torch.tensor([batch[0][\"target_scale\"] for batch in batches], dtype=torch.float)\n",
      "/home/qishuai/anaconda3/envs/glasgow/lib/python3.8/site-packages/pytorch_forecasting/data/encoders.py:373: UserWarning: scale is below 1e-7 - consider not centering the data or using data with higher variance for numerical stability\n",
      "  warnings.warn(\n",
      "/home/qishuai/anaconda3/envs/glasgow/lib/python3.8/site-packages/pytorch_forecasting/data/encoders.py:373: UserWarning: scale is below 1e-7 - consider not centering the data or using data with higher variance for numerical stability\n",
      "  warnings.warn(\n",
      "/home/qishuai/anaconda3/envs/glasgow/lib/python3.8/site-packages/pytorch_forecasting/data/encoders.py:373: UserWarning: scale is below 1e-7 - consider not centering the data or using data with higher variance for numerical stability\n",
      "  warnings.warn(\n",
      "/home/qishuai/anaconda3/envs/glasgow/lib/python3.8/site-packages/pytorch_forecasting/data/encoders.py:373: UserWarning: scale is below 1e-7 - consider not centering the data or using data with higher variance for numerical stability\n",
      "  warnings.warn(\n"
     ]
    },
    {
     "data": {
      "application/vnd.jupyter.widget-view+json": {
       "model_id": "",
       "version_major": 2,
       "version_minor": 0
      },
      "text/plain": [
       "Validating: 0it [00:00, ?it/s]"
      ]
     },
     "metadata": {},
     "output_type": "display_data"
    },
    {
     "name": "stderr",
     "output_type": "stream",
     "text": [
      "/home/qishuai/anaconda3/envs/glasgow/lib/python3.8/site-packages/pytorch_forecasting/data/encoders.py:373: UserWarning: scale is below 1e-7 - consider not centering the data or using data with higher variance for numerical stability\n",
      "  warnings.warn(\n",
      "/home/qishuai/anaconda3/envs/glasgow/lib/python3.8/site-packages/pytorch_forecasting/data/timeseries.py:1649: UserWarning: Creating a tensor from a list of numpy.ndarrays is extremely slow. Please consider converting the list to a single numpy.ndarray with numpy.array() before converting to a tensor. (Triggered internally at  /opt/conda/conda-bld/pytorch_1646755903507/work/torch/csrc/utils/tensor_new.cpp:210.)\n",
      "  target_scale = torch.tensor([batch[0][\"target_scale\"] for batch in batches], dtype=torch.float)\n",
      "/home/qishuai/anaconda3/envs/glasgow/lib/python3.8/site-packages/pytorch_forecasting/data/timeseries.py:1649: UserWarning: Creating a tensor from a list of numpy.ndarrays is extremely slow. Please consider converting the list to a single numpy.ndarray with numpy.array() before converting to a tensor. (Triggered internally at  /opt/conda/conda-bld/pytorch_1646755903507/work/torch/csrc/utils/tensor_new.cpp:210.)\n",
      "  target_scale = torch.tensor([batch[0][\"target_scale\"] for batch in batches], dtype=torch.float)\n",
      "/home/qishuai/anaconda3/envs/glasgow/lib/python3.8/site-packages/pytorch_forecasting/data/timeseries.py:1649: UserWarning: Creating a tensor from a list of numpy.ndarrays is extremely slow. Please consider converting the list to a single numpy.ndarray with numpy.array() before converting to a tensor. (Triggered internally at  /opt/conda/conda-bld/pytorch_1646755903507/work/torch/csrc/utils/tensor_new.cpp:210.)\n",
      "  target_scale = torch.tensor([batch[0][\"target_scale\"] for batch in batches], dtype=torch.float)\n",
      "/home/qishuai/anaconda3/envs/glasgow/lib/python3.8/site-packages/pytorch_forecasting/data/timeseries.py:1649: UserWarning: Creating a tensor from a list of numpy.ndarrays is extremely slow. Please consider converting the list to a single numpy.ndarray with numpy.array() before converting to a tensor. (Triggered internally at  /opt/conda/conda-bld/pytorch_1646755903507/work/torch/csrc/utils/tensor_new.cpp:210.)\n",
      "  target_scale = torch.tensor([batch[0][\"target_scale\"] for batch in batches], dtype=torch.float)\n",
      "/home/qishuai/anaconda3/envs/glasgow/lib/python3.8/site-packages/pytorch_forecasting/data/timeseries.py:1649: UserWarning: Creating a tensor from a list of numpy.ndarrays is extremely slow. Please consider converting the list to a single numpy.ndarray with numpy.array() before converting to a tensor. (Triggered internally at  /opt/conda/conda-bld/pytorch_1646755903507/work/torch/csrc/utils/tensor_new.cpp:210.)\n",
      "  target_scale = torch.tensor([batch[0][\"target_scale\"] for batch in batches], dtype=torch.float)\n",
      "/home/qishuai/anaconda3/envs/glasgow/lib/python3.8/site-packages/pytorch_forecasting/data/timeseries.py:1649: UserWarning: Creating a tensor from a list of numpy.ndarrays is extremely slow. Please consider converting the list to a single numpy.ndarray with numpy.array() before converting to a tensor. (Triggered internally at  /opt/conda/conda-bld/pytorch_1646755903507/work/torch/csrc/utils/tensor_new.cpp:210.)\n",
      "  target_scale = torch.tensor([batch[0][\"target_scale\"] for batch in batches], dtype=torch.float)\n",
      "/home/qishuai/anaconda3/envs/glasgow/lib/python3.8/site-packages/pytorch_forecasting/data/timeseries.py:1649: UserWarning: Creating a tensor from a list of numpy.ndarrays is extremely slow. Please consider converting the list to a single numpy.ndarray with numpy.array() before converting to a tensor. (Triggered internally at  /opt/conda/conda-bld/pytorch_1646755903507/work/torch/csrc/utils/tensor_new.cpp:210.)\n",
      "  target_scale = torch.tensor([batch[0][\"target_scale\"] for batch in batches], dtype=torch.float)\n",
      "/home/qishuai/anaconda3/envs/glasgow/lib/python3.8/site-packages/pytorch_forecasting/data/encoders.py:373: UserWarning: scale is below 1e-7 - consider not centering the data or using data with higher variance for numerical stability\n",
      "  warnings.warn(\n",
      "/home/qishuai/anaconda3/envs/glasgow/lib/python3.8/site-packages/pytorch_forecasting/data/timeseries.py:1649: UserWarning: Creating a tensor from a list of numpy.ndarrays is extremely slow. Please consider converting the list to a single numpy.ndarray with numpy.array() before converting to a tensor. (Triggered internally at  /opt/conda/conda-bld/pytorch_1646755903507/work/torch/csrc/utils/tensor_new.cpp:210.)\n",
      "  target_scale = torch.tensor([batch[0][\"target_scale\"] for batch in batches], dtype=torch.float)\n",
      "/home/qishuai/anaconda3/envs/glasgow/lib/python3.8/site-packages/pytorch_forecasting/data/encoders.py:373: UserWarning: scale is below 1e-7 - consider not centering the data or using data with higher variance for numerical stability\n",
      "  warnings.warn(\n",
      "/home/qishuai/anaconda3/envs/glasgow/lib/python3.8/site-packages/pytorch_forecasting/data/encoders.py:373: UserWarning: scale is below 1e-7 - consider not centering the data or using data with higher variance for numerical stability\n",
      "  warnings.warn(\n",
      "/home/qishuai/anaconda3/envs/glasgow/lib/python3.8/site-packages/pytorch_forecasting/data/encoders.py:373: UserWarning: scale is below 1e-7 - consider not centering the data or using data with higher variance for numerical stability\n",
      "  warnings.warn(\n",
      "/home/qishuai/anaconda3/envs/glasgow/lib/python3.8/site-packages/pytorch_forecasting/data/encoders.py:373: UserWarning: scale is below 1e-7 - consider not centering the data or using data with higher variance for numerical stability\n",
      "  warnings.warn(\n",
      "/home/qishuai/anaconda3/envs/glasgow/lib/python3.8/site-packages/pytorch_forecasting/data/encoders.py:373: UserWarning: scale is below 1e-7 - consider not centering the data or using data with higher variance for numerical stability\n",
      "  warnings.warn(\n",
      "/home/qishuai/anaconda3/envs/glasgow/lib/python3.8/site-packages/pytorch_forecasting/data/encoders.py:373: UserWarning: scale is below 1e-7 - consider not centering the data or using data with higher variance for numerical stability\n",
      "  warnings.warn(\n",
      "/home/qishuai/anaconda3/envs/glasgow/lib/python3.8/site-packages/pytorch_forecasting/data/encoders.py:373: UserWarning: scale is below 1e-7 - consider not centering the data or using data with higher variance for numerical stability\n",
      "  warnings.warn(\n",
      "/home/qishuai/anaconda3/envs/glasgow/lib/python3.8/site-packages/pytorch_forecasting/data/encoders.py:373: UserWarning: scale is below 1e-7 - consider not centering the data or using data with higher variance for numerical stability\n",
      "  warnings.warn(\n",
      "/home/qishuai/anaconda3/envs/glasgow/lib/python3.8/site-packages/pytorch_forecasting/data/encoders.py:373: UserWarning: scale is below 1e-7 - consider not centering the data or using data with higher variance for numerical stability\n",
      "  warnings.warn(\n",
      "/home/qishuai/anaconda3/envs/glasgow/lib/python3.8/site-packages/pytorch_forecasting/data/encoders.py:373: UserWarning: scale is below 1e-7 - consider not centering the data or using data with higher variance for numerical stability\n",
      "  warnings.warn(\n",
      "/home/qishuai/anaconda3/envs/glasgow/lib/python3.8/site-packages/pytorch_forecasting/data/timeseries.py:1649: UserWarning: Creating a tensor from a list of numpy.ndarrays is extremely slow. Please consider converting the list to a single numpy.ndarray with numpy.array() before converting to a tensor. (Triggered internally at  /opt/conda/conda-bld/pytorch_1646755903507/work/torch/csrc/utils/tensor_new.cpp:210.)\n",
      "  target_scale = torch.tensor([batch[0][\"target_scale\"] for batch in batches], dtype=torch.float)\n",
      "/home/qishuai/anaconda3/envs/glasgow/lib/python3.8/site-packages/pytorch_forecasting/data/timeseries.py:1649: UserWarning: Creating a tensor from a list of numpy.ndarrays is extremely slow. Please consider converting the list to a single numpy.ndarray with numpy.array() before converting to a tensor. (Triggered internally at  /opt/conda/conda-bld/pytorch_1646755903507/work/torch/csrc/utils/tensor_new.cpp:210.)\n",
      "  target_scale = torch.tensor([batch[0][\"target_scale\"] for batch in batches], dtype=torch.float)\n",
      "/home/qishuai/anaconda3/envs/glasgow/lib/python3.8/site-packages/pytorch_forecasting/data/timeseries.py:1649: UserWarning: Creating a tensor from a list of numpy.ndarrays is extremely slow. Please consider converting the list to a single numpy.ndarray with numpy.array() before converting to a tensor. (Triggered internally at  /opt/conda/conda-bld/pytorch_1646755903507/work/torch/csrc/utils/tensor_new.cpp:210.)\n",
      "  target_scale = torch.tensor([batch[0][\"target_scale\"] for batch in batches], dtype=torch.float)\n"
     ]
    },
    {
     "name": "stderr",
     "output_type": "stream",
     "text": [
      "/home/qishuai/anaconda3/envs/glasgow/lib/python3.8/site-packages/pytorch_forecasting/data/timeseries.py:1649: UserWarning: Creating a tensor from a list of numpy.ndarrays is extremely slow. Please consider converting the list to a single numpy.ndarray with numpy.array() before converting to a tensor. (Triggered internally at  /opt/conda/conda-bld/pytorch_1646755903507/work/torch/csrc/utils/tensor_new.cpp:210.)\n",
      "  target_scale = torch.tensor([batch[0][\"target_scale\"] for batch in batches], dtype=torch.float)\n",
      "/home/qishuai/anaconda3/envs/glasgow/lib/python3.8/site-packages/pytorch_forecasting/data/timeseries.py:1649: UserWarning: Creating a tensor from a list of numpy.ndarrays is extremely slow. Please consider converting the list to a single numpy.ndarray with numpy.array() before converting to a tensor. (Triggered internally at  /opt/conda/conda-bld/pytorch_1646755903507/work/torch/csrc/utils/tensor_new.cpp:210.)\n",
      "  target_scale = torch.tensor([batch[0][\"target_scale\"] for batch in batches], dtype=torch.float)\n",
      "/home/qishuai/anaconda3/envs/glasgow/lib/python3.8/site-packages/pytorch_forecasting/data/encoders.py:373: UserWarning: scale is below 1e-7 - consider not centering the data or using data with higher variance for numerical stability\n",
      "  warnings.warn(\n",
      "/home/qishuai/anaconda3/envs/glasgow/lib/python3.8/site-packages/pytorch_forecasting/data/timeseries.py:1649: UserWarning: Creating a tensor from a list of numpy.ndarrays is extremely slow. Please consider converting the list to a single numpy.ndarray with numpy.array() before converting to a tensor. (Triggered internally at  /opt/conda/conda-bld/pytorch_1646755903507/work/torch/csrc/utils/tensor_new.cpp:210.)\n",
      "  target_scale = torch.tensor([batch[0][\"target_scale\"] for batch in batches], dtype=torch.float)\n",
      "/home/qishuai/anaconda3/envs/glasgow/lib/python3.8/site-packages/pytorch_forecasting/data/encoders.py:373: UserWarning: scale is below 1e-7 - consider not centering the data or using data with higher variance for numerical stability\n",
      "  warnings.warn(\n",
      "/home/qishuai/anaconda3/envs/glasgow/lib/python3.8/site-packages/pytorch_forecasting/data/timeseries.py:1649: UserWarning: Creating a tensor from a list of numpy.ndarrays is extremely slow. Please consider converting the list to a single numpy.ndarray with numpy.array() before converting to a tensor. (Triggered internally at  /opt/conda/conda-bld/pytorch_1646755903507/work/torch/csrc/utils/tensor_new.cpp:210.)\n",
      "  target_scale = torch.tensor([batch[0][\"target_scale\"] for batch in batches], dtype=torch.float)\n",
      "/home/qishuai/anaconda3/envs/glasgow/lib/python3.8/site-packages/pytorch_forecasting/data/timeseries.py:1649: UserWarning: Creating a tensor from a list of numpy.ndarrays is extremely slow. Please consider converting the list to a single numpy.ndarray with numpy.array() before converting to a tensor. (Triggered internally at  /opt/conda/conda-bld/pytorch_1646755903507/work/torch/csrc/utils/tensor_new.cpp:210.)\n",
      "  target_scale = torch.tensor([batch[0][\"target_scale\"] for batch in batches], dtype=torch.float)\n",
      "/home/qishuai/anaconda3/envs/glasgow/lib/python3.8/site-packages/pytorch_forecasting/data/encoders.py:373: UserWarning: scale is below 1e-7 - consider not centering the data or using data with higher variance for numerical stability\n",
      "  warnings.warn(\n",
      "/home/qishuai/anaconda3/envs/glasgow/lib/python3.8/site-packages/pytorch_forecasting/data/encoders.py:373: UserWarning: scale is below 1e-7 - consider not centering the data or using data with higher variance for numerical stability\n",
      "  warnings.warn(\n"
     ]
    },
    {
     "data": {
      "application/vnd.jupyter.widget-view+json": {
       "model_id": "",
       "version_major": 2,
       "version_minor": 0
      },
      "text/plain": [
       "Validating: 0it [00:00, ?it/s]"
      ]
     },
     "metadata": {},
     "output_type": "display_data"
    },
    {
     "name": "stderr",
     "output_type": "stream",
     "text": [
      "/home/qishuai/anaconda3/envs/glasgow/lib/python3.8/site-packages/pytorch_forecasting/data/encoders.py:373: UserWarning: scale is below 1e-7 - consider not centering the data or using data with higher variance for numerical stability\n",
      "  warnings.warn(\n",
      "/home/qishuai/anaconda3/envs/glasgow/lib/python3.8/site-packages/pytorch_forecasting/data/timeseries.py:1649: UserWarning: Creating a tensor from a list of numpy.ndarrays is extremely slow. Please consider converting the list to a single numpy.ndarray with numpy.array() before converting to a tensor. (Triggered internally at  /opt/conda/conda-bld/pytorch_1646755903507/work/torch/csrc/utils/tensor_new.cpp:210.)\n",
      "  target_scale = torch.tensor([batch[0][\"target_scale\"] for batch in batches], dtype=torch.float)\n",
      "/home/qishuai/anaconda3/envs/glasgow/lib/python3.8/site-packages/pytorch_forecasting/data/timeseries.py:1649: UserWarning: Creating a tensor from a list of numpy.ndarrays is extremely slow. Please consider converting the list to a single numpy.ndarray with numpy.array() before converting to a tensor. (Triggered internally at  /opt/conda/conda-bld/pytorch_1646755903507/work/torch/csrc/utils/tensor_new.cpp:210.)\n",
      "  target_scale = torch.tensor([batch[0][\"target_scale\"] for batch in batches], dtype=torch.float)\n",
      "/home/qishuai/anaconda3/envs/glasgow/lib/python3.8/site-packages/pytorch_forecasting/data/timeseries.py:1649: UserWarning: Creating a tensor from a list of numpy.ndarrays is extremely slow. Please consider converting the list to a single numpy.ndarray with numpy.array() before converting to a tensor. (Triggered internally at  /opt/conda/conda-bld/pytorch_1646755903507/work/torch/csrc/utils/tensor_new.cpp:210.)\n",
      "  target_scale = torch.tensor([batch[0][\"target_scale\"] for batch in batches], dtype=torch.float)\n",
      "/home/qishuai/anaconda3/envs/glasgow/lib/python3.8/site-packages/pytorch_forecasting/data/timeseries.py:1649: UserWarning: Creating a tensor from a list of numpy.ndarrays is extremely slow. Please consider converting the list to a single numpy.ndarray with numpy.array() before converting to a tensor. (Triggered internally at  /opt/conda/conda-bld/pytorch_1646755903507/work/torch/csrc/utils/tensor_new.cpp:210.)\n",
      "  target_scale = torch.tensor([batch[0][\"target_scale\"] for batch in batches], dtype=torch.float)\n",
      "/home/qishuai/anaconda3/envs/glasgow/lib/python3.8/site-packages/pytorch_forecasting/data/timeseries.py:1649: UserWarning: Creating a tensor from a list of numpy.ndarrays is extremely slow. Please consider converting the list to a single numpy.ndarray with numpy.array() before converting to a tensor. (Triggered internally at  /opt/conda/conda-bld/pytorch_1646755903507/work/torch/csrc/utils/tensor_new.cpp:210.)\n",
      "  target_scale = torch.tensor([batch[0][\"target_scale\"] for batch in batches], dtype=torch.float)\n",
      "/home/qishuai/anaconda3/envs/glasgow/lib/python3.8/site-packages/pytorch_forecasting/data/timeseries.py:1649: UserWarning: Creating a tensor from a list of numpy.ndarrays is extremely slow. Please consider converting the list to a single numpy.ndarray with numpy.array() before converting to a tensor. (Triggered internally at  /opt/conda/conda-bld/pytorch_1646755903507/work/torch/csrc/utils/tensor_new.cpp:210.)\n",
      "  target_scale = torch.tensor([batch[0][\"target_scale\"] for batch in batches], dtype=torch.float)\n",
      "/home/qishuai/anaconda3/envs/glasgow/lib/python3.8/site-packages/pytorch_forecasting/data/timeseries.py:1649: UserWarning: Creating a tensor from a list of numpy.ndarrays is extremely slow. Please consider converting the list to a single numpy.ndarray with numpy.array() before converting to a tensor. (Triggered internally at  /opt/conda/conda-bld/pytorch_1646755903507/work/torch/csrc/utils/tensor_new.cpp:210.)\n",
      "  target_scale = torch.tensor([batch[0][\"target_scale\"] for batch in batches], dtype=torch.float)\n",
      "/home/qishuai/anaconda3/envs/glasgow/lib/python3.8/site-packages/pytorch_forecasting/data/timeseries.py:1649: UserWarning: Creating a tensor from a list of numpy.ndarrays is extremely slow. Please consider converting the list to a single numpy.ndarray with numpy.array() before converting to a tensor. (Triggered internally at  /opt/conda/conda-bld/pytorch_1646755903507/work/torch/csrc/utils/tensor_new.cpp:210.)\n",
      "  target_scale = torch.tensor([batch[0][\"target_scale\"] for batch in batches], dtype=torch.float)\n",
      "/home/qishuai/anaconda3/envs/glasgow/lib/python3.8/site-packages/pytorch_forecasting/data/encoders.py:373: UserWarning: scale is below 1e-7 - consider not centering the data or using data with higher variance for numerical stability\n",
      "  warnings.warn(\n",
      "/home/qishuai/anaconda3/envs/glasgow/lib/python3.8/site-packages/pytorch_forecasting/data/encoders.py:373: UserWarning: scale is below 1e-7 - consider not centering the data or using data with higher variance for numerical stability\n",
      "  warnings.warn(\n",
      "/home/qishuai/anaconda3/envs/glasgow/lib/python3.8/site-packages/pytorch_forecasting/data/encoders.py:373: UserWarning: scale is below 1e-7 - consider not centering the data or using data with higher variance for numerical stability\n",
      "  warnings.warn(\n",
      "/home/qishuai/anaconda3/envs/glasgow/lib/python3.8/site-packages/pytorch_forecasting/data/encoders.py:373: UserWarning: scale is below 1e-7 - consider not centering the data or using data with higher variance for numerical stability\n",
      "  warnings.warn(\n",
      "/home/qishuai/anaconda3/envs/glasgow/lib/python3.8/site-packages/pytorch_forecasting/data/encoders.py:373: UserWarning: scale is below 1e-7 - consider not centering the data or using data with higher variance for numerical stability\n",
      "  warnings.warn(\n",
      "/home/qishuai/anaconda3/envs/glasgow/lib/python3.8/site-packages/pytorch_forecasting/data/encoders.py:373: UserWarning: scale is below 1e-7 - consider not centering the data or using data with higher variance for numerical stability\n",
      "  warnings.warn(\n",
      "/home/qishuai/anaconda3/envs/glasgow/lib/python3.8/site-packages/pytorch_forecasting/data/encoders.py:373: UserWarning: scale is below 1e-7 - consider not centering the data or using data with higher variance for numerical stability\n",
      "  warnings.warn(\n",
      "/home/qishuai/anaconda3/envs/glasgow/lib/python3.8/site-packages/pytorch_forecasting/data/encoders.py:373: UserWarning: scale is below 1e-7 - consider not centering the data or using data with higher variance for numerical stability\n",
      "  warnings.warn(\n",
      "/home/qishuai/anaconda3/envs/glasgow/lib/python3.8/site-packages/pytorch_forecasting/data/encoders.py:373: UserWarning: scale is below 1e-7 - consider not centering the data or using data with higher variance for numerical stability\n",
      "  warnings.warn(\n",
      "/home/qishuai/anaconda3/envs/glasgow/lib/python3.8/site-packages/pytorch_forecasting/data/encoders.py:373: UserWarning: scale is below 1e-7 - consider not centering the data or using data with higher variance for numerical stability\n",
      "  warnings.warn(\n",
      "/home/qishuai/anaconda3/envs/glasgow/lib/python3.8/site-packages/pytorch_forecasting/data/encoders.py:373: UserWarning: scale is below 1e-7 - consider not centering the data or using data with higher variance for numerical stability\n",
      "  warnings.warn(\n",
      "/home/qishuai/anaconda3/envs/glasgow/lib/python3.8/site-packages/pytorch_forecasting/data/encoders.py:373: UserWarning: scale is below 1e-7 - consider not centering the data or using data with higher variance for numerical stability\n",
      "  warnings.warn(\n",
      "/home/qishuai/anaconda3/envs/glasgow/lib/python3.8/site-packages/pytorch_forecasting/data/timeseries.py:1649: UserWarning: Creating a tensor from a list of numpy.ndarrays is extremely slow. Please consider converting the list to a single numpy.ndarray with numpy.array() before converting to a tensor. (Triggered internally at  /opt/conda/conda-bld/pytorch_1646755903507/work/torch/csrc/utils/tensor_new.cpp:210.)\n",
      "  target_scale = torch.tensor([batch[0][\"target_scale\"] for batch in batches], dtype=torch.float)\n",
      "/home/qishuai/anaconda3/envs/glasgow/lib/python3.8/site-packages/pytorch_forecasting/data/timeseries.py:1649: UserWarning: Creating a tensor from a list of numpy.ndarrays is extremely slow. Please consider converting the list to a single numpy.ndarray with numpy.array() before converting to a tensor. (Triggered internally at  /opt/conda/conda-bld/pytorch_1646755903507/work/torch/csrc/utils/tensor_new.cpp:210.)\n",
      "  target_scale = torch.tensor([batch[0][\"target_scale\"] for batch in batches], dtype=torch.float)\n"
     ]
    },
    {
     "name": "stderr",
     "output_type": "stream",
     "text": [
      "/home/qishuai/anaconda3/envs/glasgow/lib/python3.8/site-packages/pytorch_forecasting/data/timeseries.py:1649: UserWarning: Creating a tensor from a list of numpy.ndarrays is extremely slow. Please consider converting the list to a single numpy.ndarray with numpy.array() before converting to a tensor. (Triggered internally at  /opt/conda/conda-bld/pytorch_1646755903507/work/torch/csrc/utils/tensor_new.cpp:210.)\n",
      "  target_scale = torch.tensor([batch[0][\"target_scale\"] for batch in batches], dtype=torch.float)\n",
      "/home/qishuai/anaconda3/envs/glasgow/lib/python3.8/site-packages/pytorch_forecasting/data/timeseries.py:1649: UserWarning: Creating a tensor from a list of numpy.ndarrays is extremely slow. Please consider converting the list to a single numpy.ndarray with numpy.array() before converting to a tensor. (Triggered internally at  /opt/conda/conda-bld/pytorch_1646755903507/work/torch/csrc/utils/tensor_new.cpp:210.)\n",
      "  target_scale = torch.tensor([batch[0][\"target_scale\"] for batch in batches], dtype=torch.float)\n",
      "/home/qishuai/anaconda3/envs/glasgow/lib/python3.8/site-packages/pytorch_forecasting/data/encoders.py:373: UserWarning: scale is below 1e-7 - consider not centering the data or using data with higher variance for numerical stability\n",
      "  warnings.warn(\n",
      "/home/qishuai/anaconda3/envs/glasgow/lib/python3.8/site-packages/pytorch_forecasting/data/timeseries.py:1649: UserWarning: Creating a tensor from a list of numpy.ndarrays is extremely slow. Please consider converting the list to a single numpy.ndarray with numpy.array() before converting to a tensor. (Triggered internally at  /opt/conda/conda-bld/pytorch_1646755903507/work/torch/csrc/utils/tensor_new.cpp:210.)\n",
      "  target_scale = torch.tensor([batch[0][\"target_scale\"] for batch in batches], dtype=torch.float)\n",
      "/home/qishuai/anaconda3/envs/glasgow/lib/python3.8/site-packages/pytorch_forecasting/data/timeseries.py:1649: UserWarning: Creating a tensor from a list of numpy.ndarrays is extremely slow. Please consider converting the list to a single numpy.ndarray with numpy.array() before converting to a tensor. (Triggered internally at  /opt/conda/conda-bld/pytorch_1646755903507/work/torch/csrc/utils/tensor_new.cpp:210.)\n",
      "  target_scale = torch.tensor([batch[0][\"target_scale\"] for batch in batches], dtype=torch.float)\n",
      "/home/qishuai/anaconda3/envs/glasgow/lib/python3.8/site-packages/pytorch_forecasting/data/timeseries.py:1649: UserWarning: Creating a tensor from a list of numpy.ndarrays is extremely slow. Please consider converting the list to a single numpy.ndarray with numpy.array() before converting to a tensor. (Triggered internally at  /opt/conda/conda-bld/pytorch_1646755903507/work/torch/csrc/utils/tensor_new.cpp:210.)\n",
      "  target_scale = torch.tensor([batch[0][\"target_scale\"] for batch in batches], dtype=torch.float)\n",
      "/home/qishuai/anaconda3/envs/glasgow/lib/python3.8/site-packages/pytorch_forecasting/data/timeseries.py:1649: UserWarning: Creating a tensor from a list of numpy.ndarrays is extremely slow. Please consider converting the list to a single numpy.ndarray with numpy.array() before converting to a tensor. (Triggered internally at  /opt/conda/conda-bld/pytorch_1646755903507/work/torch/csrc/utils/tensor_new.cpp:210.)\n",
      "  target_scale = torch.tensor([batch[0][\"target_scale\"] for batch in batches], dtype=torch.float)\n",
      "/home/qishuai/anaconda3/envs/glasgow/lib/python3.8/site-packages/pytorch_forecasting/data/encoders.py:373: UserWarning: scale is below 1e-7 - consider not centering the data or using data with higher variance for numerical stability\n",
      "  warnings.warn(\n",
      "/home/qishuai/anaconda3/envs/glasgow/lib/python3.8/site-packages/pytorch_forecasting/data/encoders.py:373: UserWarning: scale is below 1e-7 - consider not centering the data or using data with higher variance for numerical stability\n",
      "  warnings.warn(\n"
     ]
    },
    {
     "data": {
      "application/vnd.jupyter.widget-view+json": {
       "model_id": "",
       "version_major": 2,
       "version_minor": 0
      },
      "text/plain": [
       "Validating: 0it [00:00, ?it/s]"
      ]
     },
     "metadata": {},
     "output_type": "display_data"
    },
    {
     "name": "stderr",
     "output_type": "stream",
     "text": [
      "/home/qishuai/anaconda3/envs/glasgow/lib/python3.8/site-packages/pytorch_forecasting/data/encoders.py:373: UserWarning: scale is below 1e-7 - consider not centering the data or using data with higher variance for numerical stability\n",
      "  warnings.warn(\n",
      "/home/qishuai/anaconda3/envs/glasgow/lib/python3.8/site-packages/pytorch_forecasting/data/timeseries.py:1649: UserWarning: Creating a tensor from a list of numpy.ndarrays is extremely slow. Please consider converting the list to a single numpy.ndarray with numpy.array() before converting to a tensor. (Triggered internally at  /opt/conda/conda-bld/pytorch_1646755903507/work/torch/csrc/utils/tensor_new.cpp:210.)\n",
      "  target_scale = torch.tensor([batch[0][\"target_scale\"] for batch in batches], dtype=torch.float)\n",
      "/home/qishuai/anaconda3/envs/glasgow/lib/python3.8/site-packages/pytorch_forecasting/data/timeseries.py:1649: UserWarning: Creating a tensor from a list of numpy.ndarrays is extremely slow. Please consider converting the list to a single numpy.ndarray with numpy.array() before converting to a tensor. (Triggered internally at  /opt/conda/conda-bld/pytorch_1646755903507/work/torch/csrc/utils/tensor_new.cpp:210.)\n",
      "  target_scale = torch.tensor([batch[0][\"target_scale\"] for batch in batches], dtype=torch.float)\n",
      "/home/qishuai/anaconda3/envs/glasgow/lib/python3.8/site-packages/pytorch_forecasting/data/timeseries.py:1649: UserWarning: Creating a tensor from a list of numpy.ndarrays is extremely slow. Please consider converting the list to a single numpy.ndarray with numpy.array() before converting to a tensor. (Triggered internally at  /opt/conda/conda-bld/pytorch_1646755903507/work/torch/csrc/utils/tensor_new.cpp:210.)\n",
      "  target_scale = torch.tensor([batch[0][\"target_scale\"] for batch in batches], dtype=torch.float)\n",
      "/home/qishuai/anaconda3/envs/glasgow/lib/python3.8/site-packages/pytorch_forecasting/data/timeseries.py:1649: UserWarning: Creating a tensor from a list of numpy.ndarrays is extremely slow. Please consider converting the list to a single numpy.ndarray with numpy.array() before converting to a tensor. (Triggered internally at  /opt/conda/conda-bld/pytorch_1646755903507/work/torch/csrc/utils/tensor_new.cpp:210.)\n",
      "  target_scale = torch.tensor([batch[0][\"target_scale\"] for batch in batches], dtype=torch.float)\n",
      "/home/qishuai/anaconda3/envs/glasgow/lib/python3.8/site-packages/pytorch_forecasting/data/timeseries.py:1649: UserWarning: Creating a tensor from a list of numpy.ndarrays is extremely slow. Please consider converting the list to a single numpy.ndarray with numpy.array() before converting to a tensor. (Triggered internally at  /opt/conda/conda-bld/pytorch_1646755903507/work/torch/csrc/utils/tensor_new.cpp:210.)\n",
      "  target_scale = torch.tensor([batch[0][\"target_scale\"] for batch in batches], dtype=torch.float)\n",
      "/home/qishuai/anaconda3/envs/glasgow/lib/python3.8/site-packages/pytorch_forecasting/data/timeseries.py:1649: UserWarning: Creating a tensor from a list of numpy.ndarrays is extremely slow. Please consider converting the list to a single numpy.ndarray with numpy.array() before converting to a tensor. (Triggered internally at  /opt/conda/conda-bld/pytorch_1646755903507/work/torch/csrc/utils/tensor_new.cpp:210.)\n",
      "  target_scale = torch.tensor([batch[0][\"target_scale\"] for batch in batches], dtype=torch.float)\n",
      "/home/qishuai/anaconda3/envs/glasgow/lib/python3.8/site-packages/pytorch_forecasting/data/timeseries.py:1649: UserWarning: Creating a tensor from a list of numpy.ndarrays is extremely slow. Please consider converting the list to a single numpy.ndarray with numpy.array() before converting to a tensor. (Triggered internally at  /opt/conda/conda-bld/pytorch_1646755903507/work/torch/csrc/utils/tensor_new.cpp:210.)\n",
      "  target_scale = torch.tensor([batch[0][\"target_scale\"] for batch in batches], dtype=torch.float)\n",
      "/home/qishuai/anaconda3/envs/glasgow/lib/python3.8/site-packages/pytorch_forecasting/data/timeseries.py:1649: UserWarning: Creating a tensor from a list of numpy.ndarrays is extremely slow. Please consider converting the list to a single numpy.ndarray with numpy.array() before converting to a tensor. (Triggered internally at  /opt/conda/conda-bld/pytorch_1646755903507/work/torch/csrc/utils/tensor_new.cpp:210.)\n",
      "  target_scale = torch.tensor([batch[0][\"target_scale\"] for batch in batches], dtype=torch.float)\n",
      "/home/qishuai/anaconda3/envs/glasgow/lib/python3.8/site-packages/pytorch_forecasting/data/encoders.py:373: UserWarning: scale is below 1e-7 - consider not centering the data or using data with higher variance for numerical stability\n",
      "  warnings.warn(\n",
      "/home/qishuai/anaconda3/envs/glasgow/lib/python3.8/site-packages/pytorch_forecasting/data/encoders.py:373: UserWarning: scale is below 1e-7 - consider not centering the data or using data with higher variance for numerical stability\n",
      "  warnings.warn(\n",
      "/home/qishuai/anaconda3/envs/glasgow/lib/python3.8/site-packages/pytorch_forecasting/data/encoders.py:373: UserWarning: scale is below 1e-7 - consider not centering the data or using data with higher variance for numerical stability\n",
      "  warnings.warn(\n",
      "/home/qishuai/anaconda3/envs/glasgow/lib/python3.8/site-packages/pytorch_forecasting/data/encoders.py:373: UserWarning: scale is below 1e-7 - consider not centering the data or using data with higher variance for numerical stability\n",
      "  warnings.warn(\n",
      "/home/qishuai/anaconda3/envs/glasgow/lib/python3.8/site-packages/pytorch_forecasting/data/encoders.py:373: UserWarning: scale is below 1e-7 - consider not centering the data or using data with higher variance for numerical stability\n",
      "  warnings.warn(\n",
      "/home/qishuai/anaconda3/envs/glasgow/lib/python3.8/site-packages/pytorch_forecasting/data/encoders.py:373: UserWarning: scale is below 1e-7 - consider not centering the data or using data with higher variance for numerical stability\n",
      "  warnings.warn(\n",
      "/home/qishuai/anaconda3/envs/glasgow/lib/python3.8/site-packages/pytorch_forecasting/data/encoders.py:373: UserWarning: scale is below 1e-7 - consider not centering the data or using data with higher variance for numerical stability\n",
      "  warnings.warn(\n",
      "/home/qishuai/anaconda3/envs/glasgow/lib/python3.8/site-packages/pytorch_forecasting/data/encoders.py:373: UserWarning: scale is below 1e-7 - consider not centering the data or using data with higher variance for numerical stability\n",
      "  warnings.warn(\n",
      "/home/qishuai/anaconda3/envs/glasgow/lib/python3.8/site-packages/pytorch_forecasting/data/encoders.py:373: UserWarning: scale is below 1e-7 - consider not centering the data or using data with higher variance for numerical stability\n",
      "  warnings.warn(\n",
      "/home/qishuai/anaconda3/envs/glasgow/lib/python3.8/site-packages/pytorch_forecasting/data/encoders.py:373: UserWarning: scale is below 1e-7 - consider not centering the data or using data with higher variance for numerical stability\n",
      "  warnings.warn(\n",
      "/home/qishuai/anaconda3/envs/glasgow/lib/python3.8/site-packages/pytorch_forecasting/data/timeseries.py:1649: UserWarning: Creating a tensor from a list of numpy.ndarrays is extremely slow. Please consider converting the list to a single numpy.ndarray with numpy.array() before converting to a tensor. (Triggered internally at  /opt/conda/conda-bld/pytorch_1646755903507/work/torch/csrc/utils/tensor_new.cpp:210.)\n",
      "  target_scale = torch.tensor([batch[0][\"target_scale\"] for batch in batches], dtype=torch.float)\n",
      "/home/qishuai/anaconda3/envs/glasgow/lib/python3.8/site-packages/pytorch_forecasting/data/timeseries.py:1649: UserWarning: Creating a tensor from a list of numpy.ndarrays is extremely slow. Please consider converting the list to a single numpy.ndarray with numpy.array() before converting to a tensor. (Triggered internally at  /opt/conda/conda-bld/pytorch_1646755903507/work/torch/csrc/utils/tensor_new.cpp:210.)\n",
      "  target_scale = torch.tensor([batch[0][\"target_scale\"] for batch in batches], dtype=torch.float)\n",
      "/home/qishuai/anaconda3/envs/glasgow/lib/python3.8/site-packages/pytorch_forecasting/data/timeseries.py:1649: UserWarning: Creating a tensor from a list of numpy.ndarrays is extremely slow. Please consider converting the list to a single numpy.ndarray with numpy.array() before converting to a tensor. (Triggered internally at  /opt/conda/conda-bld/pytorch_1646755903507/work/torch/csrc/utils/tensor_new.cpp:210.)\n",
      "  target_scale = torch.tensor([batch[0][\"target_scale\"] for batch in batches], dtype=torch.float)\n"
     ]
    },
    {
     "name": "stderr",
     "output_type": "stream",
     "text": [
      "/home/qishuai/anaconda3/envs/glasgow/lib/python3.8/site-packages/pytorch_forecasting/data/timeseries.py:1649: UserWarning: Creating a tensor from a list of numpy.ndarrays is extremely slow. Please consider converting the list to a single numpy.ndarray with numpy.array() before converting to a tensor. (Triggered internally at  /opt/conda/conda-bld/pytorch_1646755903507/work/torch/csrc/utils/tensor_new.cpp:210.)\n",
      "  target_scale = torch.tensor([batch[0][\"target_scale\"] for batch in batches], dtype=torch.float)\n",
      "/home/qishuai/anaconda3/envs/glasgow/lib/python3.8/site-packages/pytorch_forecasting/data/timeseries.py:1649: UserWarning: Creating a tensor from a list of numpy.ndarrays is extremely slow. Please consider converting the list to a single numpy.ndarray with numpy.array() before converting to a tensor. (Triggered internally at  /opt/conda/conda-bld/pytorch_1646755903507/work/torch/csrc/utils/tensor_new.cpp:210.)\n",
      "  target_scale = torch.tensor([batch[0][\"target_scale\"] for batch in batches], dtype=torch.float)\n",
      "/home/qishuai/anaconda3/envs/glasgow/lib/python3.8/site-packages/pytorch_forecasting/data/timeseries.py:1649: UserWarning: Creating a tensor from a list of numpy.ndarrays is extremely slow. Please consider converting the list to a single numpy.ndarray with numpy.array() before converting to a tensor. (Triggered internally at  /opt/conda/conda-bld/pytorch_1646755903507/work/torch/csrc/utils/tensor_new.cpp:210.)\n",
      "  target_scale = torch.tensor([batch[0][\"target_scale\"] for batch in batches], dtype=torch.float)\n",
      "/home/qishuai/anaconda3/envs/glasgow/lib/python3.8/site-packages/pytorch_forecasting/data/timeseries.py:1649: UserWarning: Creating a tensor from a list of numpy.ndarrays is extremely slow. Please consider converting the list to a single numpy.ndarray with numpy.array() before converting to a tensor. (Triggered internally at  /opt/conda/conda-bld/pytorch_1646755903507/work/torch/csrc/utils/tensor_new.cpp:210.)\n",
      "  target_scale = torch.tensor([batch[0][\"target_scale\"] for batch in batches], dtype=torch.float)\n",
      "/home/qishuai/anaconda3/envs/glasgow/lib/python3.8/site-packages/pytorch_forecasting/data/timeseries.py:1649: UserWarning: Creating a tensor from a list of numpy.ndarrays is extremely slow. Please consider converting the list to a single numpy.ndarray with numpy.array() before converting to a tensor. (Triggered internally at  /opt/conda/conda-bld/pytorch_1646755903507/work/torch/csrc/utils/tensor_new.cpp:210.)\n",
      "  target_scale = torch.tensor([batch[0][\"target_scale\"] for batch in batches], dtype=torch.float)\n",
      "/home/qishuai/anaconda3/envs/glasgow/lib/python3.8/site-packages/pytorch_forecasting/data/encoders.py:373: UserWarning: scale is below 1e-7 - consider not centering the data or using data with higher variance for numerical stability\n",
      "  warnings.warn(\n",
      "/home/qishuai/anaconda3/envs/glasgow/lib/python3.8/site-packages/pytorch_forecasting/data/encoders.py:373: UserWarning: scale is below 1e-7 - consider not centering the data or using data with higher variance for numerical stability\n",
      "  warnings.warn(\n",
      "/home/qishuai/anaconda3/envs/glasgow/lib/python3.8/site-packages/pytorch_forecasting/data/encoders.py:373: UserWarning: scale is below 1e-7 - consider not centering the data or using data with higher variance for numerical stability\n",
      "  warnings.warn(\n",
      "/home/qishuai/anaconda3/envs/glasgow/lib/python3.8/site-packages/pytorch_forecasting/data/encoders.py:373: UserWarning: scale is below 1e-7 - consider not centering the data or using data with higher variance for numerical stability\n",
      "  warnings.warn(\n",
      "/home/qishuai/anaconda3/envs/glasgow/lib/python3.8/site-packages/pytorch_forecasting/data/encoders.py:373: UserWarning: scale is below 1e-7 - consider not centering the data or using data with higher variance for numerical stability\n",
      "  warnings.warn(\n"
     ]
    },
    {
     "data": {
      "application/vnd.jupyter.widget-view+json": {
       "model_id": "",
       "version_major": 2,
       "version_minor": 0
      },
      "text/plain": [
       "Validating: 0it [00:00, ?it/s]"
      ]
     },
     "metadata": {},
     "output_type": "display_data"
    },
    {
     "name": "stderr",
     "output_type": "stream",
     "text": [
      "/home/qishuai/anaconda3/envs/glasgow/lib/python3.8/site-packages/pytorch_forecasting/data/encoders.py:373: UserWarning: scale is below 1e-7 - consider not centering the data or using data with higher variance for numerical stability\n",
      "  warnings.warn(\n",
      "/home/qishuai/anaconda3/envs/glasgow/lib/python3.8/site-packages/pytorch_forecasting/data/timeseries.py:1649: UserWarning: Creating a tensor from a list of numpy.ndarrays is extremely slow. Please consider converting the list to a single numpy.ndarray with numpy.array() before converting to a tensor. (Triggered internally at  /opt/conda/conda-bld/pytorch_1646755903507/work/torch/csrc/utils/tensor_new.cpp:210.)\n",
      "  target_scale = torch.tensor([batch[0][\"target_scale\"] for batch in batches], dtype=torch.float)\n",
      "/home/qishuai/anaconda3/envs/glasgow/lib/python3.8/site-packages/pytorch_forecasting/data/timeseries.py:1649: UserWarning: Creating a tensor from a list of numpy.ndarrays is extremely slow. Please consider converting the list to a single numpy.ndarray with numpy.array() before converting to a tensor. (Triggered internally at  /opt/conda/conda-bld/pytorch_1646755903507/work/torch/csrc/utils/tensor_new.cpp:210.)\n",
      "  target_scale = torch.tensor([batch[0][\"target_scale\"] for batch in batches], dtype=torch.float)\n",
      "/home/qishuai/anaconda3/envs/glasgow/lib/python3.8/site-packages/pytorch_forecasting/data/timeseries.py:1649: UserWarning: Creating a tensor from a list of numpy.ndarrays is extremely slow. Please consider converting the list to a single numpy.ndarray with numpy.array() before converting to a tensor. (Triggered internally at  /opt/conda/conda-bld/pytorch_1646755903507/work/torch/csrc/utils/tensor_new.cpp:210.)\n",
      "  target_scale = torch.tensor([batch[0][\"target_scale\"] for batch in batches], dtype=torch.float)\n",
      "/home/qishuai/anaconda3/envs/glasgow/lib/python3.8/site-packages/pytorch_forecasting/data/timeseries.py:1649: UserWarning: Creating a tensor from a list of numpy.ndarrays is extremely slow. Please consider converting the list to a single numpy.ndarray with numpy.array() before converting to a tensor. (Triggered internally at  /opt/conda/conda-bld/pytorch_1646755903507/work/torch/csrc/utils/tensor_new.cpp:210.)\n",
      "  target_scale = torch.tensor([batch[0][\"target_scale\"] for batch in batches], dtype=torch.float)\n",
      "/home/qishuai/anaconda3/envs/glasgow/lib/python3.8/site-packages/pytorch_forecasting/data/timeseries.py:1649: UserWarning: Creating a tensor from a list of numpy.ndarrays is extremely slow. Please consider converting the list to a single numpy.ndarray with numpy.array() before converting to a tensor. (Triggered internally at  /opt/conda/conda-bld/pytorch_1646755903507/work/torch/csrc/utils/tensor_new.cpp:210.)\n",
      "  target_scale = torch.tensor([batch[0][\"target_scale\"] for batch in batches], dtype=torch.float)\n",
      "/home/qishuai/anaconda3/envs/glasgow/lib/python3.8/site-packages/pytorch_forecasting/data/timeseries.py:1649: UserWarning: Creating a tensor from a list of numpy.ndarrays is extremely slow. Please consider converting the list to a single numpy.ndarray with numpy.array() before converting to a tensor. (Triggered internally at  /opt/conda/conda-bld/pytorch_1646755903507/work/torch/csrc/utils/tensor_new.cpp:210.)\n",
      "  target_scale = torch.tensor([batch[0][\"target_scale\"] for batch in batches], dtype=torch.float)\n",
      "/home/qishuai/anaconda3/envs/glasgow/lib/python3.8/site-packages/pytorch_forecasting/data/timeseries.py:1649: UserWarning: Creating a tensor from a list of numpy.ndarrays is extremely slow. Please consider converting the list to a single numpy.ndarray with numpy.array() before converting to a tensor. (Triggered internally at  /opt/conda/conda-bld/pytorch_1646755903507/work/torch/csrc/utils/tensor_new.cpp:210.)\n",
      "  target_scale = torch.tensor([batch[0][\"target_scale\"] for batch in batches], dtype=torch.float)\n",
      "/home/qishuai/anaconda3/envs/glasgow/lib/python3.8/site-packages/pytorch_forecasting/data/timeseries.py:1649: UserWarning: Creating a tensor from a list of numpy.ndarrays is extremely slow. Please consider converting the list to a single numpy.ndarray with numpy.array() before converting to a tensor. (Triggered internally at  /opt/conda/conda-bld/pytorch_1646755903507/work/torch/csrc/utils/tensor_new.cpp:210.)\n",
      "  target_scale = torch.tensor([batch[0][\"target_scale\"] for batch in batches], dtype=torch.float)\n",
      "/home/qishuai/anaconda3/envs/glasgow/lib/python3.8/site-packages/pytorch_forecasting/data/encoders.py:373: UserWarning: scale is below 1e-7 - consider not centering the data or using data with higher variance for numerical stability\n",
      "  warnings.warn(\n",
      "/home/qishuai/anaconda3/envs/glasgow/lib/python3.8/site-packages/pytorch_forecasting/data/encoders.py:373: UserWarning: scale is below 1e-7 - consider not centering the data or using data with higher variance for numerical stability\n",
      "  warnings.warn(\n",
      "/home/qishuai/anaconda3/envs/glasgow/lib/python3.8/site-packages/pytorch_forecasting/data/encoders.py:373: UserWarning: scale is below 1e-7 - consider not centering the data or using data with higher variance for numerical stability\n",
      "  warnings.warn(\n",
      "/home/qishuai/anaconda3/envs/glasgow/lib/python3.8/site-packages/pytorch_forecasting/data/encoders.py:373: UserWarning: scale is below 1e-7 - consider not centering the data or using data with higher variance for numerical stability\n",
      "  warnings.warn(\n",
      "/home/qishuai/anaconda3/envs/glasgow/lib/python3.8/site-packages/pytorch_forecasting/data/encoders.py:373: UserWarning: scale is below 1e-7 - consider not centering the data or using data with higher variance for numerical stability\n",
      "  warnings.warn(\n",
      "/home/qishuai/anaconda3/envs/glasgow/lib/python3.8/site-packages/pytorch_forecasting/data/encoders.py:373: UserWarning: scale is below 1e-7 - consider not centering the data or using data with higher variance for numerical stability\n",
      "  warnings.warn(\n",
      "/home/qishuai/anaconda3/envs/glasgow/lib/python3.8/site-packages/pytorch_forecasting/data/encoders.py:373: UserWarning: scale is below 1e-7 - consider not centering the data or using data with higher variance for numerical stability\n",
      "  warnings.warn(\n",
      "/home/qishuai/anaconda3/envs/glasgow/lib/python3.8/site-packages/pytorch_forecasting/data/encoders.py:373: UserWarning: scale is below 1e-7 - consider not centering the data or using data with higher variance for numerical stability\n",
      "  warnings.warn(\n",
      "/home/qishuai/anaconda3/envs/glasgow/lib/python3.8/site-packages/pytorch_forecasting/data/encoders.py:373: UserWarning: scale is below 1e-7 - consider not centering the data or using data with higher variance for numerical stability\n",
      "  warnings.warn(\n",
      "/home/qishuai/anaconda3/envs/glasgow/lib/python3.8/site-packages/pytorch_forecasting/data/encoders.py:373: UserWarning: scale is below 1e-7 - consider not centering the data or using data with higher variance for numerical stability\n",
      "  warnings.warn(\n",
      "/home/qishuai/anaconda3/envs/glasgow/lib/python3.8/site-packages/pytorch_forecasting/data/encoders.py:373: UserWarning: scale is below 1e-7 - consider not centering the data or using data with higher variance for numerical stability\n",
      "  warnings.warn(\n",
      "/home/qishuai/anaconda3/envs/glasgow/lib/python3.8/site-packages/pytorch_forecasting/data/timeseries.py:1649: UserWarning: Creating a tensor from a list of numpy.ndarrays is extremely slow. Please consider converting the list to a single numpy.ndarray with numpy.array() before converting to a tensor. (Triggered internally at  /opt/conda/conda-bld/pytorch_1646755903507/work/torch/csrc/utils/tensor_new.cpp:210.)\n",
      "  target_scale = torch.tensor([batch[0][\"target_scale\"] for batch in batches], dtype=torch.float)\n",
      "/home/qishuai/anaconda3/envs/glasgow/lib/python3.8/site-packages/pytorch_forecasting/data/timeseries.py:1649: UserWarning: Creating a tensor from a list of numpy.ndarrays is extremely slow. Please consider converting the list to a single numpy.ndarray with numpy.array() before converting to a tensor. (Triggered internally at  /opt/conda/conda-bld/pytorch_1646755903507/work/torch/csrc/utils/tensor_new.cpp:210.)\n",
      "  target_scale = torch.tensor([batch[0][\"target_scale\"] for batch in batches], dtype=torch.float)\n",
      "/home/qishuai/anaconda3/envs/glasgow/lib/python3.8/site-packages/pytorch_forecasting/data/timeseries.py:1649: UserWarning: Creating a tensor from a list of numpy.ndarrays is extremely slow. Please consider converting the list to a single numpy.ndarray with numpy.array() before converting to a tensor. (Triggered internally at  /opt/conda/conda-bld/pytorch_1646755903507/work/torch/csrc/utils/tensor_new.cpp:210.)\n",
      "  target_scale = torch.tensor([batch[0][\"target_scale\"] for batch in batches], dtype=torch.float)\n"
     ]
    },
    {
     "name": "stderr",
     "output_type": "stream",
     "text": [
      "/home/qishuai/anaconda3/envs/glasgow/lib/python3.8/site-packages/pytorch_forecasting/data/timeseries.py:1649: UserWarning: Creating a tensor from a list of numpy.ndarrays is extremely slow. Please consider converting the list to a single numpy.ndarray with numpy.array() before converting to a tensor. (Triggered internally at  /opt/conda/conda-bld/pytorch_1646755903507/work/torch/csrc/utils/tensor_new.cpp:210.)\n",
      "  target_scale = torch.tensor([batch[0][\"target_scale\"] for batch in batches], dtype=torch.float)\n",
      "/home/qishuai/anaconda3/envs/glasgow/lib/python3.8/site-packages/pytorch_forecasting/data/timeseries.py:1649: UserWarning: Creating a tensor from a list of numpy.ndarrays is extremely slow. Please consider converting the list to a single numpy.ndarray with numpy.array() before converting to a tensor. (Triggered internally at  /opt/conda/conda-bld/pytorch_1646755903507/work/torch/csrc/utils/tensor_new.cpp:210.)\n",
      "  target_scale = torch.tensor([batch[0][\"target_scale\"] for batch in batches], dtype=torch.float)\n",
      "/home/qishuai/anaconda3/envs/glasgow/lib/python3.8/site-packages/pytorch_forecasting/data/timeseries.py:1649: UserWarning: Creating a tensor from a list of numpy.ndarrays is extremely slow. Please consider converting the list to a single numpy.ndarray with numpy.array() before converting to a tensor. (Triggered internally at  /opt/conda/conda-bld/pytorch_1646755903507/work/torch/csrc/utils/tensor_new.cpp:210.)\n",
      "  target_scale = torch.tensor([batch[0][\"target_scale\"] for batch in batches], dtype=torch.float)\n",
      "/home/qishuai/anaconda3/envs/glasgow/lib/python3.8/site-packages/pytorch_forecasting/data/timeseries.py:1649: UserWarning: Creating a tensor from a list of numpy.ndarrays is extremely slow. Please consider converting the list to a single numpy.ndarray with numpy.array() before converting to a tensor. (Triggered internally at  /opt/conda/conda-bld/pytorch_1646755903507/work/torch/csrc/utils/tensor_new.cpp:210.)\n",
      "  target_scale = torch.tensor([batch[0][\"target_scale\"] for batch in batches], dtype=torch.float)\n",
      "/home/qishuai/anaconda3/envs/glasgow/lib/python3.8/site-packages/pytorch_forecasting/data/timeseries.py:1649: UserWarning: Creating a tensor from a list of numpy.ndarrays is extremely slow. Please consider converting the list to a single numpy.ndarray with numpy.array() before converting to a tensor. (Triggered internally at  /opt/conda/conda-bld/pytorch_1646755903507/work/torch/csrc/utils/tensor_new.cpp:210.)\n",
      "  target_scale = torch.tensor([batch[0][\"target_scale\"] for batch in batches], dtype=torch.float)\n",
      "/home/qishuai/anaconda3/envs/glasgow/lib/python3.8/site-packages/pytorch_forecasting/data/encoders.py:373: UserWarning: scale is below 1e-7 - consider not centering the data or using data with higher variance for numerical stability\n",
      "  warnings.warn(\n",
      "/home/qishuai/anaconda3/envs/glasgow/lib/python3.8/site-packages/pytorch_forecasting/data/encoders.py:373: UserWarning: scale is below 1e-7 - consider not centering the data or using data with higher variance for numerical stability\n",
      "  warnings.warn(\n",
      "/home/qishuai/anaconda3/envs/glasgow/lib/python3.8/site-packages/pytorch_forecasting/data/encoders.py:373: UserWarning: scale is below 1e-7 - consider not centering the data or using data with higher variance for numerical stability\n",
      "  warnings.warn(\n",
      "/home/qishuai/anaconda3/envs/glasgow/lib/python3.8/site-packages/pytorch_forecasting/data/encoders.py:373: UserWarning: scale is below 1e-7 - consider not centering the data or using data with higher variance for numerical stability\n",
      "  warnings.warn(\n"
     ]
    },
    {
     "data": {
      "application/vnd.jupyter.widget-view+json": {
       "model_id": "",
       "version_major": 2,
       "version_minor": 0
      },
      "text/plain": [
       "Validating: 0it [00:00, ?it/s]"
      ]
     },
     "metadata": {},
     "output_type": "display_data"
    },
    {
     "name": "stderr",
     "output_type": "stream",
     "text": [
      "/home/qishuai/anaconda3/envs/glasgow/lib/python3.8/site-packages/pytorch_forecasting/data/encoders.py:373: UserWarning: scale is below 1e-7 - consider not centering the data or using data with higher variance for numerical stability\n",
      "  warnings.warn(\n",
      "/home/qishuai/anaconda3/envs/glasgow/lib/python3.8/site-packages/pytorch_forecasting/data/timeseries.py:1649: UserWarning: Creating a tensor from a list of numpy.ndarrays is extremely slow. Please consider converting the list to a single numpy.ndarray with numpy.array() before converting to a tensor. (Triggered internally at  /opt/conda/conda-bld/pytorch_1646755903507/work/torch/csrc/utils/tensor_new.cpp:210.)\n",
      "  target_scale = torch.tensor([batch[0][\"target_scale\"] for batch in batches], dtype=torch.float)\n",
      "/home/qishuai/anaconda3/envs/glasgow/lib/python3.8/site-packages/pytorch_forecasting/data/timeseries.py:1649: UserWarning: Creating a tensor from a list of numpy.ndarrays is extremely slow. Please consider converting the list to a single numpy.ndarray with numpy.array() before converting to a tensor. (Triggered internally at  /opt/conda/conda-bld/pytorch_1646755903507/work/torch/csrc/utils/tensor_new.cpp:210.)\n",
      "  target_scale = torch.tensor([batch[0][\"target_scale\"] for batch in batches], dtype=torch.float)\n",
      "/home/qishuai/anaconda3/envs/glasgow/lib/python3.8/site-packages/pytorch_forecasting/data/timeseries.py:1649: UserWarning: Creating a tensor from a list of numpy.ndarrays is extremely slow. Please consider converting the list to a single numpy.ndarray with numpy.array() before converting to a tensor. (Triggered internally at  /opt/conda/conda-bld/pytorch_1646755903507/work/torch/csrc/utils/tensor_new.cpp:210.)\n",
      "  target_scale = torch.tensor([batch[0][\"target_scale\"] for batch in batches], dtype=torch.float)\n",
      "/home/qishuai/anaconda3/envs/glasgow/lib/python3.8/site-packages/pytorch_forecasting/data/timeseries.py:1649: UserWarning: Creating a tensor from a list of numpy.ndarrays is extremely slow. Please consider converting the list to a single numpy.ndarray with numpy.array() before converting to a tensor. (Triggered internally at  /opt/conda/conda-bld/pytorch_1646755903507/work/torch/csrc/utils/tensor_new.cpp:210.)\n",
      "  target_scale = torch.tensor([batch[0][\"target_scale\"] for batch in batches], dtype=torch.float)\n",
      "/home/qishuai/anaconda3/envs/glasgow/lib/python3.8/site-packages/pytorch_forecasting/data/timeseries.py:1649: UserWarning: Creating a tensor from a list of numpy.ndarrays is extremely slow. Please consider converting the list to a single numpy.ndarray with numpy.array() before converting to a tensor. (Triggered internally at  /opt/conda/conda-bld/pytorch_1646755903507/work/torch/csrc/utils/tensor_new.cpp:210.)\n",
      "  target_scale = torch.tensor([batch[0][\"target_scale\"] for batch in batches], dtype=torch.float)\n",
      "/home/qishuai/anaconda3/envs/glasgow/lib/python3.8/site-packages/pytorch_forecasting/data/timeseries.py:1649: UserWarning: Creating a tensor from a list of numpy.ndarrays is extremely slow. Please consider converting the list to a single numpy.ndarray with numpy.array() before converting to a tensor. (Triggered internally at  /opt/conda/conda-bld/pytorch_1646755903507/work/torch/csrc/utils/tensor_new.cpp:210.)\n",
      "  target_scale = torch.tensor([batch[0][\"target_scale\"] for batch in batches], dtype=torch.float)\n",
      "/home/qishuai/anaconda3/envs/glasgow/lib/python3.8/site-packages/pytorch_forecasting/data/timeseries.py:1649: UserWarning: Creating a tensor from a list of numpy.ndarrays is extremely slow. Please consider converting the list to a single numpy.ndarray with numpy.array() before converting to a tensor. (Triggered internally at  /opt/conda/conda-bld/pytorch_1646755903507/work/torch/csrc/utils/tensor_new.cpp:210.)\n",
      "  target_scale = torch.tensor([batch[0][\"target_scale\"] for batch in batches], dtype=torch.float)\n",
      "/home/qishuai/anaconda3/envs/glasgow/lib/python3.8/site-packages/pytorch_forecasting/data/timeseries.py:1649: UserWarning: Creating a tensor from a list of numpy.ndarrays is extremely slow. Please consider converting the list to a single numpy.ndarray with numpy.array() before converting to a tensor. (Triggered internally at  /opt/conda/conda-bld/pytorch_1646755903507/work/torch/csrc/utils/tensor_new.cpp:210.)\n",
      "  target_scale = torch.tensor([batch[0][\"target_scale\"] for batch in batches], dtype=torch.float)\n",
      "/home/qishuai/anaconda3/envs/glasgow/lib/python3.8/site-packages/pytorch_forecasting/data/encoders.py:373: UserWarning: scale is below 1e-7 - consider not centering the data or using data with higher variance for numerical stability\n",
      "  warnings.warn(\n",
      "/home/qishuai/anaconda3/envs/glasgow/lib/python3.8/site-packages/pytorch_forecasting/data/encoders.py:373: UserWarning: scale is below 1e-7 - consider not centering the data or using data with higher variance for numerical stability\n",
      "  warnings.warn(\n",
      "/home/qishuai/anaconda3/envs/glasgow/lib/python3.8/site-packages/pytorch_forecasting/data/encoders.py:373: UserWarning: scale is below 1e-7 - consider not centering the data or using data with higher variance for numerical stability\n",
      "  warnings.warn(\n",
      "/home/qishuai/anaconda3/envs/glasgow/lib/python3.8/site-packages/pytorch_forecasting/data/encoders.py:373: UserWarning: scale is below 1e-7 - consider not centering the data or using data with higher variance for numerical stability\n",
      "  warnings.warn(\n",
      "/home/qishuai/anaconda3/envs/glasgow/lib/python3.8/site-packages/pytorch_forecasting/data/encoders.py:373: UserWarning: scale is below 1e-7 - consider not centering the data or using data with higher variance for numerical stability\n",
      "  warnings.warn(\n",
      "/home/qishuai/anaconda3/envs/glasgow/lib/python3.8/site-packages/pytorch_forecasting/data/encoders.py:373: UserWarning: scale is below 1e-7 - consider not centering the data or using data with higher variance for numerical stability\n",
      "  warnings.warn(\n",
      "/home/qishuai/anaconda3/envs/glasgow/lib/python3.8/site-packages/pytorch_forecasting/data/encoders.py:373: UserWarning: scale is below 1e-7 - consider not centering the data or using data with higher variance for numerical stability\n",
      "  warnings.warn(\n",
      "/home/qishuai/anaconda3/envs/glasgow/lib/python3.8/site-packages/pytorch_forecasting/data/encoders.py:373: UserWarning: scale is below 1e-7 - consider not centering the data or using data with higher variance for numerical stability\n",
      "  warnings.warn(\n",
      "/home/qishuai/anaconda3/envs/glasgow/lib/python3.8/site-packages/pytorch_forecasting/data/encoders.py:373: UserWarning: scale is below 1e-7 - consider not centering the data or using data with higher variance for numerical stability\n",
      "  warnings.warn(\n",
      "/home/qishuai/anaconda3/envs/glasgow/lib/python3.8/site-packages/pytorch_forecasting/data/encoders.py:373: UserWarning: scale is below 1e-7 - consider not centering the data or using data with higher variance for numerical stability\n",
      "  warnings.warn(\n",
      "/home/qishuai/anaconda3/envs/glasgow/lib/python3.8/site-packages/pytorch_forecasting/data/encoders.py:373: UserWarning: scale is below 1e-7 - consider not centering the data or using data with higher variance for numerical stability\n",
      "  warnings.warn(\n",
      "/home/qishuai/anaconda3/envs/glasgow/lib/python3.8/site-packages/pytorch_forecasting/data/encoders.py:373: UserWarning: scale is below 1e-7 - consider not centering the data or using data with higher variance for numerical stability\n",
      "  warnings.warn(\n",
      "/home/qishuai/anaconda3/envs/glasgow/lib/python3.8/site-packages/pytorch_forecasting/data/timeseries.py:1649: UserWarning: Creating a tensor from a list of numpy.ndarrays is extremely slow. Please consider converting the list to a single numpy.ndarray with numpy.array() before converting to a tensor. (Triggered internally at  /opt/conda/conda-bld/pytorch_1646755903507/work/torch/csrc/utils/tensor_new.cpp:210.)\n",
      "  target_scale = torch.tensor([batch[0][\"target_scale\"] for batch in batches], dtype=torch.float)\n",
      "/home/qishuai/anaconda3/envs/glasgow/lib/python3.8/site-packages/pytorch_forecasting/data/timeseries.py:1649: UserWarning: Creating a tensor from a list of numpy.ndarrays is extremely slow. Please consider converting the list to a single numpy.ndarray with numpy.array() before converting to a tensor. (Triggered internally at  /opt/conda/conda-bld/pytorch_1646755903507/work/torch/csrc/utils/tensor_new.cpp:210.)\n",
      "  target_scale = torch.tensor([batch[0][\"target_scale\"] for batch in batches], dtype=torch.float)\n"
     ]
    },
    {
     "name": "stderr",
     "output_type": "stream",
     "text": [
      "/home/qishuai/anaconda3/envs/glasgow/lib/python3.8/site-packages/pytorch_forecasting/data/timeseries.py:1649: UserWarning: Creating a tensor from a list of numpy.ndarrays is extremely slow. Please consider converting the list to a single numpy.ndarray with numpy.array() before converting to a tensor. (Triggered internally at  /opt/conda/conda-bld/pytorch_1646755903507/work/torch/csrc/utils/tensor_new.cpp:210.)\n",
      "  target_scale = torch.tensor([batch[0][\"target_scale\"] for batch in batches], dtype=torch.float)\n",
      "/home/qishuai/anaconda3/envs/glasgow/lib/python3.8/site-packages/pytorch_forecasting/data/timeseries.py:1649: UserWarning: Creating a tensor from a list of numpy.ndarrays is extremely slow. Please consider converting the list to a single numpy.ndarray with numpy.array() before converting to a tensor. (Triggered internally at  /opt/conda/conda-bld/pytorch_1646755903507/work/torch/csrc/utils/tensor_new.cpp:210.)\n",
      "  target_scale = torch.tensor([batch[0][\"target_scale\"] for batch in batches], dtype=torch.float)\n",
      "/home/qishuai/anaconda3/envs/glasgow/lib/python3.8/site-packages/pytorch_forecasting/data/timeseries.py:1649: UserWarning: Creating a tensor from a list of numpy.ndarrays is extremely slow. Please consider converting the list to a single numpy.ndarray with numpy.array() before converting to a tensor. (Triggered internally at  /opt/conda/conda-bld/pytorch_1646755903507/work/torch/csrc/utils/tensor_new.cpp:210.)\n",
      "  target_scale = torch.tensor([batch[0][\"target_scale\"] for batch in batches], dtype=torch.float)\n",
      "/home/qishuai/anaconda3/envs/glasgow/lib/python3.8/site-packages/pytorch_forecasting/data/timeseries.py:1649: UserWarning: Creating a tensor from a list of numpy.ndarrays is extremely slow. Please consider converting the list to a single numpy.ndarray with numpy.array() before converting to a tensor. (Triggered internally at  /opt/conda/conda-bld/pytorch_1646755903507/work/torch/csrc/utils/tensor_new.cpp:210.)\n",
      "  target_scale = torch.tensor([batch[0][\"target_scale\"] for batch in batches], dtype=torch.float)\n",
      "/home/qishuai/anaconda3/envs/glasgow/lib/python3.8/site-packages/pytorch_forecasting/data/encoders.py:373: UserWarning: scale is below 1e-7 - consider not centering the data or using data with higher variance for numerical stability\n",
      "  warnings.warn(\n",
      "/home/qishuai/anaconda3/envs/glasgow/lib/python3.8/site-packages/pytorch_forecasting/data/timeseries.py:1649: UserWarning: Creating a tensor from a list of numpy.ndarrays is extremely slow. Please consider converting the list to a single numpy.ndarray with numpy.array() before converting to a tensor. (Triggered internally at  /opt/conda/conda-bld/pytorch_1646755903507/work/torch/csrc/utils/tensor_new.cpp:210.)\n",
      "  target_scale = torch.tensor([batch[0][\"target_scale\"] for batch in batches], dtype=torch.float)\n",
      "/home/qishuai/anaconda3/envs/glasgow/lib/python3.8/site-packages/pytorch_forecasting/data/timeseries.py:1649: UserWarning: Creating a tensor from a list of numpy.ndarrays is extremely slow. Please consider converting the list to a single numpy.ndarray with numpy.array() before converting to a tensor. (Triggered internally at  /opt/conda/conda-bld/pytorch_1646755903507/work/torch/csrc/utils/tensor_new.cpp:210.)\n",
      "  target_scale = torch.tensor([batch[0][\"target_scale\"] for batch in batches], dtype=torch.float)\n",
      "/home/qishuai/anaconda3/envs/glasgow/lib/python3.8/site-packages/pytorch_forecasting/data/encoders.py:373: UserWarning: scale is below 1e-7 - consider not centering the data or using data with higher variance for numerical stability\n",
      "  warnings.warn(\n",
      "/home/qishuai/anaconda3/envs/glasgow/lib/python3.8/site-packages/pytorch_forecasting/data/encoders.py:373: UserWarning: scale is below 1e-7 - consider not centering the data or using data with higher variance for numerical stability\n",
      "  warnings.warn(\n"
     ]
    },
    {
     "data": {
      "application/vnd.jupyter.widget-view+json": {
       "model_id": "",
       "version_major": 2,
       "version_minor": 0
      },
      "text/plain": [
       "Validating: 0it [00:00, ?it/s]"
      ]
     },
     "metadata": {},
     "output_type": "display_data"
    },
    {
     "name": "stderr",
     "output_type": "stream",
     "text": [
      "/home/qishuai/anaconda3/envs/glasgow/lib/python3.8/site-packages/pytorch_forecasting/data/encoders.py:373: UserWarning: scale is below 1e-7 - consider not centering the data or using data with higher variance for numerical stability\n",
      "  warnings.warn(\n",
      "/home/qishuai/anaconda3/envs/glasgow/lib/python3.8/site-packages/pytorch_forecasting/data/timeseries.py:1649: UserWarning: Creating a tensor from a list of numpy.ndarrays is extremely slow. Please consider converting the list to a single numpy.ndarray with numpy.array() before converting to a tensor. (Triggered internally at  /opt/conda/conda-bld/pytorch_1646755903507/work/torch/csrc/utils/tensor_new.cpp:210.)\n",
      "  target_scale = torch.tensor([batch[0][\"target_scale\"] for batch in batches], dtype=torch.float)\n",
      "/home/qishuai/anaconda3/envs/glasgow/lib/python3.8/site-packages/pytorch_forecasting/data/timeseries.py:1649: UserWarning: Creating a tensor from a list of numpy.ndarrays is extremely slow. Please consider converting the list to a single numpy.ndarray with numpy.array() before converting to a tensor. (Triggered internally at  /opt/conda/conda-bld/pytorch_1646755903507/work/torch/csrc/utils/tensor_new.cpp:210.)\n",
      "  target_scale = torch.tensor([batch[0][\"target_scale\"] for batch in batches], dtype=torch.float)\n",
      "/home/qishuai/anaconda3/envs/glasgow/lib/python3.8/site-packages/pytorch_forecasting/data/timeseries.py:1649: UserWarning: Creating a tensor from a list of numpy.ndarrays is extremely slow. Please consider converting the list to a single numpy.ndarray with numpy.array() before converting to a tensor. (Triggered internally at  /opt/conda/conda-bld/pytorch_1646755903507/work/torch/csrc/utils/tensor_new.cpp:210.)\n",
      "  target_scale = torch.tensor([batch[0][\"target_scale\"] for batch in batches], dtype=torch.float)\n",
      "/home/qishuai/anaconda3/envs/glasgow/lib/python3.8/site-packages/pytorch_forecasting/data/timeseries.py:1649: UserWarning: Creating a tensor from a list of numpy.ndarrays is extremely slow. Please consider converting the list to a single numpy.ndarray with numpy.array() before converting to a tensor. (Triggered internally at  /opt/conda/conda-bld/pytorch_1646755903507/work/torch/csrc/utils/tensor_new.cpp:210.)\n",
      "  target_scale = torch.tensor([batch[0][\"target_scale\"] for batch in batches], dtype=torch.float)\n",
      "/home/qishuai/anaconda3/envs/glasgow/lib/python3.8/site-packages/pytorch_forecasting/data/timeseries.py:1649: UserWarning: Creating a tensor from a list of numpy.ndarrays is extremely slow. Please consider converting the list to a single numpy.ndarray with numpy.array() before converting to a tensor. (Triggered internally at  /opt/conda/conda-bld/pytorch_1646755903507/work/torch/csrc/utils/tensor_new.cpp:210.)\n",
      "  target_scale = torch.tensor([batch[0][\"target_scale\"] for batch in batches], dtype=torch.float)\n",
      "/home/qishuai/anaconda3/envs/glasgow/lib/python3.8/site-packages/pytorch_forecasting/data/timeseries.py:1649: UserWarning: Creating a tensor from a list of numpy.ndarrays is extremely slow. Please consider converting the list to a single numpy.ndarray with numpy.array() before converting to a tensor. (Triggered internally at  /opt/conda/conda-bld/pytorch_1646755903507/work/torch/csrc/utils/tensor_new.cpp:210.)\n",
      "  target_scale = torch.tensor([batch[0][\"target_scale\"] for batch in batches], dtype=torch.float)\n",
      "/home/qishuai/anaconda3/envs/glasgow/lib/python3.8/site-packages/pytorch_forecasting/data/timeseries.py:1649: UserWarning: Creating a tensor from a list of numpy.ndarrays is extremely slow. Please consider converting the list to a single numpy.ndarray with numpy.array() before converting to a tensor. (Triggered internally at  /opt/conda/conda-bld/pytorch_1646755903507/work/torch/csrc/utils/tensor_new.cpp:210.)\n",
      "  target_scale = torch.tensor([batch[0][\"target_scale\"] for batch in batches], dtype=torch.float)\n",
      "/home/qishuai/anaconda3/envs/glasgow/lib/python3.8/site-packages/pytorch_forecasting/data/encoders.py:373: UserWarning: scale is below 1e-7 - consider not centering the data or using data with higher variance for numerical stability\n",
      "  warnings.warn(\n",
      "/home/qishuai/anaconda3/envs/glasgow/lib/python3.8/site-packages/pytorch_forecasting/data/timeseries.py:1649: UserWarning: Creating a tensor from a list of numpy.ndarrays is extremely slow. Please consider converting the list to a single numpy.ndarray with numpy.array() before converting to a tensor. (Triggered internally at  /opt/conda/conda-bld/pytorch_1646755903507/work/torch/csrc/utils/tensor_new.cpp:210.)\n",
      "  target_scale = torch.tensor([batch[0][\"target_scale\"] for batch in batches], dtype=torch.float)\n",
      "/home/qishuai/anaconda3/envs/glasgow/lib/python3.8/site-packages/pytorch_forecasting/data/encoders.py:373: UserWarning: scale is below 1e-7 - consider not centering the data or using data with higher variance for numerical stability\n",
      "  warnings.warn(\n",
      "/home/qishuai/anaconda3/envs/glasgow/lib/python3.8/site-packages/pytorch_forecasting/data/encoders.py:373: UserWarning: scale is below 1e-7 - consider not centering the data or using data with higher variance for numerical stability\n",
      "  warnings.warn(\n",
      "/home/qishuai/anaconda3/envs/glasgow/lib/python3.8/site-packages/pytorch_forecasting/data/encoders.py:373: UserWarning: scale is below 1e-7 - consider not centering the data or using data with higher variance for numerical stability\n",
      "  warnings.warn(\n",
      "/home/qishuai/anaconda3/envs/glasgow/lib/python3.8/site-packages/pytorch_forecasting/data/encoders.py:373: UserWarning: scale is below 1e-7 - consider not centering the data or using data with higher variance for numerical stability\n",
      "  warnings.warn(\n",
      "/home/qishuai/anaconda3/envs/glasgow/lib/python3.8/site-packages/pytorch_forecasting/data/encoders.py:373: UserWarning: scale is below 1e-7 - consider not centering the data or using data with higher variance for numerical stability\n",
      "  warnings.warn(\n",
      "/home/qishuai/anaconda3/envs/glasgow/lib/python3.8/site-packages/pytorch_forecasting/data/encoders.py:373: UserWarning: scale is below 1e-7 - consider not centering the data or using data with higher variance for numerical stability\n",
      "  warnings.warn(\n",
      "/home/qishuai/anaconda3/envs/glasgow/lib/python3.8/site-packages/pytorch_forecasting/data/encoders.py:373: UserWarning: scale is below 1e-7 - consider not centering the data or using data with higher variance for numerical stability\n",
      "  warnings.warn(\n",
      "/home/qishuai/anaconda3/envs/glasgow/lib/python3.8/site-packages/pytorch_forecasting/data/encoders.py:373: UserWarning: scale is below 1e-7 - consider not centering the data or using data with higher variance for numerical stability\n",
      "  warnings.warn(\n",
      "/home/qishuai/anaconda3/envs/glasgow/lib/python3.8/site-packages/pytorch_forecasting/data/encoders.py:373: UserWarning: scale is below 1e-7 - consider not centering the data or using data with higher variance for numerical stability\n",
      "  warnings.warn(\n",
      "/home/qishuai/anaconda3/envs/glasgow/lib/python3.8/site-packages/pytorch_forecasting/data/timeseries.py:1649: UserWarning: Creating a tensor from a list of numpy.ndarrays is extremely slow. Please consider converting the list to a single numpy.ndarray with numpy.array() before converting to a tensor. (Triggered internally at  /opt/conda/conda-bld/pytorch_1646755903507/work/torch/csrc/utils/tensor_new.cpp:210.)\n",
      "  target_scale = torch.tensor([batch[0][\"target_scale\"] for batch in batches], dtype=torch.float)\n",
      "/home/qishuai/anaconda3/envs/glasgow/lib/python3.8/site-packages/pytorch_forecasting/data/timeseries.py:1649: UserWarning: Creating a tensor from a list of numpy.ndarrays is extremely slow. Please consider converting the list to a single numpy.ndarray with numpy.array() before converting to a tensor. (Triggered internally at  /opt/conda/conda-bld/pytorch_1646755903507/work/torch/csrc/utils/tensor_new.cpp:210.)\n",
      "  target_scale = torch.tensor([batch[0][\"target_scale\"] for batch in batches], dtype=torch.float)\n",
      "/home/qishuai/anaconda3/envs/glasgow/lib/python3.8/site-packages/pytorch_forecasting/data/timeseries.py:1649: UserWarning: Creating a tensor from a list of numpy.ndarrays is extremely slow. Please consider converting the list to a single numpy.ndarray with numpy.array() before converting to a tensor. (Triggered internally at  /opt/conda/conda-bld/pytorch_1646755903507/work/torch/csrc/utils/tensor_new.cpp:210.)\n",
      "  target_scale = torch.tensor([batch[0][\"target_scale\"] for batch in batches], dtype=torch.float)\n"
     ]
    },
    {
     "name": "stderr",
     "output_type": "stream",
     "text": [
      "/home/qishuai/anaconda3/envs/glasgow/lib/python3.8/site-packages/pytorch_forecasting/data/timeseries.py:1649: UserWarning: Creating a tensor from a list of numpy.ndarrays is extremely slow. Please consider converting the list to a single numpy.ndarray with numpy.array() before converting to a tensor. (Triggered internally at  /opt/conda/conda-bld/pytorch_1646755903507/work/torch/csrc/utils/tensor_new.cpp:210.)\n",
      "  target_scale = torch.tensor([batch[0][\"target_scale\"] for batch in batches], dtype=torch.float)\n",
      "/home/qishuai/anaconda3/envs/glasgow/lib/python3.8/site-packages/pytorch_forecasting/data/timeseries.py:1649: UserWarning: Creating a tensor from a list of numpy.ndarrays is extremely slow. Please consider converting the list to a single numpy.ndarray with numpy.array() before converting to a tensor. (Triggered internally at  /opt/conda/conda-bld/pytorch_1646755903507/work/torch/csrc/utils/tensor_new.cpp:210.)\n",
      "  target_scale = torch.tensor([batch[0][\"target_scale\"] for batch in batches], dtype=torch.float)\n",
      "/home/qishuai/anaconda3/envs/glasgow/lib/python3.8/site-packages/pytorch_forecasting/data/timeseries.py:1649: UserWarning: Creating a tensor from a list of numpy.ndarrays is extremely slow. Please consider converting the list to a single numpy.ndarray with numpy.array() before converting to a tensor. (Triggered internally at  /opt/conda/conda-bld/pytorch_1646755903507/work/torch/csrc/utils/tensor_new.cpp:210.)\n",
      "  target_scale = torch.tensor([batch[0][\"target_scale\"] for batch in batches], dtype=torch.float)\n",
      "/home/qishuai/anaconda3/envs/glasgow/lib/python3.8/site-packages/pytorch_forecasting/data/timeseries.py:1649: UserWarning: Creating a tensor from a list of numpy.ndarrays is extremely slow. Please consider converting the list to a single numpy.ndarray with numpy.array() before converting to a tensor. (Triggered internally at  /opt/conda/conda-bld/pytorch_1646755903507/work/torch/csrc/utils/tensor_new.cpp:210.)\n",
      "  target_scale = torch.tensor([batch[0][\"target_scale\"] for batch in batches], dtype=torch.float)\n",
      "/home/qishuai/anaconda3/envs/glasgow/lib/python3.8/site-packages/pytorch_forecasting/data/timeseries.py:1649: UserWarning: Creating a tensor from a list of numpy.ndarrays is extremely slow. Please consider converting the list to a single numpy.ndarray with numpy.array() before converting to a tensor. (Triggered internally at  /opt/conda/conda-bld/pytorch_1646755903507/work/torch/csrc/utils/tensor_new.cpp:210.)\n",
      "  target_scale = torch.tensor([batch[0][\"target_scale\"] for batch in batches], dtype=torch.float)\n",
      "/home/qishuai/anaconda3/envs/glasgow/lib/python3.8/site-packages/pytorch_forecasting/data/encoders.py:373: UserWarning: scale is below 1e-7 - consider not centering the data or using data with higher variance for numerical stability\n",
      "  warnings.warn(\n",
      "/home/qishuai/anaconda3/envs/glasgow/lib/python3.8/site-packages/pytorch_forecasting/data/encoders.py:373: UserWarning: scale is below 1e-7 - consider not centering the data or using data with higher variance for numerical stability\n",
      "  warnings.warn(\n",
      "/home/qishuai/anaconda3/envs/glasgow/lib/python3.8/site-packages/pytorch_forecasting/data/encoders.py:373: UserWarning: scale is below 1e-7 - consider not centering the data or using data with higher variance for numerical stability\n",
      "  warnings.warn(\n",
      "/home/qishuai/anaconda3/envs/glasgow/lib/python3.8/site-packages/pytorch_forecasting/data/encoders.py:373: UserWarning: scale is below 1e-7 - consider not centering the data or using data with higher variance for numerical stability\n",
      "  warnings.warn(\n",
      "/home/qishuai/anaconda3/envs/glasgow/lib/python3.8/site-packages/pytorch_forecasting/data/encoders.py:373: UserWarning: scale is below 1e-7 - consider not centering the data or using data with higher variance for numerical stability\n",
      "  warnings.warn(\n"
     ]
    },
    {
     "data": {
      "application/vnd.jupyter.widget-view+json": {
       "model_id": "",
       "version_major": 2,
       "version_minor": 0
      },
      "text/plain": [
       "Validating: 0it [00:00, ?it/s]"
      ]
     },
     "metadata": {},
     "output_type": "display_data"
    },
    {
     "name": "stderr",
     "output_type": "stream",
     "text": [
      "/home/qishuai/anaconda3/envs/glasgow/lib/python3.8/site-packages/pytorch_forecasting/data/encoders.py:373: UserWarning: scale is below 1e-7 - consider not centering the data or using data with higher variance for numerical stability\n",
      "  warnings.warn(\n",
      "/home/qishuai/anaconda3/envs/glasgow/lib/python3.8/site-packages/pytorch_forecasting/data/timeseries.py:1649: UserWarning: Creating a tensor from a list of numpy.ndarrays is extremely slow. Please consider converting the list to a single numpy.ndarray with numpy.array() before converting to a tensor. (Triggered internally at  /opt/conda/conda-bld/pytorch_1646755903507/work/torch/csrc/utils/tensor_new.cpp:210.)\n",
      "  target_scale = torch.tensor([batch[0][\"target_scale\"] for batch in batches], dtype=torch.float)\n",
      "/home/qishuai/anaconda3/envs/glasgow/lib/python3.8/site-packages/pytorch_forecasting/data/timeseries.py:1649: UserWarning: Creating a tensor from a list of numpy.ndarrays is extremely slow. Please consider converting the list to a single numpy.ndarray with numpy.array() before converting to a tensor. (Triggered internally at  /opt/conda/conda-bld/pytorch_1646755903507/work/torch/csrc/utils/tensor_new.cpp:210.)\n",
      "  target_scale = torch.tensor([batch[0][\"target_scale\"] for batch in batches], dtype=torch.float)\n",
      "/home/qishuai/anaconda3/envs/glasgow/lib/python3.8/site-packages/pytorch_forecasting/data/timeseries.py:1649: UserWarning: Creating a tensor from a list of numpy.ndarrays is extremely slow. Please consider converting the list to a single numpy.ndarray with numpy.array() before converting to a tensor. (Triggered internally at  /opt/conda/conda-bld/pytorch_1646755903507/work/torch/csrc/utils/tensor_new.cpp:210.)\n",
      "  target_scale = torch.tensor([batch[0][\"target_scale\"] for batch in batches], dtype=torch.float)\n",
      "/home/qishuai/anaconda3/envs/glasgow/lib/python3.8/site-packages/pytorch_forecasting/data/timeseries.py:1649: UserWarning: Creating a tensor from a list of numpy.ndarrays is extremely slow. Please consider converting the list to a single numpy.ndarray with numpy.array() before converting to a tensor. (Triggered internally at  /opt/conda/conda-bld/pytorch_1646755903507/work/torch/csrc/utils/tensor_new.cpp:210.)\n",
      "  target_scale = torch.tensor([batch[0][\"target_scale\"] for batch in batches], dtype=torch.float)\n",
      "/home/qishuai/anaconda3/envs/glasgow/lib/python3.8/site-packages/pytorch_forecasting/data/timeseries.py:1649: UserWarning: Creating a tensor from a list of numpy.ndarrays is extremely slow. Please consider converting the list to a single numpy.ndarray with numpy.array() before converting to a tensor. (Triggered internally at  /opt/conda/conda-bld/pytorch_1646755903507/work/torch/csrc/utils/tensor_new.cpp:210.)\n",
      "  target_scale = torch.tensor([batch[0][\"target_scale\"] for batch in batches], dtype=torch.float)\n",
      "/home/qishuai/anaconda3/envs/glasgow/lib/python3.8/site-packages/pytorch_forecasting/data/timeseries.py:1649: UserWarning: Creating a tensor from a list of numpy.ndarrays is extremely slow. Please consider converting the list to a single numpy.ndarray with numpy.array() before converting to a tensor. (Triggered internally at  /opt/conda/conda-bld/pytorch_1646755903507/work/torch/csrc/utils/tensor_new.cpp:210.)\n",
      "  target_scale = torch.tensor([batch[0][\"target_scale\"] for batch in batches], dtype=torch.float)\n",
      "/home/qishuai/anaconda3/envs/glasgow/lib/python3.8/site-packages/pytorch_forecasting/data/timeseries.py:1649: UserWarning: Creating a tensor from a list of numpy.ndarrays is extremely slow. Please consider converting the list to a single numpy.ndarray with numpy.array() before converting to a tensor. (Triggered internally at  /opt/conda/conda-bld/pytorch_1646755903507/work/torch/csrc/utils/tensor_new.cpp:210.)\n",
      "  target_scale = torch.tensor([batch[0][\"target_scale\"] for batch in batches], dtype=torch.float)\n",
      "/home/qishuai/anaconda3/envs/glasgow/lib/python3.8/site-packages/pytorch_forecasting/data/timeseries.py:1649: UserWarning: Creating a tensor from a list of numpy.ndarrays is extremely slow. Please consider converting the list to a single numpy.ndarray with numpy.array() before converting to a tensor. (Triggered internally at  /opt/conda/conda-bld/pytorch_1646755903507/work/torch/csrc/utils/tensor_new.cpp:210.)\n",
      "  target_scale = torch.tensor([batch[0][\"target_scale\"] for batch in batches], dtype=torch.float)\n",
      "/home/qishuai/anaconda3/envs/glasgow/lib/python3.8/site-packages/pytorch_forecasting/data/encoders.py:373: UserWarning: scale is below 1e-7 - consider not centering the data or using data with higher variance for numerical stability\n",
      "  warnings.warn(\n",
      "/home/qishuai/anaconda3/envs/glasgow/lib/python3.8/site-packages/pytorch_forecasting/data/encoders.py:373: UserWarning: scale is below 1e-7 - consider not centering the data or using data with higher variance for numerical stability\n",
      "  warnings.warn(\n",
      "/home/qishuai/anaconda3/envs/glasgow/lib/python3.8/site-packages/pytorch_forecasting/data/encoders.py:373: UserWarning: scale is below 1e-7 - consider not centering the data or using data with higher variance for numerical stability\n",
      "  warnings.warn(\n",
      "/home/qishuai/anaconda3/envs/glasgow/lib/python3.8/site-packages/pytorch_forecasting/data/encoders.py:373: UserWarning: scale is below 1e-7 - consider not centering the data or using data with higher variance for numerical stability\n",
      "  warnings.warn(\n",
      "/home/qishuai/anaconda3/envs/glasgow/lib/python3.8/site-packages/pytorch_forecasting/data/encoders.py:373: UserWarning: scale is below 1e-7 - consider not centering the data or using data with higher variance for numerical stability\n",
      "  warnings.warn(\n",
      "/home/qishuai/anaconda3/envs/glasgow/lib/python3.8/site-packages/pytorch_forecasting/data/encoders.py:373: UserWarning: scale is below 1e-7 - consider not centering the data or using data with higher variance for numerical stability\n",
      "  warnings.warn(\n",
      "/home/qishuai/anaconda3/envs/glasgow/lib/python3.8/site-packages/pytorch_forecasting/data/encoders.py:373: UserWarning: scale is below 1e-7 - consider not centering the data or using data with higher variance for numerical stability\n",
      "  warnings.warn(\n"
     ]
    },
    {
     "data": {
      "text/plain": [
       "1"
      ]
     },
     "execution_count": 32,
     "metadata": {},
     "output_type": "execute_result"
    }
   ],
   "source": [
    "trainer.fit(\n",
    "    rnn,\n",
    "    train_dataloader=train_dataloader,\n",
    "    val_dataloaders=val_dataloader,\n",
    ")"
   ]
  },
  {
   "cell_type": "code",
   "execution_count": 33,
   "id": "f5c06c31",
   "metadata": {},
   "outputs": [
    {
     "name": "stdout",
     "output_type": "stream",
     "text": [
      "rnn.hparams\n",
      "\"categorical_groups\":                {}\n",
      "\"cell_type\":                         GRU\n",
      "\"dropout\":                           0.1\n",
      "\"embedding_labels\":                  {'min': {'0': 0, '1': 1, '10': 2, '100': 3, '101': 4, '102': 5, '103': 6, '104': 7, '105': 8, '106': 9, '107': 10, '108': 11, '109': 12, '11': 13, '110': 14, '111': 15, '112': 16, '113': 17, '114': 18, '115': 19, '116': 20, '117': 21, '118': 22, '119': 23, '12': 24, '120': 25, '121': 26, '122': 27, '123': 28, '124': 29, '125': 30, '126': 31, '127': 32, '128': 33, '129': 34, '13': 35, '130': 36, '131': 37, '132': 38, '133': 39, '134': 40, '135': 41, '136': 42, '137': 43, '138': 44, '139': 45, '14': 46, '140': 47, '141': 48, '142': 49, '143': 50, '144': 51, '145': 52, '146': 53, '147': 54, '148': 55, '149': 56, '15': 57, '150': 58, '151': 59, '152': 60, '153': 61, '154': 62, '155': 63, '156': 64, '157': 65, '158': 66, '159': 67, '16': 68, '160': 69, '161': 70, '162': 71, '163': 72, '164': 73, '165': 74, '166': 75, '167': 76, '168': 77, '169': 78, '17': 79, '170': 80, '171': 81, '172': 82, '173': 83, '174': 84, '175': 85, '176': 86, '177': 87, '178': 88, '179': 89, '18': 90, '180': 91, '181': 92, '182': 93, '183': 94, '184': 95, '185': 96, '186': 97, '187': 98, '188': 99, '189': 100, '19': 101, '190': 102, '191': 103, '192': 104, '193': 105, '194': 106, '195': 107, '196': 108, '197': 109, '198': 110, '199': 111, '2': 112, '20': 113, '200': 114, '201': 115, '202': 116, '203': 117, '204': 118, '205': 119, '206': 120, '207': 121, '208': 122, '209': 123, '21': 124, '210': 125, '211': 126, '212': 127, '213': 128, '214': 129, '215': 130, '216': 131, '217': 132, '218': 133, '219': 134, '22': 135, '220': 136, '221': 137, '222': 138, '223': 139, '224': 140, '225': 141, '226': 142, '227': 143, '228': 144, '229': 145, '23': 146, '230': 147, '231': 148, '232': 149, '233': 150, '234': 151, '235': 152, '236': 153, '237': 154, '238': 155, '239': 156, '24': 157, '240': 158, '241': 159, '242': 160, '243': 161, '244': 162, '245': 163, '246': 164, '247': 165, '248': 166, '249': 167, '25': 168, '250': 169, '251': 170, '252': 171, '253': 172, '254': 173, '255': 174, '256': 175, '257': 176, '258': 177, '259': 178, '26': 179, '260': 180, '261': 181, '262': 182, '263': 183, '264': 184, '265': 185, '266': 186, '267': 187, '268': 188, '269': 189, '27': 190, '270': 191, '271': 192, '272': 193, '273': 194, '274': 195, '275': 196, '276': 197, '277': 198, '278': 199, '279': 200, '28': 201, '280': 202, '281': 203, '282': 204, '283': 205, '284': 206, '285': 207, '286': 208, '287': 209, '29': 210, '3': 211, '30': 212, '31': 213, '32': 214, '33': 215, '34': 216, '35': 217, '36': 218, '37': 219, '38': 220, '39': 221, '4': 222, '40': 223, '41': 224, '42': 225, '43': 226, '44': 227, '45': 228, '46': 229, '47': 230, '48': 231, '49': 232, '5': 233, '50': 234, '51': 235, '52': 236, '53': 237, '54': 238, '55': 239, '56': 240, '57': 241, '58': 242, '59': 243, '6': 244, '60': 245, '61': 246, '62': 247, '63': 248, '64': 249, '65': 250, '66': 251, '67': 252, '68': 253, '69': 254, '7': 255, '70': 256, '71': 257, '72': 258, '73': 259, '74': 260, '75': 261, '76': 262, '77': 263, '78': 264, '79': 265, '8': 266, '80': 267, '81': 268, '82': 269, '83': 270, '84': 271, '85': 272, '86': 273, '87': 274, '88': 275, '89': 276, '9': 277, '90': 278, '91': 279, '92': 280, '93': 281, '94': 282, '95': 283, '96': 284, '97': 285, '98': 286, '99': 287}, 'Weekday': {'0': 0, '1': 1, '2': 2, '3': 3, '4': 4, '5': 5, '6': 6}}\n",
      "\"embedding_paddings\":                []\n",
      "\"embedding_sizes\":                   {'min': [288, 91], 'Weekday': [7, 20]}\n",
      "\"hidden_size\":                       50\n",
      "\"learning_rate\":                     0.001\n",
      "\"log_gradient_flow\":                 False\n",
      "\"log_interval\":                      50\n",
      "\"log_val_interval\":                  50\n",
      "\"logging_metrics\":                   ModuleList(\n",
      "  (0): SMAPE()\n",
      "  (1): MAE()\n",
      "  (2): RMSE()\n",
      "  (3): MAPE()\n",
      "  (4): MASE()\n",
      ")\n",
      "\"loss\":                              MAE()\n",
      "\"monotone_constaints\":               {}\n",
      "\"optimizer\":                         ranger\n",
      "\"optimizer_params\":                  None\n",
      "\"output_size\":                       1\n",
      "\"output_transformer\":                EncoderNormalizer()\n",
      "\"reduce_on_plateau_min_lr\":          1e-05\n",
      "\"reduce_on_plateau_patience\":        1000\n",
      "\"rnn_layers\":                        2\n",
      "\"static_categoricals\":               []\n",
      "\"static_reals\":                      []\n",
      "\"target\":                            availability\n",
      "\"target_lags\":                       {}\n",
      "\"time_varying_categoricals_decoder\": ['min', 'Weekday']\n",
      "\"time_varying_categoricals_encoder\": ['min', 'Weekday']\n",
      "\"time_varying_reals_decoder\":        []\n",
      "\"time_varying_reals_encoder\":        ['availability']\n",
      "\"weight_decay\":                      0.001\n",
      "\"x_categoricals\":                    ['min', 'Weekday']\n",
      "\"x_reals\":                           ['availability']\n"
     ]
    }
   ],
   "source": [
    "print(\"rnn.hparams\")\n",
    "print(rnn.hparams)"
   ]
  },
  {
   "cell_type": "code",
   "execution_count": 34,
   "id": "a8d3b13d",
   "metadata": {},
   "outputs": [
    {
     "name": "stdout",
     "output_type": "stream",
     "text": [
      "Print best model path:  /home/qishuai/Documents/Zhi-Qing/carpark_prediction-main_sfpark/lightning_logs/version_1/checkpoints/epoch=8-step=4499.ckpt\n",
      "Print best model device:  cuda:0\n"
     ]
    }
   ],
   "source": [
    "device = torch.device(\"cuda:0\")\n",
    "best_model_path = trainer.checkpoint_callback.best_model_path\n",
    "best_model = RNN.load_from_checkpoint(best_model_path).to(device)\n",
    "print(\"Print best model path: \", best_model_path)\n",
    "print(\"Print best model device: \", best_model.device)"
   ]
  },
  {
   "cell_type": "code",
   "execution_count": 30,
   "id": "9369a6c6",
   "metadata": {},
   "outputs": [
    {
     "data": {
      "application/vnd.jupyter.widget-view+json": {
       "model_id": "89efe7fe741d4d9295dd52e98c5247d6",
       "version_major": 2,
       "version_minor": 0
      },
      "text/plain": [
       "Predict:   0%|          | 0/61 [00:00<?, ? batches/s]"
      ]
     },
     "metadata": {},
     "output_type": "display_data"
    },
    {
     "name": "stderr",
     "output_type": "stream",
     "text": [
      "/home/qishuai/anaconda3/envs/glasgow/lib/python3.8/site-packages/pytorch_forecasting/data/encoders.py:373: UserWarning: scale is below 1e-7 - consider not centering the data or using data with higher variance for numerical stability\n",
      "  warnings.warn(\n",
      "/home/qishuai/anaconda3/envs/glasgow/lib/python3.8/site-packages/pytorch_forecasting/data/encoders.py:373: UserWarning: scale is below 1e-7 - consider not centering the data or using data with higher variance for numerical stability\n",
      "  warnings.warn(\n",
      "/home/qishuai/anaconda3/envs/glasgow/lib/python3.8/site-packages/pytorch_forecasting/data/encoders.py:373: UserWarning: scale is below 1e-7 - consider not centering the data or using data with higher variance for numerical stability\n",
      "  warnings.warn(\n",
      "/home/qishuai/anaconda3/envs/glasgow/lib/python3.8/site-packages/pytorch_forecasting/data/encoders.py:373: UserWarning: scale is below 1e-7 - consider not centering the data or using data with higher variance for numerical stability\n",
      "  warnings.warn(\n",
      "/home/qishuai/anaconda3/envs/glasgow/lib/python3.8/site-packages/pytorch_forecasting/data/encoders.py:373: UserWarning: scale is below 1e-7 - consider not centering the data or using data with higher variance for numerical stability\n",
      "  warnings.warn(\n",
      "/home/qishuai/anaconda3/envs/glasgow/lib/python3.8/site-packages/pytorch_forecasting/data/timeseries.py:1649: UserWarning: Creating a tensor from a list of numpy.ndarrays is extremely slow. Please consider converting the list to a single numpy.ndarray with numpy.array() before converting to a tensor. (Triggered internally at  /opt/conda/conda-bld/pytorch_1646755903507/work/torch/csrc/utils/tensor_new.cpp:210.)\n",
      "  target_scale = torch.tensor([batch[0][\"target_scale\"] for batch in batches], dtype=torch.float)\n",
      "/home/qishuai/anaconda3/envs/glasgow/lib/python3.8/site-packages/pytorch_forecasting/data/encoders.py:373: UserWarning: scale is below 1e-7 - consider not centering the data or using data with higher variance for numerical stability\n",
      "  warnings.warn(\n",
      "/home/qishuai/anaconda3/envs/glasgow/lib/python3.8/site-packages/pytorch_forecasting/data/timeseries.py:1649: UserWarning: Creating a tensor from a list of numpy.ndarrays is extremely slow. Please consider converting the list to a single numpy.ndarray with numpy.array() before converting to a tensor. (Triggered internally at  /opt/conda/conda-bld/pytorch_1646755903507/work/torch/csrc/utils/tensor_new.cpp:210.)\n",
      "  target_scale = torch.tensor([batch[0][\"target_scale\"] for batch in batches], dtype=torch.float)\n",
      "/home/qishuai/anaconda3/envs/glasgow/lib/python3.8/site-packages/pytorch_forecasting/data/timeseries.py:1649: UserWarning: Creating a tensor from a list of numpy.ndarrays is extremely slow. Please consider converting the list to a single numpy.ndarray with numpy.array() before converting to a tensor. (Triggered internally at  /opt/conda/conda-bld/pytorch_1646755903507/work/torch/csrc/utils/tensor_new.cpp:210.)\n",
      "  target_scale = torch.tensor([batch[0][\"target_scale\"] for batch in batches], dtype=torch.float)\n",
      "/home/qishuai/anaconda3/envs/glasgow/lib/python3.8/site-packages/pytorch_forecasting/data/timeseries.py:1649: UserWarning: Creating a tensor from a list of numpy.ndarrays is extremely slow. Please consider converting the list to a single numpy.ndarray with numpy.array() before converting to a tensor. (Triggered internally at  /opt/conda/conda-bld/pytorch_1646755903507/work/torch/csrc/utils/tensor_new.cpp:210.)\n",
      "  target_scale = torch.tensor([batch[0][\"target_scale\"] for batch in batches], dtype=torch.float)\n",
      "/home/qishuai/anaconda3/envs/glasgow/lib/python3.8/site-packages/pytorch_forecasting/data/timeseries.py:1649: UserWarning: Creating a tensor from a list of numpy.ndarrays is extremely slow. Please consider converting the list to a single numpy.ndarray with numpy.array() before converting to a tensor. (Triggered internally at  /opt/conda/conda-bld/pytorch_1646755903507/work/torch/csrc/utils/tensor_new.cpp:210.)\n",
      "  target_scale = torch.tensor([batch[0][\"target_scale\"] for batch in batches], dtype=torch.float)\n",
      "/home/qishuai/anaconda3/envs/glasgow/lib/python3.8/site-packages/pytorch_forecasting/data/timeseries.py:1649: UserWarning: Creating a tensor from a list of numpy.ndarrays is extremely slow. Please consider converting the list to a single numpy.ndarray with numpy.array() before converting to a tensor. (Triggered internally at  /opt/conda/conda-bld/pytorch_1646755903507/work/torch/csrc/utils/tensor_new.cpp:210.)\n",
      "  target_scale = torch.tensor([batch[0][\"target_scale\"] for batch in batches], dtype=torch.float)\n",
      "/home/qishuai/anaconda3/envs/glasgow/lib/python3.8/site-packages/pytorch_forecasting/data/timeseries.py:1649: UserWarning: Creating a tensor from a list of numpy.ndarrays is extremely slow. Please consider converting the list to a single numpy.ndarray with numpy.array() before converting to a tensor. (Triggered internally at  /opt/conda/conda-bld/pytorch_1646755903507/work/torch/csrc/utils/tensor_new.cpp:210.)\n",
      "  target_scale = torch.tensor([batch[0][\"target_scale\"] for batch in batches], dtype=torch.float)\n",
      "/home/qishuai/anaconda3/envs/glasgow/lib/python3.8/site-packages/pytorch_forecasting/data/timeseries.py:1649: UserWarning: Creating a tensor from a list of numpy.ndarrays is extremely slow. Please consider converting the list to a single numpy.ndarray with numpy.array() before converting to a tensor. (Triggered internally at  /opt/conda/conda-bld/pytorch_1646755903507/work/torch/csrc/utils/tensor_new.cpp:210.)\n",
      "  target_scale = torch.tensor([batch[0][\"target_scale\"] for batch in batches], dtype=torch.float)\n",
      "/home/qishuai/anaconda3/envs/glasgow/lib/python3.8/site-packages/pytorch_forecasting/data/encoders.py:373: UserWarning: scale is below 1e-7 - consider not centering the data or using data with higher variance for numerical stability\n",
      "  warnings.warn(\n",
      "/home/qishuai/anaconda3/envs/glasgow/lib/python3.8/site-packages/pytorch_forecasting/data/encoders.py:373: UserWarning: scale is below 1e-7 - consider not centering the data or using data with higher variance for numerical stability\n",
      "  warnings.warn(\n"
     ]
    },
    {
     "name": "stdout",
     "output_type": "stream",
     "text": [
      "Prediction shape:  torch.Size([30500, 24])\n",
      "Absolute error shape:  torch.Size([30500, 24])\n",
      "Print torch.mean(abs_error * mask):  tensor(0.7844)\n",
      "Print abs_error_steps.shape:  torch.Size([24])\n",
      "Print torch.mean(mape * mask):  tensor(0.1712)\n"
     ]
    }
   ],
   "source": [
    "predictions = best_model.predict(test_dataloader, batch_size=500, show_progress_bar=True)\n",
    "print(\"Prediction shape: \", predictions.shape)\n",
    "\n",
    "#MAE\n",
    "\n",
    "abs_error = torch.abs(predictions - actuals)\n",
    "print(\"Absolute error shape: \", abs_error.shape)\n",
    "\n",
    "print(\"Print torch.mean(abs_error * mask): \", torch.mean(abs_error * mask))\n",
    "abs_error_steps = torch.mean(abs_error * mask, dim=0)\n",
    "print(\"Print abs_error_steps.shape: \", abs_error_steps.shape)\n",
    "\n",
    "#MAPE\n",
    "\n",
    "mape = abs_error / (actuals + 1e-5)\n",
    "print(\"Print torch.mean(mape * mask): \", torch.mean(mape * mask))\n",
    "mape_steps = torch.mean(mape * mask, dim=0)\n",
    "\n",
    "#rmse\n",
    "squared_error = torch.square(predictions - actuals)\n",
    "mse_steps = torch.mean(squared_error * mask, dim=0)\n",
    "rmse_steps = torch.sqrt(mse_steps)"
   ]
  },
  {
   "cell_type": "code",
   "execution_count": 31,
   "id": "11ed9b06",
   "metadata": {},
   "outputs": [
    {
     "data": {
      "text/plain": [
       "tensor([[9.9209e-01, 1.9780e+00, 9.8498e-01,  ..., 2.0578e+00, 3.0614e+00,\n",
       "         3.0565e+00],\n",
       "        [1.9576e-02, 3.2630e-02, 2.8328e-02,  ..., 1.8836e+00, 1.8908e+00,\n",
       "         1.8888e+00],\n",
       "        [1.0044e+00, 1.9807e+00, 1.9551e+00,  ..., 8.0732e-01, 8.1672e-01,\n",
       "         8.1656e-01],\n",
       "        ...,\n",
       "        [3.8688e-03, 1.3294e-02, 2.1476e-02,  ..., 1.7791e-01, 1.8140e-01,\n",
       "         1.7851e-01],\n",
       "        [4.9353e-04, 3.4809e-04, 3.4809e-05,  ..., 1.0097e+00, 1.0095e+00,\n",
       "         2.0094e+00],\n",
       "        [9.9076e-03, 5.6407e-03, 2.6774e-03,  ..., 6.5639e-03, 1.5779e-02,\n",
       "         2.1432e-02]])"
      ]
     },
     "execution_count": 31,
     "metadata": {},
     "output_type": "execute_result"
    }
   ],
   "source": [
    "abs_error"
   ]
  },
  {
   "cell_type": "code",
   "execution_count": 32,
   "id": "212235fd",
   "metadata": {},
   "outputs": [
    {
     "data": {
      "text/plain": [
       "tensor([[9.8425e-01, 3.9124e+00, 9.7019e-01,  ..., 4.2345e+00, 9.3719e+00,\n",
       "         9.3420e+00],\n",
       "        [3.8322e-04, 1.0647e-03, 8.0247e-04,  ..., 3.5481e+00, 3.5751e+00,\n",
       "         3.5677e+00],\n",
       "        [1.0089e+00, 3.9232e+00, 3.8223e+00,  ..., 6.5177e-01, 6.6703e-01,\n",
       "         6.6677e-01],\n",
       "        ...,\n",
       "        [1.4968e-05, 1.7674e-04, 4.6120e-04,  ..., 3.1652e-02, 3.2907e-02,\n",
       "         3.1868e-02],\n",
       "        [2.4357e-07, 1.2117e-07, 1.2117e-09,  ..., 1.0195e+00, 1.0192e+00,\n",
       "         4.0377e+00],\n",
       "        [9.8161e-05, 3.1818e-05, 7.1687e-06,  ..., 4.3085e-05, 2.4899e-04,\n",
       "         4.5932e-04]])"
      ]
     },
     "execution_count": 32,
     "metadata": {},
     "output_type": "execute_result"
    }
   ],
   "source": [
    "squared_error"
   ]
  },
  {
   "cell_type": "code",
   "execution_count": 33,
   "id": "3e17751b",
   "metadata": {},
   "outputs": [
    {
     "name": "stdout",
     "output_type": "stream",
     "text": [
      "tensor([0.3361, 0.5986, 0.8244, 1.0272, 1.2313, 1.3829, 1.6010, 1.7428, 1.8671,\n",
      "        2.0269, 2.1945, 2.3369, 2.5174, 2.6536, 2.7621, 2.8994, 3.0009, 3.1174,\n",
      "        3.2780, 3.4379, 3.5923, 3.6717, 3.8164, 3.9132])\n"
     ]
    }
   ],
   "source": [
    "print(mse_steps)"
   ]
  },
  {
   "cell_type": "code",
   "execution_count": 34,
   "id": "b975aafd",
   "metadata": {},
   "outputs": [
    {
     "data": {
      "text/plain": [
       "torch.Size([24])"
      ]
     },
     "execution_count": 34,
     "metadata": {},
     "output_type": "execute_result"
    }
   ],
   "source": [
    "mse_steps.shape"
   ]
  },
  {
   "cell_type": "code",
   "execution_count": 35,
   "id": "2cecb274",
   "metadata": {},
   "outputs": [
    {
     "name": "stdout",
     "output_type": "stream",
     "text": [
      "tensor([0.5797, 0.7737, 0.9079, 1.0135, 1.1096, 1.1760, 1.2653, 1.3201, 1.3664,\n",
      "        1.4237, 1.4814, 1.5287, 1.5866, 1.6290, 1.6620, 1.7028, 1.7323, 1.7656,\n",
      "        1.8105, 1.8541, 1.8953, 1.9162, 1.9536, 1.9782])\n"
     ]
    }
   ],
   "source": [
    "print(rmse_steps)"
   ]
  },
  {
   "cell_type": "code",
   "execution_count": 36,
   "id": "638e5eff",
   "metadata": {},
   "outputs": [
    {
     "data": {
      "text/plain": [
       "tensor([0.2294, 0.3440, 0.4220, 0.4855, 0.5404, 0.5877, 0.6372, 0.6762, 0.7098,\n",
       "        0.7481, 0.7828, 0.8171, 0.8527, 0.8774, 0.8996, 0.9257, 0.9477, 0.9705,\n",
       "        1.0013, 1.0300, 1.0570, 1.0690, 1.0985, 1.1166])"
      ]
     },
     "execution_count": 36,
     "metadata": {},
     "output_type": "execute_result"
    }
   ],
   "source": [
    "abs_error_steps"
   ]
  },
  {
   "cell_type": "code",
   "execution_count": 37,
   "id": "42d07e53",
   "metadata": {},
   "outputs": [
    {
     "data": {
      "text/plain": [
       "Text(0, 0.5, 'MAE')"
      ]
     },
     "execution_count": 37,
     "metadata": {},
     "output_type": "execute_result"
    },
    {
     "data": {
      "image/png": "[encoded data removed]",
      "text/plain": [
       "<Figure size 432x288 with 1 Axes>"
      ]
     },
     "metadata": {
      "needs_background": "light"
     },
     "output_type": "display_data"
    }
   ],
   "source": [
    "plt.plot(torch.arange(1, len(abs_error_steps)+1), abs_error_steps, \".-\")\n",
    "plt.xlabel(\"Time steps\")\n",
    "plt.ylabel(\"MAE\")\n",
    "#plt.xlim([1, 120])\n",
    "#plt.xticks([1, 20, 40, 60, 80, 100, 120]);"
   ]
  },
  {
   "cell_type": "code",
   "execution_count": 38,
   "id": "a2b02fa8",
   "metadata": {},
   "outputs": [
    {
     "data": {
      "text/plain": [
       "tensor(0.2294)"
      ]
     },
     "execution_count": 38,
     "metadata": {},
     "output_type": "execute_result"
    }
   ],
   "source": [
    "# 5 min\n",
    "abs_error_steps[0]"
   ]
  },
  {
   "cell_type": "code",
   "execution_count": 39,
   "id": "7992cc9d",
   "metadata": {},
   "outputs": [
    {
     "data": {
      "text/plain": [
       "tensor(0.4220)"
      ]
     },
     "execution_count": 39,
     "metadata": {},
     "output_type": "execute_result"
    }
   ],
   "source": [
    "# 15 min\n",
    "abs_error_steps[2]"
   ]
  },
  {
   "cell_type": "code",
   "execution_count": 40,
   "id": "7dcbf92f",
   "metadata": {},
   "outputs": [
    {
     "data": {
      "text/plain": [
       "tensor(0.5877)"
      ]
     },
     "execution_count": 40,
     "metadata": {},
     "output_type": "execute_result"
    }
   ],
   "source": [
    "# 30 min\n",
    "abs_error_steps[5]"
   ]
  },
  {
   "cell_type": "code",
   "execution_count": 41,
   "id": "f1e916b2",
   "metadata": {},
   "outputs": [
    {
     "data": {
      "text/plain": [
       "tensor(0.8171)"
      ]
     },
     "execution_count": 41,
     "metadata": {},
     "output_type": "execute_result"
    }
   ],
   "source": [
    "# 60 min\n",
    "abs_error_steps[11]"
   ]
  },
  {
   "cell_type": "code",
   "execution_count": 42,
   "id": "46e40b3c",
   "metadata": {},
   "outputs": [
    {
     "data": {
      "text/plain": [
       "Text(0, 0.5, 'MAPE')"
      ]
     },
     "execution_count": 42,
     "metadata": {},
     "output_type": "execute_result"
    },
    {
     "data": {
      "image/png": "[encoded data removed]",
      "text/plain": [
       "<Figure size 432x288 with 1 Axes>"
      ]
     },
     "metadata": {
      "needs_background": "light"
     },
     "output_type": "display_data"
    }
   ],
   "source": [
    "plt.plot(torch.arange(1, len(mape_steps)+1), mape_steps, \".-\")\n",
    "plt.xlabel(\"Time steps\")\n",
    "plt.ylabel(\"MAPE\")\n",
    "#plt.xlim([1, 120])\n",
    "#plt.xticks([1, 20, 40, 60, 80, 100, 120]);"
   ]
  },
  {
   "cell_type": "code",
   "execution_count": 43,
   "id": "5b3a05e1",
   "metadata": {},
   "outputs": [
    {
     "data": {
      "text/plain": [
       "tensor(0.0540)"
      ]
     },
     "execution_count": 43,
     "metadata": {},
     "output_type": "execute_result"
    }
   ],
   "source": [
    "#5 min\n",
    "mape_steps[0]"
   ]
  },
  {
   "cell_type": "code",
   "execution_count": 44,
   "id": "2f977d5e",
   "metadata": {},
   "outputs": [
    {
     "data": {
      "text/plain": [
       "tensor(0.0981)"
      ]
     },
     "execution_count": 44,
     "metadata": {},
     "output_type": "execute_result"
    }
   ],
   "source": [
    "#15 min\n",
    "mape_steps[2]"
   ]
  },
  {
   "cell_type": "code",
   "execution_count": 45,
   "id": "27270685",
   "metadata": {},
   "outputs": [
    {
     "data": {
      "text/plain": [
       "tensor(0.1327)"
      ]
     },
     "execution_count": 45,
     "metadata": {},
     "output_type": "execute_result"
    }
   ],
   "source": [
    "#30 min\n",
    "mape_steps[5]"
   ]
  },
  {
   "cell_type": "code",
   "execution_count": 46,
   "id": "63190523",
   "metadata": {},
   "outputs": [
    {
     "data": {
      "text/plain": [
       "tensor(0.1797)"
      ]
     },
     "execution_count": 46,
     "metadata": {},
     "output_type": "execute_result"
    }
   ],
   "source": [
    "#60 min\n",
    "mape_steps[11]"
   ]
  },
  {
   "cell_type": "code",
   "execution_count": 47,
   "id": "ab041143",
   "metadata": {},
   "outputs": [
    {
     "data": {
      "text/plain": [
       "Text(0, 0.5, 'RMSE')"
      ]
     },
     "execution_count": 47,
     "metadata": {},
     "output_type": "execute_result"
    },
    {
     "data": {
      "image/png": "[encoded data removed]",
      "text/plain": [
       "<Figure size 432x288 with 1 Axes>"
      ]
     },
     "metadata": {
      "needs_background": "light"
     },
     "output_type": "display_data"
    }
   ],
   "source": [
    "plt.plot(torch.arange(1, len(rmse_steps)+1), rmse_steps, \".-\")\n",
    "plt.xlabel(\"Time steps\")\n",
    "plt.ylabel(\"RMSE\")\n",
    "#plt.xlim([1, 120])\n",
    "#plt.xticks([1, 20, 40, 60, 80, 100, 120]);"
   ]
  },
  {
   "cell_type": "code",
   "execution_count": 48,
   "id": "86b84528",
   "metadata": {},
   "outputs": [
    {
     "data": {
      "text/plain": [
       "tensor(0.5797)"
      ]
     },
     "execution_count": 48,
     "metadata": {},
     "output_type": "execute_result"
    }
   ],
   "source": [
    "#5 min\n",
    "rmse_steps[0]"
   ]
  },
  {
   "cell_type": "code",
   "execution_count": 49,
   "id": "464797e3",
   "metadata": {},
   "outputs": [
    {
     "data": {
      "text/plain": [
       "tensor(0.9079)"
      ]
     },
     "execution_count": 49,
     "metadata": {},
     "output_type": "execute_result"
    }
   ],
   "source": [
    "#15 min\n",
    "rmse_steps[2]"
   ]
  },
  {
   "cell_type": "code",
   "execution_count": 50,
   "id": "9c6d7eaa",
   "metadata": {},
   "outputs": [
    {
     "data": {
      "text/plain": [
       "tensor(1.1760)"
      ]
     },
     "execution_count": 50,
     "metadata": {},
     "output_type": "execute_result"
    }
   ],
   "source": [
    "#30 min\n",
    "rmse_steps[5]"
   ]
  },
  {
   "cell_type": "code",
   "execution_count": 51,
   "id": "194bf94b",
   "metadata": {},
   "outputs": [
    {
     "data": {
      "text/plain": [
       "tensor(1.5287)"
      ]
     },
     "execution_count": 51,
     "metadata": {},
     "output_type": "execute_result"
    }
   ],
   "source": [
    "#60 min\n",
    "rmse_steps[11]"
   ]
  },
  {
   "cell_type": "code",
   "execution_count": 52,
   "id": "78659c0a",
   "metadata": {},
   "outputs": [
    {
     "name": "stdout",
     "output_type": "stream",
     "text": [
      "30 min section\n"
     ]
    }
   ],
   "source": [
    "print(\"30 min section\")\n",
    "n = abs_error.shape[0]\n",
    "step = 6 # 30 mins later"
   ]
  },
  {
   "cell_type": "code",
   "execution_count": 53,
   "id": "d0125b61",
   "metadata": {},
   "outputs": [
    {
     "name": "stdout",
     "output_type": "stream",
     "text": [
      "μ = 0.5877, σ = 1.0186, max = 18.6853\n"
     ]
    },
    {
     "data": {
      "image/png": "[encoded data removed]",
      "text/plain": [
       "<Figure size 432x288 with 1 Axes>"
      ]
     },
     "metadata": {
      "needs_background": "light"
     },
     "output_type": "display_data"
    }
   ],
   "source": [
    "abs_error_step = abs_error[:, step-1] * mask[:, step-1]\n",
    "\n",
    "σ, μ = torch.std_mean(abs_error_step)\n",
    "print(f\"μ = {μ:.4f}, σ = {σ:.4f}, max = {abs_error_step.max():.4f}\")\n",
    "xs = abs_error_step[torch.randperm(n)[:1000]].cpu().numpy()\n",
    "\n",
    "n = len(abs_error_step)\n",
    "plt.hist(xs, 100, density=True)\n",
    "plt.xlim(0, 25)\n",
    "plt.xlabel(\"Absolute error\")\n",
    "plt.ylabel(\"Density\")\n",
    "plt.text(20, 0.08, f\"μ={μ:.2f}, σ={σ:.2f}, max={abs_error_step.max():.2f}\",\n",
    "         fontsize=13)\n",
    "plt.title(f\"Absolute error distribution at step={step}\");"
   ]
  },
  {
   "cell_type": "code",
   "execution_count": null,
   "id": "9ccb515a",
   "metadata": {},
   "outputs": [],
   "source": []
  }
 ],
 "metadata": {
  "kernelspec": {
   "display_name": "Python 3 (ipykernel)",
   "language": "python",
   "name": "python3"
  },
  "language_info": {
   "codemirror_mode": {
    "name": "ipython",
    "version": 3
   },
   "file_extension": ".py",
   "mimetype": "text/x-python",
   "name": "python",
   "nbconvert_exporter": "python",
   "pygments_lexer": "ipython3",
   "version": "3.8.13"
  }
 },
 "nbformat": 4,
 "nbformat_minor": 5
}
