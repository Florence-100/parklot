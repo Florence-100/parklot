{
 "cells": [
  {
   "cell_type": "code",
   "execution_count": 1,
   "id": "446abcae",
   "metadata": {},
   "outputs": [],
   "source": [
    "import geopandas as gpd\n",
    "import pandas as pd\n",
    "import numpy as np\n",
    "import os\n",
    "from toolz.curried import *\n",
    "import matplotlib.pyplot as plt\n",
    "import seaborn as sns\n",
    "from datetime import datetime\n",
    "from pandas import DataFrame\n",
    "from tqdm import tqdm"
   ]
  },
  {
   "cell_type": "markdown",
   "id": "1ffcfa36",
   "metadata": {},
   "source": [
    "### Data Formatting"
   ]
  },
  {
   "cell_type": "code",
   "execution_count": 2,
   "id": "6df58253",
   "metadata": {},
   "outputs": [],
   "source": [
    "#constants \n",
    "carparkIdHeaderName = 'carparkId'\n",
    "timestampHeaderName = 'timestamp'\n",
    "dataTimestampHeaderName = 'dataTime'\n",
    "capacityHeaderName = 'capacity'\n",
    "occupancyHeaderName = 'occupancy'\n",
    "availabilityHeaderName = 'availability'"
   ]
  },
  {
   "cell_type": "code",
   "execution_count": 3,
   "id": "12c4e2b3",
   "metadata": {},
   "outputs": [],
   "source": [
    "#load data\n",
    "data_fileName = 'data/Nottingham_dataset2.csv'\n",
    "inputData = pd.read_csv(data_fileName)\n",
    "condenseData = inputData.drop(columns=[dataTimestampHeaderName, capacityHeaderName, occupancyHeaderName])"
   ]
  },
  {
   "cell_type": "code",
   "execution_count": 4,
   "id": "806280ed",
   "metadata": {},
   "outputs": [
    {
     "data": {
      "text/plain": [
       "array(['210', '211', '212', 'Am2-1', 'Am3-2', 'BRDMSH', 'C11001',\n",
       "       'C11002', 'C11004', 'C11005', 'C11006', 'C12002', 'FRSTPR',\n",
       "       'PHNXPR', 'PRLMNT', 'QNSPR', 'RYLCT', 'SB1-1', 'VICNTH'],\n",
       "      dtype=object)"
      ]
     },
     "execution_count": 4,
     "metadata": {},
     "output_type": "execute_result"
    }
   ],
   "source": [
    "inputData[carparkIdHeaderName].unique()"
   ]
  },
  {
   "cell_type": "code",
   "execution_count": 5,
   "id": "5e46665e",
   "metadata": {},
   "outputs": [],
   "source": [
    "#2. Format timestamp data\n",
    "condenseData.timestamp = pd.to_datetime(condenseData.timestamp, dayfirst=True)\n",
    "condenseData.timestamp = condenseData.timestamp.dt.floor(\"T\")"
   ]
  },
  {
   "cell_type": "code",
   "execution_count": 6,
   "id": "17c0c59c",
   "metadata": {},
   "outputs": [],
   "source": [
    "#3. Format carpark id \n",
    "mapping = {carparkid: i for (i, carparkid) in enumerate(condenseData[carparkIdHeaderName].unique())}\n",
    "condenseData[\"sid\"] = condenseData[carparkIdHeaderName]\n",
    "condenseData = condenseData.replace({\"sid\": mapping})"
   ]
  },
  {
   "cell_type": "code",
   "execution_count": 7,
   "id": "77206368",
   "metadata": {},
   "outputs": [],
   "source": [
    "#4. Change column names, follow formatting in load_carpark_data_list \n",
    "condenseData.rename(columns={\"timestamp\": \"tid\"}, inplace=True)\n",
    "condenseData = condenseData.groupby([\"sid\", \"tid\"]).agg(availability=(\"availability\", \"mean\"))\n",
    "sids = condenseData.reset_index().sid.unique()\n",
    "tids = condenseData.reset_index().tid.unique()\n",
    "tids = pd.date_range(start=tids.min(), end=tids.max(), freq=\"15min\")\n",
    "index = pd.MultiIndex.from_product([sids, tids], names=[\"sid\", \"tid\"])\n",
    "formattedData = condenseData.reindex(index)"
   ]
  },
  {
   "cell_type": "code",
   "execution_count": 8,
   "id": "0239988e",
   "metadata": {},
   "outputs": [],
   "source": [
    "#5. Follow formatting in carpark.ipynb \n",
    "carpark_data_o = formattedData.copy()\n",
    "carpark_data_o.reset_index(inplace=True)\n",
    "carpark_data_o.rename(columns={\"tid\": \"date\"}, inplace=True)"
   ]
  },
  {
   "cell_type": "code",
   "execution_count": 9,
   "id": "c0588a20",
   "metadata": {},
   "outputs": [],
   "source": [
    "#function from util.py\n",
    "def carpark_remove_outlier(carpark_data: DataFrame) -> DataFrame:\n",
    "    \n",
    "    def move_average(x, n):\n",
    "        w = np.ones(n) / n\n",
    "        x_f = np.convolve(x, w, mode=\"valid\")\n",
    "        x_b = np.convolve(x[-2*n+2:][::-1], w, mode=\"valid\")[::-1]\n",
    "        return np.concatenate([x_f, x_b])\n",
    "\n",
    "    sids = carpark_data.reset_index().sid.unique()\n",
    "    for sid in tqdm(sids):\n",
    "        x = carpark_data.loc[sid].fillna(method=\"ffill\").values.ravel()\n",
    "        m = move_average(x, 5)\n",
    "        idx, = np.where(np.abs(x - m) > 50)\n",
    "        carpark_data.loc[sid].iloc[idx] = np.nan\n",
    "\n",
    "    return carpark_data"
   ]
  },
  {
   "cell_type": "code",
   "execution_count": 10,
   "id": "192e248e",
   "metadata": {},
   "outputs": [
    {
     "name": "stderr",
     "output_type": "stream",
     "text": [
      "100%|██████████████████████████████████████████| 19/19 [00:00<00:00, 621.23it/s]\n"
     ]
    }
   ],
   "source": [
    "carpark_data = carpark_remove_outlier(formattedData)\n",
    "carpark_data = carpark_data.fillna(method=\"ffill\")"
   ]
  },
  {
   "cell_type": "code",
   "execution_count": 11,
   "id": "5c34dccf",
   "metadata": {},
   "outputs": [],
   "source": [
    "#function from util.py\n",
    "def carpark_add_date(carpark_data: DataFrame) -> DataFrame:\n",
    "    carpark_data = carpark_data.reset_index()\n",
    "    carpark_data[\"date\"] = carpark_data[\"tid\"]\n",
    "    carpark_data[\"tid\"] = ((carpark_data[\"tid\"] - carpark_data[\"tid\"].min()) \n",
    "                            / np.timedelta64(15, \"m\")).astype(np.int32) #number of mins from start of data collection, in fractions of 10 min\n",
    "    return carpark_data"
   ]
  },
  {
   "cell_type": "code",
   "execution_count": 12,
   "id": "fdf23f68",
   "metadata": {},
   "outputs": [],
   "source": [
    "#function from util.py\n",
    "def carpark_remove_constant(carpark_data: DataFrame) -> DataFrame:\n",
    "    nonconstant = carpark_data.groupby([\"sid\"]).apply(lambda x: x[availabilityHeaderName].std()) > 1.0\n",
    "    nonconstant_sids = nonconstant[nonconstant].index\n",
    "    return carpark_data[carpark_data.sid.isin(nonconstant_sids)]"
   ]
  },
  {
   "cell_type": "code",
   "execution_count": 13,
   "id": "55f743a3",
   "metadata": {},
   "outputs": [],
   "source": [
    "carpark_data2 = carpark_add_date(carpark_data)\n",
    "carpark_data2 = carpark_remove_constant(carpark_data2)\n",
    "carpark_data2[\"min\"] = (carpark_data2.tid % 96).astype(str) #remainder of spare minutes from start time in the day divide by 5"
   ]
  },
  {
   "cell_type": "code",
   "execution_count": 14,
   "id": "5043b1b8",
   "metadata": {},
   "outputs": [],
   "source": [
    "carpark_data2['Weekday']=carpark_data2['date'].dt.dayofweek.astype(str)"
   ]
  },
  {
   "cell_type": "code",
   "execution_count": 15,
   "id": "67800e13",
   "metadata": {},
   "outputs": [
    {
     "data": {
      "text/html": [
       "<div>\n",
       "<style scoped>\n",
       "    .dataframe tbody tr th:only-of-type {\n",
       "        vertical-align: middle;\n",
       "    }\n",
       "\n",
       "    .dataframe tbody tr th {\n",
       "        vertical-align: top;\n",
       "    }\n",
       "\n",
       "    .dataframe thead th {\n",
       "        text-align: right;\n",
       "    }\n",
       "</style>\n",
       "<table border=\"1\" class=\"dataframe\">\n",
       "  <thead>\n",
       "    <tr style=\"text-align: right;\">\n",
       "      <th></th>\n",
       "      <th>sid</th>\n",
       "      <th>tid</th>\n",
       "      <th>availability</th>\n",
       "    </tr>\n",
       "  </thead>\n",
       "  <tbody>\n",
       "    <tr>\n",
       "      <th>count</th>\n",
       "      <td>205732.000000</td>\n",
       "      <td>205732.000000</td>\n",
       "      <td>205732.000000</td>\n",
       "    </tr>\n",
       "    <tr>\n",
       "      <th>mean</th>\n",
       "      <td>9.000000</td>\n",
       "      <td>5413.500000</td>\n",
       "      <td>383.057434</td>\n",
       "    </tr>\n",
       "    <tr>\n",
       "      <th>std</th>\n",
       "      <td>5.477239</td>\n",
       "      <td>3125.781941</td>\n",
       "      <td>310.524039</td>\n",
       "    </tr>\n",
       "    <tr>\n",
       "      <th>min</th>\n",
       "      <td>0.000000</td>\n",
       "      <td>0.000000</td>\n",
       "      <td>0.000000</td>\n",
       "    </tr>\n",
       "    <tr>\n",
       "      <th>25%</th>\n",
       "      <td>4.000000</td>\n",
       "      <td>2706.750000</td>\n",
       "      <td>128.000000</td>\n",
       "    </tr>\n",
       "    <tr>\n",
       "      <th>50%</th>\n",
       "      <td>9.000000</td>\n",
       "      <td>5413.500000</td>\n",
       "      <td>342.000000</td>\n",
       "    </tr>\n",
       "    <tr>\n",
       "      <th>75%</th>\n",
       "      <td>14.000000</td>\n",
       "      <td>8120.250000</td>\n",
       "      <td>472.000000</td>\n",
       "    </tr>\n",
       "    <tr>\n",
       "      <th>max</th>\n",
       "      <td>18.000000</td>\n",
       "      <td>10827.000000</td>\n",
       "      <td>1139.000000</td>\n",
       "    </tr>\n",
       "  </tbody>\n",
       "</table>\n",
       "</div>"
      ],
      "text/plain": [
       "                 sid            tid   availability\n",
       "count  205732.000000  205732.000000  205732.000000\n",
       "mean        9.000000    5413.500000     383.057434\n",
       "std         5.477239    3125.781941     310.524039\n",
       "min         0.000000       0.000000       0.000000\n",
       "25%         4.000000    2706.750000     128.000000\n",
       "50%         9.000000    5413.500000     342.000000\n",
       "75%        14.000000    8120.250000     472.000000\n",
       "max        18.000000   10827.000000    1139.000000"
      ]
     },
     "execution_count": 15,
     "metadata": {},
     "output_type": "execute_result"
    }
   ],
   "source": [
    "#check for any negative values \n",
    "carpark_data2.describe()"
   ]
  },
  {
   "cell_type": "code",
   "execution_count": 16,
   "id": "dd12aec8",
   "metadata": {},
   "outputs": [
    {
     "data": {
      "text/plain": [
       "False"
      ]
     },
     "execution_count": 16,
     "metadata": {},
     "output_type": "execute_result"
    }
   ],
   "source": [
    "#check for any nan or null values \n",
    "carpark_data2.isnull().values.any()"
   ]
  },
  {
   "cell_type": "code",
   "execution_count": 17,
   "id": "4d9cef1b",
   "metadata": {},
   "outputs": [
    {
     "data": {
      "text/html": [
       "<div>\n",
       "<style scoped>\n",
       "    .dataframe tbody tr th:only-of-type {\n",
       "        vertical-align: middle;\n",
       "    }\n",
       "\n",
       "    .dataframe tbody tr th {\n",
       "        vertical-align: top;\n",
       "    }\n",
       "\n",
       "    .dataframe thead th {\n",
       "        text-align: right;\n",
       "    }\n",
       "</style>\n",
       "<table border=\"1\" class=\"dataframe\">\n",
       "  <thead>\n",
       "    <tr style=\"text-align: right;\">\n",
       "      <th></th>\n",
       "      <th>sid</th>\n",
       "      <th>tid</th>\n",
       "      <th>availability</th>\n",
       "    </tr>\n",
       "  </thead>\n",
       "  <tbody>\n",
       "    <tr>\n",
       "      <th>count</th>\n",
       "      <td>10828.0</td>\n",
       "      <td>10828.000000</td>\n",
       "      <td>10828.000000</td>\n",
       "    </tr>\n",
       "    <tr>\n",
       "      <th>mean</th>\n",
       "      <td>0.0</td>\n",
       "      <td>5413.500000</td>\n",
       "      <td>308.027521</td>\n",
       "    </tr>\n",
       "    <tr>\n",
       "      <th>std</th>\n",
       "      <td>0.0</td>\n",
       "      <td>3125.918692</td>\n",
       "      <td>158.536364</td>\n",
       "    </tr>\n",
       "    <tr>\n",
       "      <th>min</th>\n",
       "      <td>0.0</td>\n",
       "      <td>0.000000</td>\n",
       "      <td>0.000000</td>\n",
       "    </tr>\n",
       "    <tr>\n",
       "      <th>25%</th>\n",
       "      <td>0.0</td>\n",
       "      <td>2706.750000</td>\n",
       "      <td>203.000000</td>\n",
       "    </tr>\n",
       "    <tr>\n",
       "      <th>50%</th>\n",
       "      <td>0.0</td>\n",
       "      <td>5413.500000</td>\n",
       "      <td>352.000000</td>\n",
       "    </tr>\n",
       "    <tr>\n",
       "      <th>75%</th>\n",
       "      <td>0.0</td>\n",
       "      <td>8120.250000</td>\n",
       "      <td>454.000000</td>\n",
       "    </tr>\n",
       "    <tr>\n",
       "      <th>max</th>\n",
       "      <td>0.0</td>\n",
       "      <td>10827.000000</td>\n",
       "      <td>472.000000</td>\n",
       "    </tr>\n",
       "  </tbody>\n",
       "</table>\n",
       "</div>"
      ],
      "text/plain": [
       "           sid           tid  availability\n",
       "count  10828.0  10828.000000  10828.000000\n",
       "mean       0.0   5413.500000    308.027521\n",
       "std        0.0   3125.918692    158.536364\n",
       "min        0.0      0.000000      0.000000\n",
       "25%        0.0   2706.750000    203.000000\n",
       "50%        0.0   5413.500000    352.000000\n",
       "75%        0.0   8120.250000    454.000000\n",
       "max        0.0  10827.000000    472.000000"
      ]
     },
     "execution_count": 17,
     "metadata": {},
     "output_type": "execute_result"
    }
   ],
   "source": [
    "carpark_data2[carpark_data2.sid==0].describe()"
   ]
  },
  {
   "cell_type": "markdown",
   "id": "b94834f2",
   "metadata": {},
   "source": [
    "### Model Training "
   ]
  },
  {
   "cell_type": "code",
   "execution_count": 18,
   "id": "4a4ac5a4",
   "metadata": {},
   "outputs": [],
   "source": [
    "import pytorch_lightning as pl\n",
    "from pytorch_lightning.callbacks import EarlyStopping\n",
    "import torch\n",
    "from torch.utils.data import DataLoader\n",
    "\n",
    "from pytorch_forecasting import Baseline, NBeats, TimeSeriesDataSet\n",
    "from pytorch_forecasting.data import NaNLabelEncoder\n",
    "from pytorch_forecasting.metrics import SMAPE\n",
    "from customRNNDataloader import subset_sampler"
   ]
  },
  {
   "cell_type": "code",
   "execution_count": 19,
   "id": "b0f7d37f",
   "metadata": {},
   "outputs": [],
   "source": [
    "context_length = 12*4 #maximum history length \n",
    "prediction_length = 2*4 #prediction length\n",
    "\n",
    "training_cutoff = 89*24*4\n",
    "validation_cutoff = 100*24*4\n",
    "test_cutoff = 112*24*4"
   ]
  },
  {
   "cell_type": "code",
   "execution_count": 20,
   "id": "11b099c1",
   "metadata": {},
   "outputs": [
    {
     "name": "stderr",
     "output_type": "stream",
     "text": [
      "/home/qishuai/anaconda3/envs/glasgow/lib/python3.8/site-packages/pytorch_forecasting/data/encoders.py:618: UserWarning: scale is below 1e-7 - consider not centering the data or using data with higher variance for numerical stability\n",
      "  warnings.warn(\n"
     ]
    }
   ],
   "source": [
    "training = TimeSeriesDataSet(\n",
    "    carpark_data2[lambda x: x.tid <= training_cutoff], #data data frame\n",
    "    time_idx=\"tid\", #integer column denoting time index\n",
    "    group_ids=[\"sid\"], #list of column names identifying a time series\n",
    "    target=availabilityHeaderName,\n",
    "    time_varying_unknown_reals=[availabilityHeaderName], #change with time and not known in the future \n",
    "    max_encoder_length=context_length, #maximum history length\n",
    "    max_prediction_length=prediction_length,\n",
    "    time_varying_known_categoricals=[\"min\", \"Weekday\"], #categorical variables that change with time and known in the future \n",
    ")\n",
    "\n",
    "validation = TimeSeriesDataSet.from_dataset(\n",
    "    training,    #dataset to copy parameters                                      \n",
    "    carpark_data2[lambda x: x.tid <= validation_cutoff], #data \n",
    "    min_prediction_idx=training_cutoff + 1 #minimum time_idx from where to start predictions\n",
    ")\n",
    "\n",
    "test = TimeSeriesDataSet.from_dataset(\n",
    "    training, \n",
    "    carpark_data2,\n",
    "    min_prediction_idx=validation_cutoff + 1\n",
    ")"
   ]
  },
  {
   "cell_type": "code",
   "execution_count": 22,
   "id": "028d6e12",
   "metadata": {},
   "outputs": [],
   "source": [
    "#save trainnning objject \n",
    "torch.save(training,  'Nottingham_training_dataset.pt')"
   ]
  },
  {
   "cell_type": "code",
   "execution_count": 23,
   "id": "72bd35c4",
   "metadata": {},
   "outputs": [],
   "source": [
    "#save test object\n",
    "torch.save(test, 'Nottingham_test_dataset.pt')"
   ]
  },
  {
   "cell_type": "code",
   "execution_count": 21,
   "id": "4bae676c",
   "metadata": {},
   "outputs": [],
   "source": [
    "train_sampler = subset_sampler(training, 0.5, random=True)\n",
    "val_sampler = subset_sampler(validation, 0.05)\n",
    "test_sampler = subset_sampler(test, 0.05)"
   ]
  },
  {
   "cell_type": "code",
   "execution_count": 22,
   "id": "97317635",
   "metadata": {},
   "outputs": [],
   "source": [
    "batch_size = 200\n",
    "train_dataloader = training.to_dataloader(train=True, batch_size=batch_size, \n",
    "                                          num_workers=8)                                          \n",
    "val_dataloader = validation.to_dataloader(batch_size=500, num_workers=8,\n",
    "                                          shuffle=False, sampler=val_sampler)                                          \n",
    "test_dataloader = test.to_dataloader(batch_size=500, num_workers=8,\n",
    "                                     shuffle=False, sampler=test_sampler)"
   ]
  },
  {
   "cell_type": "code",
   "execution_count": 23,
   "id": "73093ea5",
   "metadata": {},
   "outputs": [
    {
     "name": "stdout",
     "output_type": "stream",
     "text": [
      "806\n",
      "1\n",
      "2\n"
     ]
    }
   ],
   "source": [
    "print(len(train_dataloader))\n",
    "print(len(val_dataloader))\n",
    "print(len(test_dataloader))"
   ]
  },
  {
   "cell_type": "code",
   "execution_count": 24,
   "id": "0f372d35",
   "metadata": {},
   "outputs": [
    {
     "name": "stderr",
     "output_type": "stream",
     "text": [
      "/home/qishuai/anaconda3/envs/glasgow/lib/python3.8/site-packages/pytorch_forecasting/data/encoders.py:373: UserWarning: scale is below 1e-7 - consider not centering the data or using data with higher variance for numerical stability\n",
      "  warnings.warn(\n",
      "/home/qishuai/anaconda3/envs/glasgow/lib/python3.8/site-packages/pytorch_forecasting/data/encoders.py:373: UserWarning: scale is below 1e-7 - consider not centering the data or using data with higher variance for numerical stability\n",
      "  warnings.warn(\n",
      "/home/qishuai/anaconda3/envs/glasgow/lib/python3.8/site-packages/pytorch_forecasting/data/timeseries.py:1649: UserWarning: Creating a tensor from a list of numpy.ndarrays is extremely slow. Please consider converting the list to a single numpy.ndarray with numpy.array() before converting to a tensor. (Triggered internally at  /opt/conda/conda-bld/pytorch_1646755903507/work/torch/csrc/utils/tensor_new.cpp:210.)\n",
      "  target_scale = torch.tensor([batch[0][\"target_scale\"] for batch in batches], dtype=torch.float)\n",
      "/home/qishuai/anaconda3/envs/glasgow/lib/python3.8/site-packages/pytorch_forecasting/data/timeseries.py:1649: UserWarning: Creating a tensor from a list of numpy.ndarrays is extremely slow. Please consider converting the list to a single numpy.ndarray with numpy.array() before converting to a tensor. (Triggered internally at  /opt/conda/conda-bld/pytorch_1646755903507/work/torch/csrc/utils/tensor_new.cpp:210.)\n",
      "  target_scale = torch.tensor([batch[0][\"target_scale\"] for batch in batches], dtype=torch.float)\n"
     ]
    }
   ],
   "source": [
    "actuals = torch.cat([y[0] for _, y in iter(test_dataloader)])\n",
    "mask = actuals > 1.0"
   ]
  },
  {
   "cell_type": "code",
   "execution_count": 25,
   "id": "203118bd",
   "metadata": {},
   "outputs": [
    {
     "name": "stderr",
     "output_type": "stream",
     "text": [
      "GPU available: True, used: True\n",
      "TPU available: False, using: 0 TPU cores\n"
     ]
    }
   ],
   "source": [
    "#Implementation of LSTM model \n",
    "\n",
    "from models import RNN\n",
    "\n",
    "early_stop_callback = EarlyStopping(monitor=\"val_loss\", min_delta=1e-4, \n",
    "                                    patience=10, verbose=False, mode=\"min\")\n",
    "\n",
    "trainer = pl.Trainer(\n",
    "    max_epochs=50,\n",
    "    gpus=[0],\n",
    "    weights_summary=\"top\",\n",
    "    gradient_clip_val=0.1,\n",
    "    callbacks=[early_stop_callback],\n",
    "    limit_train_batches=500\n",
    ")"
   ]
  },
  {
   "cell_type": "code",
   "execution_count": 26,
   "id": "35717ae0",
   "metadata": {},
   "outputs": [],
   "source": [
    "rnn = RNN.from_dataset(\n",
    "    training,\n",
    "    embedding_sizes={\"min\": (96, 91), \"Weekday\": (7, 20)}, #dictionary mapping (string) indices to tuple of number of categorical classes and embedding size\n",
    "    # embedding_sizes={\"min\": (1440 // 5, 91)},\n",
    "    cell_type=\"GRU\",\n",
    "    hidden_size=50,\n",
    "    learning_rate=1e-3,\n",
    "    log_interval=50,\n",
    "    log_val_interval=50,\n",
    "    weight_decay=1e-3,\n",
    ")"
   ]
  },
  {
   "cell_type": "code",
   "execution_count": 27,
   "id": "04cc20ac",
   "metadata": {},
   "outputs": [
    {
     "name": "stdout",
     "output_type": "stream",
     "text": [
      "rnn.lagged_target_positions\n",
      "{}\n"
     ]
    }
   ],
   "source": [
    "print(\"rnn.lagged_target_positions\")\n",
    "print(rnn.lagged_target_positions)"
   ]
  },
  {
   "cell_type": "code",
   "execution_count": 31,
   "id": "130f451f",
   "metadata": {},
   "outputs": [
    {
     "name": "stderr",
     "output_type": "stream",
     "text": [
      "LOCAL_RANK: 0 - CUDA_VISIBLE_DEVICES: [0]\n",
      "\n",
      "  | Name             | Type           | Params\n",
      "----------------------------------------------------\n",
      "0 | loss             | MAE            | 0     \n",
      "1 | logging_metrics  | ModuleList     | 0     \n",
      "2 | embeddings       | MultiEmbedding | 8.9 K \n",
      "3 | rnn              | GRU            | 39.9 K\n",
      "4 | output_projector | Linear         | 51    \n",
      "----------------------------------------------------\n",
      "48.8 K    Trainable params\n",
      "0         Non-trainable params\n",
      "48.8 K    Total params\n",
      "0.195     Total estimated model params size (MB)\n"
     ]
    },
    {
     "data": {
      "application/vnd.jupyter.widget-view+json": {
       "model_id": "",
       "version_major": 2,
       "version_minor": 0
      },
      "text/plain": [
       "Validation sanity check: 0it [00:00, ?it/s]"
      ]
     },
     "metadata": {},
     "output_type": "display_data"
    },
    {
     "name": "stderr",
     "output_type": "stream",
     "text": [
      "/home/qishuai/anaconda3/envs/glasgow/lib/python3.8/site-packages/pytorch_forecasting/data/encoders.py:373: UserWarning: scale is below 1e-7 - consider not centering the data or using data with higher variance for numerical stability\n",
      "  warnings.warn(\n",
      "/home/qishuai/anaconda3/envs/glasgow/lib/python3.8/site-packages/pytorch_forecasting/data/timeseries.py:1649: UserWarning: Creating a tensor from a list of numpy.ndarrays is extremely slow. Please consider converting the list to a single numpy.ndarray with numpy.array() before converting to a tensor. (Triggered internally at  /opt/conda/conda-bld/pytorch_1646755903507/work/torch/csrc/utils/tensor_new.cpp:210.)\n",
      "  target_scale = torch.tensor([batch[0][\"target_scale\"] for batch in batches], dtype=torch.float)\n"
     ]
    },
    {
     "data": {
      "application/vnd.jupyter.widget-view+json": {
       "model_id": "7c30187a79534c52b058f393c0d23798",
       "version_major": 2,
       "version_minor": 0
      },
      "text/plain": [
       "Training: 0it [00:00, ?it/s]"
      ]
     },
     "metadata": {},
     "output_type": "display_data"
    },
    {
     "name": "stderr",
     "output_type": "stream",
     "text": [
      "/home/qishuai/anaconda3/envs/glasgow/lib/python3.8/site-packages/pytorch_forecasting/data/encoders.py:373: UserWarning: scale is below 1e-7 - consider not centering the data or using data with higher variance for numerical stability\n",
      "  warnings.warn(\n",
      "/home/qishuai/anaconda3/envs/glasgow/lib/python3.8/site-packages/pytorch_forecasting/data/encoders.py:373: UserWarning: scale is below 1e-7 - consider not centering the data or using data with higher variance for numerical stability\n",
      "  warnings.warn(\n",
      "/home/qishuai/anaconda3/envs/glasgow/lib/python3.8/site-packages/pytorch_forecasting/data/encoders.py:373: UserWarning: scale is below 1e-7 - consider not centering the data or using data with higher variance for numerical stability\n",
      "  warnings.warn(\n",
      "/home/qishuai/anaconda3/envs/glasgow/lib/python3.8/site-packages/pytorch_forecasting/data/encoders.py:373: UserWarning: scale is below 1e-7 - consider not centering the data or using data with higher variance for numerical stability\n",
      "  warnings.warn(\n",
      "/home/qishuai/anaconda3/envs/glasgow/lib/python3.8/site-packages/pytorch_forecasting/data/encoders.py:373: UserWarning: scale is below 1e-7 - consider not centering the data or using data with higher variance for numerical stability\n",
      "  warnings.warn(\n",
      "/home/qishuai/anaconda3/envs/glasgow/lib/python3.8/site-packages/pytorch_forecasting/data/encoders.py:373: UserWarning: scale is below 1e-7 - consider not centering the data or using data with higher variance for numerical stability\n",
      "  warnings.warn(\n",
      "/home/qishuai/anaconda3/envs/glasgow/lib/python3.8/site-packages/pytorch_forecasting/data/encoders.py:373: UserWarning: scale is below 1e-7 - consider not centering the data or using data with higher variance for numerical stability\n",
      "  warnings.warn(\n",
      "/home/qishuai/anaconda3/envs/glasgow/lib/python3.8/site-packages/pytorch_forecasting/data/encoders.py:373: UserWarning: scale is below 1e-7 - consider not centering the data or using data with higher variance for numerical stability\n",
      "  warnings.warn(\n",
      "/home/qishuai/anaconda3/envs/glasgow/lib/python3.8/site-packages/pytorch_forecasting/data/timeseries.py:1649: UserWarning: Creating a tensor from a list of numpy.ndarrays is extremely slow. Please consider converting the list to a single numpy.ndarray with numpy.array() before converting to a tensor. (Triggered internally at  /opt/conda/conda-bld/pytorch_1646755903507/work/torch/csrc/utils/tensor_new.cpp:210.)\n",
      "  target_scale = torch.tensor([batch[0][\"target_scale\"] for batch in batches], dtype=torch.float)\n",
      "/home/qishuai/anaconda3/envs/glasgow/lib/python3.8/site-packages/pytorch_forecasting/data/timeseries.py:1649: UserWarning: Creating a tensor from a list of numpy.ndarrays is extremely slow. Please consider converting the list to a single numpy.ndarray with numpy.array() before converting to a tensor. (Triggered internally at  /opt/conda/conda-bld/pytorch_1646755903507/work/torch/csrc/utils/tensor_new.cpp:210.)\n",
      "  target_scale = torch.tensor([batch[0][\"target_scale\"] for batch in batches], dtype=torch.float)\n",
      "/home/qishuai/anaconda3/envs/glasgow/lib/python3.8/site-packages/pytorch_forecasting/data/timeseries.py:1649: UserWarning: Creating a tensor from a list of numpy.ndarrays is extremely slow. Please consider converting the list to a single numpy.ndarray with numpy.array() before converting to a tensor. (Triggered internally at  /opt/conda/conda-bld/pytorch_1646755903507/work/torch/csrc/utils/tensor_new.cpp:210.)\n",
      "  target_scale = torch.tensor([batch[0][\"target_scale\"] for batch in batches], dtype=torch.float)\n",
      "/home/qishuai/anaconda3/envs/glasgow/lib/python3.8/site-packages/pytorch_forecasting/data/timeseries.py:1649: UserWarning: Creating a tensor from a list of numpy.ndarrays is extremely slow. Please consider converting the list to a single numpy.ndarray with numpy.array() before converting to a tensor. (Triggered internally at  /opt/conda/conda-bld/pytorch_1646755903507/work/torch/csrc/utils/tensor_new.cpp:210.)\n",
      "  target_scale = torch.tensor([batch[0][\"target_scale\"] for batch in batches], dtype=torch.float)\n",
      "/home/qishuai/anaconda3/envs/glasgow/lib/python3.8/site-packages/pytorch_forecasting/data/timeseries.py:1649: UserWarning: Creating a tensor from a list of numpy.ndarrays is extremely slow. Please consider converting the list to a single numpy.ndarray with numpy.array() before converting to a tensor. (Triggered internally at  /opt/conda/conda-bld/pytorch_1646755903507/work/torch/csrc/utils/tensor_new.cpp:210.)\n",
      "  target_scale = torch.tensor([batch[0][\"target_scale\"] for batch in batches], dtype=torch.float)\n",
      "/home/qishuai/anaconda3/envs/glasgow/lib/python3.8/site-packages/pytorch_forecasting/data/timeseries.py:1649: UserWarning: Creating a tensor from a list of numpy.ndarrays is extremely slow. Please consider converting the list to a single numpy.ndarray with numpy.array() before converting to a tensor. (Triggered internally at  /opt/conda/conda-bld/pytorch_1646755903507/work/torch/csrc/utils/tensor_new.cpp:210.)\n",
      "  target_scale = torch.tensor([batch[0][\"target_scale\"] for batch in batches], dtype=torch.float)\n",
      "/home/qishuai/anaconda3/envs/glasgow/lib/python3.8/site-packages/pytorch_forecasting/data/timeseries.py:1649: UserWarning: Creating a tensor from a list of numpy.ndarrays is extremely slow. Please consider converting the list to a single numpy.ndarray with numpy.array() before converting to a tensor. (Triggered internally at  /opt/conda/conda-bld/pytorch_1646755903507/work/torch/csrc/utils/tensor_new.cpp:210.)\n",
      "  target_scale = torch.tensor([batch[0][\"target_scale\"] for batch in batches], dtype=torch.float)\n",
      "/home/qishuai/anaconda3/envs/glasgow/lib/python3.8/site-packages/pytorch_forecasting/data/timeseries.py:1649: UserWarning: Creating a tensor from a list of numpy.ndarrays is extremely slow. Please consider converting the list to a single numpy.ndarray with numpy.array() before converting to a tensor. (Triggered internally at  /opt/conda/conda-bld/pytorch_1646755903507/work/torch/csrc/utils/tensor_new.cpp:210.)\n",
      "  target_scale = torch.tensor([batch[0][\"target_scale\"] for batch in batches], dtype=torch.float)\n"
     ]
    },
    {
     "data": {
      "application/vnd.jupyter.widget-view+json": {
       "model_id": "",
       "version_major": 2,
       "version_minor": 0
      },
      "text/plain": [
       "Validating: 0it [00:00, ?it/s]"
      ]
     },
     "metadata": {},
     "output_type": "display_data"
    },
    {
     "name": "stderr",
     "output_type": "stream",
     "text": [
      "/home/qishuai/anaconda3/envs/glasgow/lib/python3.8/site-packages/pytorch_forecasting/data/encoders.py:373: UserWarning: scale is below 1e-7 - consider not centering the data or using data with higher variance for numerical stability\n",
      "  warnings.warn(\n",
      "/home/qishuai/anaconda3/envs/glasgow/lib/python3.8/site-packages/pytorch_forecasting/data/timeseries.py:1649: UserWarning: Creating a tensor from a list of numpy.ndarrays is extremely slow. Please consider converting the list to a single numpy.ndarray with numpy.array() before converting to a tensor. (Triggered internally at  /opt/conda/conda-bld/pytorch_1646755903507/work/torch/csrc/utils/tensor_new.cpp:210.)\n",
      "  target_scale = torch.tensor([batch[0][\"target_scale\"] for batch in batches], dtype=torch.float)\n",
      "/home/qishuai/anaconda3/envs/glasgow/lib/python3.8/site-packages/pytorch_forecasting/data/encoders.py:373: UserWarning: scale is below 1e-7 - consider not centering the data or using data with higher variance for numerical stability\n",
      "  warnings.warn(\n",
      "/home/qishuai/anaconda3/envs/glasgow/lib/python3.8/site-packages/pytorch_forecasting/data/encoders.py:373: UserWarning: scale is below 1e-7 - consider not centering the data or using data with higher variance for numerical stability\n",
      "  warnings.warn(\n",
      "/home/qishuai/anaconda3/envs/glasgow/lib/python3.8/site-packages/pytorch_forecasting/data/encoders.py:373: UserWarning: scale is below 1e-7 - consider not centering the data or using data with higher variance for numerical stability\n",
      "  warnings.warn(\n",
      "/home/qishuai/anaconda3/envs/glasgow/lib/python3.8/site-packages/pytorch_forecasting/data/encoders.py:373: UserWarning: scale is below 1e-7 - consider not centering the data or using data with higher variance for numerical stability\n",
      "  warnings.warn(\n",
      "/home/qishuai/anaconda3/envs/glasgow/lib/python3.8/site-packages/pytorch_forecasting/data/encoders.py:373: UserWarning: scale is below 1e-7 - consider not centering the data or using data with higher variance for numerical stability\n",
      "  warnings.warn(\n",
      "/home/qishuai/anaconda3/envs/glasgow/lib/python3.8/site-packages/pytorch_forecasting/data/encoders.py:373: UserWarning: scale is below 1e-7 - consider not centering the data or using data with higher variance for numerical stability\n",
      "  warnings.warn(\n",
      "/home/qishuai/anaconda3/envs/glasgow/lib/python3.8/site-packages/pytorch_forecasting/data/encoders.py:373: UserWarning: scale is below 1e-7 - consider not centering the data or using data with higher variance for numerical stability\n",
      "  warnings.warn(\n",
      "/home/qishuai/anaconda3/envs/glasgow/lib/python3.8/site-packages/pytorch_forecasting/data/encoders.py:373: UserWarning: scale is below 1e-7 - consider not centering the data or using data with higher variance for numerical stability\n",
      "  warnings.warn(\n",
      "/home/qishuai/anaconda3/envs/glasgow/lib/python3.8/site-packages/pytorch_forecasting/data/timeseries.py:1649: UserWarning: Creating a tensor from a list of numpy.ndarrays is extremely slow. Please consider converting the list to a single numpy.ndarray with numpy.array() before converting to a tensor. (Triggered internally at  /opt/conda/conda-bld/pytorch_1646755903507/work/torch/csrc/utils/tensor_new.cpp:210.)\n",
      "  target_scale = torch.tensor([batch[0][\"target_scale\"] for batch in batches], dtype=torch.float)\n",
      "/home/qishuai/anaconda3/envs/glasgow/lib/python3.8/site-packages/pytorch_forecasting/data/timeseries.py:1649: UserWarning: Creating a tensor from a list of numpy.ndarrays is extremely slow. Please consider converting the list to a single numpy.ndarray with numpy.array() before converting to a tensor. (Triggered internally at  /opt/conda/conda-bld/pytorch_1646755903507/work/torch/csrc/utils/tensor_new.cpp:210.)\n",
      "  target_scale = torch.tensor([batch[0][\"target_scale\"] for batch in batches], dtype=torch.float)\n",
      "/home/qishuai/anaconda3/envs/glasgow/lib/python3.8/site-packages/pytorch_forecasting/data/timeseries.py:1649: UserWarning: Creating a tensor from a list of numpy.ndarrays is extremely slow. Please consider converting the list to a single numpy.ndarray with numpy.array() before converting to a tensor. (Triggered internally at  /opt/conda/conda-bld/pytorch_1646755903507/work/torch/csrc/utils/tensor_new.cpp:210.)\n",
      "  target_scale = torch.tensor([batch[0][\"target_scale\"] for batch in batches], dtype=torch.float)\n",
      "/home/qishuai/anaconda3/envs/glasgow/lib/python3.8/site-packages/pytorch_forecasting/data/timeseries.py:1649: UserWarning: Creating a tensor from a list of numpy.ndarrays is extremely slow. Please consider converting the list to a single numpy.ndarray with numpy.array() before converting to a tensor. (Triggered internally at  /opt/conda/conda-bld/pytorch_1646755903507/work/torch/csrc/utils/tensor_new.cpp:210.)\n",
      "  target_scale = torch.tensor([batch[0][\"target_scale\"] for batch in batches], dtype=torch.float)\n",
      "/home/qishuai/anaconda3/envs/glasgow/lib/python3.8/site-packages/pytorch_forecasting/data/timeseries.py:1649: UserWarning: Creating a tensor from a list of numpy.ndarrays is extremely slow. Please consider converting the list to a single numpy.ndarray with numpy.array() before converting to a tensor. (Triggered internally at  /opt/conda/conda-bld/pytorch_1646755903507/work/torch/csrc/utils/tensor_new.cpp:210.)\n",
      "  target_scale = torch.tensor([batch[0][\"target_scale\"] for batch in batches], dtype=torch.float)\n",
      "/home/qishuai/anaconda3/envs/glasgow/lib/python3.8/site-packages/pytorch_forecasting/data/timeseries.py:1649: UserWarning: Creating a tensor from a list of numpy.ndarrays is extremely slow. Please consider converting the list to a single numpy.ndarray with numpy.array() before converting to a tensor. (Triggered internally at  /opt/conda/conda-bld/pytorch_1646755903507/work/torch/csrc/utils/tensor_new.cpp:210.)\n",
      "  target_scale = torch.tensor([batch[0][\"target_scale\"] for batch in batches], dtype=torch.float)\n",
      "/home/qishuai/anaconda3/envs/glasgow/lib/python3.8/site-packages/pytorch_forecasting/data/timeseries.py:1649: UserWarning: Creating a tensor from a list of numpy.ndarrays is extremely slow. Please consider converting the list to a single numpy.ndarray with numpy.array() before converting to a tensor. (Triggered internally at  /opt/conda/conda-bld/pytorch_1646755903507/work/torch/csrc/utils/tensor_new.cpp:210.)\n",
      "  target_scale = torch.tensor([batch[0][\"target_scale\"] for batch in batches], dtype=torch.float)\n",
      "/home/qishuai/anaconda3/envs/glasgow/lib/python3.8/site-packages/pytorch_forecasting/data/timeseries.py:1649: UserWarning: Creating a tensor from a list of numpy.ndarrays is extremely slow. Please consider converting the list to a single numpy.ndarray with numpy.array() before converting to a tensor. (Triggered internally at  /opt/conda/conda-bld/pytorch_1646755903507/work/torch/csrc/utils/tensor_new.cpp:210.)\n",
      "  target_scale = torch.tensor([batch[0][\"target_scale\"] for batch in batches], dtype=torch.float)\n"
     ]
    },
    {
     "data": {
      "application/vnd.jupyter.widget-view+json": {
       "model_id": "",
       "version_major": 2,
       "version_minor": 0
      },
      "text/plain": [
       "Validating: 0it [00:00, ?it/s]"
      ]
     },
     "metadata": {},
     "output_type": "display_data"
    },
    {
     "name": "stderr",
     "output_type": "stream",
     "text": [
      "/home/qishuai/anaconda3/envs/glasgow/lib/python3.8/site-packages/pytorch_forecasting/data/encoders.py:373: UserWarning: scale is below 1e-7 - consider not centering the data or using data with higher variance for numerical stability\n",
      "  warnings.warn(\n",
      "/home/qishuai/anaconda3/envs/glasgow/lib/python3.8/site-packages/pytorch_forecasting/data/timeseries.py:1649: UserWarning: Creating a tensor from a list of numpy.ndarrays is extremely slow. Please consider converting the list to a single numpy.ndarray with numpy.array() before converting to a tensor. (Triggered internally at  /opt/conda/conda-bld/pytorch_1646755903507/work/torch/csrc/utils/tensor_new.cpp:210.)\n",
      "  target_scale = torch.tensor([batch[0][\"target_scale\"] for batch in batches], dtype=torch.float)\n",
      "/home/qishuai/anaconda3/envs/glasgow/lib/python3.8/site-packages/pytorch_forecasting/data/encoders.py:373: UserWarning: scale is below 1e-7 - consider not centering the data or using data with higher variance for numerical stability\n",
      "  warnings.warn(\n",
      "/home/qishuai/anaconda3/envs/glasgow/lib/python3.8/site-packages/pytorch_forecasting/data/encoders.py:373: UserWarning: scale is below 1e-7 - consider not centering the data or using data with higher variance for numerical stability\n",
      "  warnings.warn(\n",
      "/home/qishuai/anaconda3/envs/glasgow/lib/python3.8/site-packages/pytorch_forecasting/data/encoders.py:373: UserWarning: scale is below 1e-7 - consider not centering the data or using data with higher variance for numerical stability\n",
      "  warnings.warn(\n",
      "/home/qishuai/anaconda3/envs/glasgow/lib/python3.8/site-packages/pytorch_forecasting/data/encoders.py:373: UserWarning: scale is below 1e-7 - consider not centering the data or using data with higher variance for numerical stability\n",
      "  warnings.warn(\n",
      "/home/qishuai/anaconda3/envs/glasgow/lib/python3.8/site-packages/pytorch_forecasting/data/encoders.py:373: UserWarning: scale is below 1e-7 - consider not centering the data or using data with higher variance for numerical stability\n",
      "  warnings.warn(\n",
      "/home/qishuai/anaconda3/envs/glasgow/lib/python3.8/site-packages/pytorch_forecasting/data/encoders.py:373: UserWarning: scale is below 1e-7 - consider not centering the data or using data with higher variance for numerical stability\n",
      "  warnings.warn(\n",
      "/home/qishuai/anaconda3/envs/glasgow/lib/python3.8/site-packages/pytorch_forecasting/data/encoders.py:373: UserWarning: scale is below 1e-7 - consider not centering the data or using data with higher variance for numerical stability\n",
      "  warnings.warn(\n",
      "/home/qishuai/anaconda3/envs/glasgow/lib/python3.8/site-packages/pytorch_forecasting/data/encoders.py:373: UserWarning: scale is below 1e-7 - consider not centering the data or using data with higher variance for numerical stability\n",
      "  warnings.warn(\n",
      "/home/qishuai/anaconda3/envs/glasgow/lib/python3.8/site-packages/pytorch_forecasting/data/timeseries.py:1649: UserWarning: Creating a tensor from a list of numpy.ndarrays is extremely slow. Please consider converting the list to a single numpy.ndarray with numpy.array() before converting to a tensor. (Triggered internally at  /opt/conda/conda-bld/pytorch_1646755903507/work/torch/csrc/utils/tensor_new.cpp:210.)\n",
      "  target_scale = torch.tensor([batch[0][\"target_scale\"] for batch in batches], dtype=torch.float)\n",
      "/home/qishuai/anaconda3/envs/glasgow/lib/python3.8/site-packages/pytorch_forecasting/data/timeseries.py:1649: UserWarning: Creating a tensor from a list of numpy.ndarrays is extremely slow. Please consider converting the list to a single numpy.ndarray with numpy.array() before converting to a tensor. (Triggered internally at  /opt/conda/conda-bld/pytorch_1646755903507/work/torch/csrc/utils/tensor_new.cpp:210.)\n",
      "  target_scale = torch.tensor([batch[0][\"target_scale\"] for batch in batches], dtype=torch.float)\n",
      "/home/qishuai/anaconda3/envs/glasgow/lib/python3.8/site-packages/pytorch_forecasting/data/timeseries.py:1649: UserWarning: Creating a tensor from a list of numpy.ndarrays is extremely slow. Please consider converting the list to a single numpy.ndarray with numpy.array() before converting to a tensor. (Triggered internally at  /opt/conda/conda-bld/pytorch_1646755903507/work/torch/csrc/utils/tensor_new.cpp:210.)\n",
      "  target_scale = torch.tensor([batch[0][\"target_scale\"] for batch in batches], dtype=torch.float)\n",
      "/home/qishuai/anaconda3/envs/glasgow/lib/python3.8/site-packages/pytorch_forecasting/data/timeseries.py:1649: UserWarning: Creating a tensor from a list of numpy.ndarrays is extremely slow. Please consider converting the list to a single numpy.ndarray with numpy.array() before converting to a tensor. (Triggered internally at  /opt/conda/conda-bld/pytorch_1646755903507/work/torch/csrc/utils/tensor_new.cpp:210.)\n",
      "  target_scale = torch.tensor([batch[0][\"target_scale\"] for batch in batches], dtype=torch.float)\n",
      "/home/qishuai/anaconda3/envs/glasgow/lib/python3.8/site-packages/pytorch_forecasting/data/timeseries.py:1649: UserWarning: Creating a tensor from a list of numpy.ndarrays is extremely slow. Please consider converting the list to a single numpy.ndarray with numpy.array() before converting to a tensor. (Triggered internally at  /opt/conda/conda-bld/pytorch_1646755903507/work/torch/csrc/utils/tensor_new.cpp:210.)\n",
      "  target_scale = torch.tensor([batch[0][\"target_scale\"] for batch in batches], dtype=torch.float)\n",
      "/home/qishuai/anaconda3/envs/glasgow/lib/python3.8/site-packages/pytorch_forecasting/data/timeseries.py:1649: UserWarning: Creating a tensor from a list of numpy.ndarrays is extremely slow. Please consider converting the list to a single numpy.ndarray with numpy.array() before converting to a tensor. (Triggered internally at  /opt/conda/conda-bld/pytorch_1646755903507/work/torch/csrc/utils/tensor_new.cpp:210.)\n",
      "  target_scale = torch.tensor([batch[0][\"target_scale\"] for batch in batches], dtype=torch.float)\n",
      "/home/qishuai/anaconda3/envs/glasgow/lib/python3.8/site-packages/pytorch_forecasting/data/timeseries.py:1649: UserWarning: Creating a tensor from a list of numpy.ndarrays is extremely slow. Please consider converting the list to a single numpy.ndarray with numpy.array() before converting to a tensor. (Triggered internally at  /opt/conda/conda-bld/pytorch_1646755903507/work/torch/csrc/utils/tensor_new.cpp:210.)\n",
      "  target_scale = torch.tensor([batch[0][\"target_scale\"] for batch in batches], dtype=torch.float)\n",
      "/home/qishuai/anaconda3/envs/glasgow/lib/python3.8/site-packages/pytorch_forecasting/data/timeseries.py:1649: UserWarning: Creating a tensor from a list of numpy.ndarrays is extremely slow. Please consider converting the list to a single numpy.ndarray with numpy.array() before converting to a tensor. (Triggered internally at  /opt/conda/conda-bld/pytorch_1646755903507/work/torch/csrc/utils/tensor_new.cpp:210.)\n",
      "  target_scale = torch.tensor([batch[0][\"target_scale\"] for batch in batches], dtype=torch.float)\n"
     ]
    },
    {
     "data": {
      "application/vnd.jupyter.widget-view+json": {
       "model_id": "",
       "version_major": 2,
       "version_minor": 0
      },
      "text/plain": [
       "Validating: 0it [00:00, ?it/s]"
      ]
     },
     "metadata": {},
     "output_type": "display_data"
    },
    {
     "name": "stderr",
     "output_type": "stream",
     "text": [
      "/home/qishuai/anaconda3/envs/glasgow/lib/python3.8/site-packages/pytorch_forecasting/data/encoders.py:373: UserWarning: scale is below 1e-7 - consider not centering the data or using data with higher variance for numerical stability\n",
      "  warnings.warn(\n",
      "/home/qishuai/anaconda3/envs/glasgow/lib/python3.8/site-packages/pytorch_forecasting/data/timeseries.py:1649: UserWarning: Creating a tensor from a list of numpy.ndarrays is extremely slow. Please consider converting the list to a single numpy.ndarray with numpy.array() before converting to a tensor. (Triggered internally at  /opt/conda/conda-bld/pytorch_1646755903507/work/torch/csrc/utils/tensor_new.cpp:210.)\n",
      "  target_scale = torch.tensor([batch[0][\"target_scale\"] for batch in batches], dtype=torch.float)\n",
      "/home/qishuai/anaconda3/envs/glasgow/lib/python3.8/site-packages/pytorch_forecasting/data/encoders.py:373: UserWarning: scale is below 1e-7 - consider not centering the data or using data with higher variance for numerical stability\n",
      "  warnings.warn(\n",
      "/home/qishuai/anaconda3/envs/glasgow/lib/python3.8/site-packages/pytorch_forecasting/data/encoders.py:373: UserWarning: scale is below 1e-7 - consider not centering the data or using data with higher variance for numerical stability\n",
      "  warnings.warn(\n",
      "/home/qishuai/anaconda3/envs/glasgow/lib/python3.8/site-packages/pytorch_forecasting/data/encoders.py:373: UserWarning: scale is below 1e-7 - consider not centering the data or using data with higher variance for numerical stability\n",
      "  warnings.warn(\n",
      "/home/qishuai/anaconda3/envs/glasgow/lib/python3.8/site-packages/pytorch_forecasting/data/encoders.py:373: UserWarning: scale is below 1e-7 - consider not centering the data or using data with higher variance for numerical stability\n",
      "  warnings.warn(\n",
      "/home/qishuai/anaconda3/envs/glasgow/lib/python3.8/site-packages/pytorch_forecasting/data/encoders.py:373: UserWarning: scale is below 1e-7 - consider not centering the data or using data with higher variance for numerical stability\n",
      "  warnings.warn(\n",
      "/home/qishuai/anaconda3/envs/glasgow/lib/python3.8/site-packages/pytorch_forecasting/data/encoders.py:373: UserWarning: scale is below 1e-7 - consider not centering the data or using data with higher variance for numerical stability\n",
      "  warnings.warn(\n",
      "/home/qishuai/anaconda3/envs/glasgow/lib/python3.8/site-packages/pytorch_forecasting/data/encoders.py:373: UserWarning: scale is below 1e-7 - consider not centering the data or using data with higher variance for numerical stability\n",
      "  warnings.warn(\n",
      "/home/qishuai/anaconda3/envs/glasgow/lib/python3.8/site-packages/pytorch_forecasting/data/encoders.py:373: UserWarning: scale is below 1e-7 - consider not centering the data or using data with higher variance for numerical stability\n",
      "  warnings.warn(\n",
      "/home/qishuai/anaconda3/envs/glasgow/lib/python3.8/site-packages/pytorch_forecasting/data/timeseries.py:1649: UserWarning: Creating a tensor from a list of numpy.ndarrays is extremely slow. Please consider converting the list to a single numpy.ndarray with numpy.array() before converting to a tensor. (Triggered internally at  /opt/conda/conda-bld/pytorch_1646755903507/work/torch/csrc/utils/tensor_new.cpp:210.)\n",
      "  target_scale = torch.tensor([batch[0][\"target_scale\"] for batch in batches], dtype=torch.float)\n",
      "/home/qishuai/anaconda3/envs/glasgow/lib/python3.8/site-packages/pytorch_forecasting/data/timeseries.py:1649: UserWarning: Creating a tensor from a list of numpy.ndarrays is extremely slow. Please consider converting the list to a single numpy.ndarray with numpy.array() before converting to a tensor. (Triggered internally at  /opt/conda/conda-bld/pytorch_1646755903507/work/torch/csrc/utils/tensor_new.cpp:210.)\n",
      "  target_scale = torch.tensor([batch[0][\"target_scale\"] for batch in batches], dtype=torch.float)\n",
      "/home/qishuai/anaconda3/envs/glasgow/lib/python3.8/site-packages/pytorch_forecasting/data/timeseries.py:1649: UserWarning: Creating a tensor from a list of numpy.ndarrays is extremely slow. Please consider converting the list to a single numpy.ndarray with numpy.array() before converting to a tensor. (Triggered internally at  /opt/conda/conda-bld/pytorch_1646755903507/work/torch/csrc/utils/tensor_new.cpp:210.)\n",
      "  target_scale = torch.tensor([batch[0][\"target_scale\"] for batch in batches], dtype=torch.float)\n",
      "/home/qishuai/anaconda3/envs/glasgow/lib/python3.8/site-packages/pytorch_forecasting/data/timeseries.py:1649: UserWarning: Creating a tensor from a list of numpy.ndarrays is extremely slow. Please consider converting the list to a single numpy.ndarray with numpy.array() before converting to a tensor. (Triggered internally at  /opt/conda/conda-bld/pytorch_1646755903507/work/torch/csrc/utils/tensor_new.cpp:210.)\n",
      "  target_scale = torch.tensor([batch[0][\"target_scale\"] for batch in batches], dtype=torch.float)\n",
      "/home/qishuai/anaconda3/envs/glasgow/lib/python3.8/site-packages/pytorch_forecasting/data/timeseries.py:1649: UserWarning: Creating a tensor from a list of numpy.ndarrays is extremely slow. Please consider converting the list to a single numpy.ndarray with numpy.array() before converting to a tensor. (Triggered internally at  /opt/conda/conda-bld/pytorch_1646755903507/work/torch/csrc/utils/tensor_new.cpp:210.)\n",
      "  target_scale = torch.tensor([batch[0][\"target_scale\"] for batch in batches], dtype=torch.float)\n",
      "/home/qishuai/anaconda3/envs/glasgow/lib/python3.8/site-packages/pytorch_forecasting/data/timeseries.py:1649: UserWarning: Creating a tensor from a list of numpy.ndarrays is extremely slow. Please consider converting the list to a single numpy.ndarray with numpy.array() before converting to a tensor. (Triggered internally at  /opt/conda/conda-bld/pytorch_1646755903507/work/torch/csrc/utils/tensor_new.cpp:210.)\n",
      "  target_scale = torch.tensor([batch[0][\"target_scale\"] for batch in batches], dtype=torch.float)\n",
      "/home/qishuai/anaconda3/envs/glasgow/lib/python3.8/site-packages/pytorch_forecasting/data/timeseries.py:1649: UserWarning: Creating a tensor from a list of numpy.ndarrays is extremely slow. Please consider converting the list to a single numpy.ndarray with numpy.array() before converting to a tensor. (Triggered internally at  /opt/conda/conda-bld/pytorch_1646755903507/work/torch/csrc/utils/tensor_new.cpp:210.)\n",
      "  target_scale = torch.tensor([batch[0][\"target_scale\"] for batch in batches], dtype=torch.float)\n",
      "/home/qishuai/anaconda3/envs/glasgow/lib/python3.8/site-packages/pytorch_forecasting/data/timeseries.py:1649: UserWarning: Creating a tensor from a list of numpy.ndarrays is extremely slow. Please consider converting the list to a single numpy.ndarray with numpy.array() before converting to a tensor. (Triggered internally at  /opt/conda/conda-bld/pytorch_1646755903507/work/torch/csrc/utils/tensor_new.cpp:210.)\n",
      "  target_scale = torch.tensor([batch[0][\"target_scale\"] for batch in batches], dtype=torch.float)\n"
     ]
    },
    {
     "data": {
      "application/vnd.jupyter.widget-view+json": {
       "model_id": "",
       "version_major": 2,
       "version_minor": 0
      },
      "text/plain": [
       "Validating: 0it [00:00, ?it/s]"
      ]
     },
     "metadata": {},
     "output_type": "display_data"
    },
    {
     "name": "stderr",
     "output_type": "stream",
     "text": [
      "/home/qishuai/anaconda3/envs/glasgow/lib/python3.8/site-packages/pytorch_forecasting/data/encoders.py:373: UserWarning: scale is below 1e-7 - consider not centering the data or using data with higher variance for numerical stability\n",
      "  warnings.warn(\n",
      "/home/qishuai/anaconda3/envs/glasgow/lib/python3.8/site-packages/pytorch_forecasting/data/timeseries.py:1649: UserWarning: Creating a tensor from a list of numpy.ndarrays is extremely slow. Please consider converting the list to a single numpy.ndarray with numpy.array() before converting to a tensor. (Triggered internally at  /opt/conda/conda-bld/pytorch_1646755903507/work/torch/csrc/utils/tensor_new.cpp:210.)\n",
      "  target_scale = torch.tensor([batch[0][\"target_scale\"] for batch in batches], dtype=torch.float)\n",
      "/home/qishuai/anaconda3/envs/glasgow/lib/python3.8/site-packages/pytorch_forecasting/data/encoders.py:373: UserWarning: scale is below 1e-7 - consider not centering the data or using data with higher variance for numerical stability\n",
      "  warnings.warn(\n",
      "/home/qishuai/anaconda3/envs/glasgow/lib/python3.8/site-packages/pytorch_forecasting/data/encoders.py:373: UserWarning: scale is below 1e-7 - consider not centering the data or using data with higher variance for numerical stability\n",
      "  warnings.warn(\n",
      "/home/qishuai/anaconda3/envs/glasgow/lib/python3.8/site-packages/pytorch_forecasting/data/encoders.py:373: UserWarning: scale is below 1e-7 - consider not centering the data or using data with higher variance for numerical stability\n",
      "  warnings.warn(\n",
      "/home/qishuai/anaconda3/envs/glasgow/lib/python3.8/site-packages/pytorch_forecasting/data/encoders.py:373: UserWarning: scale is below 1e-7 - consider not centering the data or using data with higher variance for numerical stability\n",
      "  warnings.warn(\n",
      "/home/qishuai/anaconda3/envs/glasgow/lib/python3.8/site-packages/pytorch_forecasting/data/encoders.py:373: UserWarning: scale is below 1e-7 - consider not centering the data or using data with higher variance for numerical stability\n",
      "  warnings.warn(\n",
      "/home/qishuai/anaconda3/envs/glasgow/lib/python3.8/site-packages/pytorch_forecasting/data/encoders.py:373: UserWarning: scale is below 1e-7 - consider not centering the data or using data with higher variance for numerical stability\n",
      "  warnings.warn(\n",
      "/home/qishuai/anaconda3/envs/glasgow/lib/python3.8/site-packages/pytorch_forecasting/data/encoders.py:373: UserWarning: scale is below 1e-7 - consider not centering the data or using data with higher variance for numerical stability\n",
      "  warnings.warn(\n",
      "/home/qishuai/anaconda3/envs/glasgow/lib/python3.8/site-packages/pytorch_forecasting/data/encoders.py:373: UserWarning: scale is below 1e-7 - consider not centering the data or using data with higher variance for numerical stability\n",
      "  warnings.warn(\n",
      "/home/qishuai/anaconda3/envs/glasgow/lib/python3.8/site-packages/pytorch_forecasting/data/timeseries.py:1649: UserWarning: Creating a tensor from a list of numpy.ndarrays is extremely slow. Please consider converting the list to a single numpy.ndarray with numpy.array() before converting to a tensor. (Triggered internally at  /opt/conda/conda-bld/pytorch_1646755903507/work/torch/csrc/utils/tensor_new.cpp:210.)\n",
      "  target_scale = torch.tensor([batch[0][\"target_scale\"] for batch in batches], dtype=torch.float)\n",
      "/home/qishuai/anaconda3/envs/glasgow/lib/python3.8/site-packages/pytorch_forecasting/data/timeseries.py:1649: UserWarning: Creating a tensor from a list of numpy.ndarrays is extremely slow. Please consider converting the list to a single numpy.ndarray with numpy.array() before converting to a tensor. (Triggered internally at  /opt/conda/conda-bld/pytorch_1646755903507/work/torch/csrc/utils/tensor_new.cpp:210.)\n",
      "  target_scale = torch.tensor([batch[0][\"target_scale\"] for batch in batches], dtype=torch.float)\n",
      "/home/qishuai/anaconda3/envs/glasgow/lib/python3.8/site-packages/pytorch_forecasting/data/timeseries.py:1649: UserWarning: Creating a tensor from a list of numpy.ndarrays is extremely slow. Please consider converting the list to a single numpy.ndarray with numpy.array() before converting to a tensor. (Triggered internally at  /opt/conda/conda-bld/pytorch_1646755903507/work/torch/csrc/utils/tensor_new.cpp:210.)\n",
      "  target_scale = torch.tensor([batch[0][\"target_scale\"] for batch in batches], dtype=torch.float)\n",
      "/home/qishuai/anaconda3/envs/glasgow/lib/python3.8/site-packages/pytorch_forecasting/data/timeseries.py:1649: UserWarning: Creating a tensor from a list of numpy.ndarrays is extremely slow. Please consider converting the list to a single numpy.ndarray with numpy.array() before converting to a tensor. (Triggered internally at  /opt/conda/conda-bld/pytorch_1646755903507/work/torch/csrc/utils/tensor_new.cpp:210.)\n",
      "  target_scale = torch.tensor([batch[0][\"target_scale\"] for batch in batches], dtype=torch.float)\n",
      "/home/qishuai/anaconda3/envs/glasgow/lib/python3.8/site-packages/pytorch_forecasting/data/timeseries.py:1649: UserWarning: Creating a tensor from a list of numpy.ndarrays is extremely slow. Please consider converting the list to a single numpy.ndarray with numpy.array() before converting to a tensor. (Triggered internally at  /opt/conda/conda-bld/pytorch_1646755903507/work/torch/csrc/utils/tensor_new.cpp:210.)\n",
      "  target_scale = torch.tensor([batch[0][\"target_scale\"] for batch in batches], dtype=torch.float)\n",
      "/home/qishuai/anaconda3/envs/glasgow/lib/python3.8/site-packages/pytorch_forecasting/data/timeseries.py:1649: UserWarning: Creating a tensor from a list of numpy.ndarrays is extremely slow. Please consider converting the list to a single numpy.ndarray with numpy.array() before converting to a tensor. (Triggered internally at  /opt/conda/conda-bld/pytorch_1646755903507/work/torch/csrc/utils/tensor_new.cpp:210.)\n",
      "  target_scale = torch.tensor([batch[0][\"target_scale\"] for batch in batches], dtype=torch.float)\n",
      "/home/qishuai/anaconda3/envs/glasgow/lib/python3.8/site-packages/pytorch_forecasting/data/timeseries.py:1649: UserWarning: Creating a tensor from a list of numpy.ndarrays is extremely slow. Please consider converting the list to a single numpy.ndarray with numpy.array() before converting to a tensor. (Triggered internally at  /opt/conda/conda-bld/pytorch_1646755903507/work/torch/csrc/utils/tensor_new.cpp:210.)\n",
      "  target_scale = torch.tensor([batch[0][\"target_scale\"] for batch in batches], dtype=torch.float)\n",
      "/home/qishuai/anaconda3/envs/glasgow/lib/python3.8/site-packages/pytorch_forecasting/data/timeseries.py:1649: UserWarning: Creating a tensor from a list of numpy.ndarrays is extremely slow. Please consider converting the list to a single numpy.ndarray with numpy.array() before converting to a tensor. (Triggered internally at  /opt/conda/conda-bld/pytorch_1646755903507/work/torch/csrc/utils/tensor_new.cpp:210.)\n",
      "  target_scale = torch.tensor([batch[0][\"target_scale\"] for batch in batches], dtype=torch.float)\n"
     ]
    },
    {
     "data": {
      "application/vnd.jupyter.widget-view+json": {
       "model_id": "",
       "version_major": 2,
       "version_minor": 0
      },
      "text/plain": [
       "Validating: 0it [00:00, ?it/s]"
      ]
     },
     "metadata": {},
     "output_type": "display_data"
    },
    {
     "name": "stderr",
     "output_type": "stream",
     "text": [
      "/home/qishuai/anaconda3/envs/glasgow/lib/python3.8/site-packages/pytorch_forecasting/data/encoders.py:373: UserWarning: scale is below 1e-7 - consider not centering the data or using data with higher variance for numerical stability\n",
      "  warnings.warn(\n",
      "/home/qishuai/anaconda3/envs/glasgow/lib/python3.8/site-packages/pytorch_forecasting/data/timeseries.py:1649: UserWarning: Creating a tensor from a list of numpy.ndarrays is extremely slow. Please consider converting the list to a single numpy.ndarray with numpy.array() before converting to a tensor. (Triggered internally at  /opt/conda/conda-bld/pytorch_1646755903507/work/torch/csrc/utils/tensor_new.cpp:210.)\n",
      "  target_scale = torch.tensor([batch[0][\"target_scale\"] for batch in batches], dtype=torch.float)\n",
      "/home/qishuai/anaconda3/envs/glasgow/lib/python3.8/site-packages/pytorch_forecasting/data/encoders.py:373: UserWarning: scale is below 1e-7 - consider not centering the data or using data with higher variance for numerical stability\n",
      "  warnings.warn(\n",
      "/home/qishuai/anaconda3/envs/glasgow/lib/python3.8/site-packages/pytorch_forecasting/data/encoders.py:373: UserWarning: scale is below 1e-7 - consider not centering the data or using data with higher variance for numerical stability\n",
      "  warnings.warn(\n",
      "/home/qishuai/anaconda3/envs/glasgow/lib/python3.8/site-packages/pytorch_forecasting/data/encoders.py:373: UserWarning: scale is below 1e-7 - consider not centering the data or using data with higher variance for numerical stability\n",
      "  warnings.warn(\n",
      "/home/qishuai/anaconda3/envs/glasgow/lib/python3.8/site-packages/pytorch_forecasting/data/encoders.py:373: UserWarning: scale is below 1e-7 - consider not centering the data or using data with higher variance for numerical stability\n",
      "  warnings.warn(\n",
      "/home/qishuai/anaconda3/envs/glasgow/lib/python3.8/site-packages/pytorch_forecasting/data/encoders.py:373: UserWarning: scale is below 1e-7 - consider not centering the data or using data with higher variance for numerical stability\n",
      "  warnings.warn(\n",
      "/home/qishuai/anaconda3/envs/glasgow/lib/python3.8/site-packages/pytorch_forecasting/data/encoders.py:373: UserWarning: scale is below 1e-7 - consider not centering the data or using data with higher variance for numerical stability\n",
      "  warnings.warn(\n",
      "/home/qishuai/anaconda3/envs/glasgow/lib/python3.8/site-packages/pytorch_forecasting/data/encoders.py:373: UserWarning: scale is below 1e-7 - consider not centering the data or using data with higher variance for numerical stability\n",
      "  warnings.warn(\n",
      "/home/qishuai/anaconda3/envs/glasgow/lib/python3.8/site-packages/pytorch_forecasting/data/encoders.py:373: UserWarning: scale is below 1e-7 - consider not centering the data or using data with higher variance for numerical stability\n",
      "  warnings.warn(\n",
      "/home/qishuai/anaconda3/envs/glasgow/lib/python3.8/site-packages/pytorch_forecasting/data/timeseries.py:1649: UserWarning: Creating a tensor from a list of numpy.ndarrays is extremely slow. Please consider converting the list to a single numpy.ndarray with numpy.array() before converting to a tensor. (Triggered internally at  /opt/conda/conda-bld/pytorch_1646755903507/work/torch/csrc/utils/tensor_new.cpp:210.)\n",
      "  target_scale = torch.tensor([batch[0][\"target_scale\"] for batch in batches], dtype=torch.float)\n",
      "/home/qishuai/anaconda3/envs/glasgow/lib/python3.8/site-packages/pytorch_forecasting/data/timeseries.py:1649: UserWarning: Creating a tensor from a list of numpy.ndarrays is extremely slow. Please consider converting the list to a single numpy.ndarray with numpy.array() before converting to a tensor. (Triggered internally at  /opt/conda/conda-bld/pytorch_1646755903507/work/torch/csrc/utils/tensor_new.cpp:210.)\n",
      "  target_scale = torch.tensor([batch[0][\"target_scale\"] for batch in batches], dtype=torch.float)\n",
      "/home/qishuai/anaconda3/envs/glasgow/lib/python3.8/site-packages/pytorch_forecasting/data/timeseries.py:1649: UserWarning: Creating a tensor from a list of numpy.ndarrays is extremely slow. Please consider converting the list to a single numpy.ndarray with numpy.array() before converting to a tensor. (Triggered internally at  /opt/conda/conda-bld/pytorch_1646755903507/work/torch/csrc/utils/tensor_new.cpp:210.)\n",
      "  target_scale = torch.tensor([batch[0][\"target_scale\"] for batch in batches], dtype=torch.float)\n",
      "/home/qishuai/anaconda3/envs/glasgow/lib/python3.8/site-packages/pytorch_forecasting/data/timeseries.py:1649: UserWarning: Creating a tensor from a list of numpy.ndarrays is extremely slow. Please consider converting the list to a single numpy.ndarray with numpy.array() before converting to a tensor. (Triggered internally at  /opt/conda/conda-bld/pytorch_1646755903507/work/torch/csrc/utils/tensor_new.cpp:210.)\n",
      "  target_scale = torch.tensor([batch[0][\"target_scale\"] for batch in batches], dtype=torch.float)\n",
      "/home/qishuai/anaconda3/envs/glasgow/lib/python3.8/site-packages/pytorch_forecasting/data/timeseries.py:1649: UserWarning: Creating a tensor from a list of numpy.ndarrays is extremely slow. Please consider converting the list to a single numpy.ndarray with numpy.array() before converting to a tensor. (Triggered internally at  /opt/conda/conda-bld/pytorch_1646755903507/work/torch/csrc/utils/tensor_new.cpp:210.)\n",
      "  target_scale = torch.tensor([batch[0][\"target_scale\"] for batch in batches], dtype=torch.float)\n",
      "/home/qishuai/anaconda3/envs/glasgow/lib/python3.8/site-packages/pytorch_forecasting/data/timeseries.py:1649: UserWarning: Creating a tensor from a list of numpy.ndarrays is extremely slow. Please consider converting the list to a single numpy.ndarray with numpy.array() before converting to a tensor. (Triggered internally at  /opt/conda/conda-bld/pytorch_1646755903507/work/torch/csrc/utils/tensor_new.cpp:210.)\n",
      "  target_scale = torch.tensor([batch[0][\"target_scale\"] for batch in batches], dtype=torch.float)\n",
      "/home/qishuai/anaconda3/envs/glasgow/lib/python3.8/site-packages/pytorch_forecasting/data/timeseries.py:1649: UserWarning: Creating a tensor from a list of numpy.ndarrays is extremely slow. Please consider converting the list to a single numpy.ndarray with numpy.array() before converting to a tensor. (Triggered internally at  /opt/conda/conda-bld/pytorch_1646755903507/work/torch/csrc/utils/tensor_new.cpp:210.)\n",
      "  target_scale = torch.tensor([batch[0][\"target_scale\"] for batch in batches], dtype=torch.float)\n",
      "/home/qishuai/anaconda3/envs/glasgow/lib/python3.8/site-packages/pytorch_forecasting/data/timeseries.py:1649: UserWarning: Creating a tensor from a list of numpy.ndarrays is extremely slow. Please consider converting the list to a single numpy.ndarray with numpy.array() before converting to a tensor. (Triggered internally at  /opt/conda/conda-bld/pytorch_1646755903507/work/torch/csrc/utils/tensor_new.cpp:210.)\n",
      "  target_scale = torch.tensor([batch[0][\"target_scale\"] for batch in batches], dtype=torch.float)\n"
     ]
    },
    {
     "data": {
      "application/vnd.jupyter.widget-view+json": {
       "model_id": "",
       "version_major": 2,
       "version_minor": 0
      },
      "text/plain": [
       "Validating: 0it [00:00, ?it/s]"
      ]
     },
     "metadata": {},
     "output_type": "display_data"
    },
    {
     "name": "stderr",
     "output_type": "stream",
     "text": [
      "/home/qishuai/anaconda3/envs/glasgow/lib/python3.8/site-packages/pytorch_forecasting/data/encoders.py:373: UserWarning: scale is below 1e-7 - consider not centering the data or using data with higher variance for numerical stability\n",
      "  warnings.warn(\n",
      "/home/qishuai/anaconda3/envs/glasgow/lib/python3.8/site-packages/pytorch_forecasting/data/timeseries.py:1649: UserWarning: Creating a tensor from a list of numpy.ndarrays is extremely slow. Please consider converting the list to a single numpy.ndarray with numpy.array() before converting to a tensor. (Triggered internally at  /opt/conda/conda-bld/pytorch_1646755903507/work/torch/csrc/utils/tensor_new.cpp:210.)\n",
      "  target_scale = torch.tensor([batch[0][\"target_scale\"] for batch in batches], dtype=torch.float)\n",
      "/home/qishuai/anaconda3/envs/glasgow/lib/python3.8/site-packages/pytorch_forecasting/data/encoders.py:373: UserWarning: scale is below 1e-7 - consider not centering the data or using data with higher variance for numerical stability\n",
      "  warnings.warn(\n",
      "/home/qishuai/anaconda3/envs/glasgow/lib/python3.8/site-packages/pytorch_forecasting/data/encoders.py:373: UserWarning: scale is below 1e-7 - consider not centering the data or using data with higher variance for numerical stability\n",
      "  warnings.warn(\n",
      "/home/qishuai/anaconda3/envs/glasgow/lib/python3.8/site-packages/pytorch_forecasting/data/encoders.py:373: UserWarning: scale is below 1e-7 - consider not centering the data or using data with higher variance for numerical stability\n",
      "  warnings.warn(\n",
      "/home/qishuai/anaconda3/envs/glasgow/lib/python3.8/site-packages/pytorch_forecasting/data/encoders.py:373: UserWarning: scale is below 1e-7 - consider not centering the data or using data with higher variance for numerical stability\n",
      "  warnings.warn(\n",
      "/home/qishuai/anaconda3/envs/glasgow/lib/python3.8/site-packages/pytorch_forecasting/data/encoders.py:373: UserWarning: scale is below 1e-7 - consider not centering the data or using data with higher variance for numerical stability\n",
      "  warnings.warn(\n",
      "/home/qishuai/anaconda3/envs/glasgow/lib/python3.8/site-packages/pytorch_forecasting/data/encoders.py:373: UserWarning: scale is below 1e-7 - consider not centering the data or using data with higher variance for numerical stability\n",
      "  warnings.warn(\n",
      "/home/qishuai/anaconda3/envs/glasgow/lib/python3.8/site-packages/pytorch_forecasting/data/encoders.py:373: UserWarning: scale is below 1e-7 - consider not centering the data or using data with higher variance for numerical stability\n",
      "  warnings.warn(\n",
      "/home/qishuai/anaconda3/envs/glasgow/lib/python3.8/site-packages/pytorch_forecasting/data/encoders.py:373: UserWarning: scale is below 1e-7 - consider not centering the data or using data with higher variance for numerical stability\n",
      "  warnings.warn(\n",
      "/home/qishuai/anaconda3/envs/glasgow/lib/python3.8/site-packages/pytorch_forecasting/data/timeseries.py:1649: UserWarning: Creating a tensor from a list of numpy.ndarrays is extremely slow. Please consider converting the list to a single numpy.ndarray with numpy.array() before converting to a tensor. (Triggered internally at  /opt/conda/conda-bld/pytorch_1646755903507/work/torch/csrc/utils/tensor_new.cpp:210.)\n",
      "  target_scale = torch.tensor([batch[0][\"target_scale\"] for batch in batches], dtype=torch.float)\n",
      "/home/qishuai/anaconda3/envs/glasgow/lib/python3.8/site-packages/pytorch_forecasting/data/timeseries.py:1649: UserWarning: Creating a tensor from a list of numpy.ndarrays is extremely slow. Please consider converting the list to a single numpy.ndarray with numpy.array() before converting to a tensor. (Triggered internally at  /opt/conda/conda-bld/pytorch_1646755903507/work/torch/csrc/utils/tensor_new.cpp:210.)\n",
      "  target_scale = torch.tensor([batch[0][\"target_scale\"] for batch in batches], dtype=torch.float)\n",
      "/home/qishuai/anaconda3/envs/glasgow/lib/python3.8/site-packages/pytorch_forecasting/data/timeseries.py:1649: UserWarning: Creating a tensor from a list of numpy.ndarrays is extremely slow. Please consider converting the list to a single numpy.ndarray with numpy.array() before converting to a tensor. (Triggered internally at  /opt/conda/conda-bld/pytorch_1646755903507/work/torch/csrc/utils/tensor_new.cpp:210.)\n",
      "  target_scale = torch.tensor([batch[0][\"target_scale\"] for batch in batches], dtype=torch.float)\n",
      "/home/qishuai/anaconda3/envs/glasgow/lib/python3.8/site-packages/pytorch_forecasting/data/timeseries.py:1649: UserWarning: Creating a tensor from a list of numpy.ndarrays is extremely slow. Please consider converting the list to a single numpy.ndarray with numpy.array() before converting to a tensor. (Triggered internally at  /opt/conda/conda-bld/pytorch_1646755903507/work/torch/csrc/utils/tensor_new.cpp:210.)\n",
      "  target_scale = torch.tensor([batch[0][\"target_scale\"] for batch in batches], dtype=torch.float)\n",
      "/home/qishuai/anaconda3/envs/glasgow/lib/python3.8/site-packages/pytorch_forecasting/data/timeseries.py:1649: UserWarning: Creating a tensor from a list of numpy.ndarrays is extremely slow. Please consider converting the list to a single numpy.ndarray with numpy.array() before converting to a tensor. (Triggered internally at  /opt/conda/conda-bld/pytorch_1646755903507/work/torch/csrc/utils/tensor_new.cpp:210.)\n",
      "  target_scale = torch.tensor([batch[0][\"target_scale\"] for batch in batches], dtype=torch.float)\n",
      "/home/qishuai/anaconda3/envs/glasgow/lib/python3.8/site-packages/pytorch_forecasting/data/timeseries.py:1649: UserWarning: Creating a tensor from a list of numpy.ndarrays is extremely slow. Please consider converting the list to a single numpy.ndarray with numpy.array() before converting to a tensor. (Triggered internally at  /opt/conda/conda-bld/pytorch_1646755903507/work/torch/csrc/utils/tensor_new.cpp:210.)\n",
      "  target_scale = torch.tensor([batch[0][\"target_scale\"] for batch in batches], dtype=torch.float)\n",
      "/home/qishuai/anaconda3/envs/glasgow/lib/python3.8/site-packages/pytorch_forecasting/data/timeseries.py:1649: UserWarning: Creating a tensor from a list of numpy.ndarrays is extremely slow. Please consider converting the list to a single numpy.ndarray with numpy.array() before converting to a tensor. (Triggered internally at  /opt/conda/conda-bld/pytorch_1646755903507/work/torch/csrc/utils/tensor_new.cpp:210.)\n",
      "  target_scale = torch.tensor([batch[0][\"target_scale\"] for batch in batches], dtype=torch.float)\n",
      "/home/qishuai/anaconda3/envs/glasgow/lib/python3.8/site-packages/pytorch_forecasting/data/timeseries.py:1649: UserWarning: Creating a tensor from a list of numpy.ndarrays is extremely slow. Please consider converting the list to a single numpy.ndarray with numpy.array() before converting to a tensor. (Triggered internally at  /opt/conda/conda-bld/pytorch_1646755903507/work/torch/csrc/utils/tensor_new.cpp:210.)\n",
      "  target_scale = torch.tensor([batch[0][\"target_scale\"] for batch in batches], dtype=torch.float)\n"
     ]
    },
    {
     "data": {
      "application/vnd.jupyter.widget-view+json": {
       "model_id": "",
       "version_major": 2,
       "version_minor": 0
      },
      "text/plain": [
       "Validating: 0it [00:00, ?it/s]"
      ]
     },
     "metadata": {},
     "output_type": "display_data"
    },
    {
     "name": "stderr",
     "output_type": "stream",
     "text": [
      "/home/qishuai/anaconda3/envs/glasgow/lib/python3.8/site-packages/pytorch_forecasting/data/encoders.py:373: UserWarning: scale is below 1e-7 - consider not centering the data or using data with higher variance for numerical stability\n",
      "  warnings.warn(\n",
      "/home/qishuai/anaconda3/envs/glasgow/lib/python3.8/site-packages/pytorch_forecasting/data/timeseries.py:1649: UserWarning: Creating a tensor from a list of numpy.ndarrays is extremely slow. Please consider converting the list to a single numpy.ndarray with numpy.array() before converting to a tensor. (Triggered internally at  /opt/conda/conda-bld/pytorch_1646755903507/work/torch/csrc/utils/tensor_new.cpp:210.)\n",
      "  target_scale = torch.tensor([batch[0][\"target_scale\"] for batch in batches], dtype=torch.float)\n",
      "/home/qishuai/anaconda3/envs/glasgow/lib/python3.8/site-packages/pytorch_forecasting/data/encoders.py:373: UserWarning: scale is below 1e-7 - consider not centering the data or using data with higher variance for numerical stability\n",
      "  warnings.warn(\n",
      "/home/qishuai/anaconda3/envs/glasgow/lib/python3.8/site-packages/pytorch_forecasting/data/encoders.py:373: UserWarning: scale is below 1e-7 - consider not centering the data or using data with higher variance for numerical stability\n",
      "  warnings.warn(\n",
      "/home/qishuai/anaconda3/envs/glasgow/lib/python3.8/site-packages/pytorch_forecasting/data/encoders.py:373: UserWarning: scale is below 1e-7 - consider not centering the data or using data with higher variance for numerical stability\n",
      "  warnings.warn(\n",
      "/home/qishuai/anaconda3/envs/glasgow/lib/python3.8/site-packages/pytorch_forecasting/data/encoders.py:373: UserWarning: scale is below 1e-7 - consider not centering the data or using data with higher variance for numerical stability\n",
      "  warnings.warn(\n",
      "/home/qishuai/anaconda3/envs/glasgow/lib/python3.8/site-packages/pytorch_forecasting/data/encoders.py:373: UserWarning: scale is below 1e-7 - consider not centering the data or using data with higher variance for numerical stability\n",
      "  warnings.warn(\n",
      "/home/qishuai/anaconda3/envs/glasgow/lib/python3.8/site-packages/pytorch_forecasting/data/encoders.py:373: UserWarning: scale is below 1e-7 - consider not centering the data or using data with higher variance for numerical stability\n",
      "  warnings.warn(\n",
      "/home/qishuai/anaconda3/envs/glasgow/lib/python3.8/site-packages/pytorch_forecasting/data/encoders.py:373: UserWarning: scale is below 1e-7 - consider not centering the data or using data with higher variance for numerical stability\n",
      "  warnings.warn(\n",
      "/home/qishuai/anaconda3/envs/glasgow/lib/python3.8/site-packages/pytorch_forecasting/data/encoders.py:373: UserWarning: scale is below 1e-7 - consider not centering the data or using data with higher variance for numerical stability\n",
      "  warnings.warn(\n",
      "/home/qishuai/anaconda3/envs/glasgow/lib/python3.8/site-packages/pytorch_forecasting/data/timeseries.py:1649: UserWarning: Creating a tensor from a list of numpy.ndarrays is extremely slow. Please consider converting the list to a single numpy.ndarray with numpy.array() before converting to a tensor. (Triggered internally at  /opt/conda/conda-bld/pytorch_1646755903507/work/torch/csrc/utils/tensor_new.cpp:210.)\n",
      "  target_scale = torch.tensor([batch[0][\"target_scale\"] for batch in batches], dtype=torch.float)\n",
      "/home/qishuai/anaconda3/envs/glasgow/lib/python3.8/site-packages/pytorch_forecasting/data/timeseries.py:1649: UserWarning: Creating a tensor from a list of numpy.ndarrays is extremely slow. Please consider converting the list to a single numpy.ndarray with numpy.array() before converting to a tensor. (Triggered internally at  /opt/conda/conda-bld/pytorch_1646755903507/work/torch/csrc/utils/tensor_new.cpp:210.)\n",
      "  target_scale = torch.tensor([batch[0][\"target_scale\"] for batch in batches], dtype=torch.float)\n",
      "/home/qishuai/anaconda3/envs/glasgow/lib/python3.8/site-packages/pytorch_forecasting/data/timeseries.py:1649: UserWarning: Creating a tensor from a list of numpy.ndarrays is extremely slow. Please consider converting the list to a single numpy.ndarray with numpy.array() before converting to a tensor. (Triggered internally at  /opt/conda/conda-bld/pytorch_1646755903507/work/torch/csrc/utils/tensor_new.cpp:210.)\n",
      "  target_scale = torch.tensor([batch[0][\"target_scale\"] for batch in batches], dtype=torch.float)\n",
      "/home/qishuai/anaconda3/envs/glasgow/lib/python3.8/site-packages/pytorch_forecasting/data/timeseries.py:1649: UserWarning: Creating a tensor from a list of numpy.ndarrays is extremely slow. Please consider converting the list to a single numpy.ndarray with numpy.array() before converting to a tensor. (Triggered internally at  /opt/conda/conda-bld/pytorch_1646755903507/work/torch/csrc/utils/tensor_new.cpp:210.)\n",
      "  target_scale = torch.tensor([batch[0][\"target_scale\"] for batch in batches], dtype=torch.float)\n",
      "/home/qishuai/anaconda3/envs/glasgow/lib/python3.8/site-packages/pytorch_forecasting/data/timeseries.py:1649: UserWarning: Creating a tensor from a list of numpy.ndarrays is extremely slow. Please consider converting the list to a single numpy.ndarray with numpy.array() before converting to a tensor. (Triggered internally at  /opt/conda/conda-bld/pytorch_1646755903507/work/torch/csrc/utils/tensor_new.cpp:210.)\n",
      "  target_scale = torch.tensor([batch[0][\"target_scale\"] for batch in batches], dtype=torch.float)\n",
      "/home/qishuai/anaconda3/envs/glasgow/lib/python3.8/site-packages/pytorch_forecasting/data/timeseries.py:1649: UserWarning: Creating a tensor from a list of numpy.ndarrays is extremely slow. Please consider converting the list to a single numpy.ndarray with numpy.array() before converting to a tensor. (Triggered internally at  /opt/conda/conda-bld/pytorch_1646755903507/work/torch/csrc/utils/tensor_new.cpp:210.)\n",
      "  target_scale = torch.tensor([batch[0][\"target_scale\"] for batch in batches], dtype=torch.float)\n",
      "/home/qishuai/anaconda3/envs/glasgow/lib/python3.8/site-packages/pytorch_forecasting/data/timeseries.py:1649: UserWarning: Creating a tensor from a list of numpy.ndarrays is extremely slow. Please consider converting the list to a single numpy.ndarray with numpy.array() before converting to a tensor. (Triggered internally at  /opt/conda/conda-bld/pytorch_1646755903507/work/torch/csrc/utils/tensor_new.cpp:210.)\n",
      "  target_scale = torch.tensor([batch[0][\"target_scale\"] for batch in batches], dtype=torch.float)\n",
      "/home/qishuai/anaconda3/envs/glasgow/lib/python3.8/site-packages/pytorch_forecasting/data/timeseries.py:1649: UserWarning: Creating a tensor from a list of numpy.ndarrays is extremely slow. Please consider converting the list to a single numpy.ndarray with numpy.array() before converting to a tensor. (Triggered internally at  /opt/conda/conda-bld/pytorch_1646755903507/work/torch/csrc/utils/tensor_new.cpp:210.)\n",
      "  target_scale = torch.tensor([batch[0][\"target_scale\"] for batch in batches], dtype=torch.float)\n"
     ]
    },
    {
     "data": {
      "application/vnd.jupyter.widget-view+json": {
       "model_id": "",
       "version_major": 2,
       "version_minor": 0
      },
      "text/plain": [
       "Validating: 0it [00:00, ?it/s]"
      ]
     },
     "metadata": {},
     "output_type": "display_data"
    },
    {
     "name": "stderr",
     "output_type": "stream",
     "text": [
      "/home/qishuai/anaconda3/envs/glasgow/lib/python3.8/site-packages/pytorch_forecasting/data/encoders.py:373: UserWarning: scale is below 1e-7 - consider not centering the data or using data with higher variance for numerical stability\n",
      "  warnings.warn(\n",
      "/home/qishuai/anaconda3/envs/glasgow/lib/python3.8/site-packages/pytorch_forecasting/data/timeseries.py:1649: UserWarning: Creating a tensor from a list of numpy.ndarrays is extremely slow. Please consider converting the list to a single numpy.ndarray with numpy.array() before converting to a tensor. (Triggered internally at  /opt/conda/conda-bld/pytorch_1646755903507/work/torch/csrc/utils/tensor_new.cpp:210.)\n",
      "  target_scale = torch.tensor([batch[0][\"target_scale\"] for batch in batches], dtype=torch.float)\n",
      "/home/qishuai/anaconda3/envs/glasgow/lib/python3.8/site-packages/pytorch_forecasting/data/encoders.py:373: UserWarning: scale is below 1e-7 - consider not centering the data or using data with higher variance for numerical stability\n",
      "  warnings.warn(\n",
      "/home/qishuai/anaconda3/envs/glasgow/lib/python3.8/site-packages/pytorch_forecasting/data/encoders.py:373: UserWarning: scale is below 1e-7 - consider not centering the data or using data with higher variance for numerical stability\n",
      "  warnings.warn(\n",
      "/home/qishuai/anaconda3/envs/glasgow/lib/python3.8/site-packages/pytorch_forecasting/data/encoders.py:373: UserWarning: scale is below 1e-7 - consider not centering the data or using data with higher variance for numerical stability\n",
      "  warnings.warn(\n",
      "/home/qishuai/anaconda3/envs/glasgow/lib/python3.8/site-packages/pytorch_forecasting/data/encoders.py:373: UserWarning: scale is below 1e-7 - consider not centering the data or using data with higher variance for numerical stability\n",
      "  warnings.warn(\n",
      "/home/qishuai/anaconda3/envs/glasgow/lib/python3.8/site-packages/pytorch_forecasting/data/encoders.py:373: UserWarning: scale is below 1e-7 - consider not centering the data or using data with higher variance for numerical stability\n",
      "  warnings.warn(\n",
      "/home/qishuai/anaconda3/envs/glasgow/lib/python3.8/site-packages/pytorch_forecasting/data/encoders.py:373: UserWarning: scale is below 1e-7 - consider not centering the data or using data with higher variance for numerical stability\n",
      "  warnings.warn(\n",
      "/home/qishuai/anaconda3/envs/glasgow/lib/python3.8/site-packages/pytorch_forecasting/data/encoders.py:373: UserWarning: scale is below 1e-7 - consider not centering the data or using data with higher variance for numerical stability\n",
      "  warnings.warn(\n",
      "/home/qishuai/anaconda3/envs/glasgow/lib/python3.8/site-packages/pytorch_forecasting/data/encoders.py:373: UserWarning: scale is below 1e-7 - consider not centering the data or using data with higher variance for numerical stability\n",
      "  warnings.warn(\n",
      "/home/qishuai/anaconda3/envs/glasgow/lib/python3.8/site-packages/pytorch_forecasting/data/timeseries.py:1649: UserWarning: Creating a tensor from a list of numpy.ndarrays is extremely slow. Please consider converting the list to a single numpy.ndarray with numpy.array() before converting to a tensor. (Triggered internally at  /opt/conda/conda-bld/pytorch_1646755903507/work/torch/csrc/utils/tensor_new.cpp:210.)\n",
      "  target_scale = torch.tensor([batch[0][\"target_scale\"] for batch in batches], dtype=torch.float)\n",
      "/home/qishuai/anaconda3/envs/glasgow/lib/python3.8/site-packages/pytorch_forecasting/data/timeseries.py:1649: UserWarning: Creating a tensor from a list of numpy.ndarrays is extremely slow. Please consider converting the list to a single numpy.ndarray with numpy.array() before converting to a tensor. (Triggered internally at  /opt/conda/conda-bld/pytorch_1646755903507/work/torch/csrc/utils/tensor_new.cpp:210.)\n",
      "  target_scale = torch.tensor([batch[0][\"target_scale\"] for batch in batches], dtype=torch.float)\n",
      "/home/qishuai/anaconda3/envs/glasgow/lib/python3.8/site-packages/pytorch_forecasting/data/timeseries.py:1649: UserWarning: Creating a tensor from a list of numpy.ndarrays is extremely slow. Please consider converting the list to a single numpy.ndarray with numpy.array() before converting to a tensor. (Triggered internally at  /opt/conda/conda-bld/pytorch_1646755903507/work/torch/csrc/utils/tensor_new.cpp:210.)\n",
      "  target_scale = torch.tensor([batch[0][\"target_scale\"] for batch in batches], dtype=torch.float)\n",
      "/home/qishuai/anaconda3/envs/glasgow/lib/python3.8/site-packages/pytorch_forecasting/data/timeseries.py:1649: UserWarning: Creating a tensor from a list of numpy.ndarrays is extremely slow. Please consider converting the list to a single numpy.ndarray with numpy.array() before converting to a tensor. (Triggered internally at  /opt/conda/conda-bld/pytorch_1646755903507/work/torch/csrc/utils/tensor_new.cpp:210.)\n",
      "  target_scale = torch.tensor([batch[0][\"target_scale\"] for batch in batches], dtype=torch.float)\n",
      "/home/qishuai/anaconda3/envs/glasgow/lib/python3.8/site-packages/pytorch_forecasting/data/timeseries.py:1649: UserWarning: Creating a tensor from a list of numpy.ndarrays is extremely slow. Please consider converting the list to a single numpy.ndarray with numpy.array() before converting to a tensor. (Triggered internally at  /opt/conda/conda-bld/pytorch_1646755903507/work/torch/csrc/utils/tensor_new.cpp:210.)\n",
      "  target_scale = torch.tensor([batch[0][\"target_scale\"] for batch in batches], dtype=torch.float)\n",
      "/home/qishuai/anaconda3/envs/glasgow/lib/python3.8/site-packages/pytorch_forecasting/data/timeseries.py:1649: UserWarning: Creating a tensor from a list of numpy.ndarrays is extremely slow. Please consider converting the list to a single numpy.ndarray with numpy.array() before converting to a tensor. (Triggered internally at  /opt/conda/conda-bld/pytorch_1646755903507/work/torch/csrc/utils/tensor_new.cpp:210.)\n",
      "  target_scale = torch.tensor([batch[0][\"target_scale\"] for batch in batches], dtype=torch.float)\n",
      "/home/qishuai/anaconda3/envs/glasgow/lib/python3.8/site-packages/pytorch_forecasting/data/timeseries.py:1649: UserWarning: Creating a tensor from a list of numpy.ndarrays is extremely slow. Please consider converting the list to a single numpy.ndarray with numpy.array() before converting to a tensor. (Triggered internally at  /opt/conda/conda-bld/pytorch_1646755903507/work/torch/csrc/utils/tensor_new.cpp:210.)\n",
      "  target_scale = torch.tensor([batch[0][\"target_scale\"] for batch in batches], dtype=torch.float)\n",
      "/home/qishuai/anaconda3/envs/glasgow/lib/python3.8/site-packages/pytorch_forecasting/data/timeseries.py:1649: UserWarning: Creating a tensor from a list of numpy.ndarrays is extremely slow. Please consider converting the list to a single numpy.ndarray with numpy.array() before converting to a tensor. (Triggered internally at  /opt/conda/conda-bld/pytorch_1646755903507/work/torch/csrc/utils/tensor_new.cpp:210.)\n",
      "  target_scale = torch.tensor([batch[0][\"target_scale\"] for batch in batches], dtype=torch.float)\n"
     ]
    },
    {
     "data": {
      "application/vnd.jupyter.widget-view+json": {
       "model_id": "",
       "version_major": 2,
       "version_minor": 0
      },
      "text/plain": [
       "Validating: 0it [00:00, ?it/s]"
      ]
     },
     "metadata": {},
     "output_type": "display_data"
    },
    {
     "name": "stderr",
     "output_type": "stream",
     "text": [
      "/home/qishuai/anaconda3/envs/glasgow/lib/python3.8/site-packages/pytorch_forecasting/data/encoders.py:373: UserWarning: scale is below 1e-7 - consider not centering the data or using data with higher variance for numerical stability\n",
      "  warnings.warn(\n",
      "/home/qishuai/anaconda3/envs/glasgow/lib/python3.8/site-packages/pytorch_forecasting/data/timeseries.py:1649: UserWarning: Creating a tensor from a list of numpy.ndarrays is extremely slow. Please consider converting the list to a single numpy.ndarray with numpy.array() before converting to a tensor. (Triggered internally at  /opt/conda/conda-bld/pytorch_1646755903507/work/torch/csrc/utils/tensor_new.cpp:210.)\n",
      "  target_scale = torch.tensor([batch[0][\"target_scale\"] for batch in batches], dtype=torch.float)\n",
      "/home/qishuai/anaconda3/envs/glasgow/lib/python3.8/site-packages/pytorch_forecasting/data/encoders.py:373: UserWarning: scale is below 1e-7 - consider not centering the data or using data with higher variance for numerical stability\n",
      "  warnings.warn(\n",
      "/home/qishuai/anaconda3/envs/glasgow/lib/python3.8/site-packages/pytorch_forecasting/data/encoders.py:373: UserWarning: scale is below 1e-7 - consider not centering the data or using data with higher variance for numerical stability\n",
      "  warnings.warn(\n",
      "/home/qishuai/anaconda3/envs/glasgow/lib/python3.8/site-packages/pytorch_forecasting/data/encoders.py:373: UserWarning: scale is below 1e-7 - consider not centering the data or using data with higher variance for numerical stability\n",
      "  warnings.warn(\n",
      "/home/qishuai/anaconda3/envs/glasgow/lib/python3.8/site-packages/pytorch_forecasting/data/encoders.py:373: UserWarning: scale is below 1e-7 - consider not centering the data or using data with higher variance for numerical stability\n",
      "  warnings.warn(\n",
      "/home/qishuai/anaconda3/envs/glasgow/lib/python3.8/site-packages/pytorch_forecasting/data/encoders.py:373: UserWarning: scale is below 1e-7 - consider not centering the data or using data with higher variance for numerical stability\n",
      "  warnings.warn(\n",
      "/home/qishuai/anaconda3/envs/glasgow/lib/python3.8/site-packages/pytorch_forecasting/data/encoders.py:373: UserWarning: scale is below 1e-7 - consider not centering the data or using data with higher variance for numerical stability\n",
      "  warnings.warn(\n",
      "/home/qishuai/anaconda3/envs/glasgow/lib/python3.8/site-packages/pytorch_forecasting/data/encoders.py:373: UserWarning: scale is below 1e-7 - consider not centering the data or using data with higher variance for numerical stability\n",
      "  warnings.warn(\n",
      "/home/qishuai/anaconda3/envs/glasgow/lib/python3.8/site-packages/pytorch_forecasting/data/encoders.py:373: UserWarning: scale is below 1e-7 - consider not centering the data or using data with higher variance for numerical stability\n",
      "  warnings.warn(\n",
      "/home/qishuai/anaconda3/envs/glasgow/lib/python3.8/site-packages/pytorch_forecasting/data/timeseries.py:1649: UserWarning: Creating a tensor from a list of numpy.ndarrays is extremely slow. Please consider converting the list to a single numpy.ndarray with numpy.array() before converting to a tensor. (Triggered internally at  /opt/conda/conda-bld/pytorch_1646755903507/work/torch/csrc/utils/tensor_new.cpp:210.)\n",
      "  target_scale = torch.tensor([batch[0][\"target_scale\"] for batch in batches], dtype=torch.float)\n",
      "/home/qishuai/anaconda3/envs/glasgow/lib/python3.8/site-packages/pytorch_forecasting/data/timeseries.py:1649: UserWarning: Creating a tensor from a list of numpy.ndarrays is extremely slow. Please consider converting the list to a single numpy.ndarray with numpy.array() before converting to a tensor. (Triggered internally at  /opt/conda/conda-bld/pytorch_1646755903507/work/torch/csrc/utils/tensor_new.cpp:210.)\n",
      "  target_scale = torch.tensor([batch[0][\"target_scale\"] for batch in batches], dtype=torch.float)\n",
      "/home/qishuai/anaconda3/envs/glasgow/lib/python3.8/site-packages/pytorch_forecasting/data/timeseries.py:1649: UserWarning: Creating a tensor from a list of numpy.ndarrays is extremely slow. Please consider converting the list to a single numpy.ndarray with numpy.array() before converting to a tensor. (Triggered internally at  /opt/conda/conda-bld/pytorch_1646755903507/work/torch/csrc/utils/tensor_new.cpp:210.)\n",
      "  target_scale = torch.tensor([batch[0][\"target_scale\"] for batch in batches], dtype=torch.float)\n",
      "/home/qishuai/anaconda3/envs/glasgow/lib/python3.8/site-packages/pytorch_forecasting/data/timeseries.py:1649: UserWarning: Creating a tensor from a list of numpy.ndarrays is extremely slow. Please consider converting the list to a single numpy.ndarray with numpy.array() before converting to a tensor. (Triggered internally at  /opt/conda/conda-bld/pytorch_1646755903507/work/torch/csrc/utils/tensor_new.cpp:210.)\n",
      "  target_scale = torch.tensor([batch[0][\"target_scale\"] for batch in batches], dtype=torch.float)\n",
      "/home/qishuai/anaconda3/envs/glasgow/lib/python3.8/site-packages/pytorch_forecasting/data/timeseries.py:1649: UserWarning: Creating a tensor from a list of numpy.ndarrays is extremely slow. Please consider converting the list to a single numpy.ndarray with numpy.array() before converting to a tensor. (Triggered internally at  /opt/conda/conda-bld/pytorch_1646755903507/work/torch/csrc/utils/tensor_new.cpp:210.)\n",
      "  target_scale = torch.tensor([batch[0][\"target_scale\"] for batch in batches], dtype=torch.float)\n",
      "/home/qishuai/anaconda3/envs/glasgow/lib/python3.8/site-packages/pytorch_forecasting/data/timeseries.py:1649: UserWarning: Creating a tensor from a list of numpy.ndarrays is extremely slow. Please consider converting the list to a single numpy.ndarray with numpy.array() before converting to a tensor. (Triggered internally at  /opt/conda/conda-bld/pytorch_1646755903507/work/torch/csrc/utils/tensor_new.cpp:210.)\n",
      "  target_scale = torch.tensor([batch[0][\"target_scale\"] for batch in batches], dtype=torch.float)\n",
      "/home/qishuai/anaconda3/envs/glasgow/lib/python3.8/site-packages/pytorch_forecasting/data/timeseries.py:1649: UserWarning: Creating a tensor from a list of numpy.ndarrays is extremely slow. Please consider converting the list to a single numpy.ndarray with numpy.array() before converting to a tensor. (Triggered internally at  /opt/conda/conda-bld/pytorch_1646755903507/work/torch/csrc/utils/tensor_new.cpp:210.)\n",
      "  target_scale = torch.tensor([batch[0][\"target_scale\"] for batch in batches], dtype=torch.float)\n",
      "/home/qishuai/anaconda3/envs/glasgow/lib/python3.8/site-packages/pytorch_forecasting/data/timeseries.py:1649: UserWarning: Creating a tensor from a list of numpy.ndarrays is extremely slow. Please consider converting the list to a single numpy.ndarray with numpy.array() before converting to a tensor. (Triggered internally at  /opt/conda/conda-bld/pytorch_1646755903507/work/torch/csrc/utils/tensor_new.cpp:210.)\n",
      "  target_scale = torch.tensor([batch[0][\"target_scale\"] for batch in batches], dtype=torch.float)\n"
     ]
    },
    {
     "data": {
      "application/vnd.jupyter.widget-view+json": {
       "model_id": "",
       "version_major": 2,
       "version_minor": 0
      },
      "text/plain": [
       "Validating: 0it [00:00, ?it/s]"
      ]
     },
     "metadata": {},
     "output_type": "display_data"
    },
    {
     "name": "stderr",
     "output_type": "stream",
     "text": [
      "/home/qishuai/anaconda3/envs/glasgow/lib/python3.8/site-packages/pytorch_forecasting/data/encoders.py:373: UserWarning: scale is below 1e-7 - consider not centering the data or using data with higher variance for numerical stability\n",
      "  warnings.warn(\n",
      "/home/qishuai/anaconda3/envs/glasgow/lib/python3.8/site-packages/pytorch_forecasting/data/timeseries.py:1649: UserWarning: Creating a tensor from a list of numpy.ndarrays is extremely slow. Please consider converting the list to a single numpy.ndarray with numpy.array() before converting to a tensor. (Triggered internally at  /opt/conda/conda-bld/pytorch_1646755903507/work/torch/csrc/utils/tensor_new.cpp:210.)\n",
      "  target_scale = torch.tensor([batch[0][\"target_scale\"] for batch in batches], dtype=torch.float)\n",
      "/home/qishuai/anaconda3/envs/glasgow/lib/python3.8/site-packages/pytorch_forecasting/data/encoders.py:373: UserWarning: scale is below 1e-7 - consider not centering the data or using data with higher variance for numerical stability\n",
      "  warnings.warn(\n",
      "/home/qishuai/anaconda3/envs/glasgow/lib/python3.8/site-packages/pytorch_forecasting/data/encoders.py:373: UserWarning: scale is below 1e-7 - consider not centering the data or using data with higher variance for numerical stability\n",
      "  warnings.warn(\n",
      "/home/qishuai/anaconda3/envs/glasgow/lib/python3.8/site-packages/pytorch_forecasting/data/encoders.py:373: UserWarning: scale is below 1e-7 - consider not centering the data or using data with higher variance for numerical stability\n",
      "  warnings.warn(\n",
      "/home/qishuai/anaconda3/envs/glasgow/lib/python3.8/site-packages/pytorch_forecasting/data/encoders.py:373: UserWarning: scale is below 1e-7 - consider not centering the data or using data with higher variance for numerical stability\n",
      "  warnings.warn(\n",
      "/home/qishuai/anaconda3/envs/glasgow/lib/python3.8/site-packages/pytorch_forecasting/data/encoders.py:373: UserWarning: scale is below 1e-7 - consider not centering the data or using data with higher variance for numerical stability\n",
      "  warnings.warn(\n",
      "/home/qishuai/anaconda3/envs/glasgow/lib/python3.8/site-packages/pytorch_forecasting/data/encoders.py:373: UserWarning: scale is below 1e-7 - consider not centering the data or using data with higher variance for numerical stability\n",
      "  warnings.warn(\n",
      "/home/qishuai/anaconda3/envs/glasgow/lib/python3.8/site-packages/pytorch_forecasting/data/encoders.py:373: UserWarning: scale is below 1e-7 - consider not centering the data or using data with higher variance for numerical stability\n",
      "  warnings.warn(\n",
      "/home/qishuai/anaconda3/envs/glasgow/lib/python3.8/site-packages/pytorch_forecasting/data/encoders.py:373: UserWarning: scale is below 1e-7 - consider not centering the data or using data with higher variance for numerical stability\n",
      "  warnings.warn(\n",
      "/home/qishuai/anaconda3/envs/glasgow/lib/python3.8/site-packages/pytorch_forecasting/data/timeseries.py:1649: UserWarning: Creating a tensor from a list of numpy.ndarrays is extremely slow. Please consider converting the list to a single numpy.ndarray with numpy.array() before converting to a tensor. (Triggered internally at  /opt/conda/conda-bld/pytorch_1646755903507/work/torch/csrc/utils/tensor_new.cpp:210.)\n",
      "  target_scale = torch.tensor([batch[0][\"target_scale\"] for batch in batches], dtype=torch.float)\n",
      "/home/qishuai/anaconda3/envs/glasgow/lib/python3.8/site-packages/pytorch_forecasting/data/timeseries.py:1649: UserWarning: Creating a tensor from a list of numpy.ndarrays is extremely slow. Please consider converting the list to a single numpy.ndarray with numpy.array() before converting to a tensor. (Triggered internally at  /opt/conda/conda-bld/pytorch_1646755903507/work/torch/csrc/utils/tensor_new.cpp:210.)\n",
      "  target_scale = torch.tensor([batch[0][\"target_scale\"] for batch in batches], dtype=torch.float)\n",
      "/home/qishuai/anaconda3/envs/glasgow/lib/python3.8/site-packages/pytorch_forecasting/data/timeseries.py:1649: UserWarning: Creating a tensor from a list of numpy.ndarrays is extremely slow. Please consider converting the list to a single numpy.ndarray with numpy.array() before converting to a tensor. (Triggered internally at  /opt/conda/conda-bld/pytorch_1646755903507/work/torch/csrc/utils/tensor_new.cpp:210.)\n",
      "  target_scale = torch.tensor([batch[0][\"target_scale\"] for batch in batches], dtype=torch.float)\n",
      "/home/qishuai/anaconda3/envs/glasgow/lib/python3.8/site-packages/pytorch_forecasting/data/timeseries.py:1649: UserWarning: Creating a tensor from a list of numpy.ndarrays is extremely slow. Please consider converting the list to a single numpy.ndarray with numpy.array() before converting to a tensor. (Triggered internally at  /opt/conda/conda-bld/pytorch_1646755903507/work/torch/csrc/utils/tensor_new.cpp:210.)\n",
      "  target_scale = torch.tensor([batch[0][\"target_scale\"] for batch in batches], dtype=torch.float)\n",
      "/home/qishuai/anaconda3/envs/glasgow/lib/python3.8/site-packages/pytorch_forecasting/data/timeseries.py:1649: UserWarning: Creating a tensor from a list of numpy.ndarrays is extremely slow. Please consider converting the list to a single numpy.ndarray with numpy.array() before converting to a tensor. (Triggered internally at  /opt/conda/conda-bld/pytorch_1646755903507/work/torch/csrc/utils/tensor_new.cpp:210.)\n",
      "  target_scale = torch.tensor([batch[0][\"target_scale\"] for batch in batches], dtype=torch.float)\n",
      "/home/qishuai/anaconda3/envs/glasgow/lib/python3.8/site-packages/pytorch_forecasting/data/timeseries.py:1649: UserWarning: Creating a tensor from a list of numpy.ndarrays is extremely slow. Please consider converting the list to a single numpy.ndarray with numpy.array() before converting to a tensor. (Triggered internally at  /opt/conda/conda-bld/pytorch_1646755903507/work/torch/csrc/utils/tensor_new.cpp:210.)\n",
      "  target_scale = torch.tensor([batch[0][\"target_scale\"] for batch in batches], dtype=torch.float)\n",
      "/home/qishuai/anaconda3/envs/glasgow/lib/python3.8/site-packages/pytorch_forecasting/data/timeseries.py:1649: UserWarning: Creating a tensor from a list of numpy.ndarrays is extremely slow. Please consider converting the list to a single numpy.ndarray with numpy.array() before converting to a tensor. (Triggered internally at  /opt/conda/conda-bld/pytorch_1646755903507/work/torch/csrc/utils/tensor_new.cpp:210.)\n",
      "  target_scale = torch.tensor([batch[0][\"target_scale\"] for batch in batches], dtype=torch.float)\n",
      "/home/qishuai/anaconda3/envs/glasgow/lib/python3.8/site-packages/pytorch_forecasting/data/timeseries.py:1649: UserWarning: Creating a tensor from a list of numpy.ndarrays is extremely slow. Please consider converting the list to a single numpy.ndarray with numpy.array() before converting to a tensor. (Triggered internally at  /opt/conda/conda-bld/pytorch_1646755903507/work/torch/csrc/utils/tensor_new.cpp:210.)\n",
      "  target_scale = torch.tensor([batch[0][\"target_scale\"] for batch in batches], dtype=torch.float)\n"
     ]
    },
    {
     "data": {
      "application/vnd.jupyter.widget-view+json": {
       "model_id": "",
       "version_major": 2,
       "version_minor": 0
      },
      "text/plain": [
       "Validating: 0it [00:00, ?it/s]"
      ]
     },
     "metadata": {},
     "output_type": "display_data"
    },
    {
     "name": "stderr",
     "output_type": "stream",
     "text": [
      "/home/qishuai/anaconda3/envs/glasgow/lib/python3.8/site-packages/pytorch_forecasting/data/encoders.py:373: UserWarning: scale is below 1e-7 - consider not centering the data or using data with higher variance for numerical stability\n",
      "  warnings.warn(\n",
      "/home/qishuai/anaconda3/envs/glasgow/lib/python3.8/site-packages/pytorch_forecasting/data/timeseries.py:1649: UserWarning: Creating a tensor from a list of numpy.ndarrays is extremely slow. Please consider converting the list to a single numpy.ndarray with numpy.array() before converting to a tensor. (Triggered internally at  /opt/conda/conda-bld/pytorch_1646755903507/work/torch/csrc/utils/tensor_new.cpp:210.)\n",
      "  target_scale = torch.tensor([batch[0][\"target_scale\"] for batch in batches], dtype=torch.float)\n",
      "/home/qishuai/anaconda3/envs/glasgow/lib/python3.8/site-packages/pytorch_forecasting/data/encoders.py:373: UserWarning: scale is below 1e-7 - consider not centering the data or using data with higher variance for numerical stability\n",
      "  warnings.warn(\n",
      "/home/qishuai/anaconda3/envs/glasgow/lib/python3.8/site-packages/pytorch_forecasting/data/encoders.py:373: UserWarning: scale is below 1e-7 - consider not centering the data or using data with higher variance for numerical stability\n",
      "  warnings.warn(\n",
      "/home/qishuai/anaconda3/envs/glasgow/lib/python3.8/site-packages/pytorch_forecasting/data/encoders.py:373: UserWarning: scale is below 1e-7 - consider not centering the data or using data with higher variance for numerical stability\n",
      "  warnings.warn(\n",
      "/home/qishuai/anaconda3/envs/glasgow/lib/python3.8/site-packages/pytorch_forecasting/data/encoders.py:373: UserWarning: scale is below 1e-7 - consider not centering the data or using data with higher variance for numerical stability\n",
      "  warnings.warn(\n",
      "/home/qishuai/anaconda3/envs/glasgow/lib/python3.8/site-packages/pytorch_forecasting/data/encoders.py:373: UserWarning: scale is below 1e-7 - consider not centering the data or using data with higher variance for numerical stability\n",
      "  warnings.warn(\n",
      "/home/qishuai/anaconda3/envs/glasgow/lib/python3.8/site-packages/pytorch_forecasting/data/encoders.py:373: UserWarning: scale is below 1e-7 - consider not centering the data or using data with higher variance for numerical stability\n",
      "  warnings.warn(\n",
      "/home/qishuai/anaconda3/envs/glasgow/lib/python3.8/site-packages/pytorch_forecasting/data/encoders.py:373: UserWarning: scale is below 1e-7 - consider not centering the data or using data with higher variance for numerical stability\n",
      "  warnings.warn(\n",
      "/home/qishuai/anaconda3/envs/glasgow/lib/python3.8/site-packages/pytorch_forecasting/data/encoders.py:373: UserWarning: scale is below 1e-7 - consider not centering the data or using data with higher variance for numerical stability\n",
      "  warnings.warn(\n",
      "/home/qishuai/anaconda3/envs/glasgow/lib/python3.8/site-packages/pytorch_forecasting/data/timeseries.py:1649: UserWarning: Creating a tensor from a list of numpy.ndarrays is extremely slow. Please consider converting the list to a single numpy.ndarray with numpy.array() before converting to a tensor. (Triggered internally at  /opt/conda/conda-bld/pytorch_1646755903507/work/torch/csrc/utils/tensor_new.cpp:210.)\n",
      "  target_scale = torch.tensor([batch[0][\"target_scale\"] for batch in batches], dtype=torch.float)\n",
      "/home/qishuai/anaconda3/envs/glasgow/lib/python3.8/site-packages/pytorch_forecasting/data/timeseries.py:1649: UserWarning: Creating a tensor from a list of numpy.ndarrays is extremely slow. Please consider converting the list to a single numpy.ndarray with numpy.array() before converting to a tensor. (Triggered internally at  /opt/conda/conda-bld/pytorch_1646755903507/work/torch/csrc/utils/tensor_new.cpp:210.)\n",
      "  target_scale = torch.tensor([batch[0][\"target_scale\"] for batch in batches], dtype=torch.float)\n",
      "/home/qishuai/anaconda3/envs/glasgow/lib/python3.8/site-packages/pytorch_forecasting/data/timeseries.py:1649: UserWarning: Creating a tensor from a list of numpy.ndarrays is extremely slow. Please consider converting the list to a single numpy.ndarray with numpy.array() before converting to a tensor. (Triggered internally at  /opt/conda/conda-bld/pytorch_1646755903507/work/torch/csrc/utils/tensor_new.cpp:210.)\n",
      "  target_scale = torch.tensor([batch[0][\"target_scale\"] for batch in batches], dtype=torch.float)\n",
      "/home/qishuai/anaconda3/envs/glasgow/lib/python3.8/site-packages/pytorch_forecasting/data/timeseries.py:1649: UserWarning: Creating a tensor from a list of numpy.ndarrays is extremely slow. Please consider converting the list to a single numpy.ndarray with numpy.array() before converting to a tensor. (Triggered internally at  /opt/conda/conda-bld/pytorch_1646755903507/work/torch/csrc/utils/tensor_new.cpp:210.)\n",
      "  target_scale = torch.tensor([batch[0][\"target_scale\"] for batch in batches], dtype=torch.float)\n",
      "/home/qishuai/anaconda3/envs/glasgow/lib/python3.8/site-packages/pytorch_forecasting/data/timeseries.py:1649: UserWarning: Creating a tensor from a list of numpy.ndarrays is extremely slow. Please consider converting the list to a single numpy.ndarray with numpy.array() before converting to a tensor. (Triggered internally at  /opt/conda/conda-bld/pytorch_1646755903507/work/torch/csrc/utils/tensor_new.cpp:210.)\n",
      "  target_scale = torch.tensor([batch[0][\"target_scale\"] for batch in batches], dtype=torch.float)\n",
      "/home/qishuai/anaconda3/envs/glasgow/lib/python3.8/site-packages/pytorch_forecasting/data/timeseries.py:1649: UserWarning: Creating a tensor from a list of numpy.ndarrays is extremely slow. Please consider converting the list to a single numpy.ndarray with numpy.array() before converting to a tensor. (Triggered internally at  /opt/conda/conda-bld/pytorch_1646755903507/work/torch/csrc/utils/tensor_new.cpp:210.)\n",
      "  target_scale = torch.tensor([batch[0][\"target_scale\"] for batch in batches], dtype=torch.float)\n",
      "/home/qishuai/anaconda3/envs/glasgow/lib/python3.8/site-packages/pytorch_forecasting/data/timeseries.py:1649: UserWarning: Creating a tensor from a list of numpy.ndarrays is extremely slow. Please consider converting the list to a single numpy.ndarray with numpy.array() before converting to a tensor. (Triggered internally at  /opt/conda/conda-bld/pytorch_1646755903507/work/torch/csrc/utils/tensor_new.cpp:210.)\n",
      "  target_scale = torch.tensor([batch[0][\"target_scale\"] for batch in batches], dtype=torch.float)\n",
      "/home/qishuai/anaconda3/envs/glasgow/lib/python3.8/site-packages/pytorch_forecasting/data/timeseries.py:1649: UserWarning: Creating a tensor from a list of numpy.ndarrays is extremely slow. Please consider converting the list to a single numpy.ndarray with numpy.array() before converting to a tensor. (Triggered internally at  /opt/conda/conda-bld/pytorch_1646755903507/work/torch/csrc/utils/tensor_new.cpp:210.)\n",
      "  target_scale = torch.tensor([batch[0][\"target_scale\"] for batch in batches], dtype=torch.float)\n"
     ]
    },
    {
     "data": {
      "application/vnd.jupyter.widget-view+json": {
       "model_id": "",
       "version_major": 2,
       "version_minor": 0
      },
      "text/plain": [
       "Validating: 0it [00:00, ?it/s]"
      ]
     },
     "metadata": {},
     "output_type": "display_data"
    },
    {
     "name": "stderr",
     "output_type": "stream",
     "text": [
      "/home/qishuai/anaconda3/envs/glasgow/lib/python3.8/site-packages/pytorch_forecasting/data/encoders.py:373: UserWarning: scale is below 1e-7 - consider not centering the data or using data with higher variance for numerical stability\n",
      "  warnings.warn(\n",
      "/home/qishuai/anaconda3/envs/glasgow/lib/python3.8/site-packages/pytorch_forecasting/data/timeseries.py:1649: UserWarning: Creating a tensor from a list of numpy.ndarrays is extremely slow. Please consider converting the list to a single numpy.ndarray with numpy.array() before converting to a tensor. (Triggered internally at  /opt/conda/conda-bld/pytorch_1646755903507/work/torch/csrc/utils/tensor_new.cpp:210.)\n",
      "  target_scale = torch.tensor([batch[0][\"target_scale\"] for batch in batches], dtype=torch.float)\n",
      "/home/qishuai/anaconda3/envs/glasgow/lib/python3.8/site-packages/pytorch_forecasting/data/encoders.py:373: UserWarning: scale is below 1e-7 - consider not centering the data or using data with higher variance for numerical stability\n",
      "  warnings.warn(\n",
      "/home/qishuai/anaconda3/envs/glasgow/lib/python3.8/site-packages/pytorch_forecasting/data/encoders.py:373: UserWarning: scale is below 1e-7 - consider not centering the data or using data with higher variance for numerical stability\n",
      "  warnings.warn(\n",
      "/home/qishuai/anaconda3/envs/glasgow/lib/python3.8/site-packages/pytorch_forecasting/data/encoders.py:373: UserWarning: scale is below 1e-7 - consider not centering the data or using data with higher variance for numerical stability\n",
      "  warnings.warn(\n",
      "/home/qishuai/anaconda3/envs/glasgow/lib/python3.8/site-packages/pytorch_forecasting/data/encoders.py:373: UserWarning: scale is below 1e-7 - consider not centering the data or using data with higher variance for numerical stability\n",
      "  warnings.warn(\n",
      "/home/qishuai/anaconda3/envs/glasgow/lib/python3.8/site-packages/pytorch_forecasting/data/encoders.py:373: UserWarning: scale is below 1e-7 - consider not centering the data or using data with higher variance for numerical stability\n",
      "  warnings.warn(\n",
      "/home/qishuai/anaconda3/envs/glasgow/lib/python3.8/site-packages/pytorch_forecasting/data/encoders.py:373: UserWarning: scale is below 1e-7 - consider not centering the data or using data with higher variance for numerical stability\n",
      "  warnings.warn(\n",
      "/home/qishuai/anaconda3/envs/glasgow/lib/python3.8/site-packages/pytorch_forecasting/data/encoders.py:373: UserWarning: scale is below 1e-7 - consider not centering the data or using data with higher variance for numerical stability\n",
      "  warnings.warn(\n",
      "/home/qishuai/anaconda3/envs/glasgow/lib/python3.8/site-packages/pytorch_forecasting/data/encoders.py:373: UserWarning: scale is below 1e-7 - consider not centering the data or using data with higher variance for numerical stability\n",
      "  warnings.warn(\n",
      "/home/qishuai/anaconda3/envs/glasgow/lib/python3.8/site-packages/pytorch_forecasting/data/timeseries.py:1649: UserWarning: Creating a tensor from a list of numpy.ndarrays is extremely slow. Please consider converting the list to a single numpy.ndarray with numpy.array() before converting to a tensor. (Triggered internally at  /opt/conda/conda-bld/pytorch_1646755903507/work/torch/csrc/utils/tensor_new.cpp:210.)\n",
      "  target_scale = torch.tensor([batch[0][\"target_scale\"] for batch in batches], dtype=torch.float)\n",
      "/home/qishuai/anaconda3/envs/glasgow/lib/python3.8/site-packages/pytorch_forecasting/data/timeseries.py:1649: UserWarning: Creating a tensor from a list of numpy.ndarrays is extremely slow. Please consider converting the list to a single numpy.ndarray with numpy.array() before converting to a tensor. (Triggered internally at  /opt/conda/conda-bld/pytorch_1646755903507/work/torch/csrc/utils/tensor_new.cpp:210.)\n",
      "  target_scale = torch.tensor([batch[0][\"target_scale\"] for batch in batches], dtype=torch.float)\n",
      "/home/qishuai/anaconda3/envs/glasgow/lib/python3.8/site-packages/pytorch_forecasting/data/timeseries.py:1649: UserWarning: Creating a tensor from a list of numpy.ndarrays is extremely slow. Please consider converting the list to a single numpy.ndarray with numpy.array() before converting to a tensor. (Triggered internally at  /opt/conda/conda-bld/pytorch_1646755903507/work/torch/csrc/utils/tensor_new.cpp:210.)\n",
      "  target_scale = torch.tensor([batch[0][\"target_scale\"] for batch in batches], dtype=torch.float)\n",
      "/home/qishuai/anaconda3/envs/glasgow/lib/python3.8/site-packages/pytorch_forecasting/data/timeseries.py:1649: UserWarning: Creating a tensor from a list of numpy.ndarrays is extremely slow. Please consider converting the list to a single numpy.ndarray with numpy.array() before converting to a tensor. (Triggered internally at  /opt/conda/conda-bld/pytorch_1646755903507/work/torch/csrc/utils/tensor_new.cpp:210.)\n",
      "  target_scale = torch.tensor([batch[0][\"target_scale\"] for batch in batches], dtype=torch.float)\n",
      "/home/qishuai/anaconda3/envs/glasgow/lib/python3.8/site-packages/pytorch_forecasting/data/timeseries.py:1649: UserWarning: Creating a tensor from a list of numpy.ndarrays is extremely slow. Please consider converting the list to a single numpy.ndarray with numpy.array() before converting to a tensor. (Triggered internally at  /opt/conda/conda-bld/pytorch_1646755903507/work/torch/csrc/utils/tensor_new.cpp:210.)\n",
      "  target_scale = torch.tensor([batch[0][\"target_scale\"] for batch in batches], dtype=torch.float)\n",
      "/home/qishuai/anaconda3/envs/glasgow/lib/python3.8/site-packages/pytorch_forecasting/data/timeseries.py:1649: UserWarning: Creating a tensor from a list of numpy.ndarrays is extremely slow. Please consider converting the list to a single numpy.ndarray with numpy.array() before converting to a tensor. (Triggered internally at  /opt/conda/conda-bld/pytorch_1646755903507/work/torch/csrc/utils/tensor_new.cpp:210.)\n",
      "  target_scale = torch.tensor([batch[0][\"target_scale\"] for batch in batches], dtype=torch.float)\n",
      "/home/qishuai/anaconda3/envs/glasgow/lib/python3.8/site-packages/pytorch_forecasting/data/timeseries.py:1649: UserWarning: Creating a tensor from a list of numpy.ndarrays is extremely slow. Please consider converting the list to a single numpy.ndarray with numpy.array() before converting to a tensor. (Triggered internally at  /opt/conda/conda-bld/pytorch_1646755903507/work/torch/csrc/utils/tensor_new.cpp:210.)\n",
      "  target_scale = torch.tensor([batch[0][\"target_scale\"] for batch in batches], dtype=torch.float)\n",
      "/home/qishuai/anaconda3/envs/glasgow/lib/python3.8/site-packages/pytorch_forecasting/data/timeseries.py:1649: UserWarning: Creating a tensor from a list of numpy.ndarrays is extremely slow. Please consider converting the list to a single numpy.ndarray with numpy.array() before converting to a tensor. (Triggered internally at  /opt/conda/conda-bld/pytorch_1646755903507/work/torch/csrc/utils/tensor_new.cpp:210.)\n",
      "  target_scale = torch.tensor([batch[0][\"target_scale\"] for batch in batches], dtype=torch.float)\n"
     ]
    },
    {
     "data": {
      "application/vnd.jupyter.widget-view+json": {
       "model_id": "",
       "version_major": 2,
       "version_minor": 0
      },
      "text/plain": [
       "Validating: 0it [00:00, ?it/s]"
      ]
     },
     "metadata": {},
     "output_type": "display_data"
    },
    {
     "name": "stderr",
     "output_type": "stream",
     "text": [
      "/home/qishuai/anaconda3/envs/glasgow/lib/python3.8/site-packages/pytorch_forecasting/data/encoders.py:373: UserWarning: scale is below 1e-7 - consider not centering the data or using data with higher variance for numerical stability\n",
      "  warnings.warn(\n",
      "/home/qishuai/anaconda3/envs/glasgow/lib/python3.8/site-packages/pytorch_forecasting/data/timeseries.py:1649: UserWarning: Creating a tensor from a list of numpy.ndarrays is extremely slow. Please consider converting the list to a single numpy.ndarray with numpy.array() before converting to a tensor. (Triggered internally at  /opt/conda/conda-bld/pytorch_1646755903507/work/torch/csrc/utils/tensor_new.cpp:210.)\n",
      "  target_scale = torch.tensor([batch[0][\"target_scale\"] for batch in batches], dtype=torch.float)\n",
      "/home/qishuai/anaconda3/envs/glasgow/lib/python3.8/site-packages/pytorch_forecasting/data/encoders.py:373: UserWarning: scale is below 1e-7 - consider not centering the data or using data with higher variance for numerical stability\n",
      "  warnings.warn(\n",
      "/home/qishuai/anaconda3/envs/glasgow/lib/python3.8/site-packages/pytorch_forecasting/data/encoders.py:373: UserWarning: scale is below 1e-7 - consider not centering the data or using data with higher variance for numerical stability\n",
      "  warnings.warn(\n",
      "/home/qishuai/anaconda3/envs/glasgow/lib/python3.8/site-packages/pytorch_forecasting/data/encoders.py:373: UserWarning: scale is below 1e-7 - consider not centering the data or using data with higher variance for numerical stability\n",
      "  warnings.warn(\n",
      "/home/qishuai/anaconda3/envs/glasgow/lib/python3.8/site-packages/pytorch_forecasting/data/encoders.py:373: UserWarning: scale is below 1e-7 - consider not centering the data or using data with higher variance for numerical stability\n",
      "  warnings.warn(\n",
      "/home/qishuai/anaconda3/envs/glasgow/lib/python3.8/site-packages/pytorch_forecasting/data/encoders.py:373: UserWarning: scale is below 1e-7 - consider not centering the data or using data with higher variance for numerical stability\n",
      "  warnings.warn(\n",
      "/home/qishuai/anaconda3/envs/glasgow/lib/python3.8/site-packages/pytorch_forecasting/data/encoders.py:373: UserWarning: scale is below 1e-7 - consider not centering the data or using data with higher variance for numerical stability\n",
      "  warnings.warn(\n",
      "/home/qishuai/anaconda3/envs/glasgow/lib/python3.8/site-packages/pytorch_forecasting/data/encoders.py:373: UserWarning: scale is below 1e-7 - consider not centering the data or using data with higher variance for numerical stability\n",
      "  warnings.warn(\n",
      "/home/qishuai/anaconda3/envs/glasgow/lib/python3.8/site-packages/pytorch_forecasting/data/encoders.py:373: UserWarning: scale is below 1e-7 - consider not centering the data or using data with higher variance for numerical stability\n",
      "  warnings.warn(\n",
      "/home/qishuai/anaconda3/envs/glasgow/lib/python3.8/site-packages/pytorch_forecasting/data/timeseries.py:1649: UserWarning: Creating a tensor from a list of numpy.ndarrays is extremely slow. Please consider converting the list to a single numpy.ndarray with numpy.array() before converting to a tensor. (Triggered internally at  /opt/conda/conda-bld/pytorch_1646755903507/work/torch/csrc/utils/tensor_new.cpp:210.)\n",
      "  target_scale = torch.tensor([batch[0][\"target_scale\"] for batch in batches], dtype=torch.float)\n",
      "/home/qishuai/anaconda3/envs/glasgow/lib/python3.8/site-packages/pytorch_forecasting/data/timeseries.py:1649: UserWarning: Creating a tensor from a list of numpy.ndarrays is extremely slow. Please consider converting the list to a single numpy.ndarray with numpy.array() before converting to a tensor. (Triggered internally at  /opt/conda/conda-bld/pytorch_1646755903507/work/torch/csrc/utils/tensor_new.cpp:210.)\n",
      "  target_scale = torch.tensor([batch[0][\"target_scale\"] for batch in batches], dtype=torch.float)\n",
      "/home/qishuai/anaconda3/envs/glasgow/lib/python3.8/site-packages/pytorch_forecasting/data/timeseries.py:1649: UserWarning: Creating a tensor from a list of numpy.ndarrays is extremely slow. Please consider converting the list to a single numpy.ndarray with numpy.array() before converting to a tensor. (Triggered internally at  /opt/conda/conda-bld/pytorch_1646755903507/work/torch/csrc/utils/tensor_new.cpp:210.)\n",
      "  target_scale = torch.tensor([batch[0][\"target_scale\"] for batch in batches], dtype=torch.float)\n",
      "/home/qishuai/anaconda3/envs/glasgow/lib/python3.8/site-packages/pytorch_forecasting/data/timeseries.py:1649: UserWarning: Creating a tensor from a list of numpy.ndarrays is extremely slow. Please consider converting the list to a single numpy.ndarray with numpy.array() before converting to a tensor. (Triggered internally at  /opt/conda/conda-bld/pytorch_1646755903507/work/torch/csrc/utils/tensor_new.cpp:210.)\n",
      "  target_scale = torch.tensor([batch[0][\"target_scale\"] for batch in batches], dtype=torch.float)\n",
      "/home/qishuai/anaconda3/envs/glasgow/lib/python3.8/site-packages/pytorch_forecasting/data/timeseries.py:1649: UserWarning: Creating a tensor from a list of numpy.ndarrays is extremely slow. Please consider converting the list to a single numpy.ndarray with numpy.array() before converting to a tensor. (Triggered internally at  /opt/conda/conda-bld/pytorch_1646755903507/work/torch/csrc/utils/tensor_new.cpp:210.)\n",
      "  target_scale = torch.tensor([batch[0][\"target_scale\"] for batch in batches], dtype=torch.float)\n",
      "/home/qishuai/anaconda3/envs/glasgow/lib/python3.8/site-packages/pytorch_forecasting/data/timeseries.py:1649: UserWarning: Creating a tensor from a list of numpy.ndarrays is extremely slow. Please consider converting the list to a single numpy.ndarray with numpy.array() before converting to a tensor. (Triggered internally at  /opt/conda/conda-bld/pytorch_1646755903507/work/torch/csrc/utils/tensor_new.cpp:210.)\n",
      "  target_scale = torch.tensor([batch[0][\"target_scale\"] for batch in batches], dtype=torch.float)\n",
      "/home/qishuai/anaconda3/envs/glasgow/lib/python3.8/site-packages/pytorch_forecasting/data/timeseries.py:1649: UserWarning: Creating a tensor from a list of numpy.ndarrays is extremely slow. Please consider converting the list to a single numpy.ndarray with numpy.array() before converting to a tensor. (Triggered internally at  /opt/conda/conda-bld/pytorch_1646755903507/work/torch/csrc/utils/tensor_new.cpp:210.)\n",
      "  target_scale = torch.tensor([batch[0][\"target_scale\"] for batch in batches], dtype=torch.float)\n",
      "/home/qishuai/anaconda3/envs/glasgow/lib/python3.8/site-packages/pytorch_forecasting/data/timeseries.py:1649: UserWarning: Creating a tensor from a list of numpy.ndarrays is extremely slow. Please consider converting the list to a single numpy.ndarray with numpy.array() before converting to a tensor. (Triggered internally at  /opt/conda/conda-bld/pytorch_1646755903507/work/torch/csrc/utils/tensor_new.cpp:210.)\n",
      "  target_scale = torch.tensor([batch[0][\"target_scale\"] for batch in batches], dtype=torch.float)\n"
     ]
    },
    {
     "data": {
      "application/vnd.jupyter.widget-view+json": {
       "model_id": "",
       "version_major": 2,
       "version_minor": 0
      },
      "text/plain": [
       "Validating: 0it [00:00, ?it/s]"
      ]
     },
     "metadata": {},
     "output_type": "display_data"
    },
    {
     "name": "stderr",
     "output_type": "stream",
     "text": [
      "/home/qishuai/anaconda3/envs/glasgow/lib/python3.8/site-packages/pytorch_forecasting/data/encoders.py:373: UserWarning: scale is below 1e-7 - consider not centering the data or using data with higher variance for numerical stability\n",
      "  warnings.warn(\n",
      "/home/qishuai/anaconda3/envs/glasgow/lib/python3.8/site-packages/pytorch_forecasting/data/timeseries.py:1649: UserWarning: Creating a tensor from a list of numpy.ndarrays is extremely slow. Please consider converting the list to a single numpy.ndarray with numpy.array() before converting to a tensor. (Triggered internally at  /opt/conda/conda-bld/pytorch_1646755903507/work/torch/csrc/utils/tensor_new.cpp:210.)\n",
      "  target_scale = torch.tensor([batch[0][\"target_scale\"] for batch in batches], dtype=torch.float)\n",
      "/home/qishuai/anaconda3/envs/glasgow/lib/python3.8/site-packages/pytorch_forecasting/data/encoders.py:373: UserWarning: scale is below 1e-7 - consider not centering the data or using data with higher variance for numerical stability\n",
      "  warnings.warn(\n",
      "/home/qishuai/anaconda3/envs/glasgow/lib/python3.8/site-packages/pytorch_forecasting/data/encoders.py:373: UserWarning: scale is below 1e-7 - consider not centering the data or using data with higher variance for numerical stability\n",
      "  warnings.warn(\n",
      "/home/qishuai/anaconda3/envs/glasgow/lib/python3.8/site-packages/pytorch_forecasting/data/encoders.py:373: UserWarning: scale is below 1e-7 - consider not centering the data or using data with higher variance for numerical stability\n",
      "  warnings.warn(\n",
      "/home/qishuai/anaconda3/envs/glasgow/lib/python3.8/site-packages/pytorch_forecasting/data/encoders.py:373: UserWarning: scale is below 1e-7 - consider not centering the data or using data with higher variance for numerical stability\n",
      "  warnings.warn(\n",
      "/home/qishuai/anaconda3/envs/glasgow/lib/python3.8/site-packages/pytorch_forecasting/data/encoders.py:373: UserWarning: scale is below 1e-7 - consider not centering the data or using data with higher variance for numerical stability\n",
      "  warnings.warn(\n",
      "/home/qishuai/anaconda3/envs/glasgow/lib/python3.8/site-packages/pytorch_forecasting/data/encoders.py:373: UserWarning: scale is below 1e-7 - consider not centering the data or using data with higher variance for numerical stability\n",
      "  warnings.warn(\n",
      "/home/qishuai/anaconda3/envs/glasgow/lib/python3.8/site-packages/pytorch_forecasting/data/encoders.py:373: UserWarning: scale is below 1e-7 - consider not centering the data or using data with higher variance for numerical stability\n",
      "  warnings.warn(\n",
      "/home/qishuai/anaconda3/envs/glasgow/lib/python3.8/site-packages/pytorch_forecasting/data/encoders.py:373: UserWarning: scale is below 1e-7 - consider not centering the data or using data with higher variance for numerical stability\n",
      "  warnings.warn(\n",
      "/home/qishuai/anaconda3/envs/glasgow/lib/python3.8/site-packages/pytorch_forecasting/data/timeseries.py:1649: UserWarning: Creating a tensor from a list of numpy.ndarrays is extremely slow. Please consider converting the list to a single numpy.ndarray with numpy.array() before converting to a tensor. (Triggered internally at  /opt/conda/conda-bld/pytorch_1646755903507/work/torch/csrc/utils/tensor_new.cpp:210.)\n",
      "  target_scale = torch.tensor([batch[0][\"target_scale\"] for batch in batches], dtype=torch.float)\n",
      "/home/qishuai/anaconda3/envs/glasgow/lib/python3.8/site-packages/pytorch_forecasting/data/timeseries.py:1649: UserWarning: Creating a tensor from a list of numpy.ndarrays is extremely slow. Please consider converting the list to a single numpy.ndarray with numpy.array() before converting to a tensor. (Triggered internally at  /opt/conda/conda-bld/pytorch_1646755903507/work/torch/csrc/utils/tensor_new.cpp:210.)\n",
      "  target_scale = torch.tensor([batch[0][\"target_scale\"] for batch in batches], dtype=torch.float)\n",
      "/home/qishuai/anaconda3/envs/glasgow/lib/python3.8/site-packages/pytorch_forecasting/data/timeseries.py:1649: UserWarning: Creating a tensor from a list of numpy.ndarrays is extremely slow. Please consider converting the list to a single numpy.ndarray with numpy.array() before converting to a tensor. (Triggered internally at  /opt/conda/conda-bld/pytorch_1646755903507/work/torch/csrc/utils/tensor_new.cpp:210.)\n",
      "  target_scale = torch.tensor([batch[0][\"target_scale\"] for batch in batches], dtype=torch.float)\n",
      "/home/qishuai/anaconda3/envs/glasgow/lib/python3.8/site-packages/pytorch_forecasting/data/timeseries.py:1649: UserWarning: Creating a tensor from a list of numpy.ndarrays is extremely slow. Please consider converting the list to a single numpy.ndarray with numpy.array() before converting to a tensor. (Triggered internally at  /opt/conda/conda-bld/pytorch_1646755903507/work/torch/csrc/utils/tensor_new.cpp:210.)\n",
      "  target_scale = torch.tensor([batch[0][\"target_scale\"] for batch in batches], dtype=torch.float)\n",
      "/home/qishuai/anaconda3/envs/glasgow/lib/python3.8/site-packages/pytorch_forecasting/data/timeseries.py:1649: UserWarning: Creating a tensor from a list of numpy.ndarrays is extremely slow. Please consider converting the list to a single numpy.ndarray with numpy.array() before converting to a tensor. (Triggered internally at  /opt/conda/conda-bld/pytorch_1646755903507/work/torch/csrc/utils/tensor_new.cpp:210.)\n",
      "  target_scale = torch.tensor([batch[0][\"target_scale\"] for batch in batches], dtype=torch.float)\n",
      "/home/qishuai/anaconda3/envs/glasgow/lib/python3.8/site-packages/pytorch_forecasting/data/timeseries.py:1649: UserWarning: Creating a tensor from a list of numpy.ndarrays is extremely slow. Please consider converting the list to a single numpy.ndarray with numpy.array() before converting to a tensor. (Triggered internally at  /opt/conda/conda-bld/pytorch_1646755903507/work/torch/csrc/utils/tensor_new.cpp:210.)\n",
      "  target_scale = torch.tensor([batch[0][\"target_scale\"] for batch in batches], dtype=torch.float)\n",
      "/home/qishuai/anaconda3/envs/glasgow/lib/python3.8/site-packages/pytorch_forecasting/data/timeseries.py:1649: UserWarning: Creating a tensor from a list of numpy.ndarrays is extremely slow. Please consider converting the list to a single numpy.ndarray with numpy.array() before converting to a tensor. (Triggered internally at  /opt/conda/conda-bld/pytorch_1646755903507/work/torch/csrc/utils/tensor_new.cpp:210.)\n",
      "  target_scale = torch.tensor([batch[0][\"target_scale\"] for batch in batches], dtype=torch.float)\n",
      "/home/qishuai/anaconda3/envs/glasgow/lib/python3.8/site-packages/pytorch_forecasting/data/timeseries.py:1649: UserWarning: Creating a tensor from a list of numpy.ndarrays is extremely slow. Please consider converting the list to a single numpy.ndarray with numpy.array() before converting to a tensor. (Triggered internally at  /opt/conda/conda-bld/pytorch_1646755903507/work/torch/csrc/utils/tensor_new.cpp:210.)\n",
      "  target_scale = torch.tensor([batch[0][\"target_scale\"] for batch in batches], dtype=torch.float)\n"
     ]
    },
    {
     "data": {
      "application/vnd.jupyter.widget-view+json": {
       "model_id": "",
       "version_major": 2,
       "version_minor": 0
      },
      "text/plain": [
       "Validating: 0it [00:00, ?it/s]"
      ]
     },
     "metadata": {},
     "output_type": "display_data"
    },
    {
     "name": "stderr",
     "output_type": "stream",
     "text": [
      "/home/qishuai/anaconda3/envs/glasgow/lib/python3.8/site-packages/pytorch_forecasting/data/encoders.py:373: UserWarning: scale is below 1e-7 - consider not centering the data or using data with higher variance for numerical stability\n",
      "  warnings.warn(\n",
      "/home/qishuai/anaconda3/envs/glasgow/lib/python3.8/site-packages/pytorch_forecasting/data/timeseries.py:1649: UserWarning: Creating a tensor from a list of numpy.ndarrays is extremely slow. Please consider converting the list to a single numpy.ndarray with numpy.array() before converting to a tensor. (Triggered internally at  /opt/conda/conda-bld/pytorch_1646755903507/work/torch/csrc/utils/tensor_new.cpp:210.)\n",
      "  target_scale = torch.tensor([batch[0][\"target_scale\"] for batch in batches], dtype=torch.float)\n",
      "/home/qishuai/anaconda3/envs/glasgow/lib/python3.8/site-packages/pytorch_forecasting/data/encoders.py:373: UserWarning: scale is below 1e-7 - consider not centering the data or using data with higher variance for numerical stability\n",
      "  warnings.warn(\n",
      "/home/qishuai/anaconda3/envs/glasgow/lib/python3.8/site-packages/pytorch_forecasting/data/encoders.py:373: UserWarning: scale is below 1e-7 - consider not centering the data or using data with higher variance for numerical stability\n",
      "  warnings.warn(\n",
      "/home/qishuai/anaconda3/envs/glasgow/lib/python3.8/site-packages/pytorch_forecasting/data/encoders.py:373: UserWarning: scale is below 1e-7 - consider not centering the data or using data with higher variance for numerical stability\n",
      "  warnings.warn(\n",
      "/home/qishuai/anaconda3/envs/glasgow/lib/python3.8/site-packages/pytorch_forecasting/data/encoders.py:373: UserWarning: scale is below 1e-7 - consider not centering the data or using data with higher variance for numerical stability\n",
      "  warnings.warn(\n",
      "/home/qishuai/anaconda3/envs/glasgow/lib/python3.8/site-packages/pytorch_forecasting/data/encoders.py:373: UserWarning: scale is below 1e-7 - consider not centering the data or using data with higher variance for numerical stability\n",
      "  warnings.warn(\n",
      "/home/qishuai/anaconda3/envs/glasgow/lib/python3.8/site-packages/pytorch_forecasting/data/encoders.py:373: UserWarning: scale is below 1e-7 - consider not centering the data or using data with higher variance for numerical stability\n",
      "  warnings.warn(\n",
      "/home/qishuai/anaconda3/envs/glasgow/lib/python3.8/site-packages/pytorch_forecasting/data/encoders.py:373: UserWarning: scale is below 1e-7 - consider not centering the data or using data with higher variance for numerical stability\n",
      "  warnings.warn(\n",
      "/home/qishuai/anaconda3/envs/glasgow/lib/python3.8/site-packages/pytorch_forecasting/data/encoders.py:373: UserWarning: scale is below 1e-7 - consider not centering the data or using data with higher variance for numerical stability\n",
      "  warnings.warn(\n",
      "/home/qishuai/anaconda3/envs/glasgow/lib/python3.8/site-packages/pytorch_forecasting/data/timeseries.py:1649: UserWarning: Creating a tensor from a list of numpy.ndarrays is extremely slow. Please consider converting the list to a single numpy.ndarray with numpy.array() before converting to a tensor. (Triggered internally at  /opt/conda/conda-bld/pytorch_1646755903507/work/torch/csrc/utils/tensor_new.cpp:210.)\n",
      "  target_scale = torch.tensor([batch[0][\"target_scale\"] for batch in batches], dtype=torch.float)\n",
      "/home/qishuai/anaconda3/envs/glasgow/lib/python3.8/site-packages/pytorch_forecasting/data/timeseries.py:1649: UserWarning: Creating a tensor from a list of numpy.ndarrays is extremely slow. Please consider converting the list to a single numpy.ndarray with numpy.array() before converting to a tensor. (Triggered internally at  /opt/conda/conda-bld/pytorch_1646755903507/work/torch/csrc/utils/tensor_new.cpp:210.)\n",
      "  target_scale = torch.tensor([batch[0][\"target_scale\"] for batch in batches], dtype=torch.float)\n",
      "/home/qishuai/anaconda3/envs/glasgow/lib/python3.8/site-packages/pytorch_forecasting/data/timeseries.py:1649: UserWarning: Creating a tensor from a list of numpy.ndarrays is extremely slow. Please consider converting the list to a single numpy.ndarray with numpy.array() before converting to a tensor. (Triggered internally at  /opt/conda/conda-bld/pytorch_1646755903507/work/torch/csrc/utils/tensor_new.cpp:210.)\n",
      "  target_scale = torch.tensor([batch[0][\"target_scale\"] for batch in batches], dtype=torch.float)\n",
      "/home/qishuai/anaconda3/envs/glasgow/lib/python3.8/site-packages/pytorch_forecasting/data/timeseries.py:1649: UserWarning: Creating a tensor from a list of numpy.ndarrays is extremely slow. Please consider converting the list to a single numpy.ndarray with numpy.array() before converting to a tensor. (Triggered internally at  /opt/conda/conda-bld/pytorch_1646755903507/work/torch/csrc/utils/tensor_new.cpp:210.)\n",
      "  target_scale = torch.tensor([batch[0][\"target_scale\"] for batch in batches], dtype=torch.float)\n",
      "/home/qishuai/anaconda3/envs/glasgow/lib/python3.8/site-packages/pytorch_forecasting/data/timeseries.py:1649: UserWarning: Creating a tensor from a list of numpy.ndarrays is extremely slow. Please consider converting the list to a single numpy.ndarray with numpy.array() before converting to a tensor. (Triggered internally at  /opt/conda/conda-bld/pytorch_1646755903507/work/torch/csrc/utils/tensor_new.cpp:210.)\n",
      "  target_scale = torch.tensor([batch[0][\"target_scale\"] for batch in batches], dtype=torch.float)\n",
      "/home/qishuai/anaconda3/envs/glasgow/lib/python3.8/site-packages/pytorch_forecasting/data/timeseries.py:1649: UserWarning: Creating a tensor from a list of numpy.ndarrays is extremely slow. Please consider converting the list to a single numpy.ndarray with numpy.array() before converting to a tensor. (Triggered internally at  /opt/conda/conda-bld/pytorch_1646755903507/work/torch/csrc/utils/tensor_new.cpp:210.)\n",
      "  target_scale = torch.tensor([batch[0][\"target_scale\"] for batch in batches], dtype=torch.float)\n",
      "/home/qishuai/anaconda3/envs/glasgow/lib/python3.8/site-packages/pytorch_forecasting/data/timeseries.py:1649: UserWarning: Creating a tensor from a list of numpy.ndarrays is extremely slow. Please consider converting the list to a single numpy.ndarray with numpy.array() before converting to a tensor. (Triggered internally at  /opt/conda/conda-bld/pytorch_1646755903507/work/torch/csrc/utils/tensor_new.cpp:210.)\n",
      "  target_scale = torch.tensor([batch[0][\"target_scale\"] for batch in batches], dtype=torch.float)\n",
      "/home/qishuai/anaconda3/envs/glasgow/lib/python3.8/site-packages/pytorch_forecasting/data/timeseries.py:1649: UserWarning: Creating a tensor from a list of numpy.ndarrays is extremely slow. Please consider converting the list to a single numpy.ndarray with numpy.array() before converting to a tensor. (Triggered internally at  /opt/conda/conda-bld/pytorch_1646755903507/work/torch/csrc/utils/tensor_new.cpp:210.)\n",
      "  target_scale = torch.tensor([batch[0][\"target_scale\"] for batch in batches], dtype=torch.float)\n"
     ]
    },
    {
     "data": {
      "application/vnd.jupyter.widget-view+json": {
       "model_id": "",
       "version_major": 2,
       "version_minor": 0
      },
      "text/plain": [
       "Validating: 0it [00:00, ?it/s]"
      ]
     },
     "metadata": {},
     "output_type": "display_data"
    },
    {
     "name": "stderr",
     "output_type": "stream",
     "text": [
      "/home/qishuai/anaconda3/envs/glasgow/lib/python3.8/site-packages/pytorch_forecasting/data/encoders.py:373: UserWarning: scale is below 1e-7 - consider not centering the data or using data with higher variance for numerical stability\n",
      "  warnings.warn(\n",
      "/home/qishuai/anaconda3/envs/glasgow/lib/python3.8/site-packages/pytorch_forecasting/data/timeseries.py:1649: UserWarning: Creating a tensor from a list of numpy.ndarrays is extremely slow. Please consider converting the list to a single numpy.ndarray with numpy.array() before converting to a tensor. (Triggered internally at  /opt/conda/conda-bld/pytorch_1646755903507/work/torch/csrc/utils/tensor_new.cpp:210.)\n",
      "  target_scale = torch.tensor([batch[0][\"target_scale\"] for batch in batches], dtype=torch.float)\n",
      "/home/qishuai/anaconda3/envs/glasgow/lib/python3.8/site-packages/pytorch_forecasting/data/encoders.py:373: UserWarning: scale is below 1e-7 - consider not centering the data or using data with higher variance for numerical stability\n",
      "  warnings.warn(\n",
      "/home/qishuai/anaconda3/envs/glasgow/lib/python3.8/site-packages/pytorch_forecasting/data/encoders.py:373: UserWarning: scale is below 1e-7 - consider not centering the data or using data with higher variance for numerical stability\n",
      "  warnings.warn(\n",
      "/home/qishuai/anaconda3/envs/glasgow/lib/python3.8/site-packages/pytorch_forecasting/data/encoders.py:373: UserWarning: scale is below 1e-7 - consider not centering the data or using data with higher variance for numerical stability\n",
      "  warnings.warn(\n",
      "/home/qishuai/anaconda3/envs/glasgow/lib/python3.8/site-packages/pytorch_forecasting/data/encoders.py:373: UserWarning: scale is below 1e-7 - consider not centering the data or using data with higher variance for numerical stability\n",
      "  warnings.warn(\n",
      "/home/qishuai/anaconda3/envs/glasgow/lib/python3.8/site-packages/pytorch_forecasting/data/encoders.py:373: UserWarning: scale is below 1e-7 - consider not centering the data or using data with higher variance for numerical stability\n",
      "  warnings.warn(\n",
      "/home/qishuai/anaconda3/envs/glasgow/lib/python3.8/site-packages/pytorch_forecasting/data/encoders.py:373: UserWarning: scale is below 1e-7 - consider not centering the data or using data with higher variance for numerical stability\n",
      "  warnings.warn(\n",
      "/home/qishuai/anaconda3/envs/glasgow/lib/python3.8/site-packages/pytorch_forecasting/data/encoders.py:373: UserWarning: scale is below 1e-7 - consider not centering the data or using data with higher variance for numerical stability\n",
      "  warnings.warn(\n",
      "/home/qishuai/anaconda3/envs/glasgow/lib/python3.8/site-packages/pytorch_forecasting/data/encoders.py:373: UserWarning: scale is below 1e-7 - consider not centering the data or using data with higher variance for numerical stability\n",
      "  warnings.warn(\n",
      "/home/qishuai/anaconda3/envs/glasgow/lib/python3.8/site-packages/pytorch_forecasting/data/timeseries.py:1649: UserWarning: Creating a tensor from a list of numpy.ndarrays is extremely slow. Please consider converting the list to a single numpy.ndarray with numpy.array() before converting to a tensor. (Triggered internally at  /opt/conda/conda-bld/pytorch_1646755903507/work/torch/csrc/utils/tensor_new.cpp:210.)\n",
      "  target_scale = torch.tensor([batch[0][\"target_scale\"] for batch in batches], dtype=torch.float)\n",
      "/home/qishuai/anaconda3/envs/glasgow/lib/python3.8/site-packages/pytorch_forecasting/data/timeseries.py:1649: UserWarning: Creating a tensor from a list of numpy.ndarrays is extremely slow. Please consider converting the list to a single numpy.ndarray with numpy.array() before converting to a tensor. (Triggered internally at  /opt/conda/conda-bld/pytorch_1646755903507/work/torch/csrc/utils/tensor_new.cpp:210.)\n",
      "  target_scale = torch.tensor([batch[0][\"target_scale\"] for batch in batches], dtype=torch.float)\n",
      "/home/qishuai/anaconda3/envs/glasgow/lib/python3.8/site-packages/pytorch_forecasting/data/timeseries.py:1649: UserWarning: Creating a tensor from a list of numpy.ndarrays is extremely slow. Please consider converting the list to a single numpy.ndarray with numpy.array() before converting to a tensor. (Triggered internally at  /opt/conda/conda-bld/pytorch_1646755903507/work/torch/csrc/utils/tensor_new.cpp:210.)\n",
      "  target_scale = torch.tensor([batch[0][\"target_scale\"] for batch in batches], dtype=torch.float)\n",
      "/home/qishuai/anaconda3/envs/glasgow/lib/python3.8/site-packages/pytorch_forecasting/data/timeseries.py:1649: UserWarning: Creating a tensor from a list of numpy.ndarrays is extremely slow. Please consider converting the list to a single numpy.ndarray with numpy.array() before converting to a tensor. (Triggered internally at  /opt/conda/conda-bld/pytorch_1646755903507/work/torch/csrc/utils/tensor_new.cpp:210.)\n",
      "  target_scale = torch.tensor([batch[0][\"target_scale\"] for batch in batches], dtype=torch.float)\n",
      "/home/qishuai/anaconda3/envs/glasgow/lib/python3.8/site-packages/pytorch_forecasting/data/timeseries.py:1649: UserWarning: Creating a tensor from a list of numpy.ndarrays is extremely slow. Please consider converting the list to a single numpy.ndarray with numpy.array() before converting to a tensor. (Triggered internally at  /opt/conda/conda-bld/pytorch_1646755903507/work/torch/csrc/utils/tensor_new.cpp:210.)\n",
      "  target_scale = torch.tensor([batch[0][\"target_scale\"] for batch in batches], dtype=torch.float)\n",
      "/home/qishuai/anaconda3/envs/glasgow/lib/python3.8/site-packages/pytorch_forecasting/data/timeseries.py:1649: UserWarning: Creating a tensor from a list of numpy.ndarrays is extremely slow. Please consider converting the list to a single numpy.ndarray with numpy.array() before converting to a tensor. (Triggered internally at  /opt/conda/conda-bld/pytorch_1646755903507/work/torch/csrc/utils/tensor_new.cpp:210.)\n",
      "  target_scale = torch.tensor([batch[0][\"target_scale\"] for batch in batches], dtype=torch.float)\n",
      "/home/qishuai/anaconda3/envs/glasgow/lib/python3.8/site-packages/pytorch_forecasting/data/timeseries.py:1649: UserWarning: Creating a tensor from a list of numpy.ndarrays is extremely slow. Please consider converting the list to a single numpy.ndarray with numpy.array() before converting to a tensor. (Triggered internally at  /opt/conda/conda-bld/pytorch_1646755903507/work/torch/csrc/utils/tensor_new.cpp:210.)\n",
      "  target_scale = torch.tensor([batch[0][\"target_scale\"] for batch in batches], dtype=torch.float)\n",
      "/home/qishuai/anaconda3/envs/glasgow/lib/python3.8/site-packages/pytorch_forecasting/data/timeseries.py:1649: UserWarning: Creating a tensor from a list of numpy.ndarrays is extremely slow. Please consider converting the list to a single numpy.ndarray with numpy.array() before converting to a tensor. (Triggered internally at  /opt/conda/conda-bld/pytorch_1646755903507/work/torch/csrc/utils/tensor_new.cpp:210.)\n",
      "  target_scale = torch.tensor([batch[0][\"target_scale\"] for batch in batches], dtype=torch.float)\n"
     ]
    },
    {
     "data": {
      "application/vnd.jupyter.widget-view+json": {
       "model_id": "",
       "version_major": 2,
       "version_minor": 0
      },
      "text/plain": [
       "Validating: 0it [00:00, ?it/s]"
      ]
     },
     "metadata": {},
     "output_type": "display_data"
    },
    {
     "name": "stderr",
     "output_type": "stream",
     "text": [
      "/home/qishuai/anaconda3/envs/glasgow/lib/python3.8/site-packages/pytorch_forecasting/data/encoders.py:373: UserWarning: scale is below 1e-7 - consider not centering the data or using data with higher variance for numerical stability\n",
      "  warnings.warn(\n",
      "/home/qishuai/anaconda3/envs/glasgow/lib/python3.8/site-packages/pytorch_forecasting/data/timeseries.py:1649: UserWarning: Creating a tensor from a list of numpy.ndarrays is extremely slow. Please consider converting the list to a single numpy.ndarray with numpy.array() before converting to a tensor. (Triggered internally at  /opt/conda/conda-bld/pytorch_1646755903507/work/torch/csrc/utils/tensor_new.cpp:210.)\n",
      "  target_scale = torch.tensor([batch[0][\"target_scale\"] for batch in batches], dtype=torch.float)\n"
     ]
    },
    {
     "data": {
      "text/plain": [
       "1"
      ]
     },
     "execution_count": 31,
     "metadata": {},
     "output_type": "execute_result"
    }
   ],
   "source": [
    "trainer.fit(\n",
    "    rnn,\n",
    "    train_dataloader=train_dataloader,\n",
    "    val_dataloaders=val_dataloader,\n",
    ")"
   ]
  },
  {
   "cell_type": "code",
   "execution_count": 32,
   "id": "f5c06c31",
   "metadata": {},
   "outputs": [
    {
     "name": "stdout",
     "output_type": "stream",
     "text": [
      "rnn.hparams\n",
      "\"categorical_groups\":                {}\n",
      "\"cell_type\":                         GRU\n",
      "\"dropout\":                           0.1\n",
      "\"embedding_labels\":                  {'min': {'0': 0, '1': 1, '10': 2, '11': 3, '12': 4, '13': 5, '14': 6, '15': 7, '16': 8, '17': 9, '18': 10, '19': 11, '2': 12, '20': 13, '21': 14, '22': 15, '23': 16, '24': 17, '25': 18, '26': 19, '27': 20, '28': 21, '29': 22, '3': 23, '30': 24, '31': 25, '32': 26, '33': 27, '34': 28, '35': 29, '36': 30, '37': 31, '38': 32, '39': 33, '4': 34, '40': 35, '41': 36, '42': 37, '43': 38, '44': 39, '45': 40, '46': 41, '47': 42, '48': 43, '49': 44, '5': 45, '50': 46, '51': 47, '52': 48, '53': 49, '54': 50, '55': 51, '56': 52, '57': 53, '58': 54, '59': 55, '6': 56, '60': 57, '61': 58, '62': 59, '63': 60, '64': 61, '65': 62, '66': 63, '67': 64, '68': 65, '69': 66, '7': 67, '70': 68, '71': 69, '72': 70, '73': 71, '74': 72, '75': 73, '76': 74, '77': 75, '78': 76, '79': 77, '8': 78, '80': 79, '81': 80, '82': 81, '83': 82, '84': 83, '85': 84, '86': 85, '87': 86, '88': 87, '89': 88, '9': 89, '90': 90, '91': 91, '92': 92, '93': 93, '94': 94, '95': 95}, 'Weekday': {'0': 0, '1': 1, '2': 2, '3': 3, '4': 4, '5': 5, '6': 6}}\n",
      "\"embedding_paddings\":                []\n",
      "\"embedding_sizes\":                   {'min': [96, 91], 'Weekday': [7, 20]}\n",
      "\"hidden_size\":                       50\n",
      "\"learning_rate\":                     0.001\n",
      "\"log_gradient_flow\":                 False\n",
      "\"log_interval\":                      50\n",
      "\"log_val_interval\":                  50\n",
      "\"logging_metrics\":                   ModuleList(\n",
      "  (0): SMAPE()\n",
      "  (1): MAE()\n",
      "  (2): RMSE()\n",
      "  (3): MAPE()\n",
      "  (4): MASE()\n",
      ")\n",
      "\"loss\":                              MAE()\n",
      "\"monotone_constaints\":               {}\n",
      "\"optimizer\":                         ranger\n",
      "\"optimizer_params\":                  None\n",
      "\"output_size\":                       1\n",
      "\"output_transformer\":                EncoderNormalizer()\n",
      "\"reduce_on_plateau_min_lr\":          1e-05\n",
      "\"reduce_on_plateau_patience\":        1000\n",
      "\"rnn_layers\":                        2\n",
      "\"static_categoricals\":               []\n",
      "\"static_reals\":                      []\n",
      "\"target\":                            availability\n",
      "\"target_lags\":                       {}\n",
      "\"time_varying_categoricals_decoder\": ['min', 'Weekday']\n",
      "\"time_varying_categoricals_encoder\": ['min', 'Weekday']\n",
      "\"time_varying_reals_decoder\":        []\n",
      "\"time_varying_reals_encoder\":        ['availability']\n",
      "\"weight_decay\":                      0.001\n",
      "\"x_categoricals\":                    ['min', 'Weekday']\n",
      "\"x_reals\":                           ['availability']\n"
     ]
    }
   ],
   "source": [
    "print(\"rnn.hparams\")\n",
    "print(rnn.hparams)"
   ]
  },
  {
   "cell_type": "code",
   "execution_count": 33,
   "id": "a8d3b13d",
   "metadata": {},
   "outputs": [
    {
     "name": "stdout",
     "output_type": "stream",
     "text": [
      "Print b0.est model path:  /home/qishuai/Documents/Zhi-Qing/carpark_prediction-main_nottingham/lightning_logs/version_3/checkpoints/epoch=6-step=3499.ckpt\n",
      "Print best model device:  cuda:0\n"
     ]
    }
   ],
   "source": [
    "device = torch.device(\"cuda:0\")\n",
    "best_model_path = trainer.checkpoint_callback.best_model_path\n",
    "best_model = RNN.load_from_checkpoint(best_model_path).to(device)\n",
    "print(\"Print b0.est model path: \", best_model_path)\n",
    "print(\"Print best model device: \", best_model.device)"
   ]
  },
  {
   "cell_type": "code",
   "execution_count": 29,
   "id": "9369a6c6",
   "metadata": {},
   "outputs": [
    {
     "data": {
      "application/vnd.jupyter.widget-view+json": {
       "model_id": "97a99f237c6a4d96abddc5a2a2b38792",
       "version_major": 2,
       "version_minor": 0
      },
      "text/plain": [
       "Predict:   0%|          | 0/2 [00:00<?, ? batches/s]"
      ]
     },
     "metadata": {},
     "output_type": "display_data"
    },
    {
     "name": "stderr",
     "output_type": "stream",
     "text": [
      "/home/qishuai/anaconda3/envs/glasgow/lib/python3.8/site-packages/pytorch_forecasting/data/encoders.py:373: UserWarning: scale is below 1e-7 - consider not centering the data or using data with higher variance for numerical stability\n",
      "  warnings.warn(\n",
      "/home/qishuai/anaconda3/envs/glasgow/lib/python3.8/site-packages/pytorch_forecasting/data/encoders.py:373: UserWarning: scale is below 1e-7 - consider not centering the data or using data with higher variance for numerical stability\n",
      "  warnings.warn(\n",
      "/home/qishuai/anaconda3/envs/glasgow/lib/python3.8/site-packages/pytorch_forecasting/data/timeseries.py:1649: UserWarning: Creating a tensor from a list of numpy.ndarrays is extremely slow. Please consider converting the list to a single numpy.ndarray with numpy.array() before converting to a tensor. (Triggered internally at  /opt/conda/conda-bld/pytorch_1646755903507/work/torch/csrc/utils/tensor_new.cpp:210.)\n",
      "  target_scale = torch.tensor([batch[0][\"target_scale\"] for batch in batches], dtype=torch.float)\n",
      "/home/qishuai/anaconda3/envs/glasgow/lib/python3.8/site-packages/pytorch_forecasting/data/timeseries.py:1649: UserWarning: Creating a tensor from a list of numpy.ndarrays is extremely slow. Please consider converting the list to a single numpy.ndarray with numpy.array() before converting to a tensor. (Triggered internally at  /opt/conda/conda-bld/pytorch_1646755903507/work/torch/csrc/utils/tensor_new.cpp:210.)\n",
      "  target_scale = torch.tensor([batch[0][\"target_scale\"] for batch in batches], dtype=torch.float)\n"
     ]
    },
    {
     "name": "stdout",
     "output_type": "stream",
     "text": [
      "Prediction shape:  torch.Size([1000, 8])\n",
      "Absolute error shape:  torch.Size([1000, 8])\n",
      "Print torch.mean(abs_error * mask):  tensor(24.6324)\n",
      "Print abs_error_steps.shape:  torch.Size([8])\n",
      "Print torch.mean(mape * mask):  tensor(0.2460)\n"
     ]
    }
   ],
   "source": [
    "predictions = best_model.predict(test_dataloader, batch_size=500, show_progress_bar=True)\n",
    "print(\"Prediction shape: \", predictions.shape)\n",
    "\n",
    "#MAE\n",
    "\n",
    "abs_error = torch.abs(predictions - actuals)\n",
    "print(\"Absolute error shape: \", abs_error.shape)\n",
    "\n",
    "print(\"Print torch.mean(abs_error * mask): \", torch.mean(abs_error * mask))\n",
    "abs_error_steps = torch.mean(abs_error * mask, dim=0)\n",
    "print(\"Print abs_error_steps.shape: \", abs_error_steps.shape)\n",
    "\n",
    "#MAPE\n",
    "\n",
    "mape = abs_error / (actuals + 1e-5)\n",
    "print(\"Print torch.mean(mape * mask): \", torch.mean(mape * mask))\n",
    "mape_steps = torch.mean(mape * mask, dim=0)\n",
    "\n",
    "#rmse\n",
    "squared_error = torch.square(predictions - actuals)\n",
    "mse_steps = torch.mean(squared_error * mask, dim=0)\n",
    "rmse_steps = torch.sqrt(mse_steps)"
   ]
  },
  {
   "cell_type": "code",
   "execution_count": 30,
   "id": "11ed9b06",
   "metadata": {},
   "outputs": [
    {
     "data": {
      "text/plain": [
       "tensor([[5.2355e+00, 1.3560e+02, 1.6827e+02,  ..., 1.8136e+02, 1.9444e+02,\n",
       "         1.9429e+02],\n",
       "        [5.8679e+00, 1.5777e+01, 1.5302e+01,  ..., 4.2354e+01, 4.7507e+01,\n",
       "         5.1247e+01],\n",
       "        [5.3678e-01, 6.4141e+00, 3.5161e+00,  ..., 5.2085e+00, 3.2374e+00,\n",
       "         3.4843e-02],\n",
       "        ...,\n",
       "        [1.3261e+01, 1.2359e+01, 1.8716e+01,  ..., 1.8911e+01, 2.5290e-01,\n",
       "         8.9031e+01],\n",
       "        [5.7233e-01, 2.4042e+00, 2.7809e+00,  ..., 3.9427e+00, 4.1863e+00,\n",
       "         3.8040e+00],\n",
       "        [1.4243e+00, 2.2601e-01, 2.1927e+00,  ..., 1.2754e+01, 2.2406e+01,\n",
       "         3.5935e+01]])"
      ]
     },
     "execution_count": 30,
     "metadata": {},
     "output_type": "execute_result"
    }
   ],
   "source": [
    "abs_error"
   ]
  },
  {
   "cell_type": "code",
   "execution_count": 31,
   "id": "212235fd",
   "metadata": {},
   "outputs": [
    {
     "data": {
      "text/plain": [
       "tensor([[2.7411e+01, 1.8387e+04, 2.8314e+04,  ..., 3.2890e+04, 3.7808e+04,\n",
       "         3.7749e+04],\n",
       "        [3.4432e+01, 2.4892e+02, 2.3415e+02,  ..., 1.7938e+03, 2.2569e+03,\n",
       "         2.6262e+03],\n",
       "        [2.8813e-01, 4.1141e+01, 1.2363e+01,  ..., 2.7128e+01, 1.0481e+01,\n",
       "         1.2141e-03],\n",
       "        ...,\n",
       "        [1.7585e+02, 1.5275e+02, 3.5027e+02,  ..., 3.5762e+02, 6.3958e-02,\n",
       "         7.9265e+03],\n",
       "        [3.2756e-01, 5.7801e+00, 7.7333e+00,  ..., 1.5545e+01, 1.7525e+01,\n",
       "         1.4471e+01],\n",
       "        [2.0287e+00, 5.1082e-02, 4.8077e+00,  ..., 1.6267e+02, 5.0204e+02,\n",
       "         1.2913e+03]])"
      ]
     },
     "execution_count": 31,
     "metadata": {},
     "output_type": "execute_result"
    }
   ],
   "source": [
    "squared_error"
   ]
  },
  {
   "cell_type": "code",
   "execution_count": 32,
   "id": "3e17751b",
   "metadata": {},
   "outputs": [
    {
     "name": "stdout",
     "output_type": "stream",
     "text": [
      "tensor([  403.6001,  2343.6521,  4134.0122,  7105.0322,  8300.3379, 11627.1943,\n",
      "        13643.8281, 14995.0879])\n"
     ]
    }
   ],
   "source": [
    "print(mse_steps)"
   ]
  },
  {
   "cell_type": "code",
   "execution_count": 33,
   "id": "b975aafd",
   "metadata": {},
   "outputs": [
    {
     "data": {
      "text/plain": [
       "torch.Size([8])"
      ]
     },
     "execution_count": 33,
     "metadata": {},
     "output_type": "execute_result"
    }
   ],
   "source": [
    "mse_steps.shape"
   ]
  },
  {
   "cell_type": "code",
   "execution_count": 34,
   "id": "2cecb274",
   "metadata": {},
   "outputs": [
    {
     "name": "stdout",
     "output_type": "stream",
     "text": [
      "tensor([ 20.0898,  48.4113,  64.2963,  84.2914,  91.1062, 107.8295, 116.8068,\n",
      "        122.4544])\n"
     ]
    }
   ],
   "source": [
    "print(rmse_steps)"
   ]
  },
  {
   "cell_type": "code",
   "execution_count": 35,
   "id": "638e5eff",
   "metadata": {},
   "outputs": [
    {
     "data": {
      "text/plain": [
       "tensor([ 5.7336, 10.4434, 15.9171, 22.0440, 26.0447, 34.0895, 39.2317, 43.5553])"
      ]
     },
     "execution_count": 35,
     "metadata": {},
     "output_type": "execute_result"
    }
   ],
   "source": [
    "abs_error_steps"
   ]
  },
  {
   "cell_type": "code",
   "execution_count": 36,
   "id": "42d07e53",
   "metadata": {},
   "outputs": [
    {
     "data": {
      "text/plain": [
       "Text(0, 0.5, 'MAE')"
      ]
     },
     "execution_count": 36,
     "metadata": {},
     "output_type": "execute_result"
    },
    {
     "data": {
      "image/png": "[encoded data removed]",
      "text/plain": [
       "<Figure size 432x288 with 1 Axes>"
      ]
     },
     "metadata": {
      "needs_background": "light"
     },
     "output_type": "display_data"
    }
   ],
   "source": [
    "plt.plot(torch.arange(1, len(abs_error_steps)+1), abs_error_steps, \".-\")\n",
    "plt.xlabel(\"Time steps\")\n",
    "plt.ylabel(\"MAE\")\n",
    "#plt.xlim([1, 120])\n",
    "#plt.xticks([1, 20, 40, 60, 80, 100, 120]);"
   ]
  },
  {
   "cell_type": "code",
   "execution_count": 37,
   "id": "a2b02fa8",
   "metadata": {},
   "outputs": [
    {
     "data": {
      "text/plain": [
       "tensor(5.7336)"
      ]
     },
     "execution_count": 37,
     "metadata": {},
     "output_type": "execute_result"
    }
   ],
   "source": [
    "# 15 min\n",
    "abs_error_steps[0]"
   ]
  },
  {
   "cell_type": "code",
   "execution_count": 38,
   "id": "7992cc9d",
   "metadata": {},
   "outputs": [
    {
     "data": {
      "text/plain": [
       "tensor(10.4434)"
      ]
     },
     "execution_count": 38,
     "metadata": {},
     "output_type": "execute_result"
    }
   ],
   "source": [
    "# 30 min\n",
    "abs_error_steps[1]"
   ]
  },
  {
   "cell_type": "code",
   "execution_count": 39,
   "id": "7dcbf92f",
   "metadata": {},
   "outputs": [
    {
     "data": {
      "text/plain": [
       "tensor(15.9171)"
      ]
     },
     "execution_count": 39,
     "metadata": {},
     "output_type": "execute_result"
    }
   ],
   "source": [
    "# 45 min\n",
    "abs_error_steps[2]"
   ]
  },
  {
   "cell_type": "code",
   "execution_count": 40,
   "id": "f1e916b2",
   "metadata": {},
   "outputs": [
    {
     "data": {
      "text/plain": [
       "tensor(22.0440)"
      ]
     },
     "execution_count": 40,
     "metadata": {},
     "output_type": "execute_result"
    }
   ],
   "source": [
    "# 60 min\n",
    "abs_error_steps[3]"
   ]
  },
  {
   "cell_type": "code",
   "execution_count": 41,
   "id": "46e40b3c",
   "metadata": {},
   "outputs": [
    {
     "data": {
      "text/plain": [
       "Text(0, 0.5, 'MAPE')"
      ]
     },
     "execution_count": 41,
     "metadata": {},
     "output_type": "execute_result"
    },
    {
     "data": {
      "image/png": "[encoded data removed]",
      "text/plain": [
       "<Figure size 432x288 with 1 Axes>"
      ]
     },
     "metadata": {
      "needs_background": "light"
     },
     "output_type": "display_data"
    }
   ],
   "source": [
    "plt.plot(torch.arange(1, len(mape_steps)+1), mape_steps, \".-\")\n",
    "plt.xlabel(\"Time steps\")\n",
    "plt.ylabel(\"MAPE\")\n",
    "#plt.xlim([1, 120])\n",
    "#plt.xticks([1, 20, 40, 60, 80, 100, 120]);"
   ]
  },
  {
   "cell_type": "code",
   "execution_count": 42,
   "id": "5b3a05e1",
   "metadata": {},
   "outputs": [
    {
     "data": {
      "text/plain": [
       "tensor(0.0385)"
      ]
     },
     "execution_count": 42,
     "metadata": {},
     "output_type": "execute_result"
    }
   ],
   "source": [
    "#15 min\n",
    "mape_steps[0]"
   ]
  },
  {
   "cell_type": "code",
   "execution_count": 43,
   "id": "2f977d5e",
   "metadata": {},
   "outputs": [
    {
     "data": {
      "text/plain": [
       "tensor(0.0600)"
      ]
     },
     "execution_count": 43,
     "metadata": {},
     "output_type": "execute_result"
    }
   ],
   "source": [
    "#30 min\n",
    "mape_steps[1]"
   ]
  },
  {
   "cell_type": "code",
   "execution_count": 44,
   "id": "27270685",
   "metadata": {},
   "outputs": [
    {
     "data": {
      "text/plain": [
       "tensor(0.1043)"
      ]
     },
     "execution_count": 44,
     "metadata": {},
     "output_type": "execute_result"
    }
   ],
   "source": [
    "#45 min\n",
    "mape_steps[2]"
   ]
  },
  {
   "cell_type": "code",
   "execution_count": 45,
   "id": "63190523",
   "metadata": {},
   "outputs": [
    {
     "data": {
      "text/plain": [
       "tensor(0.1724)"
      ]
     },
     "execution_count": 45,
     "metadata": {},
     "output_type": "execute_result"
    }
   ],
   "source": [
    "#60 min\n",
    "mape_steps[3]"
   ]
  },
  {
   "cell_type": "code",
   "execution_count": 46,
   "id": "ab041143",
   "metadata": {},
   "outputs": [
    {
     "data": {
      "text/plain": [
       "Text(0, 0.5, 'RMSE')"
      ]
     },
     "execution_count": 46,
     "metadata": {},
     "output_type": "execute_result"
    },
    {
     "data": {
      "image/png": "[encoded data removed]",
      "text/plain": [
       "<Figure size 432x288 with 1 Axes>"
      ]
     },
     "metadata": {
      "needs_background": "light"
     },
     "output_type": "display_data"
    }
   ],
   "source": [
    "plt.plot(torch.arange(1, len(rmse_steps)+1), rmse_steps, \".-\")\n",
    "plt.xlabel(\"Time steps\")\n",
    "plt.ylabel(\"RMSE\")\n",
    "#plt.xlim([1, 120])\n",
    "#plt.xticks([1, 20, 40, 60, 80, 100, 120]);"
   ]
  },
  {
   "cell_type": "code",
   "execution_count": 47,
   "id": "86b84528",
   "metadata": {},
   "outputs": [
    {
     "data": {
      "text/plain": [
       "tensor(20.0898)"
      ]
     },
     "execution_count": 47,
     "metadata": {},
     "output_type": "execute_result"
    }
   ],
   "source": [
    "#15 min\n",
    "rmse_steps[0]"
   ]
  },
  {
   "cell_type": "code",
   "execution_count": 48,
   "id": "464797e3",
   "metadata": {},
   "outputs": [
    {
     "data": {
      "text/plain": [
       "tensor(48.4113)"
      ]
     },
     "execution_count": 48,
     "metadata": {},
     "output_type": "execute_result"
    }
   ],
   "source": [
    "#30 min\n",
    "rmse_steps[1]"
   ]
  },
  {
   "cell_type": "code",
   "execution_count": 50,
   "id": "9c6d7eaa",
   "metadata": {},
   "outputs": [
    {
     "data": {
      "text/plain": [
       "tensor(64.2963)"
      ]
     },
     "execution_count": 50,
     "metadata": {},
     "output_type": "execute_result"
    }
   ],
   "source": [
    "#45 min\n",
    "rmse_steps[2]"
   ]
  },
  {
   "cell_type": "code",
   "execution_count": 51,
   "id": "194bf94b",
   "metadata": {},
   "outputs": [
    {
     "data": {
      "text/plain": [
       "tensor(84.2914)"
      ]
     },
     "execution_count": 51,
     "metadata": {},
     "output_type": "execute_result"
    }
   ],
   "source": [
    "#60 min\n",
    "rmse_steps[3]"
   ]
  },
  {
   "cell_type": "code",
   "execution_count": 52,
   "id": "78659c0a",
   "metadata": {},
   "outputs": [
    {
     "name": "stdout",
     "output_type": "stream",
     "text": [
      "30 min section\n"
     ]
    }
   ],
   "source": [
    "print(\"30 min section\")\n",
    "n = abs_error.shape[0]\n",
    "step = 2 # 30 mins later"
   ]
  },
  {
   "cell_type": "code",
   "execution_count": 53,
   "id": "d0125b61",
   "metadata": {},
   "outputs": [
    {
     "name": "stdout",
     "output_type": "stream",
     "text": [
      "μ = 10.4434, σ = 47.2951, max = 993.2935\n"
     ]
    },
    {
     "data": {
      "image/png": "[encoded data removed]",
      "text/plain": [
       "<Figure size 432x288 with 1 Axes>"
      ]
     },
     "metadata": {
      "needs_background": "light"
     },
     "output_type": "display_data"
    }
   ],
   "source": [
    "abs_error_step = abs_error[:, step-1] * mask[:, step-1]\n",
    "\n",
    "σ, μ = torch.std_mean(abs_error_step)\n",
    "print(f\"μ = {μ:.4f}, σ = {σ:.4f}, max = {abs_error_step.max():.4f}\")\n",
    "xs = abs_error_step[torch.randperm(n)[:1000]].cpu().numpy()\n",
    "\n",
    "n = len(abs_error_step)\n",
    "plt.hist(xs, 100, density=True)\n",
    "plt.xlim(0, 100)\n",
    "plt.xlabel(\"Absolute error\")\n",
    "plt.ylabel(\"Density\")\n",
    "plt.text(20, 0.08, f\"μ={μ:.2f}, σ={σ:.2f}, max={abs_error_step.max():.2f}\",\n",
    "         fontsize=13)\n",
    "plt.title(f\"Absolute error distribution at step={step}\");"
   ]
  }
 ],
 "metadata": {
  "kernelspec": {
   "display_name": "Python 3 (ipykernel)",
   "language": "python",
   "name": "python3"
  },
  "language_info": {
   "codemirror_mode": {
    "name": "ipython",
    "version": 3
   },
   "file_extension": ".py",
   "mimetype": "text/x-python",
   "name": "python",
   "nbconvert_exporter": "python",
   "pygments_lexer": "ipython3",
   "version": "3.8.13"
  }
 },
 "nbformat": 4,
 "nbformat_minor": 5
}
